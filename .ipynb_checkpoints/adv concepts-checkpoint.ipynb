{
 "cells": [
  {
   "cell_type": "code",
   "execution_count": 1,
   "metadata": {},
   "outputs": [
    {
     "name": "stdout",
     "output_type": "stream",
     "text": [
      "enter number:12\n",
      "EVEN\n"
     ]
    }
   ],
   "source": [
    "number=input(\"enter number:\")\n",
    "if int(number)%2==0:\n",
    "    print(\"EVEN\")\n",
    "else:\n",
    "    print(\"ODD\")"
   ]
  },
  {
   "cell_type": "code",
   "execution_count": 2,
   "metadata": {},
   "outputs": [
    {
     "name": "stdout",
     "output_type": "stream",
     "text": [
      "enter number:12\n",
      "EVEN\n"
     ]
    }
   ],
   "source": [
    "number=input(\"enter number:\")\n",
    "print(\"EVEN\" if int(number)%2==0 else \"ODD\")"
   ]
  },
  {
   "cell_type": "code",
   "execution_count": 3,
   "metadata": {},
   "outputs": [
    {
     "name": "stdout",
     "output_type": "stream",
     "text": [
      "enter number:12\n",
      "EVEN\n"
     ]
    }
   ],
   "source": [
    "print(\"EVEN\" if int(input(\"enter number:\"))%2==0 else \"ODD\")"
   ]
  },
  {
   "cell_type": "code",
   "execution_count": 4,
   "metadata": {},
   "outputs": [
    {
     "name": "stdout",
     "output_type": "stream",
     "text": [
      "enter number:13\n",
      "ODD\n"
     ]
    }
   ],
   "source": [
    "print(\"EVEN\" if int(input(\"enter number:\"))%2==0 else \"ODD\")"
   ]
  },
  {
   "cell_type": "code",
   "execution_count": 5,
   "metadata": {},
   "outputs": [
    {
     "name": "stdout",
     "output_type": "stream",
     "text": [
      "['ODD', 'EVEN', 'ODD', 'EVEN', 'EVEN', 'ODD']\n"
     ]
    }
   ],
   "source": [
    "l=[1,10,3,4,6,89]\n",
    "res=[]\n",
    "for i in l:\n",
    "    if i%2==0:\n",
    "        res.append(\"EVEN\")\n",
    "    else:\n",
    "        res.append(\"ODD\")\n",
    "print(res)"
   ]
  },
  {
   "cell_type": "code",
   "execution_count": null,
   "metadata": {},
   "outputs": [],
   "source": [
    "l=[1,10,3,4,6,89]\n",
    "res=[]\n",
    "for i in l:\n",
    "    res.append(\"EVEN\") if i%2==0 else res.append(\"ODD\")\n",
    "print(res)"
   ]
  }
 ],
 "metadata": {
  "kernelspec": {
   "display_name": "Python 3",
   "language": "python",
   "name": "python3"
  },
  "language_info": {
   "codemirror_mode": {
    "name": "ipython",
    "version": 3
   },
   "file_extension": ".py",
   "mimetype": "text/x-python",
   "name": "python",
   "nbconvert_exporter": "python",
   "pygments_lexer": "ipython3",
   "version": "3.7.0"
  }
 },
 "nbformat": 4,
 "nbformat_minor": 2
}
