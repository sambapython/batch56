{
 "cells": [
  {
   "cell_type": "code",
   "execution_count": 1,
   "metadata": {},
   "outputs": [
    {
     "data": {
      "text/plain": [
       "<sqlite3.Cursor at 0x7f12e02eab20>"
      ]
     },
     "execution_count": 1,
     "metadata": {},
     "output_type": "execute_result"
    }
   ],
   "source": [
    "import sqlite3\n",
    "con=sqlite3.connect(\"db1.sqlite3\")\n",
    "cur=con.cursor()\n",
    "cur.execute(\"create table customer(id int,name varchar(250))\")"
   ]
  },
  {
   "cell_type": "code",
   "execution_count": 2,
   "metadata": {},
   "outputs": [
    {
     "data": {
      "text/plain": [
       "<sqlite3.Cursor at 0x7f12e02eab20>"
      ]
     },
     "execution_count": 2,
     "metadata": {},
     "output_type": "execute_result"
    }
   ],
   "source": [
    "q=\"insert into customer(id,name) values(1,'sai')\"\n",
    "cur.execute(q)"
   ]
  },
  {
   "cell_type": "code",
   "execution_count": 3,
   "metadata": {},
   "outputs": [],
   "source": [
    "con.commit()"
   ]
  },
  {
   "cell_type": "code",
   "execution_count": 4,
   "metadata": {},
   "outputs": [],
   "source": [
    "names=[\"sai\",\"vedha\",\"jay\",\"samba\"]\n",
    "import random\n",
    "for i in range(2,102):\n",
    "    q=\"insert into customer(id,name) values(%s,'%s')\"%(i,random.choice(names))\n",
    "    cur.execute(q)\n",
    "    con.commit()"
   ]
  },
  {
   "cell_type": "code",
   "execution_count": 5,
   "metadata": {},
   "outputs": [],
   "source": [
    "q=\"update customer set name='vedhanvesh' where id=2\"\n",
    "cur.execute(q)\n",
    "con.commit()"
   ]
  },
  {
   "cell_type": "code",
   "execution_count": 7,
   "metadata": {},
   "outputs": [],
   "source": [
    "q=\"delete from customer where id=2\"\n",
    "cur.execute(q)\n",
    "con.commit()"
   ]
  },
  {
   "cell_type": "code",
   "execution_count": 8,
   "metadata": {},
   "outputs": [
    {
     "data": {
      "text/plain": [
       "str"
      ]
     },
     "execution_count": 8,
     "metadata": {},
     "output_type": "execute_result"
    }
   ],
   "source": [
    "type(q)"
   ]
  },
  {
   "cell_type": "code",
   "execution_count": 10,
   "metadata": {},
   "outputs": [
    {
     "data": {
      "text/plain": [
       "<sqlite3.Cursor at 0x7f12e02eab20>"
      ]
     },
     "execution_count": 10,
     "metadata": {},
     "output_type": "execute_result"
    }
   ],
   "source": [
    "q=\"select count(*) as c,name from customer group by name order by c\"\n",
    "cur.execute(q)"
   ]
  },
  {
   "cell_type": "code",
   "execution_count": 11,
   "metadata": {},
   "outputs": [],
   "source": [
    "data = cur.fetchall()"
   ]
  },
  {
   "cell_type": "code",
   "execution_count": 12,
   "metadata": {},
   "outputs": [
    {
     "name": "stdout",
     "output_type": "stream",
     "text": [
      "[(18, 'jay'), (24, 'samba'), (27, 'sai'), (31, 'vedha')]\n"
     ]
    }
   ],
   "source": [
    "print(data)"
   ]
  },
  {
   "cell_type": "code",
   "execution_count": 13,
   "metadata": {},
   "outputs": [
    {
     "name": "stdout",
     "output_type": "stream",
     "text": [
      "(31, 'vedha')\n"
     ]
    }
   ],
   "source": [
    "q=\"select count(*) as c,name from customer group by name order by c\"\n",
    "cur.execute(q)\n",
    "data=cur.fetchall()\n",
    "print(data[-1])"
   ]
  },
  {
   "cell_type": "code",
   "execution_count": 14,
   "metadata": {},
   "outputs": [
    {
     "name": "stdout",
     "output_type": "stream",
     "text": [
      "(35, 'vedha')\n"
     ]
    }
   ],
   "source": [
    "import psycopg2\n",
    "con=psycopg2.connect(user=\"postgres\", password=\"root\",host=\"localhost\",port=5432,database=\"bat ch56\")\n",
    "cur=con.cursor()\n",
    "cur.execute(\"create table customer(id int,name varchar(250))\")\n",
    "names=[\"sai\",\"vedha\",\"jay\",\"samba\"]\n",
    "import random\n",
    "for i in range(2,102):\n",
    "    q=\"insert into customer(id,name) values(%s,'%s')\"%(i,random.choice(names))\n",
    "    cur.execute(q)\n",
    "    con.commit()\n",
    "q=\"update customer set name='vedhanvesh' where id=2\"\n",
    "cur.execute(q)\n",
    "con.commit()\n",
    "q=\"delete from customer where id=2\"\n",
    "cur.execute(q)\n",
    "con.commit()\n",
    "q=\"select count(*) as c,name from customer group by name order by c\"\n",
    "cur.execute(q)\n",
    "data=cur.fetchall()\n",
    "print(data[-1])"
   ]
  },
  {
   "cell_type": "code",
   "execution_count": null,
   "metadata": {},
   "outputs": [],
   "source": []
  }
 ],
 "metadata": {
  "kernelspec": {
   "display_name": "Python 3",
   "language": "python",
   "name": "python3"
  },
  "language_info": {
   "codemirror_mode": {
    "name": "ipython",
    "version": 3
   },
   "file_extension": ".py",
   "mimetype": "text/x-python",
   "name": "python",
   "nbconvert_exporter": "python",
   "pygments_lexer": "ipython3",
   "version": "3.7.0"
  }
 },
 "nbformat": 4,
 "nbformat_minor": 2
}
