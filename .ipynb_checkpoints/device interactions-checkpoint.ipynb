{
 "cells": [
  {
   "cell_type": "code",
   "execution_count": 1,
   "metadata": {},
   "outputs": [],
   "source": [
    "import os"
   ]
  },
  {
   "cell_type": "code",
   "execution_count": 2,
   "metadata": {},
   "outputs": [
    {
     "data": {
      "text/plain": [
       "0"
      ]
     },
     "execution_count": 2,
     "metadata": {},
     "output_type": "execute_result"
    }
   ],
   "source": [
    "os.system(\"mkdir folder1\")"
   ]
  },
  {
   "cell_type": "code",
   "execution_count": 3,
   "metadata": {},
   "outputs": [
    {
     "data": {
      "text/plain": [
       "256"
      ]
     },
     "execution_count": 3,
     "metadata": {},
     "output_type": "execute_result"
    }
   ],
   "source": [
    "os.system(\"mkdir folder1\")"
   ]
  },
  {
   "cell_type": "code",
   "execution_count": 4,
   "metadata": {},
   "outputs": [],
   "source": [
    "os.mkdir(\"folder2\")"
   ]
  },
  {
   "cell_type": "code",
   "execution_count": 6,
   "metadata": {},
   "outputs": [
    {
     "data": {
      "text/plain": [
       "'d:/app/config'"
      ]
     },
     "execution_count": 6,
     "metadata": {},
     "output_type": "execute_result"
    }
   ],
   "source": [
    "os.path.join(\"d:\",\"app\",\"config\")"
   ]
  },
  {
   "cell_type": "code",
   "execution_count": 7,
   "metadata": {},
   "outputs": [
    {
     "data": {
      "text/plain": [
       "0"
      ]
     },
     "execution_count": 7,
     "metadata": {},
     "output_type": "execute_result"
    }
   ],
   "source": [
    "os.system(\"ps -aux\")"
   ]
  },
  {
   "cell_type": "code",
   "execution_count": 8,
   "metadata": {},
   "outputs": [],
   "source": [
    "from subprocess import check_output"
   ]
  },
  {
   "cell_type": "code",
   "execution_count": 9,
   "metadata": {},
   "outputs": [],
   "source": [
    "resp = check_output([\"ps\",\"-aux\"])"
   ]
  },
  {
   "cell_type": "code",
   "execution_count": 11,
   "metadata": {},
   "outputs": [
    {
     "name": "stdout",
     "output_type": "stream",
     "text": [
      "b'USER       PID %CPU %MEM    VSZ   RSS TTY      STAT START   TIME COMMAND\\nroot         1  0.0  0.1 160240  9232 ?        Ss   Apr08   0:10 /sbin/init splash\\nroot         2  0.0  0.0      0     0 ?        S    Apr08   0:00 [kthreadd]\\nroot         4  0.0  0.0      0     0 ?        I<   Apr08   0:00 [kworker/0:0H]\\nroot         6  0.0  0.0      0     0 ?        I<   Apr08   0:00 [mm_percpu_wq]\\nroot         7  0.0  0.0      0     0 ?        S    Apr08   0:02 [ksoftirqd/0]\\nroot         8  0.0  0.0      0     0 ?        I    Apr08   0:05 [rcu_sched]\\nroot         9  0.0  0.0      0     0 ?        I    Apr08   0:00 [rcu_bh]\\nroot        10  0.0  0.0      0     0 ?        S    Apr08   0:00 [migration/0]\\nroot        11  0.0  0.0      0     0 ?        S    Apr08   0:00 [watchdog/0]\\nroot        12  0.0  0.0      0     0 ?        S    Apr08   0:00 [cpuhp/0]\\nroot        13  0.0  0.0      0     0 ?        S    Apr08   0:00 [kdevtmpfs]\\nroot        14  0.0  0.0      0     0 ?        I<   Apr08   0:00 [netns]\\nroot        15  0.0  0.0      0     0 ?        S    Apr08   0:00 [rcu_tasks_kthre]\\nroot        16  0.0  0.0      0     0 ?        S    Apr08   0:00 [kauditd]\\nroot        17  0.0  0.0      0     0 ?        S    Apr08   0:00 [khungtaskd]\\nroot        18  0.0  0.0      0     0 ?        S    Apr08   0:00 [oom_reaper]\\nroot        19  0.0  0.0      0     0 ?        I<   Apr08   0:00 [writeback]\\nroot        20  0.0  0.0      0     0 ?        S    Apr08   0:00 [kcompactd0]\\nroot        21  0.0  0.0      0     0 ?        SN   Apr08   0:00 [ksmd]\\nroot        22  0.0  0.0      0     0 ?        SN   Apr08   0:00 [khugepaged]\\nroot        23  0.0  0.0      0     0 ?        I<   Apr08   0:00 [crypto]\\nroot        24  0.0  0.0      0     0 ?        I<   Apr08   0:00 [kintegrityd]\\nroot        25  0.0  0.0      0     0 ?        I<   Apr08   0:00 [kblockd]\\nroot        26  0.0  0.0      0     0 ?        I<   Apr08   0:00 [ata_sff]\\nroot        27  0.0  0.0      0     0 ?        I<   Apr08   0:00 [md]\\nroot        28  0.0  0.0      0     0 ?        I<   Apr08   0:00 [edac-poller]\\nroot        29  0.0  0.0      0     0 ?        I<   Apr08   0:00 [devfreq_wq]\\nroot        30  0.0  0.0      0     0 ?        I<   Apr08   0:00 [watchdogd]\\nroot        34  0.0  0.0      0     0 ?        S    Apr08   0:00 [kswapd0]\\nroot        35  0.0  0.0      0     0 ?        S    Apr08   0:00 [ecryptfs-kthrea]\\nroot        77  0.0  0.0      0     0 ?        I<   Apr08   0:00 [kthrotld]\\nroot        78  0.0  0.0      0     0 ?        I<   Apr08   0:00 [acpi_thermal_pm]\\nroot        79  0.0  0.0      0     0 ?        S    Apr08   0:00 [scsi_eh_0]\\nroot        80  0.0  0.0      0     0 ?        I<   Apr08   0:00 [scsi_tmf_0]\\nroot        81  0.0  0.0      0     0 ?        S    Apr08   0:00 [scsi_eh_1]\\nroot        82  0.0  0.0      0     0 ?        I<   Apr08   0:00 [scsi_tmf_1]\\nroot        88  0.0  0.0      0     0 ?        I<   Apr08   0:00 [ipv6_addrconf]\\nroot        97  0.0  0.0      0     0 ?        I<   Apr08   0:00 [kstrp]\\nroot       114  0.0  0.0      0     0 ?        I<   Apr08   0:00 [charger_manager]\\nroot       164  0.0  0.0      0     0 ?        I<   Apr08   0:02 [kworker/0:1H]\\nroot       165  0.0  0.0      0     0 ?        S    Apr08   0:00 [scsi_eh_2]\\nroot       166  0.0  0.0      0     0 ?        I<   Apr08   0:00 [scsi_tmf_2]\\nroot       188  0.0  0.0      0     0 ?        S    Apr08   0:01 [jbd2/sda1-8]\\nroot       189  0.0  0.0      0     0 ?        I<   Apr08   0:00 [ext4-rsv-conver]\\nroot       227  0.0  0.2  95464 13812 ?        S<s  Apr08   0:01 /lib/systemd/systemd-journald\\nroot       245  0.0  0.1  47180  5780 ?        Ss   Apr08   0:01 /lib/systemd/systemd-udevd\\nroot       251  0.0  0.0      0     0 ?        S<   Apr08   0:00 [loop0]\\nroot       254  0.0  0.0      0     0 ?        S<   Apr08   0:00 [loop1]\\nroot       264  0.0  0.0      0     0 ?        S<   Apr08   0:00 [loop2]\\nroot       270  0.0  0.0      0     0 ?        S<   Apr08   0:00 [loop3]\\nroot       272  0.0  0.0      0     0 ?        S<   Apr08   0:00 [loop4]\\nroot       273  0.0  0.0      0     0 ?        S<   Apr08   0:00 [loop5]\\nroot       276  0.0  0.0      0     0 ?        S<   Apr08   0:00 [loop7]\\nroot       278  0.0  0.0      0     0 ?        S<   Apr08   0:00 [loop8]\\nroot       279  0.0  0.0      0     0 ?        S<   Apr08   0:00 [loop9]\\nroot       280  0.0  0.0      0     0 ?        S<   Apr08   0:00 [loop10]\\nroot       281  0.0  0.0      0     0 ?        S<   Apr08   0:00 [loop11]\\nroot       284  0.0  0.0      0     0 ?        S<   Apr08   0:00 [loop12]\\nroot       285  0.0  0.0      0     0 ?        S<   Apr08   0:00 [loop13]\\nroot       286  0.0  0.0      0     0 ?        S<   Apr08   0:00 [loop14]\\nroot       294  0.0  0.0      0     0 ?        S<   Apr08   0:00 [loop16]\\nroot       296  0.0  0.0      0     0 ?        S<   Apr08   0:00 [loop17]\\nroot       299  0.0  0.0      0     0 ?        S<   Apr08   0:00 [loop18]\\nroot       301  0.0  0.0      0     0 ?        S<   Apr08   0:00 [loop19]\\nroot       302  0.0  0.0      0     0 ?        S<   Apr08   0:00 [loop20]\\nroot       305  0.0  0.0      0     0 ?        S<   Apr08   0:00 [loop21]\\nroot       307  0.0  0.0      0     0 ?        S<   Apr08   0:00 [loop22]\\nroot       325  0.0  0.0      0     0 ?        S<   Apr08   0:00 [loop23]\\nroot       326  0.0  0.0      0     0 ?        S<   Apr08   0:00 [loop24]\\nroot       327  0.0  0.0      0     0 ?        S<   Apr08   0:00 [loop25]\\nsystemd+   328  0.0  0.0 146100  3392 ?        Ssl  Apr08   0:00 /lib/systemd/systemd-timesyncd\\nsystemd+   330  0.0  0.1  70836  6216 ?        Ss   Apr08   0:01 /lib/systemd/systemd-resolved\\nroot       386  0.0  0.0      0     0 ?        I<   Apr08   0:00 [iprt-VBoxWQueue]\\nroot       442  0.0  0.0      0     0 ?        I<   Apr08   0:00 [ttm_swap]\\nmessage+   546  0.0  0.1  51944  6340 ?        Ss   Apr08   0:03 /usr/bin/dbus-daemon --system --address=systemd: --nofork --nopidfile --systemd-activation --syslog-only\\nroot       570  0.0  0.2 503724 10664 ?        Ssl  Apr08   0:00 /usr/lib/udisks2/udisksd\\nroot       571  0.0  0.1  70728  6144 ?        Ss   Apr08   0:00 /lib/systemd/systemd-logind\\nroot       572  0.0  0.1 294744  6776 ?        Ssl  Apr08   0:00 /usr/lib/accountsservice/accounts-daemon\\nroot       593  0.0  0.0  38428  3216 ?        Ss   Apr08   0:00 /usr/sbin/cron -f\\nroot       598  0.0  0.3 177612 17308 ?        Ssl  Apr08   0:00 /usr/bin/python3 /usr/bin/networkd-dispatcher --run-startup-triggers\\navahi      601  0.0  0.0  47256  3116 ?        Ss   Apr08   0:00 avahi-daemon: running [khyaathipython.local]\\nroot       605  0.0  0.0   4552   740 ?        Ss   Apr08   0:01 /usr/sbin/acpid\\nroot       606  0.0  0.0  44752  3832 ?        Ss   Apr08   0:00 /sbin/wpa_supplicant -u -s -O /run/wpa_supplicant\\nroot       609  0.0  0.3 567760 15400 ?        Ssl  Apr08   0:02 /usr/sbin/NetworkManager --no-daemon\\nroot       617  0.0  0.1 353528  6948 ?        Ssl  Apr08   0:00 /usr/sbin/ModemManager\\nsyslog     620  0.0  0.0 263036  3912 ?        Ssl  Apr08   0:00 /usr/sbin/rsyslogd -n\\navahi      646  0.0  0.0  47076   340 ?        S    Apr08   0:00 avahi-daemon: chroot helper\\nkhyaath+   686  0.0  0.3  62180 19844 ?        Ss   Apr08   0:10 /home/khyaathipython/pgmanagement/bin/python /home/khyaathipython/pgmanagement/bin/gunicorn --access-logfile - --workers 3 --bind 0.0.0.0:9000 pgmanagement.wsgi:application\\nroot       700  0.0  0.0 140628  1440 ?        Ss   Apr08   0:00 nginx: master process /usr/sbin/nginx -g daemon on; master_process on;\\nwww-data   701  0.0  0.1 143304  5304 ?        S    Apr08   0:00 nginx: worker process\\nroot       702  0.0  0.0  72296  3480 ?        Ss   Apr08   0:00 /usr/sbin/sshd -D\\nroot       715  0.0  0.1 308184  7708 ?        Ssl  Apr08   0:00 /usr/sbin/gdm3\\nwhoopsie   737  0.0  0.2 462176 12404 ?        Ssl  Apr08   0:00 /usr/bin/whoopsie -f\\nkernoops   763  0.0  0.0  56936  2632 ?        Ss   Apr08   0:00 /usr/sbin/kerneloops --test\\nkernoops   765  0.0  0.0  56936  2672 ?        Ss   Apr08   0:00 /usr/sbin/kerneloops\\nroot       779  0.0  0.1 261552  8000 ?        Sl   Apr08   0:00 gdm-session-worker [pam/gdm-launch-environment]\\npostgres   838  0.0  0.5 326664 26020 ?        S    Apr08   0:01 /usr/lib/postgresql/10/bin/postgres -D /var/lib/postgresql/10/main -c config_file=/etc/postgresql/10/main/postgresql.conf\\ngdm        845  0.0  0.1  77028  7876 ?        Ss   Apr08   0:00 /lib/systemd/systemd --user\\ngdm        850  0.0  0.0 113948  2564 ?        S    Apr08   0:00 (sd-pam)\\ngdm        866  0.0  0.1 197796  5548 tty1     Ssl+ Apr08   0:00 /usr/lib/gdm3/gdm-wayland-session gnome-session --autostart /usr/share/gdm/greeter/autostart\\ngdm        868  0.0  0.0  50324  4732 ?        Ss   Apr08   0:00 /usr/bin/dbus-daemon --session --address=systemd: --nofork --nopidfile --systemd-activation --syslog-only\\ngdm        873  0.0  0.2 558948 13632 tty1     Sl+  Apr08   0:00 /usr/lib/gnome-session/gnome-session-binary --autostart /usr/share/gdm/greeter/autostart\\ngdm        905  0.0  3.4 2916860 176588 tty1   Sl+  Apr08   0:26 /usr/bin/gnome-shell\\nroot       934  0.0  0.1 322300  8344 ?        Ssl  Apr08   0:00 /usr/lib/upower/upowerd\\ngdm       1188  0.0  0.6 202684 32580 tty1     S+   Apr08   0:00 /usr/bin/Xwayland :1024 -rootless -terminate -accessx -core -listen 4 -listen 5 -displayfd 6\\npostgres  1195  0.0  0.1 326812  6084 ?        Ss   Apr08   0:00 postgres: 10/main: checkpointer process   \\npostgres  1196  0.0  0.1 326664  6464 ?        Ss   Apr08   0:00 postgres: 10/main: writer process   \\npostgres  1197  0.0  0.1 326664  8996 ?        Ss   Apr08   0:00 postgres: 10/main: wal writer process   \\npostgres  1198  0.0  0.1 327076  6732 ?        Ss   Apr08   0:00 postgres: 10/main: autovacuum launcher process   \\npostgres  1199  0.0  0.0 181716  4740 ?        Ss   Apr08   0:00 postgres: 10/main: stats collector process   \\npostgres  1200  0.0  0.0 326956  5024 ?        Ss   Apr08   0:00 postgres: 10/main: bgworker: logical replication launcher   \\ngdm       1264  0.0  0.1 349340  6456 ?        Ssl  Apr08   0:00 /usr/lib/at-spi2-core/at-spi-bus-launcher\\ngdm       1269  0.0  0.0  49928  3736 ?        S    Apr08   0:00 /usr/bin/dbus-daemon --config-file=/usr/share/defaults/at-spi2/accessibility.conf --nofork --print-address 3\\ngdm       1271  0.0  0.1 220760  6976 ?        Sl   Apr08   0:00 /usr/lib/at-spi2-core/at-spi2-registryd --use-gnome-session\\ngdm       1275  0.0  0.1 1153476 9368 ?        Ssl  Apr08   0:00 /usr/bin/pulseaudio --daemonize=no\\nrtkit     1276  0.0  0.0 183504  2920 ?        SNsl Apr08   0:00 /usr/lib/rtkit/rtkit-daemon\\ngdm       1298  0.0  0.1 361364  7604 tty1     Sl   Apr08   0:00 ibus-daemon --xim --panel disable\\ngdm       1302  0.0  0.1 280740  5780 tty1     Sl   Apr08   0:00 /usr/lib/ibus/ibus-dconf\\ngdm       1305  0.0  0.9 471640 47016 tty1     Sl   Apr08   0:00 /usr/lib/ibus/ibus-x11 --kill-daemon\\ngdm       1309  0.0  0.1 278556  5860 ?        Sl   Apr08   0:00 /usr/lib/ibus/ibus-portal\\nroot      1327  0.0  1.9 522436 98456 ?        Ssl  Apr08   0:36 /usr/lib/packagekit/packagekitd\\nroot      1373  0.0  0.1 296772  7180 ?        Ssl  Apr08   0:00 /usr/lib/x86_64-linux-gnu/boltd\\ngdm       1376  0.0  0.4 494552 21768 tty1     Sl+  Apr08   0:00 /usr/lib/gnome-settings-daemon/gsd-xsettings\\ngdm       1380  0.0  0.1 278152  5828 tty1     Sl+  Apr08   0:00 /usr/lib/gnome-settings-daemon/gsd-a11y-settings\\ngdm       1382  0.0  0.3 343644 20056 tty1     Sl+  Apr08   0:00 /usr/lib/gnome-settings-daemon/gsd-clipboard\\ngdm       1387  0.0  0.4 741836 21984 tty1     Sl+  Apr08   0:11 /usr/lib/gnome-settings-daemon/gsd-color\\ngdm       1392  0.0  0.2 393704 13496 tty1     Sl+  Apr08   0:00 /usr/lib/gnome-settings-daemon/gsd-datetime\\ngdm       1393  0.0  0.1 283736  5680 tty1     Sl+  Apr08   0:00 /usr/lib/gnome-settings-daemon/gsd-housekeeping\\ngdm       1394  0.0  0.4 498036 20572 tty1     Sl+  Apr08   0:00 /usr/lib/gnome-settings-daemon/gsd-keyboard\\ngdm       1398  0.0  0.4 866732 22492 tty1     Sl+  Apr08   0:00 /usr/lib/gnome-settings-daemon/gsd-media-keys\\ngdm       1402  0.0  0.0 201996  4452 tty1     Sl+  Apr08   0:00 /usr/lib/gnome-settings-daemon/gsd-mouse\\ngdm       1403  0.0  0.4 517364 22228 tty1     Sl+  Apr08   0:00 /usr/lib/gnome-settings-daemon/gsd-power\\ngdm       1405  0.0  0.1 267004  8600 tty1     Sl+  Apr08   0:00 /usr/lib/gnome-settings-daemon/gsd-print-notifications\\ngdm       1407  0.0  0.0 202016  4456 tty1     Sl+  Apr08   0:00 /usr/lib/gnome-settings-daemon/gsd-rfkill\\ngdm       1410  0.0  0.0 275732  4744 tty1     Sl+  Apr08   0:00 /usr/lib/gnome-settings-daemon/gsd-screensaver-proxy\\ngdm       1413  0.0  0.1 305096  8240 tty1     Sl+  Apr08   0:00 /usr/lib/gnome-settings-daemon/gsd-sharing\\ngdm       1415  0.0  0.1 377924  7692 tty1     Sl+  Apr08   0:00 /usr/lib/gnome-settings-daemon/gsd-smartcard\\ngdm       1420  0.0  0.1 332848  7532 tty1     Sl+  Apr08   0:00 /usr/lib/gnome-settings-daemon/gsd-sound\\ngdm       1423  0.0  0.4 428676 21332 tty1     Sl+  Apr08   0:00 /usr/lib/gnome-settings-daemon/gsd-wacom\\ncolord    1445  0.0  0.2 324980 13352 ?        Ssl  Apr08   0:00 /usr/lib/colord/colord\\ngdm       1474  0.0  0.1 204888  6632 tty1     Sl   Apr08   0:00 /usr/lib/ibus/ibus-engine-simple\\nroot      1559  0.0  0.0      0     0 ?        S<   Apr08   0:00 [loop26]\\nroot      1598  0.0  0.1 267740  8008 ?        Sl   Apr08   0:00 gdm-session-worker [pam/gdm-password]\\nkhyaath+  1607  0.0  0.1  77072  8064 ?        Ss   Apr08   0:00 /lib/systemd/systemd --user\\nkhyaath+  1608  0.0  0.0 114284  2860 ?        S    Apr08   0:00 (sd-pam)\\nkhyaath+  1621  0.0  0.1 288372  7008 ?        Sl   Apr08   0:00 /usr/bin/gnome-keyring-daemon --daemonize --login\\nkhyaath+  1625  0.0  0.1 212128  6024 tty2     Ssl+ Apr08   0:00 /usr/lib/gdm3/gdm-x-session --run-script env GNOME_SHELL_SESSION_MODE=ubuntu gnome-session --session=ubuntu\\nkhyaath+  1627  0.9  4.7 655212 243448 tty2    Rl+  Apr08  12:09 /usr/lib/xorg/Xorg vt2 -displayfd 3 -auth /run/user/1000/gdm/Xauthority -background none -noreset -keeptty -verbose 3\\nkhyaath+  1636  0.0  0.1  51108  5368 ?        Ss   Apr08   0:01 /usr/bin/dbus-daemon --session --address=systemd: --nofork --nopidfile --systemd-activation --syslog-only\\nkhyaath+  1640  0.0  0.2 641404 14368 tty2     Sl+  Apr08   0:00 /usr/lib/gnome-session/gnome-session-binary --session=ubuntu\\nkhyaath+  1736  0.0  0.0  11304   320 ?        Ss   Apr08   0:00 /usr/bin/ssh-agent /usr/bin/im-launch env GNOME_SHELL_SESSION_MODE=ubuntu gnome-session --session=ubuntu\\nkhyaath+  1738  0.0  0.1 349292  6464 ?        Ssl  Apr08   0:00 /usr/lib/at-spi2-core/at-spi-bus-launcher\\nkhyaath+  1743  0.0  0.0  50056  4196 ?        S    Apr08   0:01 /usr/bin/dbus-daemon --config-file=/usr/share/defaults/at-spi2/accessibility.conf --nofork --print-address 3\\nkhyaath+  1746  0.0  0.1 220776  6824 ?        Sl   Apr08   0:03 /usr/lib/at-spi2-core/at-spi2-registryd --use-gnome-session\\nkhyaath+  1764  6.8  8.8 3147520 447348 tty2   Rl+  Apr08  83:49 /usr/bin/gnome-shell\\nkhyaath+  1773  0.0  0.1 292064  7136 ?        Ssl  Apr08   0:00 /usr/lib/gvfs/gvfsd\\nkhyaath+  1778  0.0  0.1 416112  5168 ?        Sl   Apr08   0:00 /usr/lib/gvfs/gvfsd-fuse /run/user/1000/gvfs -f -o big_writes\\nkhyaath+  1789  0.0  0.2 1434416 10384 ?       S<l  Apr08   0:01 /usr/bin/pulseaudio --start --log-target=syslog\\nkhyaath+  1805  0.0  0.2 364308 11008 tty2     Rl   Apr08   1:06 ibus-daemon --xim --panel disable\\nkhyaath+  1809  0.0  0.1 280744  6664 tty2     Sl   Apr08   0:00 /usr/lib/ibus/ibus-dconf\\nkhyaath+  1811  0.0  0.4 343880 20652 tty2     Sl   Apr08   0:01 /usr/lib/ibus/ibus-x11 --kill-daemon\\nkhyaath+  1813  0.0  0.1 278556  6036 ?        Sl   Apr08   0:00 /usr/lib/ibus/ibus-portal\\nkhyaath+  1824  0.0  0.3 689628 17044 ?        Sl   Apr08   0:00 /usr/lib/gnome-shell/gnome-shell-calendar-server\\nkhyaath+  1828  0.0  0.4 978916 22412 ?        Ssl  Apr08   0:00 /usr/lib/evolution/evolution-source-registry\\nkhyaath+  1836  0.0  0.4 848008 21020 ?        Sl   Apr08   0:00 /usr/lib/gnome-online-accounts/goa-daemon\\nkhyaath+  1847  0.0  0.1 188008  5424 ?        Sl   Apr08   0:00 /usr/lib/dconf/dconf-service\\nroot      1856  0.0  0.4 680264 22512 ?        Ssl  Apr08   0:11 /usr/lib/snapd/snapd\\nkhyaath+  1860  0.0  0.1 377088  6916 ?        Sl   Apr08   0:00 /usr/lib/gnome-online-accounts/goa-identity-service\\nkhyaath+  1865  0.0  0.1 306568  8712 ?        Ssl  Apr08   0:00 /usr/lib/gvfs/gvfs-udisks2-volume-monitor\\nkhyaath+  1873  0.0  0.1 274044  5776 ?        Ssl  Apr08   0:00 /usr/lib/gvfs/gvfs-goa-volume-monitor\\nkhyaath+  1877  0.0  0.1 288656  6472 ?        Ssl  Apr08   0:00 /usr/lib/gvfs/gvfs-gphoto2-volume-monitor\\nkhyaath+  1885  0.0  0.1 378812  7340 ?        Ssl  Apr08   0:00 /usr/lib/gvfs/gvfs-afc-volume-monitor\\nkhyaath+  1890  0.0  0.1 275868  6052 ?        Ssl  Apr08   0:00 /usr/lib/gvfs/gvfs-mtp-volume-monitor\\nkhyaath+  1901  0.0  0.4 517076 22048 tty2     Sl+  Apr08   0:01 /usr/lib/gnome-settings-daemon/gsd-power\\nkhyaath+  1902  0.0  0.1 349312 10072 tty2     Sl+  Apr08   0:00 /usr/lib/gnome-settings-daemon/gsd-print-notifications\\nkhyaath+  1904  0.0  0.1 423344  5764 tty2     Sl+  Apr08   0:00 /usr/lib/gnome-settings-daemon/gsd-rfkill\\nkhyaath+  1905  0.0  0.0 275732  4700 tty2     Sl+  Apr08   0:00 /usr/lib/gnome-settings-daemon/gsd-screensaver-proxy\\nkhyaath+  1906  0.0  0.1 452824  9216 tty2     Sl+  Apr08   0:00 /usr/lib/gnome-settings-daemon/gsd-sharing\\nkhyaath+  1910  0.0  0.4 494412 21624 tty2     Sl+  Apr08   0:01 /usr/lib/gnome-settings-daemon/gsd-xsettings\\nkhyaath+  1913  0.0  0.1 332852  7716 tty2     Sl+  Apr08   0:00 /usr/lib/gnome-settings-daemon/gsd-sound\\nkhyaath+  1915  0.0  0.4 428348 21244 tty2     Sl+  Apr08   0:01 /usr/lib/gnome-settings-daemon/gsd-wacom\\nkhyaath+  1916  0.0  0.1 377928  7612 tty2     Sl+  Apr08   0:00 /usr/lib/gnome-settings-daemon/gsd-smartcard\\nkhyaath+  1936  0.0  0.3 343504 19948 tty2     Sl+  Apr08   0:01 /usr/lib/gnome-settings-daemon/gsd-clipboard\\nkhyaath+  1937  0.0  0.1 278152  5808 tty2     Sl+  Apr08   0:00 /usr/lib/gnome-settings-daemon/gsd-a11y-settings\\nkhyaath+  1938  0.0  0.2 469732 13272 tty2     Sl+  Apr08   0:00 /usr/lib/gnome-settings-daemon/gsd-datetime\\nkhyaath+  1939  0.0  0.4 807276 22328 tty2     Sl+  Apr08   0:12 /usr/lib/gnome-settings-daemon/gsd-color\\nkhyaath+  1940  0.0  0.4 497904 20500 tty2     Sl+  Apr08   0:01 /usr/lib/gnome-settings-daemon/gsd-keyboard\\nkhyaath+  1943  0.0  0.1 364572  7128 tty2     Sl+  Apr08   0:02 /usr/lib/gnome-settings-daemon/gsd-housekeeping\\nkhyaath+  1961  0.0  0.1 278156  5884 tty2     Sl+  Apr08   0:00 /usr/lib/gnome-settings-daemon/gsd-mouse\\nkhyaath+  1964  0.0  0.4 792780 21956 tty2     Sl+  Apr08   0:01 /usr/lib/gnome-settings-daemon/gsd-media-keys\\nkhyaath+  1981  0.0  0.2 508752 13004 tty2     Sl+  Apr08   0:00 /usr/lib/gnome-settings-daemon/gsd-printer\\nkhyaath+  2026  0.0  3.6 1128892 185064 tty2   SLl+ Apr08   0:21 /usr/bin/gnome-software --gapplication-service\\nkhyaath+  2027  0.0  1.1 832732 59812 tty2     Sl+  Apr08   0:05 nautilus-desktop\\nkhyaath+  2028  0.0  0.1 271932  6120 tty2     Sl+  Apr08   0:00 /usr/lib/gnome-disk-utility/gsd-disk-utility-notify\\nkhyaath+  2049  0.0  0.1 368372  7400 ?        Sl   Apr08   0:00 /usr/lib/gvfs/gvfsd-trash --spawner :1.13 /org/gtk/gvfs/exec_spaw/0\\nkhyaath+  2076  0.0  1.1 892156 59888 ?        Ssl  Apr08   0:00 /usr/lib/evolution/evolution-calendar-factory\\nkhyaath+  2090  0.0  1.0 931220 55100 ?        Sl   Apr08   0:00 /usr/lib/evolution/evolution-calendar-factory-subprocess --factory all --bus-name org.gnome.evolution.dataserver.Subprocess.Backend.Calendarx2076x2 --own-path /org/gnome/evolution/dataserver/Subprocess/Backend/Calendar/2076/2\\nkhyaath+  2097  0.0  0.1 204884  6220 tty2     Sl   Apr08   0:13 /usr/lib/ibus/ibus-engine-simple\\nkhyaath+  2112  0.0  0.3 732668 18156 ?        Ssl  Apr08   0:00 /usr/lib/evolution/evolution-addressbook-factory\\nkhyaath+  2121  0.0  0.3 886108 19820 ?        Sl   Apr08   0:00 /usr/lib/evolution/evolution-addressbook-factory-subprocess --factory all --bus-name org.gnome.evolution.dataserver.Subprocess.Backend.AddressBookx2112x2 --own-path /org/gnome/evolution/dataserver/Subprocess/Backend/AddressBook/2112/2\\nroot      2182  0.0  0.4 561336 21152 ?        Ssl  Apr08   0:02 /usr/lib/fwupd/fwupd\\nkhyaath+  2266  0.0  0.4 665208 24700 tty2     Sl+  Apr08   0:02 update-notifier\\nkhyaath+  2323  0.0  0.7 807588 39752 ?        Ssl  Apr08   0:16 /usr/lib/gnome-terminal/gnome-terminal-server\\nkhyaath+  2343  0.0  0.1 204564  6048 ?        Ssl  Apr08   0:00 /usr/lib/gvfs/gvfsd-metadata\\nkhyaath+  2397  0.0  0.4 861496 21864 tty2     Sl+  Apr08   0:00 /usr/lib/deja-dup/deja-dup-monitor\\nroot      3228  0.0  0.1 303372 10008 ?        Ssl  Apr08   0:00 /usr/lib/policykit-1/polkitd --no-debug\\nkhyaath+  3631  0.0  1.4 690224 72612 tty2     Sl+  Apr08   0:03 pgadmin3\\npostgres  3658  0.0  0.3 328588 18120 ?        Ss   Apr08   0:00 postgres: 10/main: postgres postgres 127.0.0.1(57976) idle\\npostgres  3687  0.0  0.4 332316 23192 ?        Ss   Apr08   0:00 postgres: 10/main: postgres bat ch56 127.0.0.1(57988) idle\\npostgres  3688  0.0  0.3 328044 18392 ?        Ss   Apr08   0:00 postgres: 10/main: postgres bat ch56 127.0.0.1(57990) idle\\nkhyaath+  4224  0.0  0.1 152560  6392 ?        Sl   Apr08   0:00 /usr/lib/libreoffice/program/oosplash --writer file:///home/khyaathipython/batch56/Assignments.odt\\nkhyaath+  4243  0.0  4.0 1253304 205004 ?      Sl   Apr08   0:12 /usr/lib/libreoffice/program/soffice.bin --writer file:///home/khyaathipython/batch56/Assignments.odt --splash-pipe=5\\nkhyaath+  4456  0.0  1.3 890780 70992 ?        Ssl  Apr08   0:04 /home/khyaathipython/anaconda3/bin/python -m ipykernel_launcher -f /run/user/1000/jupyter/kernel-9f541e27-3d3b-4170-920f-48a93cd1323e.json\\nkhyaath+  4564  0.0  0.1 370384  7228 ?        Sl   Apr08   0:00 /usr/lib/gvfs/gvfsd-network --spawner :1.13 /org/gtk/gvfs/exec_spaw/1\\nkhyaath+  4588  0.0  0.1 381288  7180 ?        Sl   Apr08   0:00 /usr/lib/gvfs/gvfsd-dnssd --spawner :1.13 /org/gtk/gvfs/exec_spaw/5\\nkhyaath+  4757  0.0  1.5 968996 78484 ?        Ssl  Apr08   0:21 /snap/sublime-text/51/opt/sublime_text/sublime_text\\nkhyaath+  4770  0.0  0.4 280496 22768 ?        Sl   Apr08   0:02 /snap/sublime-text/51/opt/sublime_text/plugin_host 4757 --auto-shell-env\\nkhyaath+  5992  0.0  3.0 969272 155504 tty2    SNl+ Apr08   0:12 /usr/bin/python3 /usr/bin/update-manager --no-update --no-focus-on-map\\nkhyaath+  6049  0.0  0.1  29952  5536 pts/1    Ss   Apr08   0:00 bash\\nkhyaath+  6657  0.0  0.1 433480  8784 ?        Ssl  Apr08   0:00 /usr/bin/zeitgeist-daemon\\nkhyaath+  6663  0.0  0.3 326720 15808 ?        Ssl  Apr08   0:00 /usr/lib/zeitgeist/zeitgeist/zeitgeist-fts\\nkhyaath+  7018  0.0  0.9 679232 46804 ?        Sl   Apr08   0:02 gedit /home/khyaathipython/python content.txt\\nkhyaath+  7533  0.3  9.6 1515408 487308 tty2   Sl+  Apr08   3:05 /usr/bin/mono /usr/lib/pinta/Pinta.exe\\nroot      8398  0.0  0.0      0     0 ?        S<   01:51   0:00 [loop15]\\nroot     10251  0.0  0.1 107680  8376 ?        Ss   05:43   0:00 /usr/sbin/cupsd -l\\nroot     10253  0.0  0.2 303652 11028 ?        Ssl  05:43   0:00 /usr/sbin/cups-browsed\\nroot     10516  0.0  0.0      0     0 ?        I    06:13   0:00 [kworker/u2:2]\\nkhyaath+ 10622  2.2  5.7 2125708 292272 ?      Ssl  06:13   1:31 /usr/lib/firefox/firefox -new-tab http://localhost:8888/tree?token=c130edb7c47c9a84fa717881950dfe9e50bd8ff6e4b0890b\\nkhyaath+ 10661  4.2  4.0 1702880 206784 ?      Sl   06:13   2:54 /usr/lib/firefox/firefox -contentproc -childID 1 -isForBrowser -prefsLen 1 -prefMapSize 174868 -parentBuildID 20190327091201 -greomni /usr/lib/firefox/omni.ja -appomni /usr/lib/firefox/browser/omni.ja -appdir /usr/lib/firefox/browser 10622 true tab\\nkhyaath+ 10694  0.1  2.2 1526836 114624 ?      Sl   06:13   0:04 /usr/lib/firefox/firefox -contentproc -childID 2 -isForBrowser -prefsLen 5462 -prefMapSize 174868 -parentBuildID 20190327091201 -greomni /usr/lib/firefox/omni.ja -appomni /usr/lib/firefox/browser/omni.ja -appdir /usr/lib/firefox/browser 10622 true tab\\nkhyaath+ 10732  0.3  4.1 1627564 208860 ?      Rl   06:13   0:15 /usr/lib/firefox/firefox -contentproc -childID 3 -isForBrowser -prefsLen 6278 -prefMapSize 174868 -parentBuildID 20190327091201 -greomni /usr/lib/firefox/omni.ja -appomni /usr/lib/firefox/browser/omni.ja -appdir /usr/lib/firefox/browser 10622 true tab\\nroot     11000  0.0  0.0      0     0 ?        I    07:11   0:00 [kworker/u2:0]\\nroot     11041  0.0  0.0      0     0 ?        I    07:14   0:00 [kworker/0:2]\\nroot     11051  0.0  0.1  25660  6124 ?        S    07:14   0:00 /sbin/dhclient -d -q -sf /usr/lib/NetworkManager/nm-dhcp-helper -pf /run/dhclient-enp0s3.pid -lf /var/lib/NetworkManager/dhclient-2b11a3ca-ca14-376e-b6c9-ee3156761222-enp0s3.lease -cf /var/lib/NetworkManager/dhclient-enp0s3.conf enp0s3\\nkhyaath+ 11074  0.5  1.2 363068 62712 pts/1    Sl+  07:15   0:02 /home/khyaathipython/anaconda3/bin/python /home/khyaathipython/anaconda3/bin/ipython notebook\\nkhyaath+ 11185  0.0  1.5 1501172 79008 ?       Sl   07:15   0:00 /usr/lib/firefox/firefox -contentproc -childID 4 -isForBrowser -prefsLen 7413 -prefMapSize 174868 -parentBuildID 20190327091201 -greomni /usr/lib/firefox/omni.ja -appomni /usr/lib/firefox/browser/omni.ja -appdir /usr/lib/firefox/browser 10622 true tab\\nkhyaath+ 11213  0.2  0.8 639552 44464 ?        Ssl  07:15   0:00 /home/khyaathipython/anaconda3/bin/python -m ipykernel_launcher -f /run/user/1000/jupyter/kernel-739cbfba-3f31-436f-8baf-ba4b2f75f597.json\\nroot     11260  0.0  0.0  14580   884 ?        Ss   07:20   0:00 /usr/sbin/anacron -dsq\\nkhyaath+ 11282  0.2  0.7 126708 36696 ?        S    07:20   0:00 /home/khyaathipython/pgmanagement/bin/python /home/khyaathipython/pgmanagement/bin/gunicorn --access-logfile - --workers 3 --bind 0.0.0.0:9000 pgmanagement.wsgi:application\\nkhyaath+ 11283  0.2  0.7 126732 36696 ?        S    07:20   0:00 /home/khyaathipython/pgmanagement/bin/python /home/khyaathipython/pgmanagement/bin/gunicorn --access-logfile - --workers 3 --bind 0.0.0.0:9000 pgmanagement.wsgi:application\\nkhyaath+ 11284  0.3  0.7 126708 36700 ?        S    07:20   0:00 /home/khyaathipython/pgmanagement/bin/python /home/khyaathipython/pgmanagement/bin/gunicorn --access-logfile - --workers 3 --bind 0.0.0.0:9000 pgmanagement.wsgi:application\\nroot     11783  0.0  0.0      0     0 ?        I    07:21   0:00 [kworker/u2:1]\\nroot     11784  0.0  0.0   4628   772 ?        Ss   07:21   0:00 /bin/sh /usr/lib/apt/apt.systemd.daily install\\nroot     11785  0.0  0.0      0     0 ?        I    07:21   0:00 [kworker/u2:3]\\nroot     11789  0.0  0.0   4628  1812 ?        S    07:21   0:00 /bin/sh /usr/lib/apt/apt.systemd.daily lock_is_held install\\nroot     11820 61.4  2.3 372388 119784 ?       Sl   07:21   0:21 /usr/bin/python3 /usr/bin/unattended-upgrade\\nroot     11837 19.2  2.1 373696 107696 ?       S    07:22   0:00 /usr/bin/python3 /usr/bin/unattended-upgrade\\nroot     11867  0.0  1.0 373696 52684 ?        S    07:22   0:00 /usr/bin/python3 /usr/bin/unattended-upgrade\\nroot     11875  0.0  0.0   4628   780 ?        S    07:22   0:00 sh -c if [ -d /var/lib/update-notifier ]; then touch /var/lib/update-notifier/dpkg-run-stamp; fi; /usr/lib/update-notifier/update-motd-updates-available 2>/dev/null || true\\nroot     11877  0.0  0.0   4628  1724 ?        S    07:22   0:00 /bin/sh -e /usr/lib/update-notifier/update-motd-updates-available\\nroot     11891  0.0  0.4  93820 21420 ?        S    07:22   0:00 /usr/bin/python3 /usr/lib/update-notifier/apt-check --human-readable\\nroot     11892  0.0  0.2  49072 11620 ?        R    07:22   0:00 /usr/bin/python3 -Es /usr/bin/lsb_release -c -s\\nkhyaath+ 11893  0.0  0.0  46772  3596 ?        R    07:22   0:00 ps -aux\\nroot     17065  0.0  0.0      0     0 ?        I<   Apr08   0:00 [xfsalloc]\\nroot     17073  0.0  0.0      0     0 ?        I<   Apr08   0:00 [xfs_mru_cache]\\nroot     17077  0.0  0.0      0     0 ?        S    Apr08   0:00 [jfsIO]\\nroot     17080  0.0  0.0      0     0 ?        S    Apr08   0:00 [jfsCommit]\\nroot     17081  0.0  0.0      0     0 ?        S    Apr08   0:00 [jfsSync]\\nkhyaath+ 17733  0.0  0.8 639824 44644 ?        Ssl  Apr08   0:02 /home/khyaathipython/anaconda3/bin/python -m ipykernel_launcher -f /run/user/1000/jupyter/kernel-a9dbd0ba-dcb6-4eb3-9bbe-e8db075e6cfc.json\\nkhyaath+ 17760  0.0  0.1  29952  5476 pts/3    Ss+  Apr08   0:00 bash\\nkhyaath+ 18562  0.0  1.0 992812 52524 ?        Sl   Apr08   0:06 /usr/bin/nautilus --gapplication-service\\nkhyaath+ 18579  0.0  1.7 938592 88740 ?        Sl   Apr08   0:15 sqlitebrowser /home/khyaathipython/batch56/db1.sqlite3\\nroot     26649  0.0  0.0      0     0 ?        I    Apr08   0:13 [kworker/0:0]\\n'\n"
     ]
    }
   ],
   "source": [
    "print(resp)"
   ]
  },
  {
   "cell_type": "code",
   "execution_count": 16,
   "metadata": {},
   "outputs": [
    {
     "name": "stdout",
     "output_type": "stream",
     "text": [
      "b'4757'\n",
      "b'4770'\n"
     ]
    }
   ],
   "source": [
    "for row in resp.splitlines():\n",
    "    if b\"sublime\" in row:\n",
    "        print(row.split()[1])"
   ]
  },
  {
   "cell_type": "code",
   "execution_count": 17,
   "metadata": {},
   "outputs": [
    {
     "name": "stdout",
     "output_type": "stream",
     "text": [
      "b'4770'\n"
     ]
    }
   ],
   "source": [
    "pid=None\n",
    "for row in resp.splitlines():\n",
    "    if b\"sublime\" in row:\n",
    "        pid=row.split()[1]\n",
    "print(pid)"
   ]
  },
  {
   "cell_type": "code",
   "execution_count": 25,
   "metadata": {},
   "outputs": [
    {
     "name": "stdout",
     "output_type": "stream",
     "text": [
      "4757\n"
     ]
    },
    {
     "data": {
      "text/plain": [
       "0"
      ]
     },
     "execution_count": 25,
     "metadata": {},
     "output_type": "execute_result"
    }
   ],
   "source": [
    "pid=None\n",
    "resp = check_output([\"ps\",\"-aux\"])\n",
    "for row in resp.splitlines():\n",
    "    if b\"sublime\" in row:\n",
    "        pid=row.split()[1]\n",
    "        break\n",
    "pid=pid.decode(\"utf-8\")\n",
    "print(pid)\n",
    "os.system(\"kill -9 %s\"%pid)"
   ]
  },
  {
   "cell_type": "code",
   "execution_count": 26,
   "metadata": {},
   "outputs": [],
   "source": [
    "username=\"\"\n",
    "password=\"\"\n",
    "from github import Github\n",
    "git = Github(username,password)"
   ]
  },
  {
   "cell_type": "code",
   "execution_count": null,
   "metadata": {},
   "outputs": [],
   "source": []
  }
 ],
 "metadata": {
  "kernelspec": {
   "display_name": "Python 3",
   "language": "python",
   "name": "python3"
  },
  "language_info": {
   "codemirror_mode": {
    "name": "ipython",
    "version": 3
   },
   "file_extension": ".py",
   "mimetype": "text/x-python",
   "name": "python",
   "nbconvert_exporter": "python",
   "pygments_lexer": "ipython3",
   "version": "3.7.0"
  }
 },
 "nbformat": 4,
 "nbformat_minor": 2
}
