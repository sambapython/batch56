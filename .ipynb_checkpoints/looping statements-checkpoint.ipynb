{
 "cells": [
  {
   "cell_type": "code",
   "execution_count": 1,
   "metadata": {},
   "outputs": [
    {
     "data": {
      "text/plain": [
       "5.1"
      ]
     },
     "execution_count": 1,
     "metadata": {},
     "output_type": "execute_result"
    }
   ],
   "source": [
    "255/50"
   ]
  },
  {
   "cell_type": "code",
   "execution_count": 2,
   "metadata": {},
   "outputs": [
    {
     "data": {
      "text/plain": [
       "5"
      ]
     },
     "execution_count": 2,
     "metadata": {},
     "output_type": "execute_result"
    }
   ],
   "source": [
    "255//50"
   ]
  },
  {
   "cell_type": "code",
   "execution_count": 4,
   "metadata": {},
   "outputs": [
    {
     "name": "stdout",
     "output_type": "stream",
     "text": [
      "6\n"
     ]
    }
   ],
   "source": [
    "res = 255//50\n",
    "res1= 255/50\n",
    "if res1>res:\n",
    "    res=res+1\n",
    "print(res)\n",
    "    "
   ]
  },
  {
   "cell_type": "code",
   "execution_count": 5,
   "metadata": {},
   "outputs": [
    {
     "data": {
      "text/plain": [
       "True"
      ]
     },
     "execution_count": 5,
     "metadata": {},
     "output_type": "execute_result"
    }
   ],
   "source": [
    "\"python\" in \"python is pure object oriented programing or not\""
   ]
  },
  {
   "cell_type": "code",
   "execution_count": 6,
   "metadata": {},
   "outputs": [
    {
     "data": {
      "text/plain": [
       "False"
      ]
     },
     "execution_count": 6,
     "metadata": {},
     "output_type": "execute_result"
    }
   ],
   "source": [
    "\"java\" in \"python is pure object oriented programing or not\""
   ]
  },
  {
   "cell_type": "code",
   "execution_count": 8,
   "metadata": {},
   "outputs": [
    {
     "data": {
      "text/plain": [
       "35"
      ]
     },
     "execution_count": 8,
     "metadata": {},
     "output_type": "execute_result"
    }
   ],
   "source": [
    "s=\"1 20 35 4\"\n",
    "max(map(lambda x:int(x),s.split()))"
   ]
  },
  {
   "cell_type": "code",
   "execution_count": 10,
   "metadata": {},
   "outputs": [
    {
     "name": "stdout",
     "output_type": "stream",
     "text": [
      "['1', '20', '35', '4']\n"
     ]
    }
   ],
   "source": [
    "s=\"1 20 35 4\"\n",
    "l=s.split()\n",
    "l.sort()\n",
    "print(l)"
   ]
  },
  {
   "cell_type": "code",
   "execution_count": 12,
   "metadata": {},
   "outputs": [
    {
     "name": "stdout",
     "output_type": "stream",
     "text": [
      "[1, 4, 20, 35]\n"
     ]
    }
   ],
   "source": [
    "s=\"1 20 35 4\"\n",
    "l=list(map(lambda x:int(x),s.split()))\n",
    "l.sort()\n",
    "print(l)"
   ]
  },
  {
   "cell_type": "code",
   "execution_count": 17,
   "metadata": {},
   "outputs": [
    {
     "name": "stdout",
     "output_type": "stream",
     "text": [
      "st1\n",
      "st2\n",
      "st3\n",
      "st4\n",
      "st5\n"
     ]
    }
   ],
   "source": [
    "print(\"st1\")\n",
    "print(\"st2\")\n",
    "print(\"st3\")\n",
    "print(\"st4\")\n",
    "print(\"st5\")"
   ]
  },
  {
   "cell_type": "code",
   "execution_count": 18,
   "metadata": {},
   "outputs": [
    {
     "name": "stdout",
     "output_type": "stream",
     "text": [
      "st1\n",
      "st2\n",
      "st3\n",
      "st4\n",
      "st5\n"
     ]
    }
   ],
   "source": [
    "print(\"st1\")\n",
    "print(\"st2\")\n",
    "print(\"st3\")\n",
    "print(\"st4\")\n",
    "print(\"st5\")"
   ]
  },
  {
   "cell_type": "code",
   "execution_count": 19,
   "metadata": {},
   "outputs": [
    {
     "name": "stdout",
     "output_type": "stream",
     "text": [
      "p\n",
      "y\n",
      "t\n",
      "h\n",
      "o\n",
      "n\n"
     ]
    }
   ],
   "source": [
    "s=\"python\"\n",
    "print(s[0])\n",
    "print(s[1])\n",
    "print(s[2])\n",
    "print(s[3])\n",
    "print(s[4])\n",
    "print(s[5])"
   ]
  },
  {
   "cell_type": "code",
   "execution_count": 20,
   "metadata": {},
   "outputs": [
    {
     "name": "stdout",
     "output_type": "stream",
     "text": [
      "welcome\n",
      "0\n",
      "thank you!!\n"
     ]
    }
   ],
   "source": [
    "print(\"welcome\")\n",
    "i=0\n",
    "if i<3:\n",
    "    print(i)\n",
    "    i=i+1\n",
    "print(\"thank you!!\")"
   ]
  },
  {
   "cell_type": "code",
   "execution_count": 21,
   "metadata": {},
   "outputs": [
    {
     "name": "stdout",
     "output_type": "stream",
     "text": [
      "welcome\n",
      "0\n",
      "1\n",
      "2\n",
      "thank you!!\n"
     ]
    }
   ],
   "source": [
    "print(\"welcome\")\n",
    "i=0\n",
    "while i<3:\n",
    "    print(i)\n",
    "    i=i+1\n",
    "print(\"thank you!!\")"
   ]
  },
  {
   "cell_type": "code",
   "execution_count": 22,
   "metadata": {},
   "outputs": [
    {
     "name": "stdout",
     "output_type": "stream",
     "text": [
      "p\n",
      "y\n",
      "t\n",
      "h\n",
      "o\n",
      "n\n"
     ]
    }
   ],
   "source": [
    "s=\"python\"\n",
    "print(s[0])\n",
    "print(s[1])\n",
    "print(s[2])\n",
    "print(s[3])\n",
    "print(s[4])\n",
    "print(s[5])"
   ]
  },
  {
   "cell_type": "code",
   "execution_count": 24,
   "metadata": {},
   "outputs": [
    {
     "name": "stdout",
     "output_type": "stream",
     "text": [
      "0\n",
      "1\n",
      "2\n",
      "3\n",
      "4\n",
      "5\n"
     ]
    }
   ],
   "source": [
    "i=0\n",
    "while i<6:\n",
    "    print(i)\n",
    "    i=i+1"
   ]
  },
  {
   "cell_type": "code",
   "execution_count": 25,
   "metadata": {},
   "outputs": [
    {
     "name": "stdout",
     "output_type": "stream",
     "text": [
      "p\n",
      "y\n",
      "t\n",
      "h\n",
      "o\n",
      "n\n"
     ]
    }
   ],
   "source": [
    "s=\"python\"\n",
    "i=0\n",
    "while i<6:\n",
    "    print(s[i])\n",
    "    i=i+1"
   ]
  },
  {
   "cell_type": "code",
   "execution_count": 27,
   "metadata": {},
   "outputs": [
    {
     "name": "stdout",
     "output_type": "stream",
     "text": [
      "Enter string:pyhon prograqm\n",
      "p\n",
      "y\n",
      "h\n",
      "o\n",
      "n\n",
      " \n"
     ]
    }
   ],
   "source": [
    "s=input(\"Enter string:\")\n",
    "i=0\n",
    "while i<6:\n",
    "    print(s[i])\n",
    "    i=i+1"
   ]
  },
  {
   "cell_type": "code",
   "execution_count": 28,
   "metadata": {},
   "outputs": [
    {
     "name": "stdout",
     "output_type": "stream",
     "text": [
      "Enter string:python program\n",
      "p\n",
      "y\n",
      "t\n",
      "h\n",
      "o\n",
      "n\n",
      " \n",
      "p\n",
      "r\n",
      "o\n",
      "g\n",
      "r\n",
      "a\n",
      "m\n"
     ]
    }
   ],
   "source": [
    "s=input(\"Enter string:\")\n",
    "i=0\n",
    "while i<len(s):\n",
    "    print(s[i])\n",
    "    i=i+1"
   ]
  },
  {
   "cell_type": "code",
   "execution_count": 29,
   "metadata": {},
   "outputs": [
    {
     "name": "stdout",
     "output_type": "stream",
     "text": [
      "10\n",
      "3\n",
      "5\n",
      "6\n",
      "7\n"
     ]
    }
   ],
   "source": [
    "s=[10,3,5,6,7]\n",
    "i=0\n",
    "while i<len(s):\n",
    "    print(s[i])\n",
    "    i=i+1"
   ]
  },
  {
   "cell_type": "code",
   "execution_count": 30,
   "metadata": {},
   "outputs": [
    {
     "name": "stdout",
     "output_type": "stream",
     "text": [
      "10\n",
      "3\n",
      "5\n",
      "6\n",
      "7\n"
     ]
    }
   ],
   "source": [
    "s=(10,3,5,6,7)\n",
    "i=0\n",
    "while i<len(s):\n",
    "    print(s[i])\n",
    "    i=i+1"
   ]
  },
  {
   "cell_type": "code",
   "execution_count": 31,
   "metadata": {},
   "outputs": [
    {
     "name": "stdout",
     "output_type": "stream",
     "text": [
      "p\n",
      "y\n",
      "t\n",
      "h\n",
      "o\n",
      "n\n"
     ]
    }
   ],
   "source": [
    "s=\"python\"\n",
    "for i in s:\n",
    "    print(i)"
   ]
  },
  {
   "cell_type": "code",
   "execution_count": 32,
   "metadata": {},
   "outputs": [
    {
     "name": "stdout",
     "output_type": "stream",
     "text": [
      "apple\n",
      "orange\n",
      "banana\n",
      "gua\n"
     ]
    }
   ],
   "source": [
    "fruits=[\"apple\",\"orange\",\"banana\",\"gua\"]\n",
    "for fruit in fruits:\n",
    "    print(fruit)"
   ]
  },
  {
   "cell_type": "code",
   "execution_count": 33,
   "metadata": {},
   "outputs": [
    {
     "name": "stdout",
     "output_type": "stream",
     "text": [
      "apple\n",
      "orange\n",
      "banana\n",
      "gua\n"
     ]
    }
   ],
   "source": [
    "fruits=(\"apple\",\"orange\",\"banana\",\"gua\")\n",
    "for fruit in fruits:\n",
    "    print(fruit)"
   ]
  },
  {
   "cell_type": "code",
   "execution_count": 34,
   "metadata": {},
   "outputs": [
    {
     "name": "stdout",
     "output_type": "stream",
     "text": [
      "apple\n",
      "orange\n",
      "banana\n",
      "gua\n"
     ]
    }
   ],
   "source": [
    "fruits=(\"apple\",\"orange\",\"banana\",\"gua\")\n",
    "for k in fruits:\n",
    "    print(k)"
   ]
  },
  {
   "cell_type": "code",
   "execution_count": 36,
   "metadata": {},
   "outputs": [
    {
     "name": "stdout",
     "output_type": "stream",
     "text": [
      "1\n",
      "3\n",
      "5\n",
      "name\n"
     ]
    }
   ],
   "source": [
    "a=[10,20,\"pyton\",\"java\"]\n",
    "b=[10,20,30,40]\n",
    "c=[\"c\",\"cpp\",\"java\",\"python\",\"php\",\"perl\"]\n",
    "d=(10,20,\"pyton\",\"java\")\n",
    "e=(10,20,30,40)\n",
    "f=(\"c\",\"cpp\",\"java\",\"python\",\"php\",\"perl\")\n",
    "g={10,20,\"pyton\",\"java\"}\n",
    "h={10,20,30,40}\n",
    "i={\"c\",\"cpp\",\"java\",\"python\",\"php\",\"perl\"}\n",
    "j={\"name\":\"jayaram\",\"age\":2.3,\"weight\":13.5,\"height\":2.8}\n",
    "k={1:2,3:4,5:6,\"name\":\"samba\"}\n",
    "for i in k:\n",
    "    print(i)"
   ]
  },
  {
   "cell_type": "code",
   "execution_count": 37,
   "metadata": {},
   "outputs": [
    {
     "name": "stdout",
     "output_type": "stream",
     "text": [
      "name\n",
      "age\n",
      "weight\n",
      "height\n"
     ]
    }
   ],
   "source": [
    "a=[10,20,\"pyton\",\"java\"]\n",
    "b=[10,20,30,40]\n",
    "c=[\"c\",\"cpp\",\"java\",\"python\",\"php\",\"perl\"]\n",
    "d=(10,20,\"pyton\",\"java\")\n",
    "e=(10,20,30,40)\n",
    "f=(\"c\",\"cpp\",\"java\",\"python\",\"php\",\"perl\")\n",
    "g={10,20,\"pyton\",\"java\"}\n",
    "h={10,20,30,40}\n",
    "i={\"c\",\"cpp\",\"java\",\"python\",\"php\",\"perl\"}\n",
    "j={\"name\":\"jayaram\",\"age\":2.3,\"weight\":13.5,\"height\":2.8}\n",
    "k={1:2,3:4,5:6,\"name\":\"samba\"}\n",
    "for i in j:\n",
    "    print(i)"
   ]
  },
  {
   "cell_type": "code",
   "execution_count": 38,
   "metadata": {},
   "outputs": [
    {
     "name": "stdout",
     "output_type": "stream",
     "text": [
      "10\n",
      "23\n",
      "45\n",
      "68\n",
      "24\n",
      "56\n",
      "67\n",
      "43\n"
     ]
    }
   ],
   "source": [
    "l=[10,23,45,68,24,56,67,43]\n",
    "for i in l:\n",
    "    print(i)"
   ]
  },
  {
   "cell_type": "code",
   "execution_count": 40,
   "metadata": {},
   "outputs": [
    {
     "name": "stdout",
     "output_type": "stream",
     "text": [
      "10 EVEN\n",
      "23 ODD\n",
      "45 ODD\n",
      "68 EVEN\n",
      "24 EVEN\n",
      "56 EVEN\n",
      "67 ODD\n",
      "43 ODD\n"
     ]
    }
   ],
   "source": [
    "l=[10,23,45,68,24,56,67,43]\n",
    "for i in l:\n",
    "    if i%2==0:\n",
    "        print(i,\"EVEN\")\n",
    "    else:\n",
    "        print(i,\"ODD\")"
   ]
  },
  {
   "cell_type": "code",
   "execution_count": 41,
   "metadata": {},
   "outputs": [
    {
     "name": "stdout",
     "output_type": "stream",
     "text": [
      "welcome\n",
      "10 EVEN\n",
      "23 ODD\n",
      "45 ODD\n",
      "68 EVEN\n",
      "24 EVEN\n",
      "56 EVEN\n",
      "67 ODD\n",
      "43 ODD\n",
      "thanks\n"
     ]
    }
   ],
   "source": [
    "l=[10,23,45,68,24,56,67,43]\n",
    "print(\"welcome\")\n",
    "for i in l:\n",
    "    if i%2==0:\n",
    "        print(i,\"EVEN\")\n",
    "    else:\n",
    "        print(i,\"ODD\")\n",
    "print(\"thanks\")"
   ]
  },
  {
   "cell_type": "code",
   "execution_count": 43,
   "metadata": {},
   "outputs": [
    {
     "name": "stdout",
     "output_type": "stream",
     "text": [
      "welcome\n",
      "23\n",
      "45\n",
      "67\n",
      "43\n",
      "thak you..\n"
     ]
    }
   ],
   "source": [
    "l=[10,23,45,68,24,56,67,43]\n",
    "print(\"welcome\")\n",
    "for i in l:\n",
    "    if i%2!=0:\n",
    "        print(i)\n",
    "print(\"thak you..\")"
   ]
  },
  {
   "cell_type": "code",
   "execution_count": 44,
   "metadata": {},
   "outputs": [
    {
     "name": "stdout",
     "output_type": "stream",
     "text": [
      "welcome\n",
      "yes\n",
      "no\n",
      "no\n",
      "yes\n",
      "yes\n",
      "yes\n",
      "no\n",
      "no\n",
      "thaks\n"
     ]
    }
   ],
   "source": [
    "\n",
    "# WAP to check whether this list contains atleast one even number or not..\n",
    "l=[10,23,45,68,24,56,67,43]\n",
    "print(\"welcome\")\n",
    "for i in l:\n",
    "    if i%2==0:\n",
    "        print(\"yes\")\n",
    "    else:\n",
    "        print(\"no\")\n",
    "print(\"thaks\")"
   ]
  },
  {
   "cell_type": "code",
   "execution_count": 45,
   "metadata": {},
   "outputs": [
    {
     "name": "stdout",
     "output_type": "stream",
     "text": [
      "welcome\n",
      "no\n",
      "yes\n",
      "thaks\n"
     ]
    }
   ],
   "source": [
    "\n",
    "# WAP to check whether this list contains atleast one even number or not..\n",
    "l=[11,10,23,45,68,24,56,67,43]\n",
    "print(\"welcome\")\n",
    "for i in l:\n",
    "    if i%2==0:\n",
    "        print(\"yes\")\n",
    "        break\n",
    "    else:\n",
    "        print(\"no\")\n",
    "print(\"thaks\")"
   ]
  },
  {
   "cell_type": "code",
   "execution_count": 46,
   "metadata": {},
   "outputs": [
    {
     "name": "stdout",
     "output_type": "stream",
     "text": [
      "welcome\n",
      "no\n",
      "thaks\n"
     ]
    }
   ],
   "source": [
    "\n",
    "# WAP to check whether this list contains atleast one even number or not..\n",
    "l=[11,10,23,45,68,24,56,67,43]\n",
    "print(\"welcome\")\n",
    "for i in l:\n",
    "    if i%2==0:\n",
    "        print(\"yes\")\n",
    "        break\n",
    "    else:\n",
    "        print(\"no\")\n",
    "        break\n",
    "print(\"thaks\")"
   ]
  },
  {
   "cell_type": "code",
   "execution_count": 47,
   "metadata": {},
   "outputs": [
    {
     "name": "stdout",
     "output_type": "stream",
     "text": [
      "3\n"
     ]
    }
   ],
   "source": [
    "i=0\n",
    "while i<3:\n",
    "    i=i+1\n",
    "print(i)"
   ]
  },
  {
   "cell_type": "code",
   "execution_count": 48,
   "metadata": {},
   "outputs": [
    {
     "name": "stdout",
     "output_type": "stream",
     "text": [
      "10\n"
     ]
    }
   ],
   "source": [
    "i=10\n",
    "while i<3:\n",
    "    i=i+1\n",
    "print(i)"
   ]
  },
  {
   "cell_type": "code",
   "execution_count": 49,
   "metadata": {},
   "outputs": [
    {
     "name": "stdout",
     "output_type": "stream",
     "text": [
      "1\n"
     ]
    }
   ],
   "source": [
    "i=0\n",
    "while i<3:\n",
    "    i=i+1\n",
    "    break\n",
    "print(i)"
   ]
  },
  {
   "cell_type": "code",
   "execution_count": 50,
   "metadata": {},
   "outputs": [
    {
     "name": "stdout",
     "output_type": "stream",
     "text": [
      "1\n"
     ]
    }
   ],
   "source": [
    "i=0\n",
    "while i<3:\n",
    "    i=i+1\n",
    "    break\n",
    "    print(\"end of the loop\")\n",
    "print(i)"
   ]
  },
  {
   "cell_type": "code",
   "execution_count": 51,
   "metadata": {},
   "outputs": [
    {
     "name": "stdout",
     "output_type": "stream",
     "text": [
      "0\n"
     ]
    }
   ],
   "source": [
    "i=0\n",
    "while i<3:\n",
    "    break\n",
    "    i=i+1\n",
    "    print(\"end of the loop\")\n",
    "print(i)"
   ]
  },
  {
   "cell_type": "code",
   "execution_count": 52,
   "metadata": {},
   "outputs": [
    {
     "name": "stdout",
     "output_type": "stream",
     "text": [
      "end of the iteration\n",
      "end of the iteration\n",
      "2\n"
     ]
    }
   ],
   "source": [
    "i=0\n",
    "while i<10:\n",
    "    if i==2:\n",
    "        break\n",
    "    i=i+1\n",
    "    print(\"end of the iteration\")\n",
    "print(i)"
   ]
  },
  {
   "cell_type": "code",
   "execution_count": 53,
   "metadata": {},
   "outputs": [
    {
     "name": "stdout",
     "output_type": "stream",
     "text": [
      "100\n"
     ]
    }
   ],
   "source": [
    "i=100\n",
    "while i<10:\n",
    "    if i==2:\n",
    "        break\n",
    "    i=i+1\n",
    "    print(\"end of the iteration\")\n",
    "print(i)"
   ]
  },
  {
   "cell_type": "code",
   "execution_count": null,
   "metadata": {},
   "outputs": [],
   "source": [
    "print(\"welcome\")\n",
    "i=0\n",
    "while i<10:\n",
    "    print(i)\n",
    "print(\"thanks\")"
   ]
  },
  {
   "cell_type": "code",
   "execution_count": 54,
   "metadata": {},
   "outputs": [
    {
     "name": "stdout",
     "output_type": "stream",
     "text": [
      "a\n",
      "a\n",
      "a\n",
      "a\n",
      "a\n",
      "a\n"
     ]
    }
   ],
   "source": [
    "for i in \"python\":\n",
    "    print(\"a\")"
   ]
  },
  {
   "cell_type": "code",
   "execution_count": 55,
   "metadata": {},
   "outputs": [
    {
     "name": "stdout",
     "output_type": "stream",
     "text": [
      "a\n"
     ]
    }
   ],
   "source": [
    "for i in \"python\":\n",
    "    print(\"a\")\n",
    "    break"
   ]
  },
  {
   "cell_type": "code",
   "execution_count": 56,
   "metadata": {},
   "outputs": [
    {
     "name": "stdout",
     "output_type": "stream",
     "text": [
      "p\n"
     ]
    }
   ],
   "source": [
    "for i in \"python\":\n",
    "    break\n",
    "print(i)"
   ]
  },
  {
   "cell_type": "code",
   "execution_count": 57,
   "metadata": {},
   "outputs": [
    {
     "name": "stdout",
     "output_type": "stream",
     "text": [
      "1\n",
      "1\n",
      "1\n",
      "1\n",
      "1\n",
      "1\n",
      "n\n"
     ]
    }
   ],
   "source": [
    "for i in \"python\":\n",
    "    print(\"1\")\n",
    "print(i)"
   ]
  },
  {
   "cell_type": "code",
   "execution_count": 58,
   "metadata": {},
   "outputs": [
    {
     "name": "stdout",
     "output_type": "stream",
     "text": [
      "0\n"
     ]
    }
   ],
   "source": [
    "l=[23,45,67,89]\n",
    "even_count=0\n",
    "for i in l:\n",
    "    if i%2==0:\n",
    "        even_count=even_count+1\n",
    "print(even_count)"
   ]
  },
  {
   "cell_type": "code",
   "execution_count": 59,
   "metadata": {},
   "outputs": [
    {
     "name": "stdout",
     "output_type": "stream",
     "text": [
      "2\n"
     ]
    }
   ],
   "source": [
    "l=[12,23,45,67,89,34]\n",
    "even_count=0\n",
    "for i in l:\n",
    "    if i%2==0:\n",
    "        even_count=even_count+1\n",
    "print(even_count)"
   ]
  },
  {
   "cell_type": "code",
   "execution_count": 60,
   "metadata": {},
   "outputs": [
    {
     "name": "stdout",
     "output_type": "stream",
     "text": [
      "Even found\n"
     ]
    }
   ],
   "source": [
    "l=[12,23,45,67,89,34]\n",
    "even_count=0\n",
    "for i in l:\n",
    "    if i%2==0:\n",
    "        even_count=even_count+1\n",
    "if even_count==0:\n",
    "    print(\"No EVEN found\")\n",
    "else:\n",
    "    print(\"Even found\")"
   ]
  },
  {
   "cell_type": "code",
   "execution_count": 61,
   "metadata": {},
   "outputs": [
    {
     "name": "stdout",
     "output_type": "stream",
     "text": [
      "No EVEN found\n"
     ]
    }
   ],
   "source": [
    "l=[23,45,67,89]\n",
    "even_count=0\n",
    "for i in l:\n",
    "    if i%2==0:\n",
    "        even_count=even_count+1\n",
    "if even_count==0:\n",
    "    print(\"No EVEN found\")\n",
    "else:\n",
    "    print(\"Even found\")"
   ]
  },
  {
   "cell_type": "code",
   "execution_count": 63,
   "metadata": {},
   "outputs": [
    {
     "name": "stdout",
     "output_type": "stream",
     "text": [
      "12\n",
      "23\n",
      "45\n",
      "67\n",
      "34\n",
      "89\n",
      "46\n",
      "Even found\n"
     ]
    }
   ],
   "source": [
    "l=[12,23,45,67,34,89,46]\n",
    "even_count=0\n",
    "for i in l:\n",
    "    print(i)\n",
    "    if i%2==0:\n",
    "        even_count=even_count+1\n",
    "if even_count==0:\n",
    "    print(\"No EVEN found\")\n",
    "else:\n",
    "    print(\"Even found\")"
   ]
  },
  {
   "cell_type": "code",
   "execution_count": 64,
   "metadata": {},
   "outputs": [
    {
     "name": "stdout",
     "output_type": "stream",
     "text": [
      "23\n",
      "45\n",
      "68\n",
      "67\n",
      "34\n",
      "89\n",
      "46\n",
      "Even found\n"
     ]
    }
   ],
   "source": [
    "l=[23,45,68,67,34,89,46]\n",
    "even_count=0\n",
    "for i in l:\n",
    "    print(i)\n",
    "    if i%2==0:\n",
    "        even_count=even_count+1\n",
    "if even_count==0:\n",
    "    print(\"No EVEN found\")\n",
    "else:\n",
    "    print(\"Even found\")"
   ]
  },
  {
   "cell_type": "code",
   "execution_count": 65,
   "metadata": {},
   "outputs": [
    {
     "name": "stdout",
     "output_type": "stream",
     "text": [
      "12\n",
      "Even found\n"
     ]
    }
   ],
   "source": [
    "l=[12,23,45,67,34,89,46]\n",
    "even_count=0\n",
    "for i in l:\n",
    "    print(i)\n",
    "    if i%2==0:\n",
    "        even_count=even_count+1\n",
    "        break\n",
    "if even_count==0:\n",
    "    print(\"No EVEN found\")\n",
    "else:\n",
    "    print(\"Even found\")"
   ]
  },
  {
   "cell_type": "code",
   "execution_count": 66,
   "metadata": {},
   "outputs": [
    {
     "name": "stdout",
     "output_type": "stream",
     "text": [
      "23\n",
      "45\n",
      "68\n",
      "Even found\n"
     ]
    }
   ],
   "source": [
    "l=[23,45,68,67,34,89,46]\n",
    "even_count=0\n",
    "for i in l:\n",
    "    print(i)\n",
    "    if i%2==0:\n",
    "        even_count=even_count+1\n",
    "        break\n",
    "if even_count==0:\n",
    "    print(\"No EVEN found\")\n",
    "else:\n",
    "    print(\"Even found\")"
   ]
  },
  {
   "cell_type": "code",
   "execution_count": 68,
   "metadata": {},
   "outputs": [
    {
     "name": "stdout",
     "output_type": "stream",
     "text": [
      "23\n",
      "45\n",
      "67\n",
      "89\n",
      "No EVEN found\n"
     ]
    }
   ],
   "source": [
    "l=[23,45,67,89]\n",
    "even_count=0\n",
    "for i in l:\n",
    "    print(i)\n",
    "    if i%2==0:\n",
    "        even_count=even_count+1\n",
    "        break\n",
    "if even_count==0:\n",
    "    print(\"No EVEN found\")\n",
    "else:\n",
    "    print(\"Even found\")"
   ]
  },
  {
   "cell_type": "code",
   "execution_count": 69,
   "metadata": {},
   "outputs": [
    {
     "name": "stdout",
     "output_type": "stream",
     "text": [
      "welcome\n",
      "p\n",
      "y\n",
      "t\n",
      "h\n",
      "o\n",
      "n\n",
      "else block\n",
      "thank you!!\n"
     ]
    }
   ],
   "source": [
    "print(\"welcome\")\n",
    "for i in \"python\":\n",
    "    print(i)\n",
    "else:\n",
    "    print(\"else block\")\n",
    "print(\"thank you!!\")"
   ]
  },
  {
   "cell_type": "code",
   "execution_count": 70,
   "metadata": {},
   "outputs": [
    {
     "name": "stdout",
     "output_type": "stream",
     "text": [
      "welcome\n",
      "p\n",
      "thank you!!\n"
     ]
    }
   ],
   "source": [
    "print(\"welcome\")\n",
    "for i in \"python\":\n",
    "    print(i)\n",
    "    break\n",
    "else:\n",
    "    print(\"else block\")\n",
    "print(\"thank you!!\")"
   ]
  },
  {
   "cell_type": "code",
   "execution_count": 71,
   "metadata": {},
   "outputs": [
    {
     "name": "stdout",
     "output_type": "stream",
     "text": [
      "welcome\n",
      "p\n",
      "y\n",
      "t\n",
      "thank you!!\n"
     ]
    }
   ],
   "source": [
    "print(\"welcome\")\n",
    "for i in \"python\":\n",
    "    print(i)\n",
    "    if i==\"t\":\n",
    "        break\n",
    "else:\n",
    "    print(\"else block\")\n",
    "print(\"thank you!!\")"
   ]
  },
  {
   "cell_type": "code",
   "execution_count": 72,
   "metadata": {},
   "outputs": [
    {
     "name": "stdout",
     "output_type": "stream",
     "text": [
      "welcome\n",
      "p\n",
      "y\n",
      "t\n",
      "h\n",
      "o\n",
      "n\n",
      "else block\n",
      "thank you!!\n"
     ]
    }
   ],
   "source": [
    "print(\"welcome\")\n",
    "for i in \"python\":\n",
    "    print(i)\n",
    "    if i==\"v\":\n",
    "        break\n",
    "else:\n",
    "    print(\"else block\")\n",
    "print(\"thank you!!\")"
   ]
  },
  {
   "cell_type": "code",
   "execution_count": 73,
   "metadata": {},
   "outputs": [
    {
     "name": "stdout",
     "output_type": "stream",
     "text": [
      "welcome\n",
      "no\n",
      "thanks\n"
     ]
    }
   ],
   "source": [
    "l=[23,45,67,89]\n",
    "print(\"welcome\")\n",
    "for i in l:\n",
    "    if i%2==0:\n",
    "        print(\"yes\")\n",
    "        break\n",
    "else:\n",
    "    print(\"no\")\n",
    "print(\"thanks\")"
   ]
  },
  {
   "cell_type": "code",
   "execution_count": 74,
   "metadata": {},
   "outputs": [
    {
     "name": "stdout",
     "output_type": "stream",
     "text": [
      "welcome\n",
      "yes\n",
      "thanks\n"
     ]
    }
   ],
   "source": [
    "l=[23,45,67,89,90]\n",
    "print(\"welcome\")\n",
    "for i in l:\n",
    "    if i%2==0:\n",
    "        print(\"yes\")\n",
    "        break\n",
    "else:\n",
    "    print(\"no\")\n",
    "print(\"thanks\")"
   ]
  },
  {
   "cell_type": "code",
   "execution_count": 75,
   "metadata": {},
   "outputs": [
    {
     "name": "stdout",
     "output_type": "stream",
     "text": [
      "welcome\n",
      "90 yes\n",
      "thanks\n"
     ]
    }
   ],
   "source": [
    "l=[23,45,67,89,90]\n",
    "print(\"welcome\")\n",
    "for i in l:\n",
    "    if i%2==0:\n",
    "        print(i,\"yes\")\n",
    "        break\n",
    "else:\n",
    "    print(\"no\")\n",
    "print(\"thanks\")"
   ]
  },
  {
   "cell_type": "code",
   "execution_count": null,
   "metadata": {},
   "outputs": [],
   "source": []
  }
 ],
 "metadata": {
  "kernelspec": {
   "display_name": "Python 3",
   "language": "python",
   "name": "python3"
  },
  "language_info": {
   "codemirror_mode": {
    "name": "ipython",
    "version": 3
   },
   "file_extension": ".py",
   "mimetype": "text/x-python",
   "name": "python",
   "nbconvert_exporter": "python",
   "pygments_lexer": "ipython3",
   "version": "3.7.0"
  }
 },
 "nbformat": 4,
 "nbformat_minor": 2
}
