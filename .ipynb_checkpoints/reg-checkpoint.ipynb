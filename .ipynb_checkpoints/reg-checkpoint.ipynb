{
 "cells": [
  {
   "cell_type": "code",
   "execution_count": 1,
   "metadata": {},
   "outputs": [
    {
     "name": "stdout",
     "output_type": "stream",
     "text": [
      "['id', 'phone', 'name', 'email']\n",
      "['1', '9676622023', 'sambasiva', 'samba@gmail.com']\n",
      "['2', '9676622024', 'Pandu', 'MPANDU@GMAIL.COM']\n",
      "['3', '9676622025', 'NITHISH', 'NITHISH@GMAIL.COM']\n"
     ]
    }
   ],
   "source": [
    "s=\"\"\"id,phone,name,email\n",
    "1,9676622023,sambasiva,samba@gmail.com\n",
    "2,9676622024,Pandu,MPANDU@GMAIL.COM\n",
    "3,9676622025,NITHISH,NITHISH@GMAIL.COM\"\"\"\n",
    "for row in s.splitlines():\n",
    "    print(row.split(','))"
   ]
  },
  {
   "cell_type": "code",
   "execution_count": 2,
   "metadata": {},
   "outputs": [
    {
     "name": "stdout",
     "output_type": "stream",
     "text": [
      "email\n",
      "samba@gmail.com\n",
      "MPANDU@GMAIL.COM\n",
      "NITHISH@GMAIL.COM\n"
     ]
    }
   ],
   "source": [
    "s=\"\"\"id,phone,name,email\n",
    "1,9676622023,sambasiva,samba@gmail.com\n",
    "2,9676622024,Pandu,MPANDU@GMAIL.COM\n",
    "3,9676622025,NITHISH,NITHISH@GMAIL.COM\"\"\"\n",
    "for row in s.splitlines():\n",
    "    print(row.split(',')[-1])"
   ]
  },
  {
   "cell_type": "code",
   "execution_count": 3,
   "metadata": {},
   "outputs": [
    {
     "name": "stdout",
     "output_type": "stream",
     "text": [
      "phone\n",
      "9676622023\n",
      "9676622024\n",
      "9676622025\n"
     ]
    }
   ],
   "source": [
    "s=\"\"\"id,phone,name,email\n",
    "1,9676622023,sambasiva,samba@gmail.com\n",
    "2,9676622024,Pandu,MPANDU@GMAIL.COM\n",
    "3,9676622025,NITHISH,NITHISH@GMAIL.COM\"\"\"\n",
    "for row in s.splitlines():\n",
    "    print(row.split(',')[1])"
   ]
  },
  {
   "cell_type": "code",
   "execution_count": 4,
   "metadata": {},
   "outputs": [
    {
     "name": "stdout",
     "output_type": "stream",
     "text": [
      "9676622023\n",
      "Pandu\n",
      "NITHISH\n"
     ]
    }
   ],
   "source": [
    "s=\"\"\"1,9676622023,sambasiva,samba@gmail.com\n",
    "2,Pandu,MPANDU@GMAIL.COM,9676622024\n",
    "9676622025,NITHISH,NITHISH@GMAIL.COM,3\"\"\"\n",
    "for row in s.splitlines():\n",
    "    print(row.split(',')[1])"
   ]
  },
  {
   "cell_type": "code",
   "execution_count": 6,
   "metadata": {},
   "outputs": [
    {
     "name": "stdout",
     "output_type": "stream",
     "text": [
      "['9676622023', '9676622024', '9676622025']\n"
     ]
    }
   ],
   "source": [
    "s=\"\"\"1,9676622023,sambasiva,samba@gmail.com\n",
    "2,Pandu,MPANDU@GMAIL.COM,9676622024\n",
    "9676622025,NITHISH,NITHISH@GMAIL.COM,3\"\"\"\n",
    "import re\n",
    "print(re.findall(\"[0-9]{10}\",s))"
   ]
  },
  {
   "cell_type": "code",
   "execution_count": 7,
   "metadata": {},
   "outputs": [
    {
     "name": "stdout",
     "output_type": "stream",
     "text": [
      "['1', '9', '6', '7', '6', '6', '2', '2', '0', '2', '3', '2', '9', '6', '7', '6', '6', '2', '2', '0', '2', '4', '9', '6', '7', '6', '6', '2', '2', '0', '2', '5', '3']\n"
     ]
    }
   ],
   "source": [
    "s=\"\"\"1,9676622023,sambasiva,samba@gmail.com\n",
    "2,Pandu,MPANDU@GMAIL.COM,9676622024\n",
    "9676622025,NITHISH,NITHISH@GMAIL.COM,3\"\"\"\n",
    "import re\n",
    "print(re.findall(\"[0123456789]\",s))"
   ]
  },
  {
   "cell_type": "code",
   "execution_count": 8,
   "metadata": {},
   "outputs": [
    {
     "name": "stdout",
     "output_type": "stream",
     "text": [
      "['1', '9', '6', '7', '6', '6', '2', '2', '0', '2', '3', '2', '9', '6', '7', '6', '6', '2', '2', '0', '2', '4', '9', '6', '7', '6', '6', '2', '2', '0', '2', '5', '3']\n"
     ]
    }
   ],
   "source": [
    "s=\"\"\"1,9676622023,sambasiva,samba@gmail.com\n",
    "2,Pandu,MPANDU@GMAIL.COM,9676622024\n",
    "9676622025,NITHISH,NITHISH@GMAIL.COM,3\"\"\"\n",
    "import re\n",
    "print(re.findall(\"[0-9]\",s))"
   ]
  },
  {
   "cell_type": "code",
   "execution_count": 10,
   "metadata": {},
   "outputs": [
    {
     "name": "stdout",
     "output_type": "stream",
     "text": [
      "['s', 'a', 'm', 'b', 'a', 's', 'i', 'v', 'a', 's', 'a', 'm', 'b', 'a', 'g', 'm', 'a', 'i', 'l', 'c', 'o', 'm', 'a', 'n', 'd', 'u']\n"
     ]
    }
   ],
   "source": [
    "s=\"\"\"1,9676622023,sambasiva,samba@gmail.com2\n",
    "2,Pandu,MPANDU@GMAIL.COM1,9676622024\n",
    "9676622025,NITHISH,NITHISH@GMAIL.COM3,3\"\"\"\n",
    "import re\n",
    "print(re.findall(\"[a-z]\",s))"
   ]
  },
  {
   "cell_type": "code",
   "execution_count": 11,
   "metadata": {},
   "outputs": [
    {
     "name": "stdout",
     "output_type": "stream",
     "text": [
      "['s', 'a', 'm', 'b', 'a', 's', 'i', 'v', 'a', 's', 'a', 'm', 'b', 'a', 'g', 'm', 'a', 'i', 'l', 'c', 'o', 'm', 'P', 'a', 'n', 'd', 'u', 'M', 'P', 'A', 'N', 'D', 'U', 'G', 'M', 'A', 'I', 'L', 'C', 'O', 'M', 'N', 'I', 'T', 'H', 'I', 'S', 'H', 'N', 'I', 'T', 'H', 'I', 'S', 'H', 'G', 'M', 'A', 'I', 'L', 'C', 'O', 'M']\n"
     ]
    }
   ],
   "source": [
    "s=\"\"\"1,9676622023,sambasiva,samba@gmail.com2\n",
    "2,Pandu,MPANDU@GMAIL.COM1,9676622024\n",
    "9676622025,NITHISH,NITHISH@GMAIL.COM3,3\"\"\"\n",
    "import re\n",
    "print(re.findall(\"[a-zA-Z]\",s))"
   ]
  },
  {
   "cell_type": "code",
   "execution_count": 12,
   "metadata": {},
   "outputs": [
    {
     "name": "stdout",
     "output_type": "stream",
     "text": [
      "['s', 'a', 'm', 'b', 'a', 's', 'i', 'v', 'a', 's', 'a', 'm', 'b', 'a', 'g', 'm', 'a', 'i', 'l', 'c', 'o', 'm', 'P', 'a', 'n', 'd', 'u', 'M', 'P', 'A', 'N', 'D', 'U', 'G', 'M', 'A', 'I', 'L', 'C', 'O', 'M', 'N', 'I', 'T', 'H', 'I', 'S', 'H', 'N', 'I', 'T', 'H', 'I', 'S', 'H', 'G', 'M', 'A', 'I', 'L', 'C', 'O', 'M']\n"
     ]
    }
   ],
   "source": [
    "s=\"\"\"1,9676622023,sambasiva,samba@gmail.com2\n",
    "2,Pandu,MPANDU@GMAIL.COM1,9676622024\n",
    "9676622025,NITHISH,NITHISH@GMAIL.COM3,3\"\"\"\n",
    "import re\n",
    "print(re.findall(\"[a-z]\",s,re.I))"
   ]
  },
  {
   "cell_type": "code",
   "execution_count": 13,
   "metadata": {},
   "outputs": [
    {
     "name": "stdout",
     "output_type": "stream",
     "text": [
      "['m2', 'M1', 'M3']\n"
     ]
    }
   ],
   "source": [
    "s=\"\"\"1,9676622023,sambasiva,samba@gmail.com2\n",
    "2,Pandu,MPANDU@GMAIL.COM1,9676622024\n",
    "9676622025,NITHISH,NITHISH@GMAIL.COM33\"\"\"\n",
    "import re\n",
    "print(re.findall(\"[a-z][0-9]\",s,re.I))"
   ]
  },
  {
   "cell_type": "code",
   "execution_count": 14,
   "metadata": {},
   "outputs": [
    {
     "name": "stdout",
     "output_type": "stream",
     "text": [
      "['967', '662', '202', '967', '662', '202', '967', '662', '202']\n"
     ]
    }
   ],
   "source": [
    "s=\"\"\"1,9676622023,sambasiva,samba@gmail.com2\n",
    "2,Pandu,MPANDU@GMAIL.COM1,9676622024\n",
    "9676622025,NITHISH,NITHISH@GMAIL.COM33\"\"\"\n",
    "import re\n",
    "print(re.findall(\"[0-9][0-9][0-9]\",s,re.I))"
   ]
  },
  {
   "cell_type": "code",
   "execution_count": 15,
   "metadata": {},
   "outputs": [
    {
     "name": "stdout",
     "output_type": "stream",
     "text": [
      "['9676622023', '9676622024', '9676622025']\n"
     ]
    }
   ],
   "source": [
    "s=\"\"\"1,9676622023,sambasiva,samba@gmail.com2\n",
    "2,Pandu,MPANDU@GMAIL.COM1,9676622024\n",
    "9676622025,NITHISH,NITHISH@GMAIL.COM33\"\"\"\n",
    "import re\n",
    "print(re.findall(\"[0-9][0-9][0-9][0-9][0-9][0-9][0-9][0-9][0-9][0-9]\",s,re.I))"
   ]
  },
  {
   "cell_type": "code",
   "execution_count": 16,
   "metadata": {},
   "outputs": [
    {
     "name": "stdout",
     "output_type": "stream",
     "text": [
      "['9676622023', '9676622024', '9676622025']\n"
     ]
    }
   ],
   "source": [
    "s=\"\"\"1,9676622023,sambasiva,samba@gmail.com2\n",
    "2,Pandu,MPANDU@GMAIL.COM1,9676622024\n",
    "9676622025,NITHISH,NITHISH@GMAIL.COM33\"\"\"\n",
    "import re\n",
    "print(re.findall(\"[0-9]{10}\",s,re.I))"
   ]
  },
  {
   "cell_type": "code",
   "execution_count": 17,
   "metadata": {},
   "outputs": [
    {
     "name": "stdout",
     "output_type": "stream",
     "text": [
      "['9676622023', '9676622024', '9676622025', '33']\n"
     ]
    }
   ],
   "source": [
    "s=\"\"\"1,9676622023,sambasiva,samba@gmail.com2\n",
    "2,Pandu,MPANDU@GMAIL.COM1,9676622024\n",
    "9676622025,NITHISH,NITHISH@GMAIL.COM33\"\"\"\n",
    "import re\n",
    "print(re.findall(\"[0-9]{2,10}\",s,re.I))"
   ]
  },
  {
   "cell_type": "code",
   "execution_count": 18,
   "metadata": {},
   "outputs": [
    {
     "name": "stdout",
     "output_type": "stream",
     "text": [
      "['1', '9676622023', '2', '2', '1', '9676622024', '9676622025', '33']\n"
     ]
    }
   ],
   "source": [
    "s=\"\"\"1,9676622023,sambasiva,samba@gmail.com2\n",
    "2,Pandu,MPANDU@GMAIL.COM1,9676622024\n",
    "9676622025,NITHISH,NITHISH@GMAIL.COM33\"\"\"\n",
    "import re\n",
    "print(re.findall(\"[0-9]{1,10}\",s,re.I))"
   ]
  },
  {
   "cell_type": "code",
   "execution_count": 19,
   "metadata": {},
   "outputs": [
    {
     "name": "stdout",
     "output_type": "stream",
     "text": [
      "['1', '9676622023', '2', '2', '1', '9676622024', '9676622025', '33']\n"
     ]
    }
   ],
   "source": [
    "s=\"\"\"1,9676622023,sambasiva,samba@gmail.com2\n",
    "2,Pandu,MPANDU@GMAIL.COM1,9676622024\n",
    "9676622025,NITHISH,NITHISH@GMAIL.COM33\"\"\"\n",
    "import re\n",
    "print(re.findall(\"[0-9]{1,}\",s,re.I))"
   ]
  },
  {
   "cell_type": "code",
   "execution_count": 20,
   "metadata": {},
   "outputs": [
    {
     "name": "stdout",
     "output_type": "stream",
     "text": [
      "['1', '9676622023', '2', '2', '1', '9676622024', '9676622025', '33']\n"
     ]
    }
   ],
   "source": [
    "s=\"\"\"1,9676622023,sambasiva,samba@gmail.com2\n",
    "2,Pandu,MPANDU@GMAIL.COM1,9676622024\n",
    "9676622025,NITHISH,NITHISH@GMAIL.COM33\"\"\"\n",
    "import re\n",
    "print(re.findall(\"[0-9]+\",s,re.I))"
   ]
  },
  {
   "cell_type": "code",
   "execution_count": 21,
   "metadata": {},
   "outputs": [
    {
     "name": "stdout",
     "output_type": "stream",
     "text": [
      "['1', '', '9676622023', '', '', '', '', '', '', '', '', '', '', '', '', '', '', '', '', '', '', '', '', '', '', '', '', '', '', '2', '', '2', '', '', '', '', '', '', '', '', '', '', '', '', '', '', '', '', '', '', '', '', '', '', '', '1', '', '9676622024', '', '9676622025', '', '', '', '', '', '', '', '', '', '', '', '', '', '', '', '', '', '', '', '', '', '', '', '', '', '', '33', '']\n"
     ]
    }
   ],
   "source": [
    "s=\"\"\"1,9676622023,sambasiva,samba@gmail.com2\n",
    "2,Pandu,MPANDU@GMAIL.COM1,9676622024\n",
    "9676622025,NITHISH,NITHISH@GMAIL.COM33\"\"\"\n",
    "import re\n",
    "print(re.findall(\"[0-9]{0,}\",s,re.I))"
   ]
  },
  {
   "cell_type": "code",
   "execution_count": 22,
   "metadata": {},
   "outputs": [
    {
     "name": "stdout",
     "output_type": "stream",
     "text": [
      "['1', '', '9676622023', '', '', '', '', '', '', '', '', '', '', '', '', '', '', '', '', '', '', '', '', '', '', '', '', '', '', '2', '', '2', '', '', '', '', '', '', '', '', '', '', '', '', '', '', '', '', '', '', '', '', '', '', '', '1', '', '9676622024', '', '9676622025', '', '', '', '', '', '', '', '', '', '', '', '', '', '', '', '', '', '', '', '', '', '', '', '', '', '', '33', '']\n"
     ]
    }
   ],
   "source": [
    "s=\"\"\"1,9676622023,sambasiva,samba@gmail.com2\n",
    "2,Pandu,MPANDU@GMAIL.COM1,9676622024\n",
    "9676622025,NITHISH,NITHISH@GMAIL.COM33\"\"\"\n",
    "import re\n",
    "print(re.findall(\"[0-9]*\",s,re.I))"
   ]
  },
  {
   "cell_type": "code",
   "execution_count": 23,
   "metadata": {},
   "outputs": [
    {
     "name": "stdout",
     "output_type": "stream",
     "text": [
      "['1', '', '9', '6', '7', '6', '6', '2', '2', '0', '2', '3', '', '', '', '', '', '', '', '', '', '', '', '', '', '', '', '', '', '', '', '', '', '', '', '', '', '', '2', '', '2', '', '', '', '', '', '', '', '', '', '', '', '', '', '', '', '', '', '', '', '', '', '', '', '1', '', '9', '6', '7', '6', '6', '2', '2', '0', '2', '4', '', '9', '6', '7', '6', '6', '2', '2', '0', '2', '5', '', '', '', '', '', '', '', '', '', '', '', '', '', '', '', '', '', '', '', '', '', '', '', '', '', '', '3', '3', '']\n"
     ]
    }
   ],
   "source": [
    "s=\"\"\"1,9676622023,sambasiva,samba@gmail.com2\n",
    "2,Pandu,MPANDU@GMAIL.COM1,9676622024\n",
    "9676622025,NITHISH,NITHISH@GMAIL.COM33\"\"\"\n",
    "import re\n",
    "print(re.findall(\"[0-9]{0,1}\",s,re.I))"
   ]
  },
  {
   "cell_type": "code",
   "execution_count": 24,
   "metadata": {},
   "outputs": [
    {
     "name": "stdout",
     "output_type": "stream",
     "text": [
      "['1', '', '9', '6', '7', '6', '6', '2', '2', '0', '2', '3', '', '', '', '', '', '', '', '', '', '', '', '', '', '', '', '', '', '', '', '', '', '', '', '', '', '', '2', '', '2', '', '', '', '', '', '', '', '', '', '', '', '', '', '', '', '', '', '', '', '', '', '', '', '1', '', '9', '6', '7', '6', '6', '2', '2', '0', '2', '4', '', '9', '6', '7', '6', '6', '2', '2', '0', '2', '5', '', '', '', '', '', '', '', '', '', '', '', '', '', '', '', '', '', '', '', '', '', '', '', '', '', '', '3', '3', '']\n"
     ]
    }
   ],
   "source": [
    "s=\"\"\"1,9676622023,sambasiva,samba@gmail.com2\n",
    "2,Pandu,MPANDU@GMAIL.COM1,9676622024\n",
    "9676622025,NITHISH,NITHISH@GMAIL.COM33\"\"\"\n",
    "import re\n",
    "print(re.findall(\"[0-9]?\",s))"
   ]
  },
  {
   "cell_type": "code",
   "execution_count": 25,
   "metadata": {},
   "outputs": [
    {
     "name": "stdout",
     "output_type": "stream",
     "text": [
      "[',', ',', 's', 'a', 'm', 'b', 'a', 's', 'i', 'v', 'a', ',', 's', 'a', 'm', 'b', 'a', '@', 'g', 'm', 'a', 'i', 'l', '.', 'c', 'o', 'm', '\\n', ',', 'P', 'a', 'n', 'd', 'u', ',', 'M', 'P', 'A', 'N', 'D', 'U', '@', 'G', 'M', 'A', 'I', 'L', '.', 'C', 'O', 'M', ',', '\\n', ',', 'N', 'I', 'T', 'H', 'I', 'S', 'H', ',', 'N', 'I', 'T', 'H', 'I', 'S', 'H', '@', 'G', 'M', 'A', 'I', 'L', '.', 'C', 'O', 'M']\n"
     ]
    }
   ],
   "source": [
    "s=\"\"\"1,9676622023,sambasiva,samba@gmail.com2\n",
    "2,Pandu,MPANDU@GMAIL.COM1,9676622024\n",
    "9676622025,NITHISH,NITHISH@GMAIL.COM33\"\"\"\n",
    "import re\n",
    "print(re.findall(\"[^0-9]\",s))"
   ]
  },
  {
   "cell_type": "code",
   "execution_count": 26,
   "metadata": {},
   "outputs": [
    {
     "name": "stdout",
     "output_type": "stream",
     "text": [
      "['1']\n"
     ]
    }
   ],
   "source": [
    "s=\"\"\"1,9676622023,sambasiva,samba@gmail.com2\n",
    "2,Pandu,MPANDU@GMAIL.COM1,9676622024\n",
    "9676622025,NITHISH,NITHISH@GMAIL.COM33\"\"\"\n",
    "import re\n",
    "print(re.findall(\"^[0-9]\",s))"
   ]
  },
  {
   "cell_type": "code",
   "execution_count": 27,
   "metadata": {},
   "outputs": [
    {
     "name": "stdout",
     "output_type": "stream",
     "text": [
      "['3']\n"
     ]
    }
   ],
   "source": [
    "s=\"\"\"1,9676622023,sambasiva,samba@gmail.com2\n",
    "2,Pandu,MPANDU@GMAIL.COM1,9676622024\n",
    "9676622025,NITHISH,NITHISH@GMAIL.COM33\"\"\"\n",
    "import re\n",
    "print(re.findall(\"[0-9]$\",s))"
   ]
  },
  {
   "cell_type": "code",
   "execution_count": 28,
   "metadata": {},
   "outputs": [
    {
     "name": "stdout",
     "output_type": "stream",
     "text": [
      "['1', '2', '9']\n"
     ]
    }
   ],
   "source": [
    "s=\"\"\"1,9676622023,sambasiva,samba@gmail.com2\n",
    "2,Pandu,MPANDU@GMAIL.COM1,9676622024\n",
    "9676622025,NITHISH,NITHISH@GMAIL.COM33\"\"\"\n",
    "import re\n",
    "print(re.findall(\"^[0-9]\",s,re.M))"
   ]
  },
  {
   "cell_type": "code",
   "execution_count": 29,
   "metadata": {},
   "outputs": [
    {
     "name": "stdout",
     "output_type": "stream",
     "text": [
      "['2', '4', '3']\n"
     ]
    }
   ],
   "source": [
    "s=\"\"\"1,9676622023,sambasiva,samba@gmail.com2\n",
    "2,Pandu,MPANDU@GMAIL.COM1,9676622024\n",
    "9676622025,NITHISH,NITHISH@GMAIL.COM33\"\"\"\n",
    "import re\n",
    "print(re.findall(\"[0-9]$\",s,re.M))"
   ]
  },
  {
   "cell_type": "code",
   "execution_count": 30,
   "metadata": {},
   "outputs": [
    {
     "name": "stdout",
     "output_type": "stream",
     "text": [
      "['1', ',', '9', '6', '7', '6', '6', '2', '2', '0', '2', '3', ',', 's', 'a', 'm', 'b', 'a', 's', 'i', 'v', 'a', ',', 's', 'a', 'm', 'b', 'a', '@', 'g', 'm', 'a', 'i', 'l', '.', 'c', 'o', 'm', '2', '2', ',', 'P', 'a', 'n', 'd', 'u', ',', 'M', 'P', 'A', 'N', 'D', 'U', '@', 'G', 'M', 'A', 'I', 'L', '.', 'C', 'O', 'M', '1', ',', '9', '6', '7', '6', '6', '2', '2', '0', '2', '4', '9', '6', '7', '6', '6', '2', '2', '0', '2', '5', ',', 'N', 'I', 'T', 'H', 'I', 'S', 'H', ',', 'N', 'I', 'T', 'H', 'I', 'S', 'H', '@', 'G', 'M', 'A', 'I', 'L', '.', 'C', 'O', 'M', '3', '3']\n"
     ]
    }
   ],
   "source": [
    "s=\"\"\"1,9676622023,sambasiva,samba@gmail.com2\n",
    "2,Pandu,MPANDU@GMAIL.COM1,9676622024\n",
    "9676622025,NITHISH,NITHISH@GMAIL.COM33\"\"\"\n",
    "import re\n",
    "print(re.findall(\".\",s))"
   ]
  },
  {
   "cell_type": "code",
   "execution_count": 31,
   "metadata": {},
   "outputs": [
    {
     "name": "stdout",
     "output_type": "stream",
     "text": [
      "['1', ',', '9', '6', '7', '6', '6', '2', '2', '0', '2', '3', ',', 's', 'a', 'm', 'b', 'a', 's', 'i', 'v', 'a', ',', 's', 'a', 'm', 'b', 'a', '@', 'g', 'm', 'a', 'i', 'l', '.', 'c', 'o', 'm', '2', '\\n', '2', ',', 'P', 'a', 'n', 'd', 'u', ',', 'M', 'P', 'A', 'N', 'D', 'U', '@', 'G', 'M', 'A', 'I', 'L', '.', 'C', 'O', 'M', '1', ',', '9', '6', '7', '6', '6', '2', '2', '0', '2', '4', '\\n', '9', '6', '7', '6', '6', '2', '2', '0', '2', '5', ',', 'N', 'I', 'T', 'H', 'I', 'S', 'H', ',', 'N', 'I', 'T', 'H', 'I', 'S', 'H', '@', 'G', 'M', 'A', 'I', 'L', '.', 'C', 'O', 'M', '3', '3']\n"
     ]
    }
   ],
   "source": [
    "s=\"\"\"1,9676622023,sambasiva,samba@gmail.com2\n",
    "2,Pandu,MPANDU@GMAIL.COM1,9676622024\n",
    "9676622025,NITHISH,NITHISH@GMAIL.COM33\"\"\"\n",
    "import re\n",
    "print(re.findall(\".\",s,re.DOTALL))"
   ]
  },
  {
   "cell_type": "code",
   "execution_count": 32,
   "metadata": {},
   "outputs": [
    {
     "name": "stdout",
     "output_type": "stream",
     "text": [
      "['.', '.', '.']\n"
     ]
    }
   ],
   "source": [
    "s=\"\"\"1,9676622023,sambasiva,samba@gmail.com2\n",
    "2,Pandu,MPANDU@GMAIL.COM1,9676622024\n",
    "9676622025,NITHISH,NITHISH@GMAIL.COM33\"\"\"\n",
    "import re\n",
    "print(re.findall(\"[.]\",s,re.DOTALL))"
   ]
  },
  {
   "cell_type": "code",
   "execution_count": 33,
   "metadata": {},
   "outputs": [
    {
     "name": "stdout",
     "output_type": "stream",
     "text": [
      "['.', '.', '.']\n"
     ]
    }
   ],
   "source": [
    "s=\"\"\"1,9676622023,sambasiva,samba@gmail.com2\n",
    "2,Pandu,MPANDU@GMAIL.COM1,9676622024\n",
    "9676622025,NITHISH,NITHISH@GMAIL.COM33\"\"\"\n",
    "import re\n",
    "print(re.findall(\"\\.\",s,re.DOTALL))"
   ]
  },
  {
   "cell_type": "code",
   "execution_count": 35,
   "metadata": {},
   "outputs": [
    {
     "name": "stdout",
     "output_type": "stream",
     "text": [
      "['samba@gmail.com']\n"
     ]
    }
   ],
   "source": [
    "#reg email\n",
    "#username: [a-z0-9]+\n",
    "#domain: [a-z]+\n",
    "#extension [a-z]+\n",
    "s=\"\"\"1,9676622023,sambasiva,samba@gmail.com2\n",
    "2,Pandu,MPANDU@GMAIL.COM1,9676622024\n",
    "9676622025,NITHISH,NITHISH@GMAIL.COM33\"\"\"\n",
    "print(re.findall(\"[a-z0-9]+@[a-z]+\\.[a-z]+\",s))"
   ]
  },
  {
   "cell_type": "code",
   "execution_count": 36,
   "metadata": {},
   "outputs": [
    {
     "name": "stdout",
     "output_type": "stream",
     "text": [
      "['samba@gmail.com', 'MPANDU@GMAIL.COM', 'NITHISH@GMAIL.COM']\n"
     ]
    }
   ],
   "source": [
    "#reg email\n",
    "#username: [a-z0-9]+\n",
    "#domain: [a-z]+\n",
    "#extension [a-z]+\n",
    "s=\"\"\"1,9676622023,sambasiva,samba@gmail.com2\n",
    "2,Pandu,MPANDU@GMAIL.COM1,9676622024\n",
    "9676622025,NITHISH,NITHISH@GMAIL.COM33\"\"\"\n",
    "print(re.findall(\"[a-z0-9]+@[a-z]+\\.[a-z]+\",s,re.I))"
   ]
  },
  {
   "cell_type": "code",
   "execution_count": 37,
   "metadata": {},
   "outputs": [
    {
     "name": "stdout",
     "output_type": "stream",
     "text": [
      "<re.Match object; span=(23, 38), match='samba@gmail.com'>\n"
     ]
    }
   ],
   "source": [
    "#reg email\n",
    "#username: [a-z0-9]+\n",
    "#domain: [a-z]+\n",
    "#extension [a-z]+\n",
    "s=\"\"\"1,9676622023,sambasiva,samba@gmail.com2\n",
    "2,Pandu,MPANDU@GMAIL.COM1,9676622024\n",
    "9676622025,NITHISH,NITHISH@GMAIL.COM33\"\"\"\n",
    "print(re.search(\"[a-z0-9]+@[a-z]+\\.[a-z]+\",s,re.I))"
   ]
  },
  {
   "cell_type": "code",
   "execution_count": 38,
   "metadata": {},
   "outputs": [
    {
     "name": "stdout",
     "output_type": "stream",
     "text": [
      "None\n"
     ]
    }
   ],
   "source": [
    "#reg email\n",
    "#username: [a-z0-9]+\n",
    "#domain: [a-z]+\n",
    "#extension [a-z]+\n",
    "s=\"\"\"1,9676622023,sambasiva,samba@gmail.com2\n",
    "2,Pandu,MPANDU@GMAIL.COM1,9676622024\n",
    "9676622025,NITHISH,NITHISH@GMAIL.COM33\"\"\"\n",
    "print(re.match(\"[a-z0-9]+@[a-z]+\\.[a-z]+\",s,re.I))"
   ]
  },
  {
   "cell_type": "code",
   "execution_count": 39,
   "metadata": {},
   "outputs": [
    {
     "name": "stdout",
     "output_type": "stream",
     "text": [
      "['samba@gmail.com', 'MPANDU@GMAIL.COM', 'NITHISH@GMAIL.COM']\n"
     ]
    }
   ],
   "source": [
    "#reg email\n",
    "#username: [a-z0-9]+\n",
    "#domain: [a-z]+\n",
    "#extension [a-z]+\n",
    "s=\"\"\"1,9676622023,sambasiva,samba@gmail.com2\n",
    "2,Pandu,MPANDU@GMAIL.COM1,9676622024\n",
    "9676622025,NITHISH,NITHISH@GMAIL.COM33\"\"\"\n",
    "print(re.findall(\"[a-z0-9]+@[a-z]+\\.[a-z]+\",s,re.I))"
   ]
  },
  {
   "cell_type": "code",
   "execution_count": 40,
   "metadata": {},
   "outputs": [
    {
     "name": "stdout",
     "output_type": "stream",
     "text": [
      "<callable_iterator object at 0x7f06d8179128>\n"
     ]
    }
   ],
   "source": [
    "#reg email\n",
    "#username: [a-z0-9]+\n",
    "#domain: [a-z]+\n",
    "#extension [a-z]+\n",
    "s=\"\"\"1,9676622023,sambasiva,samba@gmail.com2\n",
    "2,Pandu,MPANDU@GMAIL.COM1,9676622024\n",
    "9676622025,NITHISH,NITHISH@GMAIL.COM33\"\"\"\n",
    "print(re.finditer(\"[a-z0-9]+@[a-z]+\\.[a-z]+\",s,re.I))"
   ]
  },
  {
   "cell_type": "code",
   "execution_count": 44,
   "metadata": {},
   "outputs": [
    {
     "name": "stdout",
     "output_type": "stream",
     "text": [
      "['samba@gmail.com', 'MPANDU@GMAIL.COM', 'NITHISH@GMAIL.COM']\n"
     ]
    }
   ],
   "source": [
    "#reg email\n",
    "#username: [a-z0-9]+\n",
    "#domain: [a-z]+\n",
    "#extension [a-z]+\n",
    "s=\"\"\"1,9676622023,sambasiva,samba@gmail.com2\n",
    "2,Pandu,MPANDU@GMAIL.COM1,9676622024\n",
    "9676622025,NITHISH,NITHISH@GMAIL.COM33\"\"\"\n",
    "reg_exp = re.compile(\"[a-z0-9]+@[a-z]+\\.[a-z]+\",re.I)\n",
    "print(reg_exp.findall(s))"
   ]
  },
  {
   "cell_type": "code",
   "execution_count": null,
   "metadata": {},
   "outputs": [],
   "source": [
    "re.fin"
   ]
  }
 ],
 "metadata": {
  "kernelspec": {
   "display_name": "Python 3",
   "language": "python",
   "name": "python3"
  },
  "language_info": {
   "codemirror_mode": {
    "name": "ipython",
    "version": 3
   },
   "file_extension": ".py",
   "mimetype": "text/x-python",
   "name": "python",
   "nbconvert_exporter": "python",
   "pygments_lexer": "ipython3",
   "version": "3.7.0"
  }
 },
 "nbformat": 4,
 "nbformat_minor": 2
}
