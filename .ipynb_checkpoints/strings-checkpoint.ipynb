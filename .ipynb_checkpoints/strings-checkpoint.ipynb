{
 "cells": [
  {
   "cell_type": "code",
   "execution_count": 1,
   "metadata": {},
   "outputs": [
    {
     "name": "stdout",
     "output_type": "stream",
     "text": [
      "python program python program 1234\n"
     ]
    }
   ],
   "source": [
    "s=\"python program\"\n",
    "s1='python program'\n",
    "s2=str(1234)\n",
    "print(s,s1,s2)"
   ]
  },
  {
   "cell_type": "code",
   "execution_count": 2,
   "metadata": {},
   "outputs": [
    {
     "name": "stdout",
     "output_type": "stream",
     "text": [
      "1923\n",
      "1.2\n",
      "[1, 2, 3, 4]\n",
      "(1, 2, 3, 4)\n",
      "{1: 2, 3: 4, 5: 6}\n"
     ]
    }
   ],
   "source": [
    "a=1923\n",
    "print(str(a))\n",
    "a=1.2\n",
    "print(str(a))\n",
    "a=[1,2,3,4]\n",
    "print(str(a))\n",
    "a=(1,2,3,4)\n",
    "print(str(a))\n",
    "a={1:2,3:4,5:6}\n",
    "print(str(a))"
   ]
  },
  {
   "cell_type": "code",
   "execution_count": 3,
   "metadata": {},
   "outputs": [
    {
     "name": "stdout",
     "output_type": "stream",
     "text": [
      "p\n"
     ]
    }
   ],
   "source": [
    "s=\"python program\"\n",
    "print(s[0])"
   ]
  },
  {
   "cell_type": "code",
   "execution_count": 4,
   "metadata": {},
   "outputs": [
    {
     "name": "stdout",
     "output_type": "stream",
     "text": [
      "p y t h\n"
     ]
    }
   ],
   "source": [
    "s=\"python program\"\n",
    "print(s[0],s[1],s[2],s[3])"
   ]
  },
  {
   "cell_type": "code",
   "execution_count": 5,
   "metadata": {},
   "outputs": [
    {
     "name": "stdout",
     "output_type": "stream",
     "text": [
      "m\n"
     ]
    }
   ],
   "source": [
    "s=\"python program\"\n",
    "print(s[-1])"
   ]
  },
  {
   "cell_type": "code",
   "execution_count": 6,
   "metadata": {},
   "outputs": [
    {
     "name": "stdout",
     "output_type": "stream",
     "text": [
      "a\n"
     ]
    }
   ],
   "source": [
    "s=\"python program\"\n",
    "print(s[-2])"
   ]
  },
  {
   "cell_type": "code",
   "execution_count": 7,
   "metadata": {},
   "outputs": [
    {
     "name": "stdout",
     "output_type": "stream",
     "text": [
      "r\n"
     ]
    }
   ],
   "source": [
    "s=\"python program\"\n",
    "print(s[-3])"
   ]
  },
  {
   "cell_type": "code",
   "execution_count": 8,
   "metadata": {},
   "outputs": [
    {
     "name": "stdout",
     "output_type": "stream",
     "text": [
      "p\n"
     ]
    }
   ],
   "source": [
    "s=\"python program\"\n",
    "print(s[-14])"
   ]
  },
  {
   "cell_type": "code",
   "execution_count": 9,
   "metadata": {},
   "outputs": [
    {
     "name": "stdout",
     "output_type": "stream",
     "text": [
      "m\n"
     ]
    }
   ],
   "source": [
    "s=\"python program\"\n",
    "print(s[13])"
   ]
  },
  {
   "cell_type": "code",
   "execution_count": 10,
   "metadata": {},
   "outputs": [
    {
     "ename": "IndexError",
     "evalue": "string index out of range",
     "output_type": "error",
     "traceback": [
      "\u001b[0;31m---------------------------------------------------------------------------\u001b[0m",
      "\u001b[0;31mIndexError\u001b[0m                                Traceback (most recent call last)",
      "\u001b[0;32m<ipython-input-10-0ac4d97a2fcb>\u001b[0m in \u001b[0;36m<module>\u001b[0;34m()\u001b[0m\n\u001b[1;32m      1\u001b[0m \u001b[0ms\u001b[0m\u001b[0;34m=\u001b[0m\u001b[0;34m\"python program\"\u001b[0m\u001b[0;34m\u001b[0m\u001b[0m\n\u001b[0;32m----> 2\u001b[0;31m \u001b[0mprint\u001b[0m\u001b[0;34m(\u001b[0m\u001b[0ms\u001b[0m\u001b[0;34m[\u001b[0m\u001b[0;36m14\u001b[0m\u001b[0;34m]\u001b[0m\u001b[0;34m)\u001b[0m\u001b[0;34m\u001b[0m\u001b[0m\n\u001b[0m",
      "\u001b[0;31mIndexError\u001b[0m: string index out of range"
     ]
    }
   ],
   "source": [
    "s=\"python program\"\n",
    "print(s[14])"
   ]
  },
  {
   "cell_type": "code",
   "execution_count": 11,
   "metadata": {},
   "outputs": [
    {
     "ename": "IndexError",
     "evalue": "string index out of range",
     "output_type": "error",
     "traceback": [
      "\u001b[0;31m---------------------------------------------------------------------------\u001b[0m",
      "\u001b[0;31mIndexError\u001b[0m                                Traceback (most recent call last)",
      "\u001b[0;32m<ipython-input-11-68765e83b45c>\u001b[0m in \u001b[0;36m<module>\u001b[0;34m()\u001b[0m\n\u001b[1;32m      1\u001b[0m \u001b[0ms\u001b[0m\u001b[0;34m=\u001b[0m\u001b[0;34m\"python program\"\u001b[0m\u001b[0;34m\u001b[0m\u001b[0m\n\u001b[0;32m----> 2\u001b[0;31m \u001b[0mprint\u001b[0m\u001b[0;34m(\u001b[0m\u001b[0ms\u001b[0m\u001b[0;34m[\u001b[0m\u001b[0;34m-\u001b[0m\u001b[0;36m15\u001b[0m\u001b[0;34m]\u001b[0m\u001b[0;34m)\u001b[0m\u001b[0;34m\u001b[0m\u001b[0m\n\u001b[0m",
      "\u001b[0;31mIndexError\u001b[0m: string index out of range"
     ]
    }
   ],
   "source": [
    "s=\"python program\"\n",
    "print(s[-15])"
   ]
  },
  {
   "cell_type": "code",
   "execution_count": 12,
   "metadata": {},
   "outputs": [
    {
     "name": "stdout",
     "output_type": "stream",
     "text": [
      "pyth\n"
     ]
    }
   ],
   "source": [
    "s=\"python program\"\n",
    "print(s[0:4])"
   ]
  },
  {
   "cell_type": "code",
   "execution_count": 13,
   "metadata": {},
   "outputs": [
    {
     "name": "stdout",
     "output_type": "stream",
     "text": [
      "pyth\n"
     ]
    }
   ],
   "source": [
    "s=\"python program\"\n",
    "print(s[0:4])"
   ]
  },
  {
   "cell_type": "code",
   "execution_count": 14,
   "metadata": {},
   "outputs": [
    {
     "name": "stdout",
     "output_type": "stream",
     "text": [
      "n pro\n"
     ]
    }
   ],
   "source": [
    "s=\"python program\"\n",
    "print(s[5:10])"
   ]
  },
  {
   "cell_type": "code",
   "execution_count": 15,
   "metadata": {},
   "outputs": [
    {
     "name": "stdout",
     "output_type": "stream",
     "text": [
      "\n"
     ]
    }
   ],
   "source": [
    "s=\"python program\"\n",
    "print(s[10:5:1])"
   ]
  },
  {
   "cell_type": "code",
   "execution_count": 16,
   "metadata": {},
   "outputs": [
    {
     "name": "stdout",
     "output_type": "stream",
     "text": [
      "\n"
     ]
    }
   ],
   "source": [
    "s=\"python program\"\n",
    "print(s[10:5])"
   ]
  },
  {
   "cell_type": "code",
   "execution_count": 17,
   "metadata": {},
   "outputs": [
    {
     "name": "stdout",
     "output_type": "stream",
     "text": [
      "ython pro\n"
     ]
    }
   ],
   "source": [
    "s=\"python program\"\n",
    "print(s[1:-4])"
   ]
  },
  {
   "cell_type": "code",
   "execution_count": 18,
   "metadata": {},
   "outputs": [
    {
     "name": "stdout",
     "output_type": "stream",
     "text": [
      "gorp \n"
     ]
    }
   ],
   "source": [
    "s=\"python program\"\n",
    "print(s[10:5:-1])"
   ]
  },
  {
   "cell_type": "code",
   "execution_count": 19,
   "metadata": {},
   "outputs": [
    {
     "name": "stdout",
     "output_type": "stream",
     "text": [
      "ython pro\n"
     ]
    }
   ],
   "source": [
    "s=\"python program\"\n",
    "print(s[1:10])"
   ]
  },
  {
   "cell_type": "code",
   "execution_count": 20,
   "metadata": {},
   "outputs": [
    {
     "name": "stdout",
     "output_type": "stream",
     "text": [
      "yhnpo\n"
     ]
    }
   ],
   "source": [
    "s=\"python program\"\n",
    "print(s[1:10:2])"
   ]
  },
  {
   "cell_type": "code",
   "execution_count": 21,
   "metadata": {},
   "outputs": [
    {
     "name": "stdout",
     "output_type": "stream",
     "text": [
      "\n"
     ]
    }
   ],
   "source": [
    "s=\"python program\"\n",
    "print(s[1:10:-2])"
   ]
  },
  {
   "cell_type": "code",
   "execution_count": 22,
   "metadata": {},
   "outputs": [
    {
     "name": "stdout",
     "output_type": "stream",
     "text": [
      "yth\n"
     ]
    }
   ],
   "source": [
    "s=\"python program\"\n",
    "print(s[1:-10])"
   ]
  },
  {
   "cell_type": "code",
   "execution_count": 23,
   "metadata": {},
   "outputs": [
    {
     "name": "stdout",
     "output_type": "stream",
     "text": [
      "yh\n"
     ]
    }
   ],
   "source": [
    "s=\"python program\"\n",
    "print(s[1:-10:2])"
   ]
  },
  {
   "cell_type": "code",
   "execution_count": 24,
   "metadata": {},
   "outputs": [
    {
     "name": "stdout",
     "output_type": "stream",
     "text": [
      "\n"
     ]
    }
   ],
   "source": [
    "s=\"python program\"\n",
    "print(s[1:-10:-2])"
   ]
  },
  {
   "cell_type": "code",
   "execution_count": 26,
   "metadata": {},
   "outputs": [
    {
     "name": "stdout",
     "output_type": "stream",
     "text": [
      "y\n"
     ]
    }
   ],
   "source": [
    "s=\"python program\"\n",
    "print(s[1:-10:3])"
   ]
  },
  {
   "cell_type": "code",
   "execution_count": 27,
   "metadata": {},
   "outputs": [
    {
     "name": "stdout",
     "output_type": "stream",
     "text": [
      "python pro\n"
     ]
    }
   ],
   "source": [
    "s=\"python program\"\n",
    "print(s[:10])"
   ]
  },
  {
   "cell_type": "code",
   "execution_count": 28,
   "metadata": {},
   "outputs": [
    {
     "name": "stdout",
     "output_type": "stream",
     "text": [
      "gram\n"
     ]
    }
   ],
   "source": [
    "s=\"python program\"\n",
    "print(s[10:])"
   ]
  },
  {
   "cell_type": "code",
   "execution_count": 30,
   "metadata": {},
   "outputs": [
    {
     "name": "stdout",
     "output_type": "stream",
     "text": [
      "gorp nohtyp\n"
     ]
    }
   ],
   "source": [
    "s=\"python program\"\n",
    "print(s[10::-1])"
   ]
  },
  {
   "cell_type": "code",
   "execution_count": 31,
   "metadata": {},
   "outputs": [
    {
     "name": "stdout",
     "output_type": "stream",
     "text": [
      "mar\n"
     ]
    }
   ],
   "source": [
    "s=\"python program\"\n",
    "print(s[:10:-1])"
   ]
  },
  {
   "cell_type": "code",
   "execution_count": 32,
   "metadata": {},
   "outputs": [
    {
     "name": "stdout",
     "output_type": "stream",
     "text": [
      "margorp nohtyp\n"
     ]
    }
   ],
   "source": [
    "s=\"python program\"\n",
    "print(s[::-1])"
   ]
  },
  {
   "cell_type": "code",
   "execution_count": 33,
   "metadata": {},
   "outputs": [
    {
     "data": {
      "text/plain": [
       "'Python program'"
      ]
     },
     "execution_count": 33,
     "metadata": {},
     "output_type": "execute_result"
    }
   ],
   "source": [
    "s=\"python program\"\n",
    "s.capitalize()"
   ]
  },
  {
   "cell_type": "code",
   "execution_count": 34,
   "metadata": {},
   "outputs": [
    {
     "data": {
      "text/plain": [
       "'Python program'"
      ]
     },
     "execution_count": 34,
     "metadata": {},
     "output_type": "execute_result"
    }
   ],
   "source": [
    "s=\"pyThoN progRam\"\n",
    "s.capitalize()"
   ]
  },
  {
   "cell_type": "code",
   "execution_count": 35,
   "metadata": {},
   "outputs": [
    {
     "data": {
      "text/plain": [
       "'1python program'"
      ]
     },
     "execution_count": 35,
     "metadata": {},
     "output_type": "execute_result"
    }
   ],
   "source": [
    "s=\"1pyThoN progRam\"\n",
    "s.capitalize()"
   ]
  },
  {
   "cell_type": "code",
   "execution_count": 36,
   "metadata": {},
   "outputs": [
    {
     "data": {
      "text/plain": [
       "'$python program'"
      ]
     },
     "execution_count": 36,
     "metadata": {},
     "output_type": "execute_result"
    }
   ],
   "source": [
    "s=\"$pyThoN progRam\"\n",
    "s.capitalaize()"
   ]
  },
  {
   "cell_type": "code",
   "execution_count": 38,
   "metadata": {},
   "outputs": [
    {
     "data": {
      "text/plain": [
       "''"
      ]
     },
     "execution_count": 38,
     "metadata": {},
     "output_type": "execute_result"
    }
   ],
   "source": [
    "s=\"\"\n",
    "s.capitalize()"
   ]
  },
  {
   "cell_type": "code",
   "execution_count": 39,
   "metadata": {},
   "outputs": [
    {
     "data": {
      "text/plain": [
       "49"
      ]
     },
     "execution_count": 39,
     "metadata": {},
     "output_type": "execute_result"
    }
   ],
   "source": [
    "s=\"1234\"\n",
    "ord(\"1\")"
   ]
  },
  {
   "cell_type": "code",
   "execution_count": 40,
   "metadata": {},
   "outputs": [
    {
     "data": {
      "text/plain": [
       "57"
      ]
     },
     "execution_count": 40,
     "metadata": {},
     "output_type": "execute_result"
    }
   ],
   "source": [
    "ord(\"9\")"
   ]
  },
  {
   "cell_type": "code",
   "execution_count": 41,
   "metadata": {},
   "outputs": [
    {
     "name": "stdout",
     "output_type": "stream",
     "text": [
      "it will contains some other char\n"
     ]
    }
   ],
   "source": [
    "s=\"12386548654754363\"\n",
    "for i in s:\n",
    "    if ord(i)<=ord(\"1\") or ord(i)>=ord(\"9\"):\n",
    "        print(\"it will contains some other char\")\n",
    "        break\n",
    "else:\n",
    "    print(\"it contains only digits\")\n",
    "        "
   ]
  },
  {
   "cell_type": "code",
   "execution_count": 42,
   "metadata": {},
   "outputs": [
    {
     "name": "stdout",
     "output_type": "stream",
     "text": [
      "it contains only digits\n"
     ]
    }
   ],
   "source": [
    "s=\"12386548654754363\"\n",
    "for i in s:\n",
    "    if ord(i)<ord(\"1\") or ord(i)>ord(\"9\"):\n",
    "        print(\"it will contains some other char\")\n",
    "        break\n",
    "else:\n",
    "    print(\"it contains only digits\")\n",
    "        "
   ]
  },
  {
   "cell_type": "code",
   "execution_count": 43,
   "metadata": {},
   "outputs": [
    {
     "name": "stdout",
     "output_type": "stream",
     "text": [
      "it will contains some other char\n"
     ]
    }
   ],
   "source": [
    "s=\"12386548654754363dfsdf\"\n",
    "for i in s:\n",
    "    if ord(i)<ord(\"1\") or ord(i)>ord(\"9\"):\n",
    "        print(\"it will contains some other char\")\n",
    "        break\n",
    "else:\n",
    "    print(\"it contains only digits\")\n",
    "        "
   ]
  },
  {
   "cell_type": "code",
   "execution_count": 44,
   "metadata": {},
   "outputs": [
    {
     "name": "stdout",
     "output_type": "stream",
     "text": [
      "it will contains some other char\n"
     ]
    }
   ],
   "source": [
    "s=\"@#$^12386548654754363\"\n",
    "for i in s:\n",
    "    if ord(i)<ord(\"1\") or ord(i)>ord(\"9\"):\n",
    "        print(\"it will contains some other char\")\n",
    "        break\n",
    "else:\n",
    "    print(\"it contains only digits\")\n",
    "        "
   ]
  },
  {
   "cell_type": "code",
   "execution_count": 45,
   "metadata": {},
   "outputs": [
    {
     "name": "stdout",
     "output_type": "stream",
     "text": [
      "Enter number:12\n",
      "not a prime number\n"
     ]
    }
   ],
   "source": [
    "n=input(\"Enter number:\")\n",
    "n=int(n)\n",
    "for i in range(2,n):\n",
    "    if n%i==0:\n",
    "        print(\"not a prime number\")\n",
    "        break\n",
    "else:\n",
    "    print(\"this is prime\")"
   ]
  },
  {
   "cell_type": "code",
   "execution_count": 46,
   "metadata": {},
   "outputs": [
    {
     "name": "stdout",
     "output_type": "stream",
     "text": [
      "Enter number:111\n",
      "not a prime number\n"
     ]
    }
   ],
   "source": [
    "n=input(\"Enter number:\")\n",
    "n=int(n)\n",
    "for i in range(2,n):\n",
    "    if n%i==0:\n",
    "        print(\"not a prime number\")\n",
    "        break\n",
    "else:\n",
    "    print(\"this is prime\")"
   ]
  },
  {
   "cell_type": "code",
   "execution_count": 47,
   "metadata": {},
   "outputs": [
    {
     "name": "stdout",
     "output_type": "stream",
     "text": [
      "Enter number:113\n",
      "this is prime\n"
     ]
    }
   ],
   "source": [
    "n=input(\"Enter number:\")\n",
    "n=int(n)\n",
    "for i in range(2,n):\n",
    "    if n%i==0:\n",
    "        print(\"not a prime number\")\n",
    "        break\n",
    "else:\n",
    "    print(\"this is prime\")"
   ]
  },
  {
   "cell_type": "code",
   "execution_count": 55,
   "metadata": {},
   "outputs": [
    {
     "name": "stdout",
     "output_type": "stream",
     "text": [
      "Enter number:34\n",
      "not a prime number\n"
     ]
    }
   ],
   "source": [
    "n=input(\"Enter number:\")\n",
    "n=int(n)\n",
    "for i in range(2,n//2):\n",
    "    if n%i==0:\n",
    "        print(\"not a prime number\")\n",
    "        break\n",
    "else:\n",
    "    print(\"this is prime\")"
   ]
  },
  {
   "cell_type": "code",
   "execution_count": 50,
   "metadata": {},
   "outputs": [
    {
     "data": {
      "text/plain": [
       "range(0, 10)"
      ]
     },
     "execution_count": 50,
     "metadata": {},
     "output_type": "execute_result"
    }
   ],
   "source": [
    "range(10)"
   ]
  },
  {
   "cell_type": "code",
   "execution_count": 51,
   "metadata": {},
   "outputs": [
    {
     "data": {
      "text/plain": [
       "range(1, 10)"
      ]
     },
     "execution_count": 51,
     "metadata": {},
     "output_type": "execute_result"
    }
   ],
   "source": [
    "range(1,10)"
   ]
  },
  {
   "cell_type": "code",
   "execution_count": 52,
   "metadata": {},
   "outputs": [
    {
     "ename": "TypeError",
     "evalue": "'float' object cannot be interpreted as an integer",
     "output_type": "error",
     "traceback": [
      "\u001b[0;31m---------------------------------------------------------------------------\u001b[0m",
      "\u001b[0;31mTypeError\u001b[0m                                 Traceback (most recent call last)",
      "\u001b[0;32m<ipython-input-52-83f1062f942f>\u001b[0m in \u001b[0;36m<module>\u001b[0;34m()\u001b[0m\n\u001b[0;32m----> 1\u001b[0;31m \u001b[0mrange\u001b[0m\u001b[0;34m(\u001b[0m\u001b[0;36m1\u001b[0m\u001b[0;34m,\u001b[0m\u001b[0;36m10.5\u001b[0m\u001b[0;34m)\u001b[0m\u001b[0;34m\u001b[0m\u001b[0m\n\u001b[0m",
      "\u001b[0;31mTypeError\u001b[0m: 'float' object cannot be interpreted as an integer"
     ]
    }
   ],
   "source": [
    "range(1,10.5)"
   ]
  },
  {
   "cell_type": "code",
   "execution_count": 53,
   "metadata": {},
   "outputs": [
    {
     "data": {
      "text/plain": [
       "3.3333333333333335"
      ]
     },
     "execution_count": 53,
     "metadata": {},
     "output_type": "execute_result"
    }
   ],
   "source": [
    "10/3"
   ]
  },
  {
   "cell_type": "code",
   "execution_count": 54,
   "metadata": {},
   "outputs": [
    {
     "data": {
      "text/plain": [
       "3"
      ]
     },
     "execution_count": 54,
     "metadata": {},
     "output_type": "execute_result"
    }
   ],
   "source": [
    "10//3"
   ]
  },
  {
   "cell_type": "code",
   "execution_count": 56,
   "metadata": {},
   "outputs": [
    {
     "name": "stdout",
     "output_type": "stream",
     "text": [
      "Menu:\n",
      "\t1.Windows\n",
      "\t2.linux\n",
      "\t3.mac\n",
      "\t4.quit:\n",
      "enter an option:2\n",
      "linux os selected\n"
     ]
    }
   ],
   "source": [
    "print(\"Menu:\\n\\t1.Windows\\n\\t2.linux\\n\\t3.mac\\n\\t4.quit:\")\n",
    "opt=input(\"enter an option:\")\n",
    "if opt==\"1\":\n",
    "    print(\"Windows os selected\")\n",
    "elif opt==\"2\":\n",
    "    print(\"linux os selected\")\n",
    "elif opt==\"3\":\n",
    "    print(\"mac os selected\")\n",
    "else:\n",
    "    print(\"wrong option\")\n",
    "    \n",
    "    "
   ]
  },
  {
   "cell_type": "code",
   "execution_count": 58,
   "metadata": {},
   "outputs": [
    {
     "name": "stdout",
     "output_type": "stream",
     "text": [
      "Menu:\n",
      "\t1.Windows\n",
      "\t2.linux\n",
      "\t3.mac\n",
      "\t4.quit:\n",
      "enter an option:1\n",
      "Windows os selected\n",
      "Menu:\n",
      "\t1.Windows\n",
      "\t2.linux\n",
      "\t3.mac\n",
      "\t4.quit:\n",
      "enter an option:2\n",
      "linux os selected\n",
      "Menu:\n",
      "\t1.Windows\n",
      "\t2.linux\n",
      "\t3.mac\n",
      "\t4.quit:\n",
      "enter an option:3\n",
      "mac os selected\n",
      "Menu:\n",
      "\t1.Windows\n",
      "\t2.linux\n",
      "\t3.mac\n",
      "\t4.quit:\n",
      "enter an option:2\n",
      "linux os selected\n",
      "Menu:\n",
      "\t1.Windows\n",
      "\t2.linux\n",
      "\t3.mac\n",
      "\t4.quit:\n",
      "enter an option:4\n",
      "thank you!! will meet you again..\n"
     ]
    }
   ],
   "source": [
    "while True:\n",
    "    print(\"Menu:\\n\\t1.Windows\\n\\t2.linux\\n\\t3.mac\\n\\t4.quit:\")\n",
    "    opt=input(\"enter an option:\")\n",
    "    if opt==\"4\":\n",
    "        print(\"thank you!! will meet you again..\")\n",
    "        break\n",
    "    elif opt==\"1\":\n",
    "        print(\"Windows os selected\")\n",
    "    elif opt==\"2\":\n",
    "        print(\"linux os selected\")\n",
    "    elif opt==\"3\":\n",
    "        print(\"mac os selected\")\n",
    "    else:\n",
    "        print(\"wrong option\")\n",
    "    \n",
    "    "
   ]
  },
  {
   "cell_type": "code",
   "execution_count": null,
   "metadata": {},
   "outputs": [],
   "source": []
  }
 ],
 "metadata": {
  "kernelspec": {
   "display_name": "Python 3",
   "language": "python",
   "name": "python3"
  },
  "language_info": {
   "codemirror_mode": {
    "name": "ipython",
    "version": 3
   },
   "file_extension": ".py",
   "mimetype": "text/x-python",
   "name": "python",
   "nbconvert_exporter": "python",
   "pygments_lexer": "ipython3",
   "version": "3.7.0"
  }
 },
 "nbformat": 4,
 "nbformat_minor": 2
}
