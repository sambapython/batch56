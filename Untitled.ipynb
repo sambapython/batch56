{
 "cells": [
  {
   "cell_type": "code",
   "execution_count": 1,
   "metadata": {},
   "outputs": [
    {
     "data": {
      "text/plain": [
       "False"
      ]
     },
     "execution_count": 1,
     "metadata": {},
     "output_type": "execute_result"
    }
   ],
   "source": [
    "a=10\n",
    "b=20\n",
    "a>b"
   ]
  },
  {
   "cell_type": "code",
   "execution_count": 2,
   "metadata": {},
   "outputs": [
    {
     "data": {
      "text/plain": [
       "False"
      ]
     },
     "execution_count": 2,
     "metadata": {},
     "output_type": "execute_result"
    }
   ],
   "source": [
    "bool(0)"
   ]
  },
  {
   "cell_type": "code",
   "execution_count": 3,
   "metadata": {},
   "outputs": [
    {
     "data": {
      "text/plain": [
       "True"
      ]
     },
     "execution_count": 3,
     "metadata": {},
     "output_type": "execute_result"
    }
   ],
   "source": [
    "bool(1)"
   ]
  },
  {
   "cell_type": "code",
   "execution_count": 4,
   "metadata": {},
   "outputs": [
    {
     "data": {
      "text/plain": [
       "False"
      ]
     },
     "execution_count": 4,
     "metadata": {},
     "output_type": "execute_result"
    }
   ],
   "source": [
    "bool(\"\")"
   ]
  },
  {
   "cell_type": "code",
   "execution_count": 5,
   "metadata": {},
   "outputs": [
    {
     "data": {
      "text/plain": [
       "True"
      ]
     },
     "execution_count": 5,
     "metadata": {},
     "output_type": "execute_result"
    }
   ],
   "source": [
    "bool(\"python\")"
   ]
  },
  {
   "cell_type": "code",
   "execution_count": 6,
   "metadata": {},
   "outputs": [
    {
     "data": {
      "text/plain": [
       "False"
      ]
     },
     "execution_count": 6,
     "metadata": {},
     "output_type": "execute_result"
    }
   ],
   "source": [
    "bool([])"
   ]
  },
  {
   "cell_type": "code",
   "execution_count": 7,
   "metadata": {},
   "outputs": [
    {
     "data": {
      "text/plain": [
       "True"
      ]
     },
     "execution_count": 7,
     "metadata": {},
     "output_type": "execute_result"
    }
   ],
   "source": [
    "bool([1,2,3,4])"
   ]
  },
  {
   "cell_type": "code",
   "execution_count": 8,
   "metadata": {},
   "outputs": [
    {
     "data": {
      "text/plain": [
       "False"
      ]
     },
     "execution_count": 8,
     "metadata": {},
     "output_type": "execute_result"
    }
   ],
   "source": [
    "bool(())"
   ]
  },
  {
   "cell_type": "code",
   "execution_count": 9,
   "metadata": {},
   "outputs": [
    {
     "data": {
      "text/plain": [
       "True"
      ]
     },
     "execution_count": 9,
     "metadata": {},
     "output_type": "execute_result"
    }
   ],
   "source": [
    "bool((1,2,3,4))"
   ]
  },
  {
   "cell_type": "code",
   "execution_count": 10,
   "metadata": {},
   "outputs": [
    {
     "data": {
      "text/plain": [
       "False"
      ]
     },
     "execution_count": 10,
     "metadata": {},
     "output_type": "execute_result"
    }
   ],
   "source": [
    "bool({})"
   ]
  },
  {
   "cell_type": "code",
   "execution_count": 11,
   "metadata": {},
   "outputs": [
    {
     "data": {
      "text/plain": [
       "True"
      ]
     },
     "execution_count": 11,
     "metadata": {},
     "output_type": "execute_result"
    }
   ],
   "source": [
    "bool({1,2,3,4})"
   ]
  },
  {
   "cell_type": "code",
   "execution_count": 12,
   "metadata": {},
   "outputs": [
    {
     "data": {
      "text/plain": [
       "True"
      ]
     },
     "execution_count": 12,
     "metadata": {},
     "output_type": "execute_result"
    }
   ],
   "source": [
    "bool([0])"
   ]
  },
  {
   "cell_type": "code",
   "execution_count": 14,
   "metadata": {},
   "outputs": [
    {
     "data": {
      "text/plain": [
       "True"
      ]
     },
     "execution_count": 14,
     "metadata": {},
     "output_type": "execute_result"
    }
   ],
   "source": [
    "bool(\"0\")"
   ]
  },
  {
   "cell_type": "code",
   "execution_count": 15,
   "metadata": {},
   "outputs": [
    {
     "data": {
      "text/plain": [
       "True"
      ]
     },
     "execution_count": 15,
     "metadata": {},
     "output_type": "execute_result"
    }
   ],
   "source": [
    "bool(\" \")"
   ]
  },
  {
   "cell_type": "code",
   "execution_count": 16,
   "metadata": {},
   "outputs": [
    {
     "data": {
      "text/plain": [
       "True"
      ]
     },
     "execution_count": 16,
     "metadata": {},
     "output_type": "execute_result"
    }
   ],
   "source": [
    "bool({0})"
   ]
  },
  {
   "cell_type": "code",
   "execution_count": 17,
   "metadata": {},
   "outputs": [
    {
     "data": {
      "text/plain": [
       "True"
      ]
     },
     "execution_count": 17,
     "metadata": {},
     "output_type": "execute_result"
    }
   ],
   "source": [
    "bool((0,))"
   ]
  },
  {
   "cell_type": "code",
   "execution_count": 18,
   "metadata": {},
   "outputs": [
    {
     "data": {
      "text/plain": [
       "True"
      ]
     },
     "execution_count": 18,
     "metadata": {},
     "output_type": "execute_result"
    }
   ],
   "source": [
    "bool(12)"
   ]
  },
  {
   "cell_type": "code",
   "execution_count": 19,
   "metadata": {},
   "outputs": [
    {
     "data": {
      "text/plain": [
       "True"
      ]
     },
     "execution_count": 19,
     "metadata": {},
     "output_type": "execute_result"
    }
   ],
   "source": [
    "bool(-12)"
   ]
  },
  {
   "cell_type": "code",
   "execution_count": 20,
   "metadata": {},
   "outputs": [
    {
     "data": {
      "text/plain": [
       "False"
      ]
     },
     "execution_count": 20,
     "metadata": {},
     "output_type": "execute_result"
    }
   ],
   "source": [
    "bool(0.0)"
   ]
  },
  {
   "cell_type": "code",
   "execution_count": 22,
   "metadata": {},
   "outputs": [
    {
     "data": {
      "text/plain": [
       "False"
      ]
     },
     "execution_count": 22,
     "metadata": {},
     "output_type": "execute_result"
    }
   ],
   "source": [
    "bool(None)"
   ]
  },
  {
   "cell_type": "code",
   "execution_count": 23,
   "metadata": {},
   "outputs": [
    {
     "data": {
      "text/plain": [
       "NoneType"
      ]
     },
     "execution_count": 23,
     "metadata": {},
     "output_type": "execute_result"
    }
   ],
   "source": [
    "a=None\n",
    "type(a)"
   ]
  },
  {
   "cell_type": "code",
   "execution_count": 24,
   "metadata": {},
   "outputs": [
    {
     "name": "stdout",
     "output_type": "stream",
     "text": [
      "Enter a value:12\n",
      "enter b value:34\n",
      "a is big\n",
      "b is big\n"
     ]
    }
   ],
   "source": [
    "a=input(\"Enter a value:\")\n",
    "b=input(\"enter b value:\")\n",
    "a=int(a)\n",
    "b=int(b)\n",
    "print(\"a is big\")\n",
    "print(\"b is big\")"
   ]
  },
  {
   "cell_type": "code",
   "execution_count": 25,
   "metadata": {},
   "outputs": [
    {
     "name": "stdout",
     "output_type": "stream",
     "text": [
      "welcome\n",
      "Enter a value:12\n",
      "enter b value:34\n",
      "b is big\n",
      "thank you\n"
     ]
    }
   ],
   "source": [
    "print(\"welcome\")\n",
    "a=input(\"Enter a value:\")\n",
    "b=input(\"enter b value:\")\n",
    "a=int(a)\n",
    "b=int(b)\n",
    "if a>b:\n",
    "    print(\"a is big\")\n",
    "else:\n",
    "    print(\"b is big\")\n",
    "print(\"thank you\")"
   ]
  },
  {
   "cell_type": "code",
   "execution_count": 26,
   "metadata": {},
   "outputs": [
    {
     "name": "stdout",
     "output_type": "stream",
     "text": [
      "welcome\n",
      "Enter a value:100\n",
      "enter b value:34\n",
      "a is big\n",
      "thank you\n"
     ]
    }
   ],
   "source": [
    "print(\"welcome\")\n",
    "a=input(\"Enter a value:\")\n",
    "b=input(\"enter b value:\")\n",
    "a=int(a)\n",
    "b=int(b)\n",
    "if a>b:\n",
    "    print(\"a is big\")\n",
    "else:\n",
    "    print(\"b is big\")\n",
    "print(\"thank you\")"
   ]
  },
  {
   "cell_type": "code",
   "execution_count": 27,
   "metadata": {},
   "outputs": [
    {
     "name": "stdout",
     "output_type": "stream",
     "text": [
      "Enter a number:12\n",
      "EVEN\n"
     ]
    }
   ],
   "source": [
    "# WAP to find the given number is even or odd.\n",
    "a=input(\"Enter a number:\")\n",
    "a=int(a)\n",
    "if a%2==0:\n",
    "    print(\"EVEN\")\n",
    "else:\n",
    "    print(\"ODD\")"
   ]
  },
  {
   "cell_type": "code",
   "execution_count": 28,
   "metadata": {},
   "outputs": [
    {
     "name": "stdout",
     "output_type": "stream",
     "text": [
      "Enter a number:35\n",
      "ODD\n"
     ]
    }
   ],
   "source": [
    "# WAP to find the given number is even or odd.\n",
    "a=input(\"Enter a number:\")\n",
    "a=int(a)\n",
    "if a%2==0:\n",
    "    print(\"EVEN\")\n",
    "else:\n",
    "    print(\"ODD\")"
   ]
  },
  {
   "cell_type": "code",
   "execution_count": 30,
   "metadata": {},
   "outputs": [
    {
     "name": "stdout",
     "output_type": "stream",
     "text": [
      "CUSTOMER OPERATIONS:\n",
      "\t1. create customer\n",
      "\t2. update customer\n",
      "\t3. delete customer\n",
      "\t4. reports\n",
      "Enter an option:1\n"
     ]
    }
   ],
   "source": [
    "\"\"\"\n",
    "CUSTOMER OPERATIONS:\n",
    "    1. create customer\n",
    "    2. update customer\n",
    "    3. delete customer\n",
    "    4. reports\n",
    "\"\"\"\n",
    "opt=input(\"CUSTOMER OPERATIONS:\\n\\t1. create customer\\n\\t2. update customer\\n\\t3. delete customer\\n\\t4. reports\\nEnter an option:\")"
   ]
  },
  {
   "cell_type": "code",
   "execution_count": 31,
   "metadata": {},
   "outputs": [
    {
     "ename": "SyntaxError",
     "evalue": "EOL while scanning string literal (<ipython-input-31-e21fa17b9569>, line 8)",
     "output_type": "error",
     "traceback": [
      "\u001b[0;36m  File \u001b[0;32m\"<ipython-input-31-e21fa17b9569>\"\u001b[0;36m, line \u001b[0;32m8\u001b[0m\n\u001b[0;31m    opt=input(\"CUSTOMER OPERATIONS:\\n\\t1. create customer\\n\\t2. update customer\\n\\t3. delete\u001b[0m\n\u001b[0m                                                                                            ^\u001b[0m\n\u001b[0;31mSyntaxError\u001b[0m\u001b[0;31m:\u001b[0m EOL while scanning string literal\n"
     ]
    }
   ],
   "source": [
    "\"\"\"\n",
    "CUSTOMER OPERATIONS:\n",
    "    1. create customer\n",
    "    2. update customer\n",
    "    3. delete customer\n",
    "    4. reports\n",
    "\"\"\"\n",
    "opt=input(\"CUSTOMER OPERATIONS:\\n\\t1. create customer\\n\\t2. update customer\\n\\t3. delete\n",
    "          customer\\n\\t4. reports\\nEnter an option:\")"
   ]
  },
  {
   "cell_type": "code",
   "execution_count": 34,
   "metadata": {},
   "outputs": [
    {
     "name": "stdout",
     "output_type": "stream",
     "text": [
      "CUSTOMER OPERATIONS:\n",
      "\t 1.create customer\n",
      "\t 2.update customer\n",
      "\t 3.deletecustomer\n",
      "\t 4.reports\n",
      "Enter an option:12\n"
     ]
    }
   ],
   "source": [
    "\"\"\"\n",
    "CUSTOMER OPERATIONS:\n",
    "    1. create customer\n",
    "    2. update customer\n",
    "    3. delete customer\n",
    "    4. reports\n",
    "\"\"\"\n",
    "opt=input(\"CUSTOMER OPERATIONS:\\n\\t 1.create customer\\n\\t 2.update customer\\n\\t 3.delete\\\n",
    "customer\\n\\t 4.reports\\nEnter an option:\")"
   ]
  },
  {
   "cell_type": "code",
   "execution_count": 35,
   "metadata": {},
   "outputs": [
    {
     "name": "stdout",
     "output_type": "stream",
     "text": [
      "CUSTOMER OPERATIONS:\n",
      "\t 1.create customer\n",
      "\t 2.update customer\n",
      "\t 3.deletecustomer\n",
      "\t 4.reports\n",
      "Enter an option:1\n",
      "thank you!!\n"
     ]
    }
   ],
   "source": [
    "\"\"\"\n",
    "CUSTOMER OPERATIONS:\n",
    "    1. create customer\n",
    "    2. update customer\n",
    "    3. delete customer\n",
    "    4. reports\n",
    "\"\"\"\n",
    "opt=input(\"CUSTOMER OPERATIONS:\\n\\t 1.create customer\\n\\t 2.update customer\\n\\t 3.delete\\\n",
    "customer\\n\\t 4.reports\\nEnter an option:\")\n",
    "if opt==1:\n",
    "    print(\"creating customer\")\n",
    "if opt==2:\n",
    "    print(\"updating customer\")\n",
    "if opt==3:\n",
    "    print(\"deleting customer\")\n",
    "if opt==4:\n",
    "    print(\"showing reports\")\n",
    "print(\"thank you!!\")"
   ]
  },
  {
   "cell_type": "code",
   "execution_count": 36,
   "metadata": {},
   "outputs": [
    {
     "data": {
      "text/plain": [
       "False"
      ]
     },
     "execution_count": 36,
     "metadata": {},
     "output_type": "execute_result"
    }
   ],
   "source": [
    "\"1\"==1"
   ]
  },
  {
   "cell_type": "code",
   "execution_count": 37,
   "metadata": {},
   "outputs": [
    {
     "data": {
      "text/plain": [
       "True"
      ]
     },
     "execution_count": 37,
     "metadata": {},
     "output_type": "execute_result"
    }
   ],
   "source": [
    "\"1\"==\"1\""
   ]
  },
  {
   "cell_type": "code",
   "execution_count": 38,
   "metadata": {},
   "outputs": [
    {
     "name": "stdout",
     "output_type": "stream",
     "text": [
      "CUSTOMER OPERATIONS:\n",
      "\t 1.create customer\n",
      "\t 2.update customer\n",
      "\t 3.deletecustomer\n",
      "\t 4.reports\n",
      "Enter an option:1\n",
      "creating customer\n",
      "thank you!!\n"
     ]
    }
   ],
   "source": [
    "\"\"\"\n",
    "CUSTOMER OPERATIONS:\n",
    "    1. create customer\n",
    "    2. update customer\n",
    "    3. delete customer\n",
    "    4. reports\n",
    "\"\"\"\n",
    "opt=input(\"CUSTOMER OPERATIONS:\\n\\t 1.create customer\\n\\t 2.update customer\\n\\t 3.delete\\\n",
    "customer\\n\\t 4.reports\\nEnter an option:\")\n",
    "if opt==\"1\":\n",
    "    print(\"creating customer\")\n",
    "if opt==\"2\":\n",
    "    print(\"updating customer\")\n",
    "if opt==\"3\":\n",
    "    print(\"deleting customer\")\n",
    "if opt==\"4\":\n",
    "    print(\"showing reports\")\n",
    "print(\"thank you!!\")"
   ]
  },
  {
   "cell_type": "code",
   "execution_count": 39,
   "metadata": {},
   "outputs": [
    {
     "name": "stdout",
     "output_type": "stream",
     "text": [
      "CUSTOMER OPERATIONS:\n",
      "\t 1.create customer\n",
      "\t 2.update customer\n",
      "\t 3.deletecustomer\n",
      "\t 4.reports\n",
      "Enter an option:2\n",
      "updating customer\n",
      "thank you!!\n"
     ]
    }
   ],
   "source": [
    "\"\"\"\n",
    "CUSTOMER OPERATIONS:\n",
    "    1. create customer\n",
    "    2. update customer\n",
    "    3. delete customer\n",
    "    4. reports\n",
    "\"\"\"\n",
    "opt=input(\"CUSTOMER OPERATIONS:\\n\\t 1.create customer\\n\\t 2.update customer\\n\\t 3.delete\\\n",
    "customer\\n\\t 4.reports\\nEnter an option:\")\n",
    "if opt==\"1\":\n",
    "    print(\"creating customer\")\n",
    "if opt==\"2\":\n",
    "    print(\"updating customer\")\n",
    "if opt==\"3\":\n",
    "    print(\"deleting customer\")\n",
    "if opt==\"4\":\n",
    "    print(\"showing reports\")\n",
    "print(\"thank you!!\")"
   ]
  },
  {
   "cell_type": "code",
   "execution_count": 40,
   "metadata": {},
   "outputs": [
    {
     "name": "stdout",
     "output_type": "stream",
     "text": [
      "CUSTOMER OPERATIONS:\n",
      "\t 1.create customer\n",
      "\t 2.update customer\n",
      "\t 3.deletecustomer\n",
      "\t 4.reports\n",
      "Enter an option:3\n",
      "deleting customer\n",
      "thank you!!\n"
     ]
    }
   ],
   "source": [
    "\"\"\"\n",
    "CUSTOMER OPERATIONS:\n",
    "    1. create customer\n",
    "    2. update customer\n",
    "    3. delete customer\n",
    "    4. reports\n",
    "\"\"\"\n",
    "opt=input(\"CUSTOMER OPERATIONS:\\n\\t 1.create customer\\n\\t 2.update customer\\n\\t 3.delete\\\n",
    "customer\\n\\t 4.reports\\nEnter an option:\")\n",
    "if opt==\"1\":\n",
    "    print(\"creating customer\")\n",
    "if opt==\"2\":\n",
    "    print(\"updating customer\")\n",
    "if opt==\"3\":\n",
    "    print(\"deleting customer\")\n",
    "if opt==\"4\":\n",
    "    print(\"showing reports\")\n",
    "print(\"thank you!!\")"
   ]
  },
  {
   "cell_type": "code",
   "execution_count": 41,
   "metadata": {},
   "outputs": [
    {
     "name": "stdout",
     "output_type": "stream",
     "text": [
      "CUSTOMER OPERATIONS:\n",
      "\t 1.create customer\n",
      "\t 2.update customer\n",
      "\t 3.deletecustomer\n",
      "\t 4.reports\n",
      "Enter an option:4\n",
      "showing reports\n",
      "thank you!!\n"
     ]
    }
   ],
   "source": [
    "\"\"\"\n",
    "CUSTOMER OPERATIONS:\n",
    "    1. create customer\n",
    "    2. update customer\n",
    "    3. delete customer\n",
    "    4. reports\n",
    "\"\"\"\n",
    "opt=input(\"CUSTOMER OPERATIONS:\\n\\t 1.create customer\\n\\t 2.update customer\\n\\t 3.delete\\\n",
    "customer\\n\\t 4.reports\\nEnter an option:\")\n",
    "if opt==\"1\":\n",
    "    print(\"creating customer\")\n",
    "if opt==\"2\":\n",
    "    print(\"updating customer\")\n",
    "if opt==\"3\":\n",
    "    print(\"deleting customer\")\n",
    "if opt==\"4\":\n",
    "    print(\"showing reports\")\n",
    "print(\"thank you!!\")"
   ]
  },
  {
   "cell_type": "code",
   "execution_count": 42,
   "metadata": {},
   "outputs": [
    {
     "name": "stdout",
     "output_type": "stream",
     "text": [
      "CUSTOMER OPERATIONS:\n",
      "\t 1.create customer\n",
      "\t 2.update customer\n",
      "\t 3.deletecustomer\n",
      "\t 4.reports\n",
      "Enter an option:5\n",
      "thank you!!\n"
     ]
    }
   ],
   "source": [
    "\"\"\"\n",
    "CUSTOMER OPERATIONS:\n",
    "    1. create customer\n",
    "    2. update customer\n",
    "    3. delete customer\n",
    "    4. reports\n",
    "\"\"\"\n",
    "opt=input(\"CUSTOMER OPERATIONS:\\n\\t 1.create customer\\n\\t 2.update customer\\n\\t 3.delete\\\n",
    "customer\\n\\t 4.reports\\nEnter an option:\")\n",
    "if opt==\"1\":\n",
    "    print(\"creating customer\")\n",
    "if opt==\"2\":\n",
    "    print(\"updating customer\")\n",
    "if opt==\"3\":\n",
    "    print(\"deleting customer\")\n",
    "if opt==\"4\":\n",
    "    print(\"showing reports\")\n",
    "print(\"thank you!!\")"
   ]
  },
  {
   "cell_type": "code",
   "execution_count": 43,
   "metadata": {},
   "outputs": [
    {
     "name": "stdout",
     "output_type": "stream",
     "text": [
      "CUSTOMER OPERATIONS:\n",
      "\t 1.create customer\n",
      "\t 2.update customer\n",
      "\t 3.deletecustomer\n",
      "\t 4.reports\n",
      "Enter an option:5\n",
      "wrong option\n",
      "thank you!!\n"
     ]
    }
   ],
   "source": [
    "\"\"\"\n",
    "CUSTOMER OPERATIONS:\n",
    "    1. create customer\n",
    "    2. update customer\n",
    "    3. delete customer\n",
    "    4. reports\n",
    "\"\"\"\n",
    "opt=input(\"CUSTOMER OPERATIONS:\\n\\t 1.create customer\\n\\t 2.update customer\\n\\t 3.delete\\\n",
    "customer\\n\\t 4.reports\\nEnter an option:\")\n",
    "if opt==\"1\":\n",
    "    print(\"creating customer\")\n",
    "if opt==\"2\":\n",
    "    print(\"updating customer\")\n",
    "if opt==\"3\":\n",
    "    print(\"deleting customer\")\n",
    "if opt==\"4\":\n",
    "    print(\"showing reports\")\n",
    "else:\n",
    "    print(\"wrong option\")\n",
    "print(\"thank you!!\")\n"
   ]
  },
  {
   "cell_type": "code",
   "execution_count": 44,
   "metadata": {},
   "outputs": [
    {
     "name": "stdout",
     "output_type": "stream",
     "text": [
      "CUSTOMER OPERATIONS:\n",
      "\t 1.create customer\n",
      "\t 2.update customer\n",
      "\t 3.deletecustomer\n",
      "\t 4.reports\n",
      "Enter an option:4\n",
      "showing reports\n",
      "thank you!!\n"
     ]
    }
   ],
   "source": [
    "\"\"\"\n",
    "CUSTOMER OPERATIONS:\n",
    "    1. create customer\n",
    "    2. update customer\n",
    "    3. delete customer\n",
    "    4. reports\n",
    "\"\"\"\n",
    "opt=input(\"CUSTOMER OPERATIONS:\\n\\t 1.create customer\\n\\t 2.update customer\\n\\t 3.delete\\\n",
    "customer\\n\\t 4.reports\\nEnter an option:\")\n",
    "if opt==\"1\":\n",
    "    print(\"creating customer\")\n",
    "if opt==\"2\":\n",
    "    print(\"updating customer\")\n",
    "if opt==\"3\":\n",
    "    print(\"deleting customer\")\n",
    "if opt==\"4\":\n",
    "    print(\"showing reports\")\n",
    "else:\n",
    "    print(\"wrong option\")\n",
    "print(\"thank you!!\")\n"
   ]
  },
  {
   "cell_type": "code",
   "execution_count": 45,
   "metadata": {},
   "outputs": [
    {
     "name": "stdout",
     "output_type": "stream",
     "text": [
      "CUSTOMER OPERATIONS:\n",
      "\t 1.create customer\n",
      "\t 2.update customer\n",
      "\t 3.deletecustomer\n",
      "\t 4.reports\n",
      "Enter an option:2\n",
      "updating customer\n",
      "wrong option\n",
      "thank you!!\n"
     ]
    }
   ],
   "source": [
    "\"\"\"\n",
    "CUSTOMER OPERATIONS:\n",
    "    1. create customer\n",
    "    2. update customer\n",
    "    3. delete customer\n",
    "    4. reports\n",
    "\"\"\"\n",
    "opt=input(\"CUSTOMER OPERATIONS:\\n\\t 1.create customer\\n\\t 2.update customer\\n\\t 3.delete\\\n",
    "customer\\n\\t 4.reports\\nEnter an option:\")\n",
    "if opt==\"1\":\n",
    "    print(\"creating customer\")\n",
    "if opt==\"2\":\n",
    "    print(\"updating customer\")\n",
    "if opt==\"3\":\n",
    "    print(\"deleting customer\")\n",
    "if opt==\"4\":\n",
    "    print(\"showing reports\")\n",
    "else:\n",
    "    print(\"wrong option\")\n",
    "print(\"thank you!!\")\n"
   ]
  },
  {
   "cell_type": "code",
   "execution_count": 46,
   "metadata": {},
   "outputs": [
    {
     "name": "stdout",
     "output_type": "stream",
     "text": [
      "CUSTOMER OPERATIONS:\n",
      "\t 1.create customer\n",
      "\t 2.update customer\n",
      "\t 3.deletecustomer\n",
      "\t 4.reports\n",
      "Enter an option:1\n",
      "creating customer\n",
      "thank you!!\n"
     ]
    }
   ],
   "source": [
    "\"\"\"\n",
    "CUSTOMER OPERATIONS:\n",
    "    1. create customer\n",
    "    2. update customer\n",
    "    3. delete customer\n",
    "    4. reports\n",
    "\"\"\"\n",
    "opt=input(\"CUSTOMER OPERATIONS:\\n\\t 1.create customer\\n\\t 2.update customer\\n\\t 3.delete\\\n",
    "customer\\n\\t 4.reports\\nEnter an option:\")\n",
    "if opt==\"1\":\n",
    "    print(\"creating customer\")\n",
    "elif opt==\"2\":\n",
    "    print(\"updating customer\")\n",
    "elif opt==\"3\":\n",
    "    print(\"deleting customer\")\n",
    "elif opt==\"4\":\n",
    "    print(\"showing reports\")\n",
    "else:\n",
    "    print(\"wrong option\")\n",
    "print(\"thank you!!\")\n"
   ]
  },
  {
   "cell_type": "code",
   "execution_count": 47,
   "metadata": {},
   "outputs": [
    {
     "name": "stdout",
     "output_type": "stream",
     "text": [
      "CUSTOMER OPERATIONS:\n",
      "\t 1.create customer\n",
      "\t 2.update customer\n",
      "\t 3.deletecustomer\n",
      "\t 4.reports\n",
      "Enter an option:2\n",
      "updating customer\n",
      "thank you!!\n"
     ]
    }
   ],
   "source": [
    "\"\"\"\n",
    "CUSTOMER OPERATIONS:\n",
    "    1. create customer\n",
    "    2. update customer\n",
    "    3. delete customer\n",
    "    4. reports\n",
    "\"\"\"\n",
    "opt=input(\"CUSTOMER OPERATIONS:\\n\\t 1.create customer\\n\\t 2.update customer\\n\\t 3.delete\\\n",
    "customer\\n\\t 4.reports\\nEnter an option:\")\n",
    "if opt==\"1\":\n",
    "    print(\"creating customer\")\n",
    "elif opt==\"2\":\n",
    "    print(\"updating customer\")\n",
    "elif opt==\"3\":\n",
    "    print(\"deleting customer\")\n",
    "elif opt==\"4\":\n",
    "    print(\"showing reports\")\n",
    "else:\n",
    "    print(\"wrong option\")\n",
    "print(\"thank you!!\")\n"
   ]
  },
  {
   "cell_type": "code",
   "execution_count": 48,
   "metadata": {},
   "outputs": [
    {
     "name": "stdout",
     "output_type": "stream",
     "text": [
      "CUSTOMER OPERATIONS:\n",
      "\t 1.create customer\n",
      "\t 2.update customer\n",
      "\t 3.deletecustomer\n",
      "\t 4.reports\n",
      "Enter an option:3\n",
      "deleting customer\n",
      "thank you!!\n"
     ]
    }
   ],
   "source": [
    "\"\"\"\n",
    "CUSTOMER OPERATIONS:\n",
    "    1. create customer\n",
    "    2. update customer\n",
    "    3. delete customer\n",
    "    4. reports\n",
    "\"\"\"\n",
    "opt=input(\"CUSTOMER OPERATIONS:\\n\\t 1.create customer\\n\\t 2.update customer\\n\\t 3.delete\\\n",
    "customer\\n\\t 4.reports\\nEnter an option:\")\n",
    "if opt==\"1\":\n",
    "    print(\"creating customer\")\n",
    "elif opt==\"2\":\n",
    "    print(\"updating customer\")\n",
    "elif opt==\"3\":\n",
    "    print(\"deleting customer\")\n",
    "elif opt==\"4\":\n",
    "    print(\"showing reports\")\n",
    "else:\n",
    "    print(\"wrong option\")\n",
    "print(\"thank you!!\")\n"
   ]
  },
  {
   "cell_type": "code",
   "execution_count": 49,
   "metadata": {},
   "outputs": [
    {
     "name": "stdout",
     "output_type": "stream",
     "text": [
      "CUSTOMER OPERATIONS:\n",
      "\t 1.create customer\n",
      "\t 2.update customer\n",
      "\t 3.deletecustomer\n",
      "\t 4.reports\n",
      "Enter an option:4\n",
      "showing reports\n",
      "thank you!!\n"
     ]
    }
   ],
   "source": [
    "\"\"\"\n",
    "CUSTOMER OPERATIONS:\n",
    "    1. create customer\n",
    "    2. update customer\n",
    "    3. delete customer\n",
    "    4. reports\n",
    "\"\"\"\n",
    "opt=input(\"CUSTOMER OPERATIONS:\\n\\t 1.create customer\\n\\t 2.update customer\\n\\t 3.delete\\\n",
    "customer\\n\\t 4.reports\\nEnter an option:\")\n",
    "if opt==\"1\":\n",
    "    print(\"creating customer\")\n",
    "elif opt==\"2\":\n",
    "    print(\"updating customer\")\n",
    "elif opt==\"3\":\n",
    "    print(\"deleting customer\")\n",
    "elif opt==\"4\":\n",
    "    print(\"showing reports\")\n",
    "else:\n",
    "    print(\"wrong option\")\n",
    "print(\"thank you!!\")\n"
   ]
  },
  {
   "cell_type": "code",
   "execution_count": 50,
   "metadata": {},
   "outputs": [
    {
     "name": "stdout",
     "output_type": "stream",
     "text": [
      "CUSTOMER OPERATIONS:\n",
      "\t 1.create customer\n",
      "\t 2.update customer\n",
      "\t 3.deletecustomer\n",
      "\t 4.reports\n",
      "Enter an option:5\n",
      "wrong option\n",
      "thank you!!\n"
     ]
    }
   ],
   "source": [
    "\"\"\"\n",
    "CUSTOMER OPERATIONS:\n",
    "    1. create customer\n",
    "    2. update customer\n",
    "    3. delete customer\n",
    "    4. reports\n",
    "\"\"\"\n",
    "opt=input(\"CUSTOMER OPERATIONS:\\n\\t 1.create customer\\n\\t 2.update customer\\n\\t 3.delete\\\n",
    "customer\\n\\t 4.reports\\nEnter an option:\")\n",
    "if opt==\"1\":\n",
    "    print(\"creating customer\")\n",
    "elif opt==\"2\":\n",
    "    print(\"updating customer\")\n",
    "elif opt==\"3\":\n",
    "    print(\"deleting customer\")\n",
    "elif opt==\"4\":\n",
    "    print(\"showing reports\")\n",
    "else:\n",
    "    print(\"wrong option\")\n",
    "print(\"thank you!!\")\n"
   ]
  },
  {
   "cell_type": "code",
   "execution_count": null,
   "metadata": {},
   "outputs": [],
   "source": [
    "\"\"\"\n",
    "CUSTOMER OPERATIONS:\n",
    "    1. create customer\n",
    "    2. update customer\n",
    "    3. delete customer\n",
    "    4. reports\n",
    "\"\"\"\n",
    "opt=input(\"CUSTOMER OPERATIONS:\\n\\t 1.create customer\\n\\t 2.update customer\\n\\t 3.delete\\\n",
    "customer\\n\\t 4.reports\\nEnter an option:\")\n",
    "if opt==\"1\":\n",
    "    print(\"creating customer\")\n",
    "elif opt==\"2\":\n",
    "    print(\"updating customer\")\n",
    "elif opt==\"3\":\n",
    "    print(\"deleting customer\")\n",
    "elif opt==\"4\":\n",
    "    print(\"showing reports\")\n",
    "else:\n",
    "    print(\"wrong option\")\n",
    "print(\"thank you!!\")\n"
   ]
  }
 ],
 "metadata": {
  "kernelspec": {
   "display_name": "Python 3",
   "language": "python",
   "name": "python3"
  },
  "language_info": {
   "codemirror_mode": {
    "name": "ipython",
    "version": 3
   },
   "file_extension": ".py",
   "mimetype": "text/x-python",
   "name": "python",
   "nbconvert_exporter": "python",
   "pygments_lexer": "ipython3",
   "version": "3.7.0"
  }
 },
 "nbformat": 4,
 "nbformat_minor": 2
}
