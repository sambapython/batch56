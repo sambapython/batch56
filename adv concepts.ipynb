{
 "cells": [
  {
   "cell_type": "code",
   "execution_count": 1,
   "metadata": {},
   "outputs": [
    {
     "name": "stdout",
     "output_type": "stream",
     "text": [
      "enter number:12\n",
      "EVEN\n"
     ]
    }
   ],
   "source": [
    "number=input(\"enter number:\")\n",
    "if int(number)%2==0:\n",
    "    print(\"EVEN\")\n",
    "else:\n",
    "    print(\"ODD\")"
   ]
  },
  {
   "cell_type": "code",
   "execution_count": 2,
   "metadata": {},
   "outputs": [
    {
     "name": "stdout",
     "output_type": "stream",
     "text": [
      "enter number:12\n",
      "EVEN\n"
     ]
    }
   ],
   "source": [
    "number=input(\"enter number:\")\n",
    "print(\"EVEN\" if int(number)%2==0 else \"ODD\")"
   ]
  },
  {
   "cell_type": "code",
   "execution_count": 3,
   "metadata": {},
   "outputs": [
    {
     "name": "stdout",
     "output_type": "stream",
     "text": [
      "enter number:12\n",
      "EVEN\n"
     ]
    }
   ],
   "source": [
    "print(\"EVEN\" if int(input(\"enter number:\"))%2==0 else \"ODD\")"
   ]
  },
  {
   "cell_type": "code",
   "execution_count": 4,
   "metadata": {},
   "outputs": [
    {
     "name": "stdout",
     "output_type": "stream",
     "text": [
      "enter number:13\n",
      "ODD\n"
     ]
    }
   ],
   "source": [
    "print(\"EVEN\" if int(input(\"enter number:\"))%2==0 else \"ODD\")"
   ]
  },
  {
   "cell_type": "code",
   "execution_count": 5,
   "metadata": {},
   "outputs": [
    {
     "name": "stdout",
     "output_type": "stream",
     "text": [
      "['ODD', 'EVEN', 'ODD', 'EVEN', 'EVEN', 'ODD']\n"
     ]
    }
   ],
   "source": [
    "l=[1,10,3,4,6,89]\n",
    "res=[]\n",
    "for i in l:\n",
    "    if i%2==0:\n",
    "        res.append(\"EVEN\")\n",
    "    else:\n",
    "        res.append(\"ODD\")\n",
    "print(res)"
   ]
  },
  {
   "cell_type": "code",
   "execution_count": 6,
   "metadata": {},
   "outputs": [
    {
     "name": "stdout",
     "output_type": "stream",
     "text": [
      "['ODD', 'EVEN', 'ODD', 'EVEN', 'EVEN', 'ODD']\n"
     ]
    }
   ],
   "source": [
    "l=[1,10,3,4,6,89]\n",
    "res=[]\n",
    "for i in l:\n",
    "    res.append(\"EVEN\") if i%2==0 else res.append(\"ODD\")\n",
    "print(res)"
   ]
  },
  {
   "cell_type": "code",
   "execution_count": 7,
   "metadata": {},
   "outputs": [
    {
     "name": "stdout",
     "output_type": "stream",
     "text": [
      "[2, 11, 4, 5, 7, 90]\n"
     ]
    }
   ],
   "source": [
    "l=[1,10,3,4,6,89]\n",
    "res=[i+1 for i in l]\n",
    "print(res)"
   ]
  },
  {
   "cell_type": "code",
   "execution_count": 8,
   "metadata": {},
   "outputs": [
    {
     "name": "stdout",
     "output_type": "stream",
     "text": [
      "['ODD', 'EVEN', 'ODD', 'EVEN', 'EVEN', 'ODD']\n"
     ]
    }
   ],
   "source": [
    "l=[1,10,3,4,6,89]\n",
    "res=[\"EVEN\" if i%2==0 else \"ODD\" for i in l]\n",
    "print(res)"
   ]
  },
  {
   "cell_type": "code",
   "execution_count": 9,
   "metadata": {},
   "outputs": [
    {
     "name": "stdout",
     "output_type": "stream",
     "text": [
      "<generator object <genexpr> at 0x7f6d5b74b930>\n"
     ]
    }
   ],
   "source": [
    "l=[1,10,3,4,6,89]\n",
    "res=(\"EVEN\" if i%2==0 else \"ODD\" for i in l)\n",
    "print(res)"
   ]
  },
  {
   "cell_type": "code",
   "execution_count": 10,
   "metadata": {
    "scrolled": true
   },
   "outputs": [
    {
     "name": "stdout",
     "output_type": "stream",
     "text": [
      "<generator object <genexpr> at 0x7f6d5b74b750>\n",
      "ODD\n",
      "EVEN\n",
      "ODD\n",
      "EVEN\n",
      "EVEN\n",
      "ODD\n"
     ]
    }
   ],
   "source": [
    "l=[1,10,3,4,6,89]\n",
    "res=(\"EVEN\" if i%2==0 else \"ODD\" for i in l)\n",
    "print(res)\n",
    "for i in res:\n",
    "    print(i)"
   ]
  },
  {
   "cell_type": "code",
   "execution_count": 14,
   "metadata": {},
   "outputs": [
    {
     "name": "stdout",
     "output_type": "stream",
     "text": [
      "(1, 11)\n",
      "(2, 12)\n",
      "(3, 13)\n",
      "(4, 14)\n",
      "(5, 15)\n",
      "(6, 16)\n",
      "(7, 17)\n",
      "(8, 18)\n",
      "(9, 19)\n"
     ]
    }
   ],
   "source": [
    "keys=range(1,10)\n",
    "values=range(11,20)\n",
    "d={}\n",
    "for i in zip(keys,values):\n",
    "    print(i)\n",
    "    "
   ]
  },
  {
   "cell_type": "code",
   "execution_count": 16,
   "metadata": {},
   "outputs": [
    {
     "name": "stdout",
     "output_type": "stream",
     "text": [
      "{1: 11, 2: 12, 3: 13, 4: 14, 5: 15, 6: 16, 7: 17, 8: 18, 9: 19}\n"
     ]
    }
   ],
   "source": [
    "keys=range(1,10)\n",
    "values=range(11,20)\n",
    "d={}\n",
    "for k,v in zip(keys,values):\n",
    "    d.update({k:v})\n",
    "print(d)"
   ]
  },
  {
   "cell_type": "code",
   "execution_count": 17,
   "metadata": {},
   "outputs": [
    {
     "name": "stdout",
     "output_type": "stream",
     "text": [
      "{1: 11, 2: 12, 3: 13, 4: 14, 5: 15, 6: 16, 7: 17, 8: 18, 9: 19}\n"
     ]
    }
   ],
   "source": [
    "keys=range(1,10)\n",
    "values=range(11,20)\n",
    "d={k:v for k,v in zip(keys, values)}\n",
    "print(d)"
   ]
  },
  {
   "cell_type": "code",
   "execution_count": 18,
   "metadata": {},
   "outputs": [
    {
     "name": "stdout",
     "output_type": "stream",
     "text": [
      "EVEN\n",
      "ODD\n",
      "EVEN\n",
      "EVEN\n",
      "EVEN\n",
      "EVEN\n",
      "EVEN\n",
      "EVEN\n",
      "ODD\n",
      "ODD\n"
     ]
    }
   ],
   "source": [
    "def check_even(x):\n",
    "    if x%2==0:\n",
    "        return \"EVEN\"\n",
    "    else:\n",
    "        return \"ODD\"\n",
    "l=[10,21,34,56,78,34,56,78,91,93]\n",
    "for i in l:\n",
    "    print(check_even(i))\n"
   ]
  },
  {
   "cell_type": "code",
   "execution_count": 19,
   "metadata": {},
   "outputs": [
    {
     "name": "stdout",
     "output_type": "stream",
     "text": [
      "<map object at 0x7f6d6b10c9b0>\n"
     ]
    }
   ],
   "source": [
    "def check_even(x):\n",
    "    if x%2==0:\n",
    "        return \"EVEN\"\n",
    "    else:\n",
    "        return \"ODD\"\n",
    "l=[10,21,34,56,78,34,56,78,91,93]\n",
    "res=map(check_even, l)\n",
    "print(res)"
   ]
  },
  {
   "cell_type": "code",
   "execution_count": 20,
   "metadata": {},
   "outputs": [
    {
     "name": "stdout",
     "output_type": "stream",
     "text": [
      "EVEN\n",
      "ODD\n",
      "EVEN\n",
      "EVEN\n",
      "EVEN\n",
      "EVEN\n",
      "EVEN\n",
      "EVEN\n",
      "ODD\n",
      "ODD\n"
     ]
    }
   ],
   "source": [
    "def check_even(x):\n",
    "    if x%2==0:\n",
    "        return \"EVEN\"\n",
    "    else:\n",
    "        return \"ODD\"\n",
    "l=[10,21,34,56,78,34,56,78,91,93]\n",
    "res=map(check_even, l)\n",
    "for i in res:\n",
    "    print(i)"
   ]
  },
  {
   "cell_type": "code",
   "execution_count": 22,
   "metadata": {},
   "outputs": [
    {
     "name": "stdout",
     "output_type": "stream",
     "text": [
      "EVEN\n",
      "ODD\n",
      "EVEN\n",
      "EVEN\n",
      "EVEN\n",
      "EVEN\n",
      "EVEN\n",
      "ODD\n",
      "ODD\n",
      "ODD\n"
     ]
    }
   ],
   "source": [
    "def check_even(x):\n",
    "    return \"EVEN\" if x%2==0 else \"ODD\"\n",
    "l=[10,21,34,56,78,34,56,7,91,93]\n",
    "res=map(check_even, l)\n",
    "for i in res:\n",
    "    print(i)"
   ]
  },
  {
   "cell_type": "code",
   "execution_count": 23,
   "metadata": {},
   "outputs": [
    {
     "name": "stdout",
     "output_type": "stream",
     "text": [
      "EVEN\n",
      "ODD\n",
      "EVEN\n",
      "EVEN\n",
      "EVEN\n",
      "EVEN\n",
      "EVEN\n",
      "ODD\n",
      "ODD\n",
      "ODD\n"
     ]
    }
   ],
   "source": [
    "def check_even(x):\n",
    "    return \"EVEN\" if x%2==0 else \"ODD\"\n",
    "f=lambda x:\"EVEN\" if x%2==0 else \"ODD\"\n",
    "l=[10,21,34,56,78,34,56,7,91,93]\n",
    "res=map(check_even, l)\n",
    "for i in res:\n",
    "    print(i)"
   ]
  },
  {
   "cell_type": "code",
   "execution_count": 25,
   "metadata": {},
   "outputs": [
    {
     "name": "stdout",
     "output_type": "stream",
     "text": [
      "<class 'function'>\n",
      "EVEN\n",
      "ODD\n",
      "EVEN\n",
      "EVEN\n",
      "EVEN\n",
      "EVEN\n",
      "EVEN\n",
      "ODD\n",
      "ODD\n",
      "ODD\n"
     ]
    }
   ],
   "source": [
    "f=lambda x:\"EVEN\" if x%2==0 else \"ODD\"\n",
    "print(type(f))\n",
    "l=[10,21,34,56,78,34,56,7,91,93]\n",
    "res=map(f, l)\n",
    "for i in res:\n",
    "    print(i)"
   ]
  },
  {
   "cell_type": "code",
   "execution_count": 26,
   "metadata": {},
   "outputs": [
    {
     "name": "stdout",
     "output_type": "stream",
     "text": [
      "EVEN\n",
      "ODD\n",
      "EVEN\n",
      "EVEN\n",
      "EVEN\n",
      "EVEN\n",
      "EVEN\n",
      "ODD\n",
      "ODD\n",
      "ODD\n"
     ]
    }
   ],
   "source": [
    "l=[10,21,34,56,78,34,56,7,91,93]\n",
    "#anonymus function \n",
    "res=map(lambda x:\"EVEN\" if x%2==0 else \"ODD\", l)\n",
    "for i in res:\n",
    "    print(i)"
   ]
  },
  {
   "cell_type": "code",
   "execution_count": 27,
   "metadata": {},
   "outputs": [
    {
     "name": "stdout",
     "output_type": "stream",
     "text": [
      "['__add__', '__class__', '__contains__', '__delattr__', '__dir__', '__doc__', '__eq__', '__format__', '__ge__', '__getattribute__', '__getitem__', '__getnewargs__', '__gt__', '__hash__', '__init__', '__init_subclass__', '__iter__', '__le__', '__len__', '__lt__', '__mod__', '__mul__', '__ne__', '__new__', '__reduce__', '__reduce_ex__', '__repr__', '__rmod__', '__rmul__', '__setattr__', '__sizeof__', '__str__', '__subclasshook__', 'capitalize', 'casefold', 'center', 'count', 'encode', 'endswith', 'expandtabs', 'find', 'format', 'format_map', 'index', 'isalnum', 'isalpha', 'isascii', 'isdecimal', 'isdigit', 'isidentifier', 'islower', 'isnumeric', 'isprintable', 'isspace', 'istitle', 'isupper', 'join', 'ljust', 'lower', 'lstrip', 'maketrans', 'partition', 'replace', 'rfind', 'rindex', 'rjust', 'rpartition', 'rsplit', 'rstrip', 'split', 'splitlines', 'startswith', 'strip', 'swapcase', 'title', 'translate', 'upper', 'zfill']\n"
     ]
    }
   ],
   "source": [
    "s=\"dsf\"\n",
    "print(dir(s))"
   ]
  },
  {
   "cell_type": "code",
   "execution_count": 28,
   "metadata": {},
   "outputs": [
    {
     "name": "stdout",
     "output_type": "stream",
     "text": [
      "['__add__', '__class__', '__contains__', '__delattr__', '__delitem__', '__dir__', '__doc__', '__eq__', '__format__', '__ge__', '__getattribute__', '__getitem__', '__gt__', '__hash__', '__iadd__', '__imul__', '__init__', '__init_subclass__', '__iter__', '__le__', '__len__', '__lt__', '__mul__', '__ne__', '__new__', '__reduce__', '__reduce_ex__', '__repr__', '__reversed__', '__rmul__', '__setattr__', '__setitem__', '__sizeof__', '__str__', '__subclasshook__', 'append', 'clear', 'copy', 'count', 'extend', 'index', 'insert', 'pop', 'remove', 'reverse', 'sort']\n"
     ]
    }
   ],
   "source": [
    "s=[1,2]\n",
    "print(dir(s))"
   ]
  },
  {
   "cell_type": "code",
   "execution_count": null,
   "metadata": {},
   "outputs": [],
   "source": []
  }
 ],
 "metadata": {
  "kernelspec": {
   "display_name": "Python 3",
   "language": "python",
   "name": "python3"
  },
  "language_info": {
   "codemirror_mode": {
    "name": "ipython",
    "version": 3
   },
   "file_extension": ".py",
   "mimetype": "text/x-python",
   "name": "python",
   "nbconvert_exporter": "python",
   "pygments_lexer": "ipython3",
   "version": "3.7.0"
  }
 },
 "nbformat": 4,
 "nbformat_minor": 2
}
