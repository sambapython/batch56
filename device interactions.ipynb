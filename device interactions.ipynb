{
 "cells": [
  {
   "cell_type": "code",
   "execution_count": 1,
   "metadata": {},
   "outputs": [],
   "source": [
    "import os"
   ]
  },
  {
   "cell_type": "code",
   "execution_count": 2,
   "metadata": {},
   "outputs": [
    {
     "data": {
      "text/plain": [
       "0"
      ]
     },
     "execution_count": 2,
     "metadata": {},
     "output_type": "execute_result"
    }
   ],
   "source": [
    "os.system(\"mkdir folder1\")"
   ]
  },
  {
   "cell_type": "code",
   "execution_count": 3,
   "metadata": {},
   "outputs": [
    {
     "data": {
      "text/plain": [
       "256"
      ]
     },
     "execution_count": 3,
     "metadata": {},
     "output_type": "execute_result"
    }
   ],
   "source": [
    "os.system(\"mkdir folder1\")"
   ]
  },
  {
   "cell_type": "code",
   "execution_count": 4,
   "metadata": {},
   "outputs": [],
   "source": [
    "os.mkdir(\"folder2\")"
   ]
  },
  {
   "cell_type": "code",
   "execution_count": 6,
   "metadata": {},
   "outputs": [
    {
     "data": {
      "text/plain": [
       "'d:/app/config'"
      ]
     },
     "execution_count": 6,
     "metadata": {},
     "output_type": "execute_result"
    }
   ],
   "source": [
    "os.path.join(\"d:\",\"app\",\"config\")"
   ]
  },
  {
   "cell_type": "code",
   "execution_count": 7,
   "metadata": {},
   "outputs": [
    {
     "data": {
      "text/plain": [
       "0"
      ]
     },
     "execution_count": 7,
     "metadata": {},
     "output_type": "execute_result"
    }
   ],
   "source": [
    "os.system(\"ps -aux\")"
   ]
  },
  {
   "cell_type": "code",
   "execution_count": 8,
   "metadata": {},
   "outputs": [],
   "source": [
    "from subprocess import check_output"
   ]
  },
  {
   "cell_type": "code",
   "execution_count": 9,
   "metadata": {},
   "outputs": [],
   "source": [
    "resp = check_output([\"ps\",\"-aux\"])"
   ]
  },
  {
   "cell_type": "code",
   "execution_count": 11,
   "metadata": {},
   "outputs": [
    {
     "name": "stdout",
     "output_type": "stream",
     "text": [
      "b'USER       PID %CPU %MEM    VSZ   RSS TTY      STAT START   TIME COMMAND\\nroot         1  0.0  0.1 160240  9232 ?        Ss   Apr08   0:10 /sbin/init splash\\nroot         2  0.0  0.0      0     0 ?        S    Apr08   0:00 [kthreadd]\\nroot         4  0.0  0.0      0     0 ?        I<   Apr08   0:00 [kworker/0:0H]\\nroot         6  0.0  0.0      0     0 ?        I<   Apr08   0:00 [mm_percpu_wq]\\nroot         7  0.0  0.0      0     0 ?        S    Apr08   0:02 [ksoftirqd/0]\\nroot         8  0.0  0.0      0     0 ?        I    Apr08   0:05 [rcu_sched]\\nroot         9  0.0  0.0      0     0 ?        I    Apr08   0:00 [rcu_bh]\\nroot        10  0.0  0.0      0     0 ?        S    Apr08   0:00 [migration/0]\\nroot        11  0.0  0.0      0     0 ?        S    Apr08   0:00 [watchdog/0]\\nroot        12  0.0  0.0      0     0 ?        S    Apr08   0:00 [cpuhp/0]\\nroot        13  0.0  0.0      0     0 ?        S    Apr08   0:00 [kdevtmpfs]\\nroot        14  0.0  0.0      0     0 ?        I<   Apr08   0:00 [netns]\\nroot        15  0.0  0.0      0     0 ?        S    Apr08   0:00 [rcu_tasks_kthre]\\nroot        16  0.0  0.0      0     0 ?        S    Apr08   0:00 [kauditd]\\nroot        17  0.0  0.0      0     0 ?        S    Apr08   0:00 [khungtaskd]\\nroot        18  0.0  0.0      0     0 ?        S    Apr08   0:00 [oom_reaper]\\nroot        19  0.0  0.0      0     0 ?        I<   Apr08   0:00 [writeback]\\nroot        20  0.0  0.0      0     0 ?        S    Apr08   0:00 [kcompactd0]\\nroot        21  0.0  0.0      0     0 ?        SN   Apr08   0:00 [ksmd]\\nroot        22  0.0  0.0      0     0 ?        SN   Apr08   0:00 [khugepaged]\\nroot        23  0.0  0.0      0     0 ?        I<   Apr08   0:00 [crypto]\\nroot        24  0.0  0.0      0     0 ?        I<   Apr08   0:00 [kintegrityd]\\nroot        25  0.0  0.0      0     0 ?        I<   Apr08   0:00 [kblockd]\\nroot        26  0.0  0.0      0     0 ?        I<   Apr08   0:00 [ata_sff]\\nroot        27  0.0  0.0      0     0 ?        I<   Apr08   0:00 [md]\\nroot        28  0.0  0.0      0     0 ?        I<   Apr08   0:00 [edac-poller]\\nroot        29  0.0  0.0      0     0 ?        I<   Apr08   0:00 [devfreq_wq]\\nroot        30  0.0  0.0      0     0 ?        I<   Apr08   0:00 [watchdogd]\\nroot        34  0.0  0.0      0     0 ?        S    Apr08   0:00 [kswapd0]\\nroot        35  0.0  0.0      0     0 ?        S    Apr08   0:00 [ecryptfs-kthrea]\\nroot        77  0.0  0.0      0     0 ?        I<   Apr08   0:00 [kthrotld]\\nroot        78  0.0  0.0      0     0 ?        I<   Apr08   0:00 [acpi_thermal_pm]\\nroot        79  0.0  0.0      0     0 ?        S    Apr08   0:00 [scsi_eh_0]\\nroot        80  0.0  0.0      0     0 ?        I<   Apr08   0:00 [scsi_tmf_0]\\nroot        81  0.0  0.0      0     0 ?        S    Apr08   0:00 [scsi_eh_1]\\nroot        82  0.0  0.0      0     0 ?        I<   Apr08   0:00 [scsi_tmf_1]\\nroot        88  0.0  0.0      0     0 ?        I<   Apr08   0:00 [ipv6_addrconf]\\nroot        97  0.0  0.0      0     0 ?        I<   Apr08   0:00 [kstrp]\\nroot       114  0.0  0.0      0     0 ?        I<   Apr08   0:00 [charger_manager]\\nroot       164  0.0  0.0      0     0 ?        I<   Apr08   0:02 [kworker/0:1H]\\nroot       165  0.0  0.0      0     0 ?        S    Apr08   0:00 [scsi_eh_2]\\nroot       166  0.0  0.0      0     0 ?        I<   Apr08   0:00 [scsi_tmf_2]\\nroot       188  0.0  0.0      0     0 ?        S    Apr08   0:01 [jbd2/sda1-8]\\nroot       189  0.0  0.0      0     0 ?        I<   Apr08   0:00 [ext4-rsv-conver]\\nroot       227  0.0  0.2  95464 13812 ?        S<s  Apr08   0:01 /lib/systemd/systemd-journald\\nroot       245  0.0  0.1  47180  5780 ?        Ss   Apr08   0:01 /lib/systemd/systemd-udevd\\nroot       251  0.0  0.0      0     0 ?        S<   Apr08   0:00 [loop0]\\nroot       254  0.0  0.0      0     0 ?        S<   Apr08   0:00 [loop1]\\nroot       264  0.0  0.0      0     0 ?        S<   Apr08   0:00 [loop2]\\nroot       270  0.0  0.0      0     0 ?        S<   Apr08   0:00 [loop3]\\nroot       272  0.0  0.0      0     0 ?        S<   Apr08   0:00 [loop4]\\nroot       273  0.0  0.0      0     0 ?        S<   Apr08   0:00 [loop5]\\nroot       276  0.0  0.0      0     0 ?        S<   Apr08   0:00 [loop7]\\nroot       278  0.0  0.0      0     0 ?        S<   Apr08   0:00 [loop8]\\nroot       279  0.0  0.0      0     0 ?        S<   Apr08   0:00 [loop9]\\nroot       280  0.0  0.0      0     0 ?        S<   Apr08   0:00 [loop10]\\nroot       281  0.0  0.0      0     0 ?        S<   Apr08   0:00 [loop11]\\nroot       284  0.0  0.0      0     0 ?        S<   Apr08   0:00 [loop12]\\nroot       285  0.0  0.0      0     0 ?        S<   Apr08   0:00 [loop13]\\nroot       286  0.0  0.0      0     0 ?        S<   Apr08   0:00 [loop14]\\nroot       294  0.0  0.0      0     0 ?        S<   Apr08   0:00 [loop16]\\nroot       296  0.0  0.0      0     0 ?        S<   Apr08   0:00 [loop17]\\nroot       299  0.0  0.0      0     0 ?        S<   Apr08   0:00 [loop18]\\nroot       301  0.0  0.0      0     0 ?        S<   Apr08   0:00 [loop19]\\nroot       302  0.0  0.0      0     0 ?        S<   Apr08   0:00 [loop20]\\nroot       305  0.0  0.0      0     0 ?        S<   Apr08   0:00 [loop21]\\nroot       307  0.0  0.0      0     0 ?        S<   Apr08   0:00 [loop22]\\nroot       325  0.0  0.0      0     0 ?        S<   Apr08   0:00 [loop23]\\nroot       326  0.0  0.0      0     0 ?        S<   Apr08   0:00 [loop24]\\nroot       327  0.0  0.0      0     0 ?        S<   Apr08   0:00 [loop25]\\nsystemd+   328  0.0  0.0 146100  3392 ?        Ssl  Apr08   0:00 /lib/systemd/systemd-timesyncd\\nsystemd+   330  0.0  0.1  70836  6216 ?        Ss   Apr08   0:01 /lib/systemd/systemd-resolved\\nroot       386  0.0  0.0      0     0 ?        I<   Apr08   0:00 [iprt-VBoxWQueue]\\nroot       442  0.0  0.0      0     0 ?        I<   Apr08   0:00 [ttm_swap]\\nmessage+   546  0.0  0.1  51944  6340 ?        Ss   Apr08   0:03 /usr/bin/dbus-daemon --system --address=systemd: --nofork --nopidfile --systemd-activation --syslog-only\\nroot       570  0.0  0.2 503724 10664 ?        Ssl  Apr08   0:00 /usr/lib/udisks2/udisksd\\nroot       571  0.0  0.1  70728  6144 ?        Ss   Apr08   0:00 /lib/systemd/systemd-logind\\nroot       572  0.0  0.1 294744  6776 ?        Ssl  Apr08   0:00 /usr/lib/accountsservice/accounts-daemon\\nroot       593  0.0  0.0  38428  3216 ?        Ss   Apr08   0:00 /usr/sbin/cron -f\\nroot       598  0.0  0.3 177612 17308 ?        Ssl  Apr08   0:00 /usr/bin/python3 /usr/bin/networkd-dispatcher --run-startup-triggers\\navahi      601  0.0  0.0  47256  3116 ?        Ss   Apr08   0:00 avahi-daemon: running [khyaathipython.local]\\nroot       605  0.0  0.0   4552   740 ?        Ss   Apr08   0:01 /usr/sbin/acpid\\nroot       606  0.0  0.0  44752  3832 ?        Ss   Apr08   0:00 /sbin/wpa_supplicant -u -s -O /run/wpa_supplicant\\nroot       609  0.0  0.3 567760 15400 ?        Ssl  Apr08   0:02 /usr/sbin/NetworkManager --no-daemon\\nroot       617  0.0  0.1 353528  6948 ?        Ssl  Apr08   0:00 /usr/sbin/ModemManager\\nsyslog     620  0.0  0.0 263036  3912 ?        Ssl  Apr08   0:00 /usr/sbin/rsyslogd -n\\navahi      646  0.0  0.0  47076   340 ?        S    Apr08   0:00 avahi-daemon: chroot helper\\nkhyaath+   686  0.0  0.3  62180 19844 ?        Ss   Apr08   0:10 /home/khyaathipython/pgmanagement/bin/python /home/khyaathipython/pgmanagement/bin/gunicorn --access-logfile - --workers 3 --bind 0.0.0.0:9000 pgmanagement.wsgi:application\\nroot       700  0.0  0.0 140628  1440 ?        Ss   Apr08   0:00 nginx: master process /usr/sbin/nginx -g daemon on; master_process on;\\nwww-data   701  0.0  0.1 143304  5304 ?        S    Apr08   0:00 nginx: worker process\\nroot       702  0.0  0.0  72296  3480 ?        Ss   Apr08   0:00 /usr/sbin/sshd -D\\nroot       715  0.0  0.1 308184  7708 ?        Ssl  Apr08   0:00 /usr/sbin/gdm3\\nwhoopsie   737  0.0  0.2 462176 12404 ?        Ssl  Apr08   0:00 /usr/bin/whoopsie -f\\nkernoops   763  0.0  0.0  56936  2632 ?        Ss   Apr08   0:00 /usr/sbin/kerneloops --test\\nkernoops   765  0.0  0.0  56936  2672 ?        Ss   Apr08   0:00 /usr/sbin/kerneloops\\nroot       779  0.0  0.1 261552  8000 ?        Sl   Apr08   0:00 gdm-session-worker [pam/gdm-launch-environment]\\npostgres   838  0.0  0.5 326664 26020 ?        S    Apr08   0:01 /usr/lib/postgresql/10/bin/postgres -D /var/lib/postgresql/10/main -c config_file=/etc/postgresql/10/main/postgresql.conf\\ngdm        845  0.0  0.1  77028  7876 ?        Ss   Apr08   0:00 /lib/systemd/systemd --user\\ngdm        850  0.0  0.0 113948  2564 ?        S    Apr08   0:00 (sd-pam)\\ngdm        866  0.0  0.1 197796  5548 tty1     Ssl+ Apr08   0:00 /usr/lib/gdm3/gdm-wayland-session gnome-session --autostart /usr/share/gdm/greeter/autostart\\ngdm        868  0.0  0.0  50324  4732 ?        Ss   Apr08   0:00 /usr/bin/dbus-daemon --session --address=systemd: --nofork --nopidfile --systemd-activation --syslog-only\\ngdm        873  0.0  0.2 558948 13632 tty1     Sl+  Apr08   0:00 /usr/lib/gnome-session/gnome-session-binary --autostart /usr/share/gdm/greeter/autostart\\ngdm        905  0.0  3.4 2916860 176588 tty1   Sl+  Apr08   0:26 /usr/bin/gnome-shell\\nroot       934  0.0  0.1 322300  8344 ?        Ssl  Apr08   0:00 /usr/lib/upower/upowerd\\ngdm       1188  0.0  0.6 202684 32580 tty1     S+   Apr08   0:00 /usr/bin/Xwayland :1024 -rootless -terminate -accessx -core -listen 4 -listen 5 -displayfd 6\\npostgres  1195  0.0  0.1 326812  6084 ?        Ss   Apr08   0:00 postgres: 10/main: checkpointer process   \\npostgres  1196  0.0  0.1 326664  6464 ?        Ss   Apr08   0:00 postgres: 10/main: writer process   \\npostgres  1197  0.0  0.1 326664  8996 ?        Ss   Apr08   0:00 postgres: 10/main: wal writer process   \\npostgres  1198  0.0  0.1 327076  6732 ?        Ss   Apr08   0:00 postgres: 10/main: autovacuum launcher process   \\npostgres  1199  0.0  0.0 181716  4740 ?        Ss   Apr08   0:00 postgres: 10/main: stats collector process   \\npostgres  1200  0.0  0.0 326956  5024 ?        Ss   Apr08   0:00 postgres: 10/main: bgworker: logical replication launcher   \\ngdm       1264  0.0  0.1 349340  6456 ?        Ssl  Apr08   0:00 /usr/lib/at-spi2-core/at-spi-bus-launcher\\ngdm       1269  0.0  0.0  49928  3736 ?        S    Apr08   0:00 /usr/bin/dbus-daemon --config-file=/usr/share/defaults/at-spi2/accessibility.conf --nofork --print-address 3\\ngdm       1271  0.0  0.1 220760  6976 ?        Sl   Apr08   0:00 /usr/lib/at-spi2-core/at-spi2-registryd --use-gnome-session\\ngdm       1275  0.0  0.1 1153476 9368 ?        Ssl  Apr08   0:00 /usr/bin/pulseaudio --daemonize=no\\nrtkit     1276  0.0  0.0 183504  2920 ?        SNsl Apr08   0:00 /usr/lib/rtkit/rtkit-daemon\\ngdm       1298  0.0  0.1 361364  7604 tty1     Sl   Apr08   0:00 ibus-daemon --xim --panel disable\\ngdm       1302  0.0  0.1 280740  5780 tty1     Sl   Apr08   0:00 /usr/lib/ibus/ibus-dconf\\ngdm       1305  0.0  0.9 471640 47016 tty1     Sl   Apr08   0:00 /usr/lib/ibus/ibus-x11 --kill-daemon\\ngdm       1309  0.0  0.1 278556  5860 ?        Sl   Apr08   0:00 /usr/lib/ibus/ibus-portal\\nroot      1327  0.0  1.9 522436 98456 ?        Ssl  Apr08   0:36 /usr/lib/packagekit/packagekitd\\nroot      1373  0.0  0.1 296772  7180 ?        Ssl  Apr08   0:00 /usr/lib/x86_64-linux-gnu/boltd\\ngdm       1376  0.0  0.4 494552 21768 tty1     Sl+  Apr08   0:00 /usr/lib/gnome-settings-daemon/gsd-xsettings\\ngdm       1380  0.0  0.1 278152  5828 tty1     Sl+  Apr08   0:00 /usr/lib/gnome-settings-daemon/gsd-a11y-settings\\ngdm       1382  0.0  0.3 343644 20056 tty1     Sl+  Apr08   0:00 /usr/lib/gnome-settings-daemon/gsd-clipboard\\ngdm       1387  0.0  0.4 741836 21984 tty1     Sl+  Apr08   0:11 /usr/lib/gnome-settings-daemon/gsd-color\\ngdm       1392  0.0  0.2 393704 13496 tty1     Sl+  Apr08   0:00 /usr/lib/gnome-settings-daemon/gsd-datetime\\ngdm       1393  0.0  0.1 283736  5680 tty1     Sl+  Apr08   0:00 /usr/lib/gnome-settings-daemon/gsd-housekeeping\\ngdm       1394  0.0  0.4 498036 20572 tty1     Sl+  Apr08   0:00 /usr/lib/gnome-settings-daemon/gsd-keyboard\\ngdm       1398  0.0  0.4 866732 22492 tty1     Sl+  Apr08   0:00 /usr/lib/gnome-settings-daemon/gsd-media-keys\\ngdm       1402  0.0  0.0 201996  4452 tty1     Sl+  Apr08   0:00 /usr/lib/gnome-settings-daemon/gsd-mouse\\ngdm       1403  0.0  0.4 517364 22228 tty1     Sl+  Apr08   0:00 /usr/lib/gnome-settings-daemon/gsd-power\\ngdm       1405  0.0  0.1 267004  8600 tty1     Sl+  Apr08   0:00 /usr/lib/gnome-settings-daemon/gsd-print-notifications\\ngdm       1407  0.0  0.0 202016  4456 tty1     Sl+  Apr08   0:00 /usr/lib/gnome-settings-daemon/gsd-rfkill\\ngdm       1410  0.0  0.0 275732  4744 tty1     Sl+  Apr08   0:00 /usr/lib/gnome-settings-daemon/gsd-screensaver-proxy\\ngdm       1413  0.0  0.1 305096  8240 tty1     Sl+  Apr08   0:00 /usr/lib/gnome-settings-daemon/gsd-sharing\\ngdm       1415  0.0  0.1 377924  7692 tty1     Sl+  Apr08   0:00 /usr/lib/gnome-settings-daemon/gsd-smartcard\\ngdm       1420  0.0  0.1 332848  7532 tty1     Sl+  Apr08   0:00 /usr/lib/gnome-settings-daemon/gsd-sound\\ngdm       1423  0.0  0.4 428676 21332 tty1     Sl+  Apr08   0:00 /usr/lib/gnome-settings-daemon/gsd-wacom\\ncolord    1445  0.0  0.2 324980 13352 ?        Ssl  Apr08   0:00 /usr/lib/colord/colord\\ngdm       1474  0.0  0.1 204888  6632 tty1     Sl   Apr08   0:00 /usr/lib/ibus/ibus-engine-simple\\nroot      1559  0.0  0.0      0     0 ?        S<   Apr08   0:00 [loop26]\\nroot      1598  0.0  0.1 267740  8008 ?        Sl   Apr08   0:00 gdm-session-worker [pam/gdm-password]\\nkhyaath+  1607  0.0  0.1  77072  8064 ?        Ss   Apr08   0:00 /lib/systemd/systemd --user\\nkhyaath+  1608  0.0  0.0 114284  2860 ?        S    Apr08   0:00 (sd-pam)\\nkhyaath+  1621  0.0  0.1 288372  7008 ?        Sl   Apr08   0:00 /usr/bin/gnome-keyring-daemon --daemonize --login\\nkhyaath+  1625  0.0  0.1 212128  6024 tty2     Ssl+ Apr08   0:00 /usr/lib/gdm3/gdm-x-session --run-script env GNOME_SHELL_SESSION_MODE=ubuntu gnome-session --session=ubuntu\\nkhyaath+  1627  0.9  4.7 655212 243448 tty2    Rl+  Apr08  12:09 /usr/lib/xorg/Xorg vt2 -displayfd 3 -auth /run/user/1000/gdm/Xauthority -background none -noreset -keeptty -verbose 3\\nkhyaath+  1636  0.0  0.1  51108  5368 ?        Ss   Apr08   0:01 /usr/bin/dbus-daemon --session --address=systemd: --nofork --nopidfile --systemd-activation --syslog-only\\nkhyaath+  1640  0.0  0.2 641404 14368 tty2     Sl+  Apr08   0:00 /usr/lib/gnome-session/gnome-session-binary --session=ubuntu\\nkhyaath+  1736  0.0  0.0  11304   320 ?        Ss   Apr08   0:00 /usr/bin/ssh-agent /usr/bin/im-launch env GNOME_SHELL_SESSION_MODE=ubuntu gnome-session --session=ubuntu\\nkhyaath+  1738  0.0  0.1 349292  6464 ?        Ssl  Apr08   0:00 /usr/lib/at-spi2-core/at-spi-bus-launcher\\nkhyaath+  1743  0.0  0.0  50056  4196 ?        S    Apr08   0:01 /usr/bin/dbus-daemon --config-file=/usr/share/defaults/at-spi2/accessibility.conf --nofork --print-address 3\\nkhyaath+  1746  0.0  0.1 220776  6824 ?        Sl   Apr08   0:03 /usr/lib/at-spi2-core/at-spi2-registryd --use-gnome-session\\nkhyaath+  1764  6.8  8.8 3147520 447348 tty2   Rl+  Apr08  83:49 /usr/bin/gnome-shell\\nkhyaath+  1773  0.0  0.1 292064  7136 ?        Ssl  Apr08   0:00 /usr/lib/gvfs/gvfsd\\nkhyaath+  1778  0.0  0.1 416112  5168 ?        Sl   Apr08   0:00 /usr/lib/gvfs/gvfsd-fuse /run/user/1000/gvfs -f -o big_writes\\nkhyaath+  1789  0.0  0.2 1434416 10384 ?       S<l  Apr08   0:01 /usr/bin/pulseaudio --start --log-target=syslog\\nkhyaath+  1805  0.0  0.2 364308 11008 tty2     Rl   Apr08   1:06 ibus-daemon --xim --panel disable\\nkhyaath+  1809  0.0  0.1 280744  6664 tty2     Sl   Apr08   0:00 /usr/lib/ibus/ibus-dconf\\nkhyaath+  1811  0.0  0.4 343880 20652 tty2     Sl   Apr08   0:01 /usr/lib/ibus/ibus-x11 --kill-daemon\\nkhyaath+  1813  0.0  0.1 278556  6036 ?        Sl   Apr08   0:00 /usr/lib/ibus/ibus-portal\\nkhyaath+  1824  0.0  0.3 689628 17044 ?        Sl   Apr08   0:00 /usr/lib/gnome-shell/gnome-shell-calendar-server\\nkhyaath+  1828  0.0  0.4 978916 22412 ?        Ssl  Apr08   0:00 /usr/lib/evolution/evolution-source-registry\\nkhyaath+  1836  0.0  0.4 848008 21020 ?        Sl   Apr08   0:00 /usr/lib/gnome-online-accounts/goa-daemon\\nkhyaath+  1847  0.0  0.1 188008  5424 ?        Sl   Apr08   0:00 /usr/lib/dconf/dconf-service\\nroot      1856  0.0  0.4 680264 22512 ?        Ssl  Apr08   0:11 /usr/lib/snapd/snapd\\nkhyaath+  1860  0.0  0.1 377088  6916 ?        Sl   Apr08   0:00 /usr/lib/gnome-online-accounts/goa-identity-service\\nkhyaath+  1865  0.0  0.1 306568  8712 ?        Ssl  Apr08   0:00 /usr/lib/gvfs/gvfs-udisks2-volume-monitor\\nkhyaath+  1873  0.0  0.1 274044  5776 ?        Ssl  Apr08   0:00 /usr/lib/gvfs/gvfs-goa-volume-monitor\\nkhyaath+  1877  0.0  0.1 288656  6472 ?        Ssl  Apr08   0:00 /usr/lib/gvfs/gvfs-gphoto2-volume-monitor\\nkhyaath+  1885  0.0  0.1 378812  7340 ?        Ssl  Apr08   0:00 /usr/lib/gvfs/gvfs-afc-volume-monitor\\nkhyaath+  1890  0.0  0.1 275868  6052 ?        Ssl  Apr08   0:00 /usr/lib/gvfs/gvfs-mtp-volume-monitor\\nkhyaath+  1901  0.0  0.4 517076 22048 tty2     Sl+  Apr08   0:01 /usr/lib/gnome-settings-daemon/gsd-power\\nkhyaath+  1902  0.0  0.1 349312 10072 tty2     Sl+  Apr08   0:00 /usr/lib/gnome-settings-daemon/gsd-print-notifications\\nkhyaath+  1904  0.0  0.1 423344  5764 tty2     Sl+  Apr08   0:00 /usr/lib/gnome-settings-daemon/gsd-rfkill\\nkhyaath+  1905  0.0  0.0 275732  4700 tty2     Sl+  Apr08   0:00 /usr/lib/gnome-settings-daemon/gsd-screensaver-proxy\\nkhyaath+  1906  0.0  0.1 452824  9216 tty2     Sl+  Apr08   0:00 /usr/lib/gnome-settings-daemon/gsd-sharing\\nkhyaath+  1910  0.0  0.4 494412 21624 tty2     Sl+  Apr08   0:01 /usr/lib/gnome-settings-daemon/gsd-xsettings\\nkhyaath+  1913  0.0  0.1 332852  7716 tty2     Sl+  Apr08   0:00 /usr/lib/gnome-settings-daemon/gsd-sound\\nkhyaath+  1915  0.0  0.4 428348 21244 tty2     Sl+  Apr08   0:01 /usr/lib/gnome-settings-daemon/gsd-wacom\\nkhyaath+  1916  0.0  0.1 377928  7612 tty2     Sl+  Apr08   0:00 /usr/lib/gnome-settings-daemon/gsd-smartcard\\nkhyaath+  1936  0.0  0.3 343504 19948 tty2     Sl+  Apr08   0:01 /usr/lib/gnome-settings-daemon/gsd-clipboard\\nkhyaath+  1937  0.0  0.1 278152  5808 tty2     Sl+  Apr08   0:00 /usr/lib/gnome-settings-daemon/gsd-a11y-settings\\nkhyaath+  1938  0.0  0.2 469732 13272 tty2     Sl+  Apr08   0:00 /usr/lib/gnome-settings-daemon/gsd-datetime\\nkhyaath+  1939  0.0  0.4 807276 22328 tty2     Sl+  Apr08   0:12 /usr/lib/gnome-settings-daemon/gsd-color\\nkhyaath+  1940  0.0  0.4 497904 20500 tty2     Sl+  Apr08   0:01 /usr/lib/gnome-settings-daemon/gsd-keyboard\\nkhyaath+  1943  0.0  0.1 364572  7128 tty2     Sl+  Apr08   0:02 /usr/lib/gnome-settings-daemon/gsd-housekeeping\\nkhyaath+  1961  0.0  0.1 278156  5884 tty2     Sl+  Apr08   0:00 /usr/lib/gnome-settings-daemon/gsd-mouse\\nkhyaath+  1964  0.0  0.4 792780 21956 tty2     Sl+  Apr08   0:01 /usr/lib/gnome-settings-daemon/gsd-media-keys\\nkhyaath+  1981  0.0  0.2 508752 13004 tty2     Sl+  Apr08   0:00 /usr/lib/gnome-settings-daemon/gsd-printer\\nkhyaath+  2026  0.0  3.6 1128892 185064 tty2   SLl+ Apr08   0:21 /usr/bin/gnome-software --gapplication-service\\nkhyaath+  2027  0.0  1.1 832732 59812 tty2     Sl+  Apr08   0:05 nautilus-desktop\\nkhyaath+  2028  0.0  0.1 271932  6120 tty2     Sl+  Apr08   0:00 /usr/lib/gnome-disk-utility/gsd-disk-utility-notify\\nkhyaath+  2049  0.0  0.1 368372  7400 ?        Sl   Apr08   0:00 /usr/lib/gvfs/gvfsd-trash --spawner :1.13 /org/gtk/gvfs/exec_spaw/0\\nkhyaath+  2076  0.0  1.1 892156 59888 ?        Ssl  Apr08   0:00 /usr/lib/evolution/evolution-calendar-factory\\nkhyaath+  2090  0.0  1.0 931220 55100 ?        Sl   Apr08   0:00 /usr/lib/evolution/evolution-calendar-factory-subprocess --factory all --bus-name org.gnome.evolution.dataserver.Subprocess.Backend.Calendarx2076x2 --own-path /org/gnome/evolution/dataserver/Subprocess/Backend/Calendar/2076/2\\nkhyaath+  2097  0.0  0.1 204884  6220 tty2     Sl   Apr08   0:13 /usr/lib/ibus/ibus-engine-simple\\nkhyaath+  2112  0.0  0.3 732668 18156 ?        Ssl  Apr08   0:00 /usr/lib/evolution/evolution-addressbook-factory\\nkhyaath+  2121  0.0  0.3 886108 19820 ?        Sl   Apr08   0:00 /usr/lib/evolution/evolution-addressbook-factory-subprocess --factory all --bus-name org.gnome.evolution.dataserver.Subprocess.Backend.AddressBookx2112x2 --own-path /org/gnome/evolution/dataserver/Subprocess/Backend/AddressBook/2112/2\\nroot      2182  0.0  0.4 561336 21152 ?        Ssl  Apr08   0:02 /usr/lib/fwupd/fwupd\\nkhyaath+  2266  0.0  0.4 665208 24700 tty2     Sl+  Apr08   0:02 update-notifier\\nkhyaath+  2323  0.0  0.7 807588 39752 ?        Ssl  Apr08   0:16 /usr/lib/gnome-terminal/gnome-terminal-server\\nkhyaath+  2343  0.0  0.1 204564  6048 ?        Ssl  Apr08   0:00 /usr/lib/gvfs/gvfsd-metadata\\nkhyaath+  2397  0.0  0.4 861496 21864 tty2     Sl+  Apr08   0:00 /usr/lib/deja-dup/deja-dup-monitor\\nroot      3228  0.0  0.1 303372 10008 ?        Ssl  Apr08   0:00 /usr/lib/policykit-1/polkitd --no-debug\\nkhyaath+  3631  0.0  1.4 690224 72612 tty2     Sl+  Apr08   0:03 pgadmin3\\npostgres  3658  0.0  0.3 328588 18120 ?        Ss   Apr08   0:00 postgres: 10/main: postgres postgres 127.0.0.1(57976) idle\\npostgres  3687  0.0  0.4 332316 23192 ?        Ss   Apr08   0:00 postgres: 10/main: postgres bat ch56 127.0.0.1(57988) idle\\npostgres  3688  0.0  0.3 328044 18392 ?        Ss   Apr08   0:00 postgres: 10/main: postgres bat ch56 127.0.0.1(57990) idle\\nkhyaath+  4224  0.0  0.1 152560  6392 ?        Sl   Apr08   0:00 /usr/lib/libreoffice/program/oosplash --writer file:///home/khyaathipython/batch56/Assignments.odt\\nkhyaath+  4243  0.0  4.0 1253304 205004 ?      Sl   Apr08   0:12 /usr/lib/libreoffice/program/soffice.bin --writer file:///home/khyaathipython/batch56/Assignments.odt --splash-pipe=5\\nkhyaath+  4456  0.0  1.3 890780 70992 ?        Ssl  Apr08   0:04 /home/khyaathipython/anaconda3/bin/python -m ipykernel_launcher -f /run/user/1000/jupyter/kernel-9f541e27-3d3b-4170-920f-48a93cd1323e.json\\nkhyaath+  4564  0.0  0.1 370384  7228 ?        Sl   Apr08   0:00 /usr/lib/gvfs/gvfsd-network --spawner :1.13 /org/gtk/gvfs/exec_spaw/1\\nkhyaath+  4588  0.0  0.1 381288  7180 ?        Sl   Apr08   0:00 /usr/lib/gvfs/gvfsd-dnssd --spawner :1.13 /org/gtk/gvfs/exec_spaw/5\\nkhyaath+  4757  0.0  1.5 968996 78484 ?        Ssl  Apr08   0:21 /snap/sublime-text/51/opt/sublime_text/sublime_text\\nkhyaath+  4770  0.0  0.4 280496 22768 ?        Sl   Apr08   0:02 /snap/sublime-text/51/opt/sublime_text/plugin_host 4757 --auto-shell-env\\nkhyaath+  5992  0.0  3.0 969272 155504 tty2    SNl+ Apr08   0:12 /usr/bin/python3 /usr/bin/update-manager --no-update --no-focus-on-map\\nkhyaath+  6049  0.0  0.1  29952  5536 pts/1    Ss   Apr08   0:00 bash\\nkhyaath+  6657  0.0  0.1 433480  8784 ?        Ssl  Apr08   0:00 /usr/bin/zeitgeist-daemon\\nkhyaath+  6663  0.0  0.3 326720 15808 ?        Ssl  Apr08   0:00 /usr/lib/zeitgeist/zeitgeist/zeitgeist-fts\\nkhyaath+  7018  0.0  0.9 679232 46804 ?        Sl   Apr08   0:02 gedit /home/khyaathipython/python content.txt\\nkhyaath+  7533  0.3  9.6 1515408 487308 tty2   Sl+  Apr08   3:05 /usr/bin/mono /usr/lib/pinta/Pinta.exe\\nroot      8398  0.0  0.0      0     0 ?        S<   01:51   0:00 [loop15]\\nroot     10251  0.0  0.1 107680  8376 ?        Ss   05:43   0:00 /usr/sbin/cupsd -l\\nroot     10253  0.0  0.2 303652 11028 ?        Ssl  05:43   0:00 /usr/sbin/cups-browsed\\nroot     10516  0.0  0.0      0     0 ?        I    06:13   0:00 [kworker/u2:2]\\nkhyaath+ 10622  2.2  5.7 2125708 292272 ?      Ssl  06:13   1:31 /usr/lib/firefox/firefox -new-tab http://localhost:8888/tree?token=c130edb7c47c9a84fa717881950dfe9e50bd8ff6e4b0890b\\nkhyaath+ 10661  4.2  4.0 1702880 206784 ?      Sl   06:13   2:54 /usr/lib/firefox/firefox -contentproc -childID 1 -isForBrowser -prefsLen 1 -prefMapSize 174868 -parentBuildID 20190327091201 -greomni /usr/lib/firefox/omni.ja -appomni /usr/lib/firefox/browser/omni.ja -appdir /usr/lib/firefox/browser 10622 true tab\\nkhyaath+ 10694  0.1  2.2 1526836 114624 ?      Sl   06:13   0:04 /usr/lib/firefox/firefox -contentproc -childID 2 -isForBrowser -prefsLen 5462 -prefMapSize 174868 -parentBuildID 20190327091201 -greomni /usr/lib/firefox/omni.ja -appomni /usr/lib/firefox/browser/omni.ja -appdir /usr/lib/firefox/browser 10622 true tab\\nkhyaath+ 10732  0.3  4.1 1627564 208860 ?      Rl   06:13   0:15 /usr/lib/firefox/firefox -contentproc -childID 3 -isForBrowser -prefsLen 6278 -prefMapSize 174868 -parentBuildID 20190327091201 -greomni /usr/lib/firefox/omni.ja -appomni /usr/lib/firefox/browser/omni.ja -appdir /usr/lib/firefox/browser 10622 true tab\\nroot     11000  0.0  0.0      0     0 ?        I    07:11   0:00 [kworker/u2:0]\\nroot     11041  0.0  0.0      0     0 ?        I    07:14   0:00 [kworker/0:2]\\nroot     11051  0.0  0.1  25660  6124 ?        S    07:14   0:00 /sbin/dhclient -d -q -sf /usr/lib/NetworkManager/nm-dhcp-helper -pf /run/dhclient-enp0s3.pid -lf /var/lib/NetworkManager/dhclient-2b11a3ca-ca14-376e-b6c9-ee3156761222-enp0s3.lease -cf /var/lib/NetworkManager/dhclient-enp0s3.conf enp0s3\\nkhyaath+ 11074  0.5  1.2 363068 62712 pts/1    Sl+  07:15   0:02 /home/khyaathipython/anaconda3/bin/python /home/khyaathipython/anaconda3/bin/ipython notebook\\nkhyaath+ 11185  0.0  1.5 1501172 79008 ?       Sl   07:15   0:00 /usr/lib/firefox/firefox -contentproc -childID 4 -isForBrowser -prefsLen 7413 -prefMapSize 174868 -parentBuildID 20190327091201 -greomni /usr/lib/firefox/omni.ja -appomni /usr/lib/firefox/browser/omni.ja -appdir /usr/lib/firefox/browser 10622 true tab\\nkhyaath+ 11213  0.2  0.8 639552 44464 ?        Ssl  07:15   0:00 /home/khyaathipython/anaconda3/bin/python -m ipykernel_launcher -f /run/user/1000/jupyter/kernel-739cbfba-3f31-436f-8baf-ba4b2f75f597.json\\nroot     11260  0.0  0.0  14580   884 ?        Ss   07:20   0:00 /usr/sbin/anacron -dsq\\nkhyaath+ 11282  0.2  0.7 126708 36696 ?        S    07:20   0:00 /home/khyaathipython/pgmanagement/bin/python /home/khyaathipython/pgmanagement/bin/gunicorn --access-logfile - --workers 3 --bind 0.0.0.0:9000 pgmanagement.wsgi:application\\nkhyaath+ 11283  0.2  0.7 126732 36696 ?        S    07:20   0:00 /home/khyaathipython/pgmanagement/bin/python /home/khyaathipython/pgmanagement/bin/gunicorn --access-logfile - --workers 3 --bind 0.0.0.0:9000 pgmanagement.wsgi:application\\nkhyaath+ 11284  0.3  0.7 126708 36700 ?        S    07:20   0:00 /home/khyaathipython/pgmanagement/bin/python /home/khyaathipython/pgmanagement/bin/gunicorn --access-logfile - --workers 3 --bind 0.0.0.0:9000 pgmanagement.wsgi:application\\nroot     11783  0.0  0.0      0     0 ?        I    07:21   0:00 [kworker/u2:1]\\nroot     11784  0.0  0.0   4628   772 ?        Ss   07:21   0:00 /bin/sh /usr/lib/apt/apt.systemd.daily install\\nroot     11785  0.0  0.0      0     0 ?        I    07:21   0:00 [kworker/u2:3]\\nroot     11789  0.0  0.0   4628  1812 ?        S    07:21   0:00 /bin/sh /usr/lib/apt/apt.systemd.daily lock_is_held install\\nroot     11820 61.4  2.3 372388 119784 ?       Sl   07:21   0:21 /usr/bin/python3 /usr/bin/unattended-upgrade\\nroot     11837 19.2  2.1 373696 107696 ?       S    07:22   0:00 /usr/bin/python3 /usr/bin/unattended-upgrade\\nroot     11867  0.0  1.0 373696 52684 ?        S    07:22   0:00 /usr/bin/python3 /usr/bin/unattended-upgrade\\nroot     11875  0.0  0.0   4628   780 ?        S    07:22   0:00 sh -c if [ -d /var/lib/update-notifier ]; then touch /var/lib/update-notifier/dpkg-run-stamp; fi; /usr/lib/update-notifier/update-motd-updates-available 2>/dev/null || true\\nroot     11877  0.0  0.0   4628  1724 ?        S    07:22   0:00 /bin/sh -e /usr/lib/update-notifier/update-motd-updates-available\\nroot     11891  0.0  0.4  93820 21420 ?        S    07:22   0:00 /usr/bin/python3 /usr/lib/update-notifier/apt-check --human-readable\\nroot     11892  0.0  0.2  49072 11620 ?        R    07:22   0:00 /usr/bin/python3 -Es /usr/bin/lsb_release -c -s\\nkhyaath+ 11893  0.0  0.0  46772  3596 ?        R    07:22   0:00 ps -aux\\nroot     17065  0.0  0.0      0     0 ?        I<   Apr08   0:00 [xfsalloc]\\nroot     17073  0.0  0.0      0     0 ?        I<   Apr08   0:00 [xfs_mru_cache]\\nroot     17077  0.0  0.0      0     0 ?        S    Apr08   0:00 [jfsIO]\\nroot     17080  0.0  0.0      0     0 ?        S    Apr08   0:00 [jfsCommit]\\nroot     17081  0.0  0.0      0     0 ?        S    Apr08   0:00 [jfsSync]\\nkhyaath+ 17733  0.0  0.8 639824 44644 ?        Ssl  Apr08   0:02 /home/khyaathipython/anaconda3/bin/python -m ipykernel_launcher -f /run/user/1000/jupyter/kernel-a9dbd0ba-dcb6-4eb3-9bbe-e8db075e6cfc.json\\nkhyaath+ 17760  0.0  0.1  29952  5476 pts/3    Ss+  Apr08   0:00 bash\\nkhyaath+ 18562  0.0  1.0 992812 52524 ?        Sl   Apr08   0:06 /usr/bin/nautilus --gapplication-service\\nkhyaath+ 18579  0.0  1.7 938592 88740 ?        Sl   Apr08   0:15 sqlitebrowser /home/khyaathipython/batch56/db1.sqlite3\\nroot     26649  0.0  0.0      0     0 ?        I    Apr08   0:13 [kworker/0:0]\\n'\n"
     ]
    }
   ],
   "source": [
    "print(resp)"
   ]
  },
  {
   "cell_type": "code",
   "execution_count": 16,
   "metadata": {},
   "outputs": [
    {
     "name": "stdout",
     "output_type": "stream",
     "text": [
      "b'4757'\n",
      "b'4770'\n"
     ]
    }
   ],
   "source": [
    "for row in resp.splitlines():\n",
    "    if b\"sublime\" in row:\n",
    "        print(row.split()[1])"
   ]
  },
  {
   "cell_type": "code",
   "execution_count": 17,
   "metadata": {},
   "outputs": [
    {
     "name": "stdout",
     "output_type": "stream",
     "text": [
      "b'4770'\n"
     ]
    }
   ],
   "source": [
    "pid=None\n",
    "for row in resp.splitlines():\n",
    "    if b\"sublime\" in row:\n",
    "        pid=row.split()[1]\n",
    "print(pid)"
   ]
  },
  {
   "cell_type": "code",
   "execution_count": 25,
   "metadata": {},
   "outputs": [
    {
     "name": "stdout",
     "output_type": "stream",
     "text": [
      "4757\n"
     ]
    },
    {
     "data": {
      "text/plain": [
       "0"
      ]
     },
     "execution_count": 25,
     "metadata": {},
     "output_type": "execute_result"
    }
   ],
   "source": [
    "pid=None\n",
    "resp = check_output([\"ps\",\"-aux\"])\n",
    "for row in resp.splitlines():\n",
    "    if b\"sublime\" in row:\n",
    "        pid=row.split()[1]\n",
    "        break\n",
    "pid=pid.decode(\"utf-8\")\n",
    "print(pid)\n",
    "os.system(\"kill -9 %s\"%pid)"
   ]
  },
  {
   "cell_type": "code",
   "execution_count": 26,
   "metadata": {},
   "outputs": [],
   "source": [
    "username=\"\"\n",
    "password=\"\"\n",
    "from github import Github\n",
    "git = Github(username,password)"
   ]
  },
  {
   "cell_type": "code",
   "execution_count": 28,
   "metadata": {},
   "outputs": [
    {
     "name": "stdout",
     "output_type": "stream",
     "text": [
      "['FIX_REPO_GET_GIT_REF', '_Github__get_FIX_REPO_GET_GIT_REF', '_Github__get_per_page', '_Github__requester', '_Github__set_FIX_REPO_GET_GIT_REF', '_Github__set_per_page', '__class__', '__delattr__', '__dict__', '__dir__', '__doc__', '__eq__', '__format__', '__ge__', '__getattribute__', '__gt__', '__hash__', '__init__', '__init_subclass__', '__le__', '__lt__', '__module__', '__ne__', '__new__', '__reduce__', '__reduce_ex__', '__repr__', '__setattr__', '__sizeof__', '__str__', '__subclasshook__', '__weakref__', 'create_from_raw_data', 'dump', 'get_api_status', 'get_api_status_messages', 'get_emojis', 'get_gist', 'get_gists', 'get_gitignore_template', 'get_gitignore_templates', 'get_hook', 'get_hooks', 'get_installation', 'get_last_api_status_message', 'get_license', 'get_licenses', 'get_organization', 'get_organizations', 'get_project', 'get_rate_limit', 'get_repo', 'get_repos', 'get_user', 'get_users', 'load', 'oauth_scopes', 'per_page', 'rate_limiting', 'rate_limiting_resettime', 'render_markdown', 'search_code', 'search_commits', 'search_issues', 'search_repositories', 'search_topics', 'search_users']\n"
     ]
    }
   ],
   "source": [
    "print(dir(git))"
   ]
  },
  {
   "cell_type": "code",
   "execution_count": 29,
   "metadata": {},
   "outputs": [],
   "source": [
    "user=git.get_user()"
   ]
  },
  {
   "cell_type": "code",
   "execution_count": 30,
   "metadata": {},
   "outputs": [
    {
     "data": {
      "text/plain": [
       "AuthenticatedUser(login=None)"
      ]
     },
     "execution_count": 30,
     "metadata": {},
     "output_type": "execute_result"
    }
   ],
   "source": [
    "user"
   ]
  },
  {
   "cell_type": "code",
   "execution_count": 31,
   "metadata": {},
   "outputs": [
    {
     "name": "stdout",
     "output_type": "stream",
     "text": [
      "['CHECK_AFTER_INIT_FLAG', '_CompletableGithubObject__complete', '_CompletableGithubObject__completed', '_GithubObject__makeSimpleAttribute', '_GithubObject__makeSimpleListAttribute', '_GithubObject__makeTransformedAttribute', '__class__', '__delattr__', '__dict__', '__dir__', '__doc__', '__eq__', '__format__', '__ge__', '__getattribute__', '__gt__', '__hash__', '__init__', '__init_subclass__', '__le__', '__lt__', '__module__', '__ne__', '__new__', '__reduce__', '__reduce_ex__', '__repr__', '__setattr__', '__sizeof__', '__str__', '__subclasshook__', '__weakref__', '_avatar_url', '_bio', '_blog', '_collaborators', '_company', '_completeIfNeeded', '_completeIfNotSet', '_created_at', '_disk_usage', '_email', '_events_url', '_followers', '_followers_url', '_following', '_following_url', '_gists_url', '_gravatar_id', '_headers', '_hireable', '_html_url', '_id', '_initAttributes', '_location', '_login', '_makeBoolAttribute', '_makeClassAttribute', '_makeDatetimeAttribute', '_makeDictAttribute', '_makeDictOfStringsToClassesAttribute', '_makeIntAttribute', '_makeListOfClassesAttribute', '_makeListOfDictsAttribute', '_makeListOfIntsAttribute', '_makeListOfListOfStringsAttribute', '_makeListOfStringsAttribute', '_makeStringAttribute', '_makeTimestampAttribute', '_name', '_organizations_url', '_owned_private_repos', '_parentUrl', '_plan', '_private_gists', '_public_gists', '_public_repos', '_rawData', '_received_events_url', '_repos_url', '_requester', '_site_admin', '_starred_url', '_storeAndUseAttributes', '_subscriptions_url', '_total_private_repos', '_type', '_updated_at', '_url', '_useAttributes', 'accept_invitation', 'add_to_emails', 'add_to_following', 'add_to_starred', 'add_to_subscriptions', 'add_to_watched', 'avatar_url', 'bio', 'blog', 'collaborators', 'company', 'create_authorization', 'create_fork', 'create_gist', 'create_key', 'create_migration', 'create_repo', 'created_at', 'disk_usage', 'edit', 'email', 'etag', 'events_url', 'followers', 'followers_url', 'following', 'following_url', 'get__repr__', 'get_authorization', 'get_authorizations', 'get_emails', 'get_events', 'get_followers', 'get_following', 'get_gists', 'get_issues', 'get_key', 'get_keys', 'get_migrations', 'get_notification', 'get_notifications', 'get_organization_events', 'get_orgs', 'get_repo', 'get_repos', 'get_starred', 'get_starred_gists', 'get_subscriptions', 'get_teams', 'get_user_issues', 'get_watched', 'gists_url', 'gravatar_id', 'has_in_following', 'has_in_starred', 'has_in_subscriptions', 'has_in_watched', 'hireable', 'html_url', 'id', 'last_modified', 'location', 'login', 'mark_notifications_as_read', 'name', 'organizations_url', 'owned_private_repos', 'plan', 'private_gists', 'public_gists', 'public_repos', 'raw_data', 'raw_headers', 'received_events_url', 'remove_from_emails', 'remove_from_following', 'remove_from_starred', 'remove_from_subscriptions', 'remove_from_watched', 'repos_url', 'setCheckAfterInitFlag', 'site_admin', 'starred_url', 'subscriptions_url', 'total_private_repos', 'type', 'update', 'updated_at', 'url']\n"
     ]
    }
   ],
   "source": [
    "print(dir(user))"
   ]
  },
  {
   "cell_type": "code",
   "execution_count": 32,
   "metadata": {},
   "outputs": [
    {
     "name": "stdout",
     "output_type": "stream",
     "text": [
      "Repository(full_name=\"pandum2003/Demo1\")\n",
      "Repository(full_name=\"pandum2003/Demo2\")\n",
      "Repository(full_name=\"pandum2003/Progressive-Web-Chat\")\n",
      "Repository(full_name=\"pandum2003/Python-docs\")\n",
      "Repository(full_name=\"pandum2003/Python-march2019\")\n",
      "Repository(full_name=\"pandum2003/TechProject\")\n"
     ]
    }
   ],
   "source": [
    "for repo in user.get_repos():\n",
    "    print(repo)"
   ]
  },
  {
   "cell_type": "code",
   "execution_count": 33,
   "metadata": {},
   "outputs": [
    {
     "data": {
      "text/plain": [
       "Repository(full_name=\"pandum2003/new-repo\")"
      ]
     },
     "execution_count": 33,
     "metadata": {},
     "output_type": "execute_result"
    }
   ],
   "source": [
    "user.create_repo(\"new repo\")"
   ]
  },
  {
   "cell_type": "code",
   "execution_count": 34,
   "metadata": {},
   "outputs": [],
   "source": [
    "repo=user.get_repo(\"new-repo\")"
   ]
  },
  {
   "cell_type": "code",
   "execution_count": 35,
   "metadata": {},
   "outputs": [
    {
     "data": {
      "text/plain": [
       "Repository(full_name=\"pandum2003/new-repo\")"
      ]
     },
     "execution_count": 35,
     "metadata": {},
     "output_type": "execute_result"
    }
   ],
   "source": [
    "repo"
   ]
  },
  {
   "cell_type": "code",
   "execution_count": 36,
   "metadata": {},
   "outputs": [
    {
     "name": "stdout",
     "output_type": "stream",
     "text": [
      "['CHECK_AFTER_INIT_FLAG', '_CompletableGithubObject__complete', '_CompletableGithubObject__completed', '_GithubObject__makeSimpleAttribute', '_GithubObject__makeSimpleListAttribute', '_GithubObject__makeTransformedAttribute', '_Repository__create_pull', '_Repository__create_pull_1', '_Repository__create_pull_2', '__class__', '__delattr__', '__dict__', '__dir__', '__doc__', '__eq__', '__format__', '__ge__', '__getattribute__', '__gt__', '__hash__', '__init__', '__init_subclass__', '__le__', '__lt__', '__module__', '__ne__', '__new__', '__reduce__', '__reduce_ex__', '__repr__', '__setattr__', '__sizeof__', '__str__', '__subclasshook__', '__weakref__', '_allow_merge_commit', '_allow_rebase_merge', '_allow_squash_merge', '_archive_url', '_archived', '_assignees_url', '_blobs_url', '_branches_url', '_clone_url', '_collaborators_url', '_comments_url', '_commits_url', '_compare_url', '_completeIfNeeded', '_completeIfNotSet', '_contents_url', '_contributors_url', '_created_at', '_default_branch', '_description', '_downloads_url', '_events_url', '_fork', '_forks', '_forks_count', '_forks_url', '_full_name', '_git_commits_url', '_git_refs_url', '_git_tags_url', '_git_url', '_has_downloads', '_has_issues', '_has_projects', '_has_wiki', '_headers', '_homepage', '_hooks_url', '_html_url', '_hub', '_id', '_identity', '_initAttributes', '_issue_comment_url', '_issue_events_url', '_issues_url', '_keys_url', '_labels_url', '_language', '_languages_url', '_makeBoolAttribute', '_makeClassAttribute', '_makeDatetimeAttribute', '_makeDictAttribute', '_makeDictOfStringsToClassesAttribute', '_makeIntAttribute', '_makeListOfClassesAttribute', '_makeListOfDictsAttribute', '_makeListOfIntsAttribute', '_makeListOfListOfStringsAttribute', '_makeListOfStringsAttribute', '_makeStringAttribute', '_makeTimestampAttribute', '_master_branch', '_merges_url', '_milestones_url', '_mirror_url', '_name', '_network_count', '_notifications_url', '_open_issues', '_open_issues_count', '_organization', '_owner', '_parent', '_parentUrl', '_permissions', '_private', '_pulls_url', '_pushed_at', '_rawData', '_requester', '_size', '_source', '_ssh_url', '_stargazers_count', '_stargazers_url', '_statuses_url', '_storeAndUseAttributes', '_subscribers_count', '_subscribers_url', '_subscription_url', '_svn_url', '_tags_url', '_teams_url', '_topics', '_trees_url', '_updated_at', '_url', '_useAttributes', '_watchers', '_watchers_count', 'add_to_collaborators', 'allow_merge_commit', 'allow_rebase_merge', 'allow_squash_merge', 'archive_url', 'archived', 'assignees_url', 'blobs_url', 'branches_url', 'clone_url', 'collaborators_url', 'comments_url', 'commits_url', 'compare', 'compare_url', 'contents_url', 'contributors_url', 'create_file', 'create_git_blob', 'create_git_commit', 'create_git_ref', 'create_git_release', 'create_git_tag', 'create_git_tag_and_release', 'create_git_tree', 'create_hook', 'create_issue', 'create_key', 'create_label', 'create_milestone', 'create_project', 'create_pull', 'create_source_import', 'created_at', 'default_branch', 'delete', 'delete_file', 'description', 'downloads_url', 'edit', 'etag', 'events_url', 'fork', 'forks', 'forks_count', 'forks_url', 'full_name', 'get__repr__', 'get_archive_link', 'get_assignees', 'get_branch', 'get_branches', 'get_clones_traffic', 'get_collaborator_permission', 'get_collaborators', 'get_comment', 'get_comments', 'get_commit', 'get_commits', 'get_contents', 'get_contributors', 'get_dir_contents', 'get_download', 'get_downloads', 'get_events', 'get_file_contents', 'get_forks', 'get_git_blob', 'get_git_commit', 'get_git_ref', 'get_git_refs', 'get_git_tag', 'get_git_tree', 'get_hook', 'get_hooks', 'get_issue', 'get_issues', 'get_issues_comments', 'get_issues_event', 'get_issues_events', 'get_key', 'get_keys', 'get_label', 'get_labels', 'get_languages', 'get_latest_release', 'get_license', 'get_milestone', 'get_milestones', 'get_network_events', 'get_projects', 'get_pull', 'get_pulls', 'get_pulls_comments', 'get_pulls_review_comments', 'get_readme', 'get_release', 'get_release_asset', 'get_releases', 'get_source_import', 'get_stargazers', 'get_stargazers_with_dates', 'get_stats_code_frequency', 'get_stats_commit_activity', 'get_stats_contributors', 'get_stats_participation', 'get_stats_punch_card', 'get_subscribers', 'get_tags', 'get_teams', 'get_top_paths', 'get_top_referrers', 'get_topics', 'get_views_traffic', 'get_watchers', 'git_commits_url', 'git_refs_url', 'git_tags_url', 'git_url', 'has_downloads', 'has_in_assignees', 'has_in_collaborators', 'has_issues', 'has_projects', 'has_wiki', 'homepage', 'hooks_url', 'html_url', 'id', 'issue_comment_url', 'issue_events_url', 'issues_url', 'keys_url', 'labels_url', 'language', 'languages_url', 'last_modified', 'legacy_search_issues', 'mark_notifications_as_read', 'master_branch', 'merge', 'merges_url', 'milestones_url', 'mirror_url', 'name', 'network_count', 'notifications_url', 'open_issues', 'open_issues_count', 'organization', 'owner', 'parent', 'permissions', 'private', 'pulls_url', 'pushed_at', 'raw_data', 'raw_headers', 'remove_from_collaborators', 'replace_topics', 'setCheckAfterInitFlag', 'size', 'source', 'ssh_url', 'stargazers_count', 'stargazers_url', 'statuses_url', 'subscribe_to_hub', 'subscribers_count', 'subscribers_url', 'subscription_url', 'svn_url', 'tags_url', 'teams_url', 'topics', 'trees_url', 'unsubscribe_from_hub', 'update', 'update_file', 'updated_at', 'url', 'watchers', 'watchers_count']\n"
     ]
    }
   ],
   "source": [
    "print(dir(repo))"
   ]
  },
  {
   "cell_type": "code",
   "execution_count": 38,
   "metadata": {},
   "outputs": [
    {
     "data": {
      "text/plain": [
       "{'content': ContentFile(path=\"readme.md\"),\n",
       " 'commit': Commit(sha=\"e8788a6f7052349a8caa3ddddb76a91ce45e36a4\")}"
      ]
     },
     "execution_count": 38,
     "metadata": {},
     "output_type": "execute_result"
    }
   ],
   "source": [
    "repo.create_file(\"readme.md\",\"added read me file\",\"this repo created by python pygithub module. created for demostrate github automation\")"
   ]
  },
  {
   "cell_type": "code",
   "execution_count": 43,
   "metadata": {},
   "outputs": [],
   "source": [
    "import requests\n",
    "url=\"https://api.github.com/users/pandum2003/repos\"\n",
    "resp = requests.get(url, auth=(username,password))"
   ]
  },
  {
   "cell_type": "code",
   "execution_count": 44,
   "metadata": {},
   "outputs": [
    {
     "data": {
      "text/plain": [
       "<Response [200]>"
      ]
     },
     "execution_count": 44,
     "metadata": {},
     "output_type": "execute_result"
    }
   ],
   "source": [
    "resp"
   ]
  },
  {
   "cell_type": "code",
   "execution_count": 45,
   "metadata": {},
   "outputs": [
    {
     "data": {
      "text/plain": [
       "[{'id': 175750495,\n",
       "  'node_id': 'MDEwOlJlcG9zaXRvcnkxNzU3NTA0OTU=',\n",
       "  'name': 'Demo1',\n",
       "  'full_name': 'pandum2003/Demo1',\n",
       "  'private': False,\n",
       "  'owner': {'login': 'pandum2003',\n",
       "   'id': 6161478,\n",
       "   'node_id': 'MDQ6VXNlcjYxNjE0Nzg=',\n",
       "   'avatar_url': 'https://avatars0.githubusercontent.com/u/6161478?v=4',\n",
       "   'gravatar_id': '',\n",
       "   'url': 'https://api.github.com/users/pandum2003',\n",
       "   'html_url': 'https://github.com/pandum2003',\n",
       "   'followers_url': 'https://api.github.com/users/pandum2003/followers',\n",
       "   'following_url': 'https://api.github.com/users/pandum2003/following{/other_user}',\n",
       "   'gists_url': 'https://api.github.com/users/pandum2003/gists{/gist_id}',\n",
       "   'starred_url': 'https://api.github.com/users/pandum2003/starred{/owner}{/repo}',\n",
       "   'subscriptions_url': 'https://api.github.com/users/pandum2003/subscriptions',\n",
       "   'organizations_url': 'https://api.github.com/users/pandum2003/orgs',\n",
       "   'repos_url': 'https://api.github.com/users/pandum2003/repos',\n",
       "   'events_url': 'https://api.github.com/users/pandum2003/events{/privacy}',\n",
       "   'received_events_url': 'https://api.github.com/users/pandum2003/received_events',\n",
       "   'type': 'User',\n",
       "   'site_admin': False},\n",
       "  'html_url': 'https://github.com/pandum2003/Demo1',\n",
       "  'description': 'Demo1-Jenkins',\n",
       "  'fork': False,\n",
       "  'url': 'https://api.github.com/repos/pandum2003/Demo1',\n",
       "  'forks_url': 'https://api.github.com/repos/pandum2003/Demo1/forks',\n",
       "  'keys_url': 'https://api.github.com/repos/pandum2003/Demo1/keys{/key_id}',\n",
       "  'collaborators_url': 'https://api.github.com/repos/pandum2003/Demo1/collaborators{/collaborator}',\n",
       "  'teams_url': 'https://api.github.com/repos/pandum2003/Demo1/teams',\n",
       "  'hooks_url': 'https://api.github.com/repos/pandum2003/Demo1/hooks',\n",
       "  'issue_events_url': 'https://api.github.com/repos/pandum2003/Demo1/issues/events{/number}',\n",
       "  'events_url': 'https://api.github.com/repos/pandum2003/Demo1/events',\n",
       "  'assignees_url': 'https://api.github.com/repos/pandum2003/Demo1/assignees{/user}',\n",
       "  'branches_url': 'https://api.github.com/repos/pandum2003/Demo1/branches{/branch}',\n",
       "  'tags_url': 'https://api.github.com/repos/pandum2003/Demo1/tags',\n",
       "  'blobs_url': 'https://api.github.com/repos/pandum2003/Demo1/git/blobs{/sha}',\n",
       "  'git_tags_url': 'https://api.github.com/repos/pandum2003/Demo1/git/tags{/sha}',\n",
       "  'git_refs_url': 'https://api.github.com/repos/pandum2003/Demo1/git/refs{/sha}',\n",
       "  'trees_url': 'https://api.github.com/repos/pandum2003/Demo1/git/trees{/sha}',\n",
       "  'statuses_url': 'https://api.github.com/repos/pandum2003/Demo1/statuses/{sha}',\n",
       "  'languages_url': 'https://api.github.com/repos/pandum2003/Demo1/languages',\n",
       "  'stargazers_url': 'https://api.github.com/repos/pandum2003/Demo1/stargazers',\n",
       "  'contributors_url': 'https://api.github.com/repos/pandum2003/Demo1/contributors',\n",
       "  'subscribers_url': 'https://api.github.com/repos/pandum2003/Demo1/subscribers',\n",
       "  'subscription_url': 'https://api.github.com/repos/pandum2003/Demo1/subscription',\n",
       "  'commits_url': 'https://api.github.com/repos/pandum2003/Demo1/commits{/sha}',\n",
       "  'git_commits_url': 'https://api.github.com/repos/pandum2003/Demo1/git/commits{/sha}',\n",
       "  'comments_url': 'https://api.github.com/repos/pandum2003/Demo1/comments{/number}',\n",
       "  'issue_comment_url': 'https://api.github.com/repos/pandum2003/Demo1/issues/comments{/number}',\n",
       "  'contents_url': 'https://api.github.com/repos/pandum2003/Demo1/contents/{+path}',\n",
       "  'compare_url': 'https://api.github.com/repos/pandum2003/Demo1/compare/{base}...{head}',\n",
       "  'merges_url': 'https://api.github.com/repos/pandum2003/Demo1/merges',\n",
       "  'archive_url': 'https://api.github.com/repos/pandum2003/Demo1/{archive_format}{/ref}',\n",
       "  'downloads_url': 'https://api.github.com/repos/pandum2003/Demo1/downloads',\n",
       "  'issues_url': 'https://api.github.com/repos/pandum2003/Demo1/issues{/number}',\n",
       "  'pulls_url': 'https://api.github.com/repos/pandum2003/Demo1/pulls{/number}',\n",
       "  'milestones_url': 'https://api.github.com/repos/pandum2003/Demo1/milestones{/number}',\n",
       "  'notifications_url': 'https://api.github.com/repos/pandum2003/Demo1/notifications{?since,all,participating}',\n",
       "  'labels_url': 'https://api.github.com/repos/pandum2003/Demo1/labels{/name}',\n",
       "  'releases_url': 'https://api.github.com/repos/pandum2003/Demo1/releases{/id}',\n",
       "  'deployments_url': 'https://api.github.com/repos/pandum2003/Demo1/deployments',\n",
       "  'created_at': '2019-03-15T04:51:29Z',\n",
       "  'updated_at': '2019-03-15T05:09:07Z',\n",
       "  'pushed_at': '2019-03-15T05:09:06Z',\n",
       "  'git_url': 'git://github.com/pandum2003/Demo1.git',\n",
       "  'ssh_url': 'git@github.com:pandum2003/Demo1.git',\n",
       "  'clone_url': 'https://github.com/pandum2003/Demo1.git',\n",
       "  'svn_url': 'https://github.com/pandum2003/Demo1',\n",
       "  'homepage': None,\n",
       "  'size': 1,\n",
       "  'stargazers_count': 0,\n",
       "  'watchers_count': 0,\n",
       "  'language': None,\n",
       "  'has_issues': True,\n",
       "  'has_projects': True,\n",
       "  'has_downloads': True,\n",
       "  'has_wiki': True,\n",
       "  'has_pages': False,\n",
       "  'forks_count': 0,\n",
       "  'mirror_url': None,\n",
       "  'archived': False,\n",
       "  'disabled': False,\n",
       "  'open_issues_count': 0,\n",
       "  'license': None,\n",
       "  'forks': 0,\n",
       "  'open_issues': 0,\n",
       "  'watchers': 0,\n",
       "  'default_branch': 'master',\n",
       "  'permissions': {'admin': True, 'push': True, 'pull': True}},\n",
       " {'id': 176422716,\n",
       "  'node_id': 'MDEwOlJlcG9zaXRvcnkxNzY0MjI3MTY=',\n",
       "  'name': 'Demo2',\n",
       "  'full_name': 'pandum2003/Demo2',\n",
       "  'private': False,\n",
       "  'owner': {'login': 'pandum2003',\n",
       "   'id': 6161478,\n",
       "   'node_id': 'MDQ6VXNlcjYxNjE0Nzg=',\n",
       "   'avatar_url': 'https://avatars0.githubusercontent.com/u/6161478?v=4',\n",
       "   'gravatar_id': '',\n",
       "   'url': 'https://api.github.com/users/pandum2003',\n",
       "   'html_url': 'https://github.com/pandum2003',\n",
       "   'followers_url': 'https://api.github.com/users/pandum2003/followers',\n",
       "   'following_url': 'https://api.github.com/users/pandum2003/following{/other_user}',\n",
       "   'gists_url': 'https://api.github.com/users/pandum2003/gists{/gist_id}',\n",
       "   'starred_url': 'https://api.github.com/users/pandum2003/starred{/owner}{/repo}',\n",
       "   'subscriptions_url': 'https://api.github.com/users/pandum2003/subscriptions',\n",
       "   'organizations_url': 'https://api.github.com/users/pandum2003/orgs',\n",
       "   'repos_url': 'https://api.github.com/users/pandum2003/repos',\n",
       "   'events_url': 'https://api.github.com/users/pandum2003/events{/privacy}',\n",
       "   'received_events_url': 'https://api.github.com/users/pandum2003/received_events',\n",
       "   'type': 'User',\n",
       "   'site_admin': False},\n",
       "  'html_url': 'https://github.com/pandum2003/Demo2',\n",
       "  'description': 'Demo1',\n",
       "  'fork': False,\n",
       "  'url': 'https://api.github.com/repos/pandum2003/Demo2',\n",
       "  'forks_url': 'https://api.github.com/repos/pandum2003/Demo2/forks',\n",
       "  'keys_url': 'https://api.github.com/repos/pandum2003/Demo2/keys{/key_id}',\n",
       "  'collaborators_url': 'https://api.github.com/repos/pandum2003/Demo2/collaborators{/collaborator}',\n",
       "  'teams_url': 'https://api.github.com/repos/pandum2003/Demo2/teams',\n",
       "  'hooks_url': 'https://api.github.com/repos/pandum2003/Demo2/hooks',\n",
       "  'issue_events_url': 'https://api.github.com/repos/pandum2003/Demo2/issues/events{/number}',\n",
       "  'events_url': 'https://api.github.com/repos/pandum2003/Demo2/events',\n",
       "  'assignees_url': 'https://api.github.com/repos/pandum2003/Demo2/assignees{/user}',\n",
       "  'branches_url': 'https://api.github.com/repos/pandum2003/Demo2/branches{/branch}',\n",
       "  'tags_url': 'https://api.github.com/repos/pandum2003/Demo2/tags',\n",
       "  'blobs_url': 'https://api.github.com/repos/pandum2003/Demo2/git/blobs{/sha}',\n",
       "  'git_tags_url': 'https://api.github.com/repos/pandum2003/Demo2/git/tags{/sha}',\n",
       "  'git_refs_url': 'https://api.github.com/repos/pandum2003/Demo2/git/refs{/sha}',\n",
       "  'trees_url': 'https://api.github.com/repos/pandum2003/Demo2/git/trees{/sha}',\n",
       "  'statuses_url': 'https://api.github.com/repos/pandum2003/Demo2/statuses/{sha}',\n",
       "  'languages_url': 'https://api.github.com/repos/pandum2003/Demo2/languages',\n",
       "  'stargazers_url': 'https://api.github.com/repos/pandum2003/Demo2/stargazers',\n",
       "  'contributors_url': 'https://api.github.com/repos/pandum2003/Demo2/contributors',\n",
       "  'subscribers_url': 'https://api.github.com/repos/pandum2003/Demo2/subscribers',\n",
       "  'subscription_url': 'https://api.github.com/repos/pandum2003/Demo2/subscription',\n",
       "  'commits_url': 'https://api.github.com/repos/pandum2003/Demo2/commits{/sha}',\n",
       "  'git_commits_url': 'https://api.github.com/repos/pandum2003/Demo2/git/commits{/sha}',\n",
       "  'comments_url': 'https://api.github.com/repos/pandum2003/Demo2/comments{/number}',\n",
       "  'issue_comment_url': 'https://api.github.com/repos/pandum2003/Demo2/issues/comments{/number}',\n",
       "  'contents_url': 'https://api.github.com/repos/pandum2003/Demo2/contents/{+path}',\n",
       "  'compare_url': 'https://api.github.com/repos/pandum2003/Demo2/compare/{base}...{head}',\n",
       "  'merges_url': 'https://api.github.com/repos/pandum2003/Demo2/merges',\n",
       "  'archive_url': 'https://api.github.com/repos/pandum2003/Demo2/{archive_format}{/ref}',\n",
       "  'downloads_url': 'https://api.github.com/repos/pandum2003/Demo2/downloads',\n",
       "  'issues_url': 'https://api.github.com/repos/pandum2003/Demo2/issues{/number}',\n",
       "  'pulls_url': 'https://api.github.com/repos/pandum2003/Demo2/pulls{/number}',\n",
       "  'milestones_url': 'https://api.github.com/repos/pandum2003/Demo2/milestones{/number}',\n",
       "  'notifications_url': 'https://api.github.com/repos/pandum2003/Demo2/notifications{?since,all,participating}',\n",
       "  'labels_url': 'https://api.github.com/repos/pandum2003/Demo2/labels{/name}',\n",
       "  'releases_url': 'https://api.github.com/repos/pandum2003/Demo2/releases{/id}',\n",
       "  'deployments_url': 'https://api.github.com/repos/pandum2003/Demo2/deployments',\n",
       "  'created_at': '2019-03-19T04:20:26Z',\n",
       "  'updated_at': '2019-03-19T04:34:49Z',\n",
       "  'pushed_at': '2019-03-19T04:34:48Z',\n",
       "  'git_url': 'git://github.com/pandum2003/Demo2.git',\n",
       "  'ssh_url': 'git@github.com:pandum2003/Demo2.git',\n",
       "  'clone_url': 'https://github.com/pandum2003/Demo2.git',\n",
       "  'svn_url': 'https://github.com/pandum2003/Demo2',\n",
       "  'homepage': None,\n",
       "  'size': 1,\n",
       "  'stargazers_count': 0,\n",
       "  'watchers_count': 0,\n",
       "  'language': None,\n",
       "  'has_issues': True,\n",
       "  'has_projects': True,\n",
       "  'has_downloads': True,\n",
       "  'has_wiki': True,\n",
       "  'has_pages': False,\n",
       "  'forks_count': 0,\n",
       "  'mirror_url': None,\n",
       "  'archived': False,\n",
       "  'disabled': False,\n",
       "  'open_issues_count': 0,\n",
       "  'license': None,\n",
       "  'forks': 0,\n",
       "  'open_issues': 0,\n",
       "  'watchers': 0,\n",
       "  'default_branch': 'master',\n",
       "  'permissions': {'admin': True, 'push': True, 'pull': True}},\n",
       " {'id': 180266704,\n",
       "  'node_id': 'MDEwOlJlcG9zaXRvcnkxODAyNjY3MDQ=',\n",
       "  'name': 'new-repo',\n",
       "  'full_name': 'pandum2003/new-repo',\n",
       "  'private': False,\n",
       "  'owner': {'login': 'pandum2003',\n",
       "   'id': 6161478,\n",
       "   'node_id': 'MDQ6VXNlcjYxNjE0Nzg=',\n",
       "   'avatar_url': 'https://avatars0.githubusercontent.com/u/6161478?v=4',\n",
       "   'gravatar_id': '',\n",
       "   'url': 'https://api.github.com/users/pandum2003',\n",
       "   'html_url': 'https://github.com/pandum2003',\n",
       "   'followers_url': 'https://api.github.com/users/pandum2003/followers',\n",
       "   'following_url': 'https://api.github.com/users/pandum2003/following{/other_user}',\n",
       "   'gists_url': 'https://api.github.com/users/pandum2003/gists{/gist_id}',\n",
       "   'starred_url': 'https://api.github.com/users/pandum2003/starred{/owner}{/repo}',\n",
       "   'subscriptions_url': 'https://api.github.com/users/pandum2003/subscriptions',\n",
       "   'organizations_url': 'https://api.github.com/users/pandum2003/orgs',\n",
       "   'repos_url': 'https://api.github.com/users/pandum2003/repos',\n",
       "   'events_url': 'https://api.github.com/users/pandum2003/events{/privacy}',\n",
       "   'received_events_url': 'https://api.github.com/users/pandum2003/received_events',\n",
       "   'type': 'User',\n",
       "   'site_admin': False},\n",
       "  'html_url': 'https://github.com/pandum2003/new-repo',\n",
       "  'description': None,\n",
       "  'fork': False,\n",
       "  'url': 'https://api.github.com/repos/pandum2003/new-repo',\n",
       "  'forks_url': 'https://api.github.com/repos/pandum2003/new-repo/forks',\n",
       "  'keys_url': 'https://api.github.com/repos/pandum2003/new-repo/keys{/key_id}',\n",
       "  'collaborators_url': 'https://api.github.com/repos/pandum2003/new-repo/collaborators{/collaborator}',\n",
       "  'teams_url': 'https://api.github.com/repos/pandum2003/new-repo/teams',\n",
       "  'hooks_url': 'https://api.github.com/repos/pandum2003/new-repo/hooks',\n",
       "  'issue_events_url': 'https://api.github.com/repos/pandum2003/new-repo/issues/events{/number}',\n",
       "  'events_url': 'https://api.github.com/repos/pandum2003/new-repo/events',\n",
       "  'assignees_url': 'https://api.github.com/repos/pandum2003/new-repo/assignees{/user}',\n",
       "  'branches_url': 'https://api.github.com/repos/pandum2003/new-repo/branches{/branch}',\n",
       "  'tags_url': 'https://api.github.com/repos/pandum2003/new-repo/tags',\n",
       "  'blobs_url': 'https://api.github.com/repos/pandum2003/new-repo/git/blobs{/sha}',\n",
       "  'git_tags_url': 'https://api.github.com/repos/pandum2003/new-repo/git/tags{/sha}',\n",
       "  'git_refs_url': 'https://api.github.com/repos/pandum2003/new-repo/git/refs{/sha}',\n",
       "  'trees_url': 'https://api.github.com/repos/pandum2003/new-repo/git/trees{/sha}',\n",
       "  'statuses_url': 'https://api.github.com/repos/pandum2003/new-repo/statuses/{sha}',\n",
       "  'languages_url': 'https://api.github.com/repos/pandum2003/new-repo/languages',\n",
       "  'stargazers_url': 'https://api.github.com/repos/pandum2003/new-repo/stargazers',\n",
       "  'contributors_url': 'https://api.github.com/repos/pandum2003/new-repo/contributors',\n",
       "  'subscribers_url': 'https://api.github.com/repos/pandum2003/new-repo/subscribers',\n",
       "  'subscription_url': 'https://api.github.com/repos/pandum2003/new-repo/subscription',\n",
       "  'commits_url': 'https://api.github.com/repos/pandum2003/new-repo/commits{/sha}',\n",
       "  'git_commits_url': 'https://api.github.com/repos/pandum2003/new-repo/git/commits{/sha}',\n",
       "  'comments_url': 'https://api.github.com/repos/pandum2003/new-repo/comments{/number}',\n",
       "  'issue_comment_url': 'https://api.github.com/repos/pandum2003/new-repo/issues/comments{/number}',\n",
       "  'contents_url': 'https://api.github.com/repos/pandum2003/new-repo/contents/{+path}',\n",
       "  'compare_url': 'https://api.github.com/repos/pandum2003/new-repo/compare/{base}...{head}',\n",
       "  'merges_url': 'https://api.github.com/repos/pandum2003/new-repo/merges',\n",
       "  'archive_url': 'https://api.github.com/repos/pandum2003/new-repo/{archive_format}{/ref}',\n",
       "  'downloads_url': 'https://api.github.com/repos/pandum2003/new-repo/downloads',\n",
       "  'issues_url': 'https://api.github.com/repos/pandum2003/new-repo/issues{/number}',\n",
       "  'pulls_url': 'https://api.github.com/repos/pandum2003/new-repo/pulls{/number}',\n",
       "  'milestones_url': 'https://api.github.com/repos/pandum2003/new-repo/milestones{/number}',\n",
       "  'notifications_url': 'https://api.github.com/repos/pandum2003/new-repo/notifications{?since,all,participating}',\n",
       "  'labels_url': 'https://api.github.com/repos/pandum2003/new-repo/labels{/name}',\n",
       "  'releases_url': 'https://api.github.com/repos/pandum2003/new-repo/releases{/id}',\n",
       "  'deployments_url': 'https://api.github.com/repos/pandum2003/new-repo/deployments',\n",
       "  'created_at': '2019-04-09T02:12:21Z',\n",
       "  'updated_at': '2019-04-09T02:15:07Z',\n",
       "  'pushed_at': '2019-04-09T02:15:06Z',\n",
       "  'git_url': 'git://github.com/pandum2003/new-repo.git',\n",
       "  'ssh_url': 'git@github.com:pandum2003/new-repo.git',\n",
       "  'clone_url': 'https://github.com/pandum2003/new-repo.git',\n",
       "  'svn_url': 'https://github.com/pandum2003/new-repo',\n",
       "  'homepage': None,\n",
       "  'size': 0,\n",
       "  'stargazers_count': 0,\n",
       "  'watchers_count': 0,\n",
       "  'language': None,\n",
       "  'has_issues': True,\n",
       "  'has_projects': True,\n",
       "  'has_downloads': True,\n",
       "  'has_wiki': True,\n",
       "  'has_pages': False,\n",
       "  'forks_count': 0,\n",
       "  'mirror_url': None,\n",
       "  'archived': False,\n",
       "  'disabled': False,\n",
       "  'open_issues_count': 0,\n",
       "  'license': None,\n",
       "  'forks': 0,\n",
       "  'open_issues': 0,\n",
       "  'watchers': 0,\n",
       "  'default_branch': 'master',\n",
       "  'permissions': {'admin': True, 'push': True, 'pull': True}},\n",
       " {'id': 176426052,\n",
       "  'node_id': 'MDEwOlJlcG9zaXRvcnkxNzY0MjYwNTI=',\n",
       "  'name': 'Progressive-Web-Chat',\n",
       "  'full_name': 'pandum2003/Progressive-Web-Chat',\n",
       "  'private': False,\n",
       "  'owner': {'login': 'pandum2003',\n",
       "   'id': 6161478,\n",
       "   'node_id': 'MDQ6VXNlcjYxNjE0Nzg=',\n",
       "   'avatar_url': 'https://avatars0.githubusercontent.com/u/6161478?v=4',\n",
       "   'gravatar_id': '',\n",
       "   'url': 'https://api.github.com/users/pandum2003',\n",
       "   'html_url': 'https://github.com/pandum2003',\n",
       "   'followers_url': 'https://api.github.com/users/pandum2003/followers',\n",
       "   'following_url': 'https://api.github.com/users/pandum2003/following{/other_user}',\n",
       "   'gists_url': 'https://api.github.com/users/pandum2003/gists{/gist_id}',\n",
       "   'starred_url': 'https://api.github.com/users/pandum2003/starred{/owner}{/repo}',\n",
       "   'subscriptions_url': 'https://api.github.com/users/pandum2003/subscriptions',\n",
       "   'organizations_url': 'https://api.github.com/users/pandum2003/orgs',\n",
       "   'repos_url': 'https://api.github.com/users/pandum2003/repos',\n",
       "   'events_url': 'https://api.github.com/users/pandum2003/events{/privacy}',\n",
       "   'received_events_url': 'https://api.github.com/users/pandum2003/received_events',\n",
       "   'type': 'User',\n",
       "   'site_admin': False},\n",
       "  'html_url': 'https://github.com/pandum2003/Progressive-Web-Chat',\n",
       "  'description': 'Sample chat application that runs as a Progressive Web App',\n",
       "  'fork': True,\n",
       "  'url': 'https://api.github.com/repos/pandum2003/Progressive-Web-Chat',\n",
       "  'forks_url': 'https://api.github.com/repos/pandum2003/Progressive-Web-Chat/forks',\n",
       "  'keys_url': 'https://api.github.com/repos/pandum2003/Progressive-Web-Chat/keys{/key_id}',\n",
       "  'collaborators_url': 'https://api.github.com/repos/pandum2003/Progressive-Web-Chat/collaborators{/collaborator}',\n",
       "  'teams_url': 'https://api.github.com/repos/pandum2003/Progressive-Web-Chat/teams',\n",
       "  'hooks_url': 'https://api.github.com/repos/pandum2003/Progressive-Web-Chat/hooks',\n",
       "  'issue_events_url': 'https://api.github.com/repos/pandum2003/Progressive-Web-Chat/issues/events{/number}',\n",
       "  'events_url': 'https://api.github.com/repos/pandum2003/Progressive-Web-Chat/events',\n",
       "  'assignees_url': 'https://api.github.com/repos/pandum2003/Progressive-Web-Chat/assignees{/user}',\n",
       "  'branches_url': 'https://api.github.com/repos/pandum2003/Progressive-Web-Chat/branches{/branch}',\n",
       "  'tags_url': 'https://api.github.com/repos/pandum2003/Progressive-Web-Chat/tags',\n",
       "  'blobs_url': 'https://api.github.com/repos/pandum2003/Progressive-Web-Chat/git/blobs{/sha}',\n",
       "  'git_tags_url': 'https://api.github.com/repos/pandum2003/Progressive-Web-Chat/git/tags{/sha}',\n",
       "  'git_refs_url': 'https://api.github.com/repos/pandum2003/Progressive-Web-Chat/git/refs{/sha}',\n",
       "  'trees_url': 'https://api.github.com/repos/pandum2003/Progressive-Web-Chat/git/trees{/sha}',\n",
       "  'statuses_url': 'https://api.github.com/repos/pandum2003/Progressive-Web-Chat/statuses/{sha}',\n",
       "  'languages_url': 'https://api.github.com/repos/pandum2003/Progressive-Web-Chat/languages',\n",
       "  'stargazers_url': 'https://api.github.com/repos/pandum2003/Progressive-Web-Chat/stargazers',\n",
       "  'contributors_url': 'https://api.github.com/repos/pandum2003/Progressive-Web-Chat/contributors',\n",
       "  'subscribers_url': 'https://api.github.com/repos/pandum2003/Progressive-Web-Chat/subscribers',\n",
       "  'subscription_url': 'https://api.github.com/repos/pandum2003/Progressive-Web-Chat/subscription',\n",
       "  'commits_url': 'https://api.github.com/repos/pandum2003/Progressive-Web-Chat/commits{/sha}',\n",
       "  'git_commits_url': 'https://api.github.com/repos/pandum2003/Progressive-Web-Chat/git/commits{/sha}',\n",
       "  'comments_url': 'https://api.github.com/repos/pandum2003/Progressive-Web-Chat/comments{/number}',\n",
       "  'issue_comment_url': 'https://api.github.com/repos/pandum2003/Progressive-Web-Chat/issues/comments{/number}',\n",
       "  'contents_url': 'https://api.github.com/repos/pandum2003/Progressive-Web-Chat/contents/{+path}',\n",
       "  'compare_url': 'https://api.github.com/repos/pandum2003/Progressive-Web-Chat/compare/{base}...{head}',\n",
       "  'merges_url': 'https://api.github.com/repos/pandum2003/Progressive-Web-Chat/merges',\n",
       "  'archive_url': 'https://api.github.com/repos/pandum2003/Progressive-Web-Chat/{archive_format}{/ref}',\n",
       "  'downloads_url': 'https://api.github.com/repos/pandum2003/Progressive-Web-Chat/downloads',\n",
       "  'issues_url': 'https://api.github.com/repos/pandum2003/Progressive-Web-Chat/issues{/number}',\n",
       "  'pulls_url': 'https://api.github.com/repos/pandum2003/Progressive-Web-Chat/pulls{/number}',\n",
       "  'milestones_url': 'https://api.github.com/repos/pandum2003/Progressive-Web-Chat/milestones{/number}',\n",
       "  'notifications_url': 'https://api.github.com/repos/pandum2003/Progressive-Web-Chat/notifications{?since,all,participating}',\n",
       "  'labels_url': 'https://api.github.com/repos/pandum2003/Progressive-Web-Chat/labels{/name}',\n",
       "  'releases_url': 'https://api.github.com/repos/pandum2003/Progressive-Web-Chat/releases{/id}',\n",
       "  'deployments_url': 'https://api.github.com/repos/pandum2003/Progressive-Web-Chat/deployments',\n",
       "  'created_at': '2019-03-19T04:49:31Z',\n",
       "  'updated_at': '2019-03-19T04:49:33Z',\n",
       "  'pushed_at': '2016-05-18T13:49:13Z',\n",
       "  'git_url': 'git://github.com/pandum2003/Progressive-Web-Chat.git',\n",
       "  'ssh_url': 'git@github.com:pandum2003/Progressive-Web-Chat.git',\n",
       "  'clone_url': 'https://github.com/pandum2003/Progressive-Web-Chat.git',\n",
       "  'svn_url': 'https://github.com/pandum2003/Progressive-Web-Chat',\n",
       "  'homepage': 'https://www.incredible-web.com/blog/progressive-web-apps/',\n",
       "  'size': 387,\n",
       "  'stargazers_count': 0,\n",
       "  'watchers_count': 0,\n",
       "  'language': 'JavaScript',\n",
       "  'has_issues': False,\n",
       "  'has_projects': True,\n",
       "  'has_downloads': True,\n",
       "  'has_wiki': True,\n",
       "  'has_pages': False,\n",
       "  'forks_count': 0,\n",
       "  'mirror_url': None,\n",
       "  'archived': False,\n",
       "  'disabled': False,\n",
       "  'open_issues_count': 0,\n",
       "  'license': {'key': 'mit',\n",
       "   'name': 'MIT License',\n",
       "   'spdx_id': 'MIT',\n",
       "   'url': 'https://api.github.com/licenses/mit',\n",
       "   'node_id': 'MDc6TGljZW5zZTEz'},\n",
       "  'forks': 0,\n",
       "  'open_issues': 0,\n",
       "  'watchers': 0,\n",
       "  'default_branch': 'master',\n",
       "  'permissions': {'admin': True, 'push': True, 'pull': True}},\n",
       " {'id': 84087075,\n",
       "  'node_id': 'MDEwOlJlcG9zaXRvcnk4NDA4NzA3NQ==',\n",
       "  'name': 'Python-docs',\n",
       "  'full_name': 'pandum2003/Python-docs',\n",
       "  'private': False,\n",
       "  'owner': {'login': 'pandum2003',\n",
       "   'id': 6161478,\n",
       "   'node_id': 'MDQ6VXNlcjYxNjE0Nzg=',\n",
       "   'avatar_url': 'https://avatars0.githubusercontent.com/u/6161478?v=4',\n",
       "   'gravatar_id': '',\n",
       "   'url': 'https://api.github.com/users/pandum2003',\n",
       "   'html_url': 'https://github.com/pandum2003',\n",
       "   'followers_url': 'https://api.github.com/users/pandum2003/followers',\n",
       "   'following_url': 'https://api.github.com/users/pandum2003/following{/other_user}',\n",
       "   'gists_url': 'https://api.github.com/users/pandum2003/gists{/gist_id}',\n",
       "   'starred_url': 'https://api.github.com/users/pandum2003/starred{/owner}{/repo}',\n",
       "   'subscriptions_url': 'https://api.github.com/users/pandum2003/subscriptions',\n",
       "   'organizations_url': 'https://api.github.com/users/pandum2003/orgs',\n",
       "   'repos_url': 'https://api.github.com/users/pandum2003/repos',\n",
       "   'events_url': 'https://api.github.com/users/pandum2003/events{/privacy}',\n",
       "   'received_events_url': 'https://api.github.com/users/pandum2003/received_events',\n",
       "   'type': 'User',\n",
       "   'site_admin': False},\n",
       "  'html_url': 'https://github.com/pandum2003/Python-docs',\n",
       "  'description': None,\n",
       "  'fork': False,\n",
       "  'url': 'https://api.github.com/repos/pandum2003/Python-docs',\n",
       "  'forks_url': 'https://api.github.com/repos/pandum2003/Python-docs/forks',\n",
       "  'keys_url': 'https://api.github.com/repos/pandum2003/Python-docs/keys{/key_id}',\n",
       "  'collaborators_url': 'https://api.github.com/repos/pandum2003/Python-docs/collaborators{/collaborator}',\n",
       "  'teams_url': 'https://api.github.com/repos/pandum2003/Python-docs/teams',\n",
       "  'hooks_url': 'https://api.github.com/repos/pandum2003/Python-docs/hooks',\n",
       "  'issue_events_url': 'https://api.github.com/repos/pandum2003/Python-docs/issues/events{/number}',\n",
       "  'events_url': 'https://api.github.com/repos/pandum2003/Python-docs/events',\n",
       "  'assignees_url': 'https://api.github.com/repos/pandum2003/Python-docs/assignees{/user}',\n",
       "  'branches_url': 'https://api.github.com/repos/pandum2003/Python-docs/branches{/branch}',\n",
       "  'tags_url': 'https://api.github.com/repos/pandum2003/Python-docs/tags',\n",
       "  'blobs_url': 'https://api.github.com/repos/pandum2003/Python-docs/git/blobs{/sha}',\n",
       "  'git_tags_url': 'https://api.github.com/repos/pandum2003/Python-docs/git/tags{/sha}',\n",
       "  'git_refs_url': 'https://api.github.com/repos/pandum2003/Python-docs/git/refs{/sha}',\n",
       "  'trees_url': 'https://api.github.com/repos/pandum2003/Python-docs/git/trees{/sha}',\n",
       "  'statuses_url': 'https://api.github.com/repos/pandum2003/Python-docs/statuses/{sha}',\n",
       "  'languages_url': 'https://api.github.com/repos/pandum2003/Python-docs/languages',\n",
       "  'stargazers_url': 'https://api.github.com/repos/pandum2003/Python-docs/stargazers',\n",
       "  'contributors_url': 'https://api.github.com/repos/pandum2003/Python-docs/contributors',\n",
       "  'subscribers_url': 'https://api.github.com/repos/pandum2003/Python-docs/subscribers',\n",
       "  'subscription_url': 'https://api.github.com/repos/pandum2003/Python-docs/subscription',\n",
       "  'commits_url': 'https://api.github.com/repos/pandum2003/Python-docs/commits{/sha}',\n",
       "  'git_commits_url': 'https://api.github.com/repos/pandum2003/Python-docs/git/commits{/sha}',\n",
       "  'comments_url': 'https://api.github.com/repos/pandum2003/Python-docs/comments{/number}',\n",
       "  'issue_comment_url': 'https://api.github.com/repos/pandum2003/Python-docs/issues/comments{/number}',\n",
       "  'contents_url': 'https://api.github.com/repos/pandum2003/Python-docs/contents/{+path}',\n",
       "  'compare_url': 'https://api.github.com/repos/pandum2003/Python-docs/compare/{base}...{head}',\n",
       "  'merges_url': 'https://api.github.com/repos/pandum2003/Python-docs/merges',\n",
       "  'archive_url': 'https://api.github.com/repos/pandum2003/Python-docs/{archive_format}{/ref}',\n",
       "  'downloads_url': 'https://api.github.com/repos/pandum2003/Python-docs/downloads',\n",
       "  'issues_url': 'https://api.github.com/repos/pandum2003/Python-docs/issues{/number}',\n",
       "  'pulls_url': 'https://api.github.com/repos/pandum2003/Python-docs/pulls{/number}',\n",
       "  'milestones_url': 'https://api.github.com/repos/pandum2003/Python-docs/milestones{/number}',\n",
       "  'notifications_url': 'https://api.github.com/repos/pandum2003/Python-docs/notifications{?since,all,participating}',\n",
       "  'labels_url': 'https://api.github.com/repos/pandum2003/Python-docs/labels{/name}',\n",
       "  'releases_url': 'https://api.github.com/repos/pandum2003/Python-docs/releases{/id}',\n",
       "  'deployments_url': 'https://api.github.com/repos/pandum2003/Python-docs/deployments',\n",
       "  'created_at': '2017-03-06T15:08:12Z',\n",
       "  'updated_at': '2017-03-06T15:08:12Z',\n",
       "  'pushed_at': '2017-03-06T15:08:12Z',\n",
       "  'git_url': 'git://github.com/pandum2003/Python-docs.git',\n",
       "  'ssh_url': 'git@github.com:pandum2003/Python-docs.git',\n",
       "  'clone_url': 'https://github.com/pandum2003/Python-docs.git',\n",
       "  'svn_url': 'https://github.com/pandum2003/Python-docs',\n",
       "  'homepage': None,\n",
       "  'size': 0,\n",
       "  'stargazers_count': 0,\n",
       "  'watchers_count': 0,\n",
       "  'language': None,\n",
       "  'has_issues': True,\n",
       "  'has_projects': True,\n",
       "  'has_downloads': True,\n",
       "  'has_wiki': True,\n",
       "  'has_pages': False,\n",
       "  'forks_count': 0,\n",
       "  'mirror_url': None,\n",
       "  'archived': False,\n",
       "  'disabled': False,\n",
       "  'open_issues_count': 0,\n",
       "  'license': None,\n",
       "  'forks': 0,\n",
       "  'open_issues': 0,\n",
       "  'watchers': 0,\n",
       "  'default_branch': 'master',\n",
       "  'permissions': {'admin': True, 'push': True, 'pull': True}},\n",
       " {'id': 174456392,\n",
       "  'node_id': 'MDEwOlJlcG9zaXRvcnkxNzQ0NTYzOTI=',\n",
       "  'name': 'Python-march2019',\n",
       "  'full_name': 'pandum2003/Python-march2019',\n",
       "  'private': False,\n",
       "  'owner': {'login': 'pandum2003',\n",
       "   'id': 6161478,\n",
       "   'node_id': 'MDQ6VXNlcjYxNjE0Nzg=',\n",
       "   'avatar_url': 'https://avatars0.githubusercontent.com/u/6161478?v=4',\n",
       "   'gravatar_id': '',\n",
       "   'url': 'https://api.github.com/users/pandum2003',\n",
       "   'html_url': 'https://github.com/pandum2003',\n",
       "   'followers_url': 'https://api.github.com/users/pandum2003/followers',\n",
       "   'following_url': 'https://api.github.com/users/pandum2003/following{/other_user}',\n",
       "   'gists_url': 'https://api.github.com/users/pandum2003/gists{/gist_id}',\n",
       "   'starred_url': 'https://api.github.com/users/pandum2003/starred{/owner}{/repo}',\n",
       "   'subscriptions_url': 'https://api.github.com/users/pandum2003/subscriptions',\n",
       "   'organizations_url': 'https://api.github.com/users/pandum2003/orgs',\n",
       "   'repos_url': 'https://api.github.com/users/pandum2003/repos',\n",
       "   'events_url': 'https://api.github.com/users/pandum2003/events{/privacy}',\n",
       "   'received_events_url': 'https://api.github.com/users/pandum2003/received_events',\n",
       "   'type': 'User',\n",
       "   'site_admin': False},\n",
       "  'html_url': 'https://github.com/pandum2003/Python-march2019',\n",
       "  'description': None,\n",
       "  'fork': False,\n",
       "  'url': 'https://api.github.com/repos/pandum2003/Python-march2019',\n",
       "  'forks_url': 'https://api.github.com/repos/pandum2003/Python-march2019/forks',\n",
       "  'keys_url': 'https://api.github.com/repos/pandum2003/Python-march2019/keys{/key_id}',\n",
       "  'collaborators_url': 'https://api.github.com/repos/pandum2003/Python-march2019/collaborators{/collaborator}',\n",
       "  'teams_url': 'https://api.github.com/repos/pandum2003/Python-march2019/teams',\n",
       "  'hooks_url': 'https://api.github.com/repos/pandum2003/Python-march2019/hooks',\n",
       "  'issue_events_url': 'https://api.github.com/repos/pandum2003/Python-march2019/issues/events{/number}',\n",
       "  'events_url': 'https://api.github.com/repos/pandum2003/Python-march2019/events',\n",
       "  'assignees_url': 'https://api.github.com/repos/pandum2003/Python-march2019/assignees{/user}',\n",
       "  'branches_url': 'https://api.github.com/repos/pandum2003/Python-march2019/branches{/branch}',\n",
       "  'tags_url': 'https://api.github.com/repos/pandum2003/Python-march2019/tags',\n",
       "  'blobs_url': 'https://api.github.com/repos/pandum2003/Python-march2019/git/blobs{/sha}',\n",
       "  'git_tags_url': 'https://api.github.com/repos/pandum2003/Python-march2019/git/tags{/sha}',\n",
       "  'git_refs_url': 'https://api.github.com/repos/pandum2003/Python-march2019/git/refs{/sha}',\n",
       "  'trees_url': 'https://api.github.com/repos/pandum2003/Python-march2019/git/trees{/sha}',\n",
       "  'statuses_url': 'https://api.github.com/repos/pandum2003/Python-march2019/statuses/{sha}',\n",
       "  'languages_url': 'https://api.github.com/repos/pandum2003/Python-march2019/languages',\n",
       "  'stargazers_url': 'https://api.github.com/repos/pandum2003/Python-march2019/stargazers',\n",
       "  'contributors_url': 'https://api.github.com/repos/pandum2003/Python-march2019/contributors',\n",
       "  'subscribers_url': 'https://api.github.com/repos/pandum2003/Python-march2019/subscribers',\n",
       "  'subscription_url': 'https://api.github.com/repos/pandum2003/Python-march2019/subscription',\n",
       "  'commits_url': 'https://api.github.com/repos/pandum2003/Python-march2019/commits{/sha}',\n",
       "  'git_commits_url': 'https://api.github.com/repos/pandum2003/Python-march2019/git/commits{/sha}',\n",
       "  'comments_url': 'https://api.github.com/repos/pandum2003/Python-march2019/comments{/number}',\n",
       "  'issue_comment_url': 'https://api.github.com/repos/pandum2003/Python-march2019/issues/comments{/number}',\n",
       "  'contents_url': 'https://api.github.com/repos/pandum2003/Python-march2019/contents/{+path}',\n",
       "  'compare_url': 'https://api.github.com/repos/pandum2003/Python-march2019/compare/{base}...{head}',\n",
       "  'merges_url': 'https://api.github.com/repos/pandum2003/Python-march2019/merges',\n",
       "  'archive_url': 'https://api.github.com/repos/pandum2003/Python-march2019/{archive_format}{/ref}',\n",
       "  'downloads_url': 'https://api.github.com/repos/pandum2003/Python-march2019/downloads',\n",
       "  'issues_url': 'https://api.github.com/repos/pandum2003/Python-march2019/issues{/number}',\n",
       "  'pulls_url': 'https://api.github.com/repos/pandum2003/Python-march2019/pulls{/number}',\n",
       "  'milestones_url': 'https://api.github.com/repos/pandum2003/Python-march2019/milestones{/number}',\n",
       "  'notifications_url': 'https://api.github.com/repos/pandum2003/Python-march2019/notifications{?since,all,participating}',\n",
       "  'labels_url': 'https://api.github.com/repos/pandum2003/Python-march2019/labels{/name}',\n",
       "  'releases_url': 'https://api.github.com/repos/pandum2003/Python-march2019/releases{/id}',\n",
       "  'deployments_url': 'https://api.github.com/repos/pandum2003/Python-march2019/deployments',\n",
       "  'created_at': '2019-03-08T02:40:00Z',\n",
       "  'updated_at': '2019-03-08T02:40:00Z',\n",
       "  'pushed_at': '2019-03-08T02:40:01Z',\n",
       "  'git_url': 'git://github.com/pandum2003/Python-march2019.git',\n",
       "  'ssh_url': 'git@github.com:pandum2003/Python-march2019.git',\n",
       "  'clone_url': 'https://github.com/pandum2003/Python-march2019.git',\n",
       "  'svn_url': 'https://github.com/pandum2003/Python-march2019',\n",
       "  'homepage': None,\n",
       "  'size': 0,\n",
       "  'stargazers_count': 0,\n",
       "  'watchers_count': 0,\n",
       "  'language': None,\n",
       "  'has_issues': True,\n",
       "  'has_projects': True,\n",
       "  'has_downloads': True,\n",
       "  'has_wiki': True,\n",
       "  'has_pages': False,\n",
       "  'forks_count': 0,\n",
       "  'mirror_url': None,\n",
       "  'archived': False,\n",
       "  'disabled': False,\n",
       "  'open_issues_count': 0,\n",
       "  'license': None,\n",
       "  'forks': 0,\n",
       "  'open_issues': 0,\n",
       "  'watchers': 0,\n",
       "  'default_branch': 'master',\n",
       "  'permissions': {'admin': True, 'push': True, 'pull': True}},\n",
       " {'id': 176421804,\n",
       "  'node_id': 'MDEwOlJlcG9zaXRvcnkxNzY0MjE4MDQ=',\n",
       "  'name': 'TechProject',\n",
       "  'full_name': 'pandum2003/TechProject',\n",
       "  'private': False,\n",
       "  'owner': {'login': 'pandum2003',\n",
       "   'id': 6161478,\n",
       "   'node_id': 'MDQ6VXNlcjYxNjE0Nzg=',\n",
       "   'avatar_url': 'https://avatars0.githubusercontent.com/u/6161478?v=4',\n",
       "   'gravatar_id': '',\n",
       "   'url': 'https://api.github.com/users/pandum2003',\n",
       "   'html_url': 'https://github.com/pandum2003',\n",
       "   'followers_url': 'https://api.github.com/users/pandum2003/followers',\n",
       "   'following_url': 'https://api.github.com/users/pandum2003/following{/other_user}',\n",
       "   'gists_url': 'https://api.github.com/users/pandum2003/gists{/gist_id}',\n",
       "   'starred_url': 'https://api.github.com/users/pandum2003/starred{/owner}{/repo}',\n",
       "   'subscriptions_url': 'https://api.github.com/users/pandum2003/subscriptions',\n",
       "   'organizations_url': 'https://api.github.com/users/pandum2003/orgs',\n",
       "   'repos_url': 'https://api.github.com/users/pandum2003/repos',\n",
       "   'events_url': 'https://api.github.com/users/pandum2003/events{/privacy}',\n",
       "   'received_events_url': 'https://api.github.com/users/pandum2003/received_events',\n",
       "   'type': 'User',\n",
       "   'site_admin': False},\n",
       "  'html_url': 'https://github.com/pandum2003/TechProject',\n",
       "  'description': 'TechProject',\n",
       "  'fork': False,\n",
       "  'url': 'https://api.github.com/repos/pandum2003/TechProject',\n",
       "  'forks_url': 'https://api.github.com/repos/pandum2003/TechProject/forks',\n",
       "  'keys_url': 'https://api.github.com/repos/pandum2003/TechProject/keys{/key_id}',\n",
       "  'collaborators_url': 'https://api.github.com/repos/pandum2003/TechProject/collaborators{/collaborator}',\n",
       "  'teams_url': 'https://api.github.com/repos/pandum2003/TechProject/teams',\n",
       "  'hooks_url': 'https://api.github.com/repos/pandum2003/TechProject/hooks',\n",
       "  'issue_events_url': 'https://api.github.com/repos/pandum2003/TechProject/issues/events{/number}',\n",
       "  'events_url': 'https://api.github.com/repos/pandum2003/TechProject/events',\n",
       "  'assignees_url': 'https://api.github.com/repos/pandum2003/TechProject/assignees{/user}',\n",
       "  'branches_url': 'https://api.github.com/repos/pandum2003/TechProject/branches{/branch}',\n",
       "  'tags_url': 'https://api.github.com/repos/pandum2003/TechProject/tags',\n",
       "  'blobs_url': 'https://api.github.com/repos/pandum2003/TechProject/git/blobs{/sha}',\n",
       "  'git_tags_url': 'https://api.github.com/repos/pandum2003/TechProject/git/tags{/sha}',\n",
       "  'git_refs_url': 'https://api.github.com/repos/pandum2003/TechProject/git/refs{/sha}',\n",
       "  'trees_url': 'https://api.github.com/repos/pandum2003/TechProject/git/trees{/sha}',\n",
       "  'statuses_url': 'https://api.github.com/repos/pandum2003/TechProject/statuses/{sha}',\n",
       "  'languages_url': 'https://api.github.com/repos/pandum2003/TechProject/languages',\n",
       "  'stargazers_url': 'https://api.github.com/repos/pandum2003/TechProject/stargazers',\n",
       "  'contributors_url': 'https://api.github.com/repos/pandum2003/TechProject/contributors',\n",
       "  'subscribers_url': 'https://api.github.com/repos/pandum2003/TechProject/subscribers',\n",
       "  'subscription_url': 'https://api.github.com/repos/pandum2003/TechProject/subscription',\n",
       "  'commits_url': 'https://api.github.com/repos/pandum2003/TechProject/commits{/sha}',\n",
       "  'git_commits_url': 'https://api.github.com/repos/pandum2003/TechProject/git/commits{/sha}',\n",
       "  'comments_url': 'https://api.github.com/repos/pandum2003/TechProject/comments{/number}',\n",
       "  'issue_comment_url': 'https://api.github.com/repos/pandum2003/TechProject/issues/comments{/number}',\n",
       "  'contents_url': 'https://api.github.com/repos/pandum2003/TechProject/contents/{+path}',\n",
       "  'compare_url': 'https://api.github.com/repos/pandum2003/TechProject/compare/{base}...{head}',\n",
       "  'merges_url': 'https://api.github.com/repos/pandum2003/TechProject/merges',\n",
       "  'archive_url': 'https://api.github.com/repos/pandum2003/TechProject/{archive_format}{/ref}',\n",
       "  'downloads_url': 'https://api.github.com/repos/pandum2003/TechProject/downloads',\n",
       "  'issues_url': 'https://api.github.com/repos/pandum2003/TechProject/issues{/number}',\n",
       "  'pulls_url': 'https://api.github.com/repos/pandum2003/TechProject/pulls{/number}',\n",
       "  'milestones_url': 'https://api.github.com/repos/pandum2003/TechProject/milestones{/number}',\n",
       "  'notifications_url': 'https://api.github.com/repos/pandum2003/TechProject/notifications{?since,all,participating}',\n",
       "  'labels_url': 'https://api.github.com/repos/pandum2003/TechProject/labels{/name}',\n",
       "  'releases_url': 'https://api.github.com/repos/pandum2003/TechProject/releases{/id}',\n",
       "  'deployments_url': 'https://api.github.com/repos/pandum2003/TechProject/deployments',\n",
       "  'created_at': '2019-03-19T04:13:00Z',\n",
       "  'updated_at': '2019-03-19T04:13:00Z',\n",
       "  'pushed_at': '2019-03-19T04:13:00Z',\n",
       "  'git_url': 'git://github.com/pandum2003/TechProject.git',\n",
       "  'ssh_url': 'git@github.com:pandum2003/TechProject.git',\n",
       "  'clone_url': 'https://github.com/pandum2003/TechProject.git',\n",
       "  'svn_url': 'https://github.com/pandum2003/TechProject',\n",
       "  'homepage': None,\n",
       "  'size': 0,\n",
       "  'stargazers_count': 0,\n",
       "  'watchers_count': 0,\n",
       "  'language': None,\n",
       "  'has_issues': True,\n",
       "  'has_projects': True,\n",
       "  'has_downloads': True,\n",
       "  'has_wiki': True,\n",
       "  'has_pages': False,\n",
       "  'forks_count': 0,\n",
       "  'mirror_url': None,\n",
       "  'archived': False,\n",
       "  'disabled': False,\n",
       "  'open_issues_count': 0,\n",
       "  'license': None,\n",
       "  'forks': 0,\n",
       "  'open_issues': 0,\n",
       "  'watchers': 0,\n",
       "  'default_branch': 'master',\n",
       "  'permissions': {'admin': True, 'push': True, 'pull': True}}]"
      ]
     },
     "execution_count": 45,
     "metadata": {},
     "output_type": "execute_result"
    }
   ],
   "source": [
    "resp.json()"
   ]
  },
  {
   "cell_type": "code",
   "execution_count": 51,
   "metadata": {},
   "outputs": [],
   "source": [
    "import requests\n",
    "url=\"https://api.github.com/user/repos\"\n",
    "resp = requests.post(url, json={\"name\":\"repo_api\"},auth=(username,password))"
   ]
  },
  {
   "cell_type": "code",
   "execution_count": 52,
   "metadata": {},
   "outputs": [
    {
     "data": {
      "text/plain": [
       "<Response [201]>"
      ]
     },
     "execution_count": 52,
     "metadata": {},
     "output_type": "execute_result"
    }
   ],
   "source": [
    "resp"
   ]
  },
  {
   "cell_type": "code",
   "execution_count": 53,
   "metadata": {},
   "outputs": [
    {
     "data": {
      "text/plain": [
       "{'id': 180269024,\n",
       " 'node_id': 'MDEwOlJlcG9zaXRvcnkxODAyNjkwMjQ=',\n",
       " 'name': 'repo_api',\n",
       " 'full_name': 'pandum2003/repo_api',\n",
       " 'private': False,\n",
       " 'owner': {'login': 'pandum2003',\n",
       "  'id': 6161478,\n",
       "  'node_id': 'MDQ6VXNlcjYxNjE0Nzg=',\n",
       "  'avatar_url': 'https://avatars0.githubusercontent.com/u/6161478?v=4',\n",
       "  'gravatar_id': '',\n",
       "  'url': 'https://api.github.com/users/pandum2003',\n",
       "  'html_url': 'https://github.com/pandum2003',\n",
       "  'followers_url': 'https://api.github.com/users/pandum2003/followers',\n",
       "  'following_url': 'https://api.github.com/users/pandum2003/following{/other_user}',\n",
       "  'gists_url': 'https://api.github.com/users/pandum2003/gists{/gist_id}',\n",
       "  'starred_url': 'https://api.github.com/users/pandum2003/starred{/owner}{/repo}',\n",
       "  'subscriptions_url': 'https://api.github.com/users/pandum2003/subscriptions',\n",
       "  'organizations_url': 'https://api.github.com/users/pandum2003/orgs',\n",
       "  'repos_url': 'https://api.github.com/users/pandum2003/repos',\n",
       "  'events_url': 'https://api.github.com/users/pandum2003/events{/privacy}',\n",
       "  'received_events_url': 'https://api.github.com/users/pandum2003/received_events',\n",
       "  'type': 'User',\n",
       "  'site_admin': False},\n",
       " 'html_url': 'https://github.com/pandum2003/repo_api',\n",
       " 'description': None,\n",
       " 'fork': False,\n",
       " 'url': 'https://api.github.com/repos/pandum2003/repo_api',\n",
       " 'forks_url': 'https://api.github.com/repos/pandum2003/repo_api/forks',\n",
       " 'keys_url': 'https://api.github.com/repos/pandum2003/repo_api/keys{/key_id}',\n",
       " 'collaborators_url': 'https://api.github.com/repos/pandum2003/repo_api/collaborators{/collaborator}',\n",
       " 'teams_url': 'https://api.github.com/repos/pandum2003/repo_api/teams',\n",
       " 'hooks_url': 'https://api.github.com/repos/pandum2003/repo_api/hooks',\n",
       " 'issue_events_url': 'https://api.github.com/repos/pandum2003/repo_api/issues/events{/number}',\n",
       " 'events_url': 'https://api.github.com/repos/pandum2003/repo_api/events',\n",
       " 'assignees_url': 'https://api.github.com/repos/pandum2003/repo_api/assignees{/user}',\n",
       " 'branches_url': 'https://api.github.com/repos/pandum2003/repo_api/branches{/branch}',\n",
       " 'tags_url': 'https://api.github.com/repos/pandum2003/repo_api/tags',\n",
       " 'blobs_url': 'https://api.github.com/repos/pandum2003/repo_api/git/blobs{/sha}',\n",
       " 'git_tags_url': 'https://api.github.com/repos/pandum2003/repo_api/git/tags{/sha}',\n",
       " 'git_refs_url': 'https://api.github.com/repos/pandum2003/repo_api/git/refs{/sha}',\n",
       " 'trees_url': 'https://api.github.com/repos/pandum2003/repo_api/git/trees{/sha}',\n",
       " 'statuses_url': 'https://api.github.com/repos/pandum2003/repo_api/statuses/{sha}',\n",
       " 'languages_url': 'https://api.github.com/repos/pandum2003/repo_api/languages',\n",
       " 'stargazers_url': 'https://api.github.com/repos/pandum2003/repo_api/stargazers',\n",
       " 'contributors_url': 'https://api.github.com/repos/pandum2003/repo_api/contributors',\n",
       " 'subscribers_url': 'https://api.github.com/repos/pandum2003/repo_api/subscribers',\n",
       " 'subscription_url': 'https://api.github.com/repos/pandum2003/repo_api/subscription',\n",
       " 'commits_url': 'https://api.github.com/repos/pandum2003/repo_api/commits{/sha}',\n",
       " 'git_commits_url': 'https://api.github.com/repos/pandum2003/repo_api/git/commits{/sha}',\n",
       " 'comments_url': 'https://api.github.com/repos/pandum2003/repo_api/comments{/number}',\n",
       " 'issue_comment_url': 'https://api.github.com/repos/pandum2003/repo_api/issues/comments{/number}',\n",
       " 'contents_url': 'https://api.github.com/repos/pandum2003/repo_api/contents/{+path}',\n",
       " 'compare_url': 'https://api.github.com/repos/pandum2003/repo_api/compare/{base}...{head}',\n",
       " 'merges_url': 'https://api.github.com/repos/pandum2003/repo_api/merges',\n",
       " 'archive_url': 'https://api.github.com/repos/pandum2003/repo_api/{archive_format}{/ref}',\n",
       " 'downloads_url': 'https://api.github.com/repos/pandum2003/repo_api/downloads',\n",
       " 'issues_url': 'https://api.github.com/repos/pandum2003/repo_api/issues{/number}',\n",
       " 'pulls_url': 'https://api.github.com/repos/pandum2003/repo_api/pulls{/number}',\n",
       " 'milestones_url': 'https://api.github.com/repos/pandum2003/repo_api/milestones{/number}',\n",
       " 'notifications_url': 'https://api.github.com/repos/pandum2003/repo_api/notifications{?since,all,participating}',\n",
       " 'labels_url': 'https://api.github.com/repos/pandum2003/repo_api/labels{/name}',\n",
       " 'releases_url': 'https://api.github.com/repos/pandum2003/repo_api/releases{/id}',\n",
       " 'deployments_url': 'https://api.github.com/repos/pandum2003/repo_api/deployments',\n",
       " 'created_at': '2019-04-09T02:28:24Z',\n",
       " 'updated_at': '2019-04-09T02:28:24Z',\n",
       " 'pushed_at': '2019-04-09T02:28:24Z',\n",
       " 'git_url': 'git://github.com/pandum2003/repo_api.git',\n",
       " 'ssh_url': 'git@github.com:pandum2003/repo_api.git',\n",
       " 'clone_url': 'https://github.com/pandum2003/repo_api.git',\n",
       " 'svn_url': 'https://github.com/pandum2003/repo_api',\n",
       " 'homepage': None,\n",
       " 'size': 0,\n",
       " 'stargazers_count': 0,\n",
       " 'watchers_count': 0,\n",
       " 'language': None,\n",
       " 'has_issues': True,\n",
       " 'has_projects': True,\n",
       " 'has_downloads': True,\n",
       " 'has_wiki': True,\n",
       " 'has_pages': False,\n",
       " 'forks_count': 0,\n",
       " 'mirror_url': None,\n",
       " 'archived': False,\n",
       " 'disabled': False,\n",
       " 'open_issues_count': 0,\n",
       " 'license': None,\n",
       " 'forks': 0,\n",
       " 'open_issues': 0,\n",
       " 'watchers': 0,\n",
       " 'default_branch': 'master',\n",
       " 'permissions': {'admin': True, 'push': True, 'pull': True},\n",
       " 'allow_squash_merge': True,\n",
       " 'allow_merge_commit': True,\n",
       " 'allow_rebase_merge': True,\n",
       " 'network_count': 0,\n",
       " 'subscribers_count': 1}"
      ]
     },
     "execution_count": 53,
     "metadata": {},
     "output_type": "execute_result"
    }
   ],
   "source": [
    "resp.json()"
   ]
  },
  {
   "cell_type": "code",
   "execution_count": 54,
   "metadata": {},
   "outputs": [],
   "source": [
    "import requests\n",
    "url=\"https://api.github.com/repos/pandum2003/repo_api\"\n",
    "resp = requests.delete(url, json={\"name\":\"repo_api\"},auth=(username,password))"
   ]
  },
  {
   "cell_type": "code",
   "execution_count": 55,
   "metadata": {},
   "outputs": [
    {
     "data": {
      "text/plain": [
       "<Response [204]>"
      ]
     },
     "execution_count": 55,
     "metadata": {},
     "output_type": "execute_result"
    }
   ],
   "source": [
    "resp"
   ]
  },
  {
   "cell_type": "code",
   "execution_count": null,
   "metadata": {},
   "outputs": [],
   "source": []
  }
 ],
 "metadata": {
  "kernelspec": {
   "display_name": "Python 3",
   "language": "python",
   "name": "python3"
  },
  "language_info": {
   "codemirror_mode": {
    "name": "ipython",
    "version": 3
   },
   "file_extension": ".py",
   "mimetype": "text/x-python",
   "name": "python",
   "nbconvert_exporter": "python",
   "pygments_lexer": "ipython3",
   "version": "3.7.0"
  }
 },
 "nbformat": 4,
 "nbformat_minor": 2
}
