{
 "cells": [
  {
   "cell_type": "code",
   "execution_count": 1,
   "metadata": {},
   "outputs": [],
   "source": [
    "person={\"name\":\"JAYARAM\",\"age\":2,\"weight\":13.45,\"gender\":\"Male\"}\n",
    "address={\"street\":\"anjaneyanagar\",\"city\":\"hyd\",\"state\":\"TS\"}\n"
   ]
  },
  {
   "cell_type": "code",
   "execution_count": 2,
   "metadata": {},
   "outputs": [
    {
     "ename": "KeyError",
     "evalue": "0",
     "output_type": "error",
     "traceback": [
      "\u001b[0;31m---------------------------------------------------------------------------\u001b[0m",
      "\u001b[0;31mKeyError\u001b[0m                                  Traceback (most recent call last)",
      "\u001b[0;32m<ipython-input-2-5a3f9fd197b2>\u001b[0m in \u001b[0;36m<module>\u001b[0;34m()\u001b[0m\n\u001b[1;32m      1\u001b[0m \u001b[0mperson\u001b[0m\u001b[0;34m=\u001b[0m\u001b[0;34m{\u001b[0m\u001b[0;34m\"name\"\u001b[0m\u001b[0;34m:\u001b[0m\u001b[0;34m\"JAYARAM\"\u001b[0m\u001b[0;34m,\u001b[0m\u001b[0;34m\"age\"\u001b[0m\u001b[0;34m:\u001b[0m\u001b[0;36m2\u001b[0m\u001b[0;34m,\u001b[0m\u001b[0;34m\"weight\"\u001b[0m\u001b[0;34m:\u001b[0m\u001b[0;36m13.45\u001b[0m\u001b[0;34m,\u001b[0m\u001b[0;34m\"gender\"\u001b[0m\u001b[0;34m:\u001b[0m\u001b[0;34m\"Male\"\u001b[0m\u001b[0;34m}\u001b[0m\u001b[0;34m\u001b[0m\u001b[0m\n\u001b[1;32m      2\u001b[0m \u001b[0maddress\u001b[0m\u001b[0;34m=\u001b[0m\u001b[0;34m{\u001b[0m\u001b[0;34m\"street\"\u001b[0m\u001b[0;34m:\u001b[0m\u001b[0;34m\"anjaneyanagar\"\u001b[0m\u001b[0;34m,\u001b[0m\u001b[0;34m\"city\"\u001b[0m\u001b[0;34m:\u001b[0m\u001b[0;34m\"hyd\"\u001b[0m\u001b[0;34m,\u001b[0m\u001b[0;34m\"state\"\u001b[0m\u001b[0;34m:\u001b[0m\u001b[0;34m\"TS\"\u001b[0m\u001b[0;34m}\u001b[0m\u001b[0;34m\u001b[0m\u001b[0m\n\u001b[0;32m----> 3\u001b[0;31m \u001b[0mprint\u001b[0m\u001b[0;34m(\u001b[0m\u001b[0mperson\u001b[0m\u001b[0;34m[\u001b[0m\u001b[0;36m0\u001b[0m\u001b[0;34m]\u001b[0m\u001b[0;34m)\u001b[0m\u001b[0;34m\u001b[0m\u001b[0m\n\u001b[0m",
      "\u001b[0;31mKeyError\u001b[0m: 0"
     ]
    }
   ],
   "source": [
    "person={\"name\":\"JAYARAM\",\"age\":2,\"weight\":13.45,\"gender\":\"Male\"}\n",
    "address={\"street\":\"anjaneyanagar\",\"city\":\"hyd\",\"state\":\"TS\"}\n",
    "print(person[0])"
   ]
  },
  {
   "cell_type": "code",
   "execution_count": 3,
   "metadata": {},
   "outputs": [
    {
     "name": "stdout",
     "output_type": "stream",
     "text": [
      "JAYARAM\n"
     ]
    }
   ],
   "source": [
    "person={\"name\":\"JAYARAM\",\"age\":2,\"weight\":13.45,\"gender\":\"Male\"}\n",
    "address={\"street\":\"anjaneyanagar\",\"city\":\"hyd\",\"state\":\"TS\"}\n",
    "print(person[\"name\"])"
   ]
  },
  {
   "cell_type": "code",
   "execution_count": 4,
   "metadata": {},
   "outputs": [
    {
     "name": "stdout",
     "output_type": "stream",
     "text": [
      "JAYARAM\n",
      "JAYARAM\n"
     ]
    }
   ],
   "source": [
    "person={\"name\":\"JAYARAM\",\"age\":2,\"weight\":13.45,\"gender\":\"Male\"}\n",
    "address={\"street\":\"anjaneyanagar\",\"city\":\"hyd\",\"state\":\"TS\"}\n",
    "print(person[\"name\"])\n",
    "print(person.get(\"name\"))"
   ]
  },
  {
   "cell_type": "code",
   "execution_count": 5,
   "metadata": {},
   "outputs": [
    {
     "name": "stdout",
     "output_type": "stream",
     "text": [
      "None\n"
     ]
    },
    {
     "ename": "KeyError",
     "evalue": "'city'",
     "output_type": "error",
     "traceback": [
      "\u001b[0;31m---------------------------------------------------------------------------\u001b[0m",
      "\u001b[0;31mKeyError\u001b[0m                                  Traceback (most recent call last)",
      "\u001b[0;32m<ipython-input-5-4bc1eae785db>\u001b[0m in \u001b[0;36m<module>\u001b[0;34m()\u001b[0m\n\u001b[1;32m      2\u001b[0m \u001b[0maddress\u001b[0m\u001b[0;34m=\u001b[0m\u001b[0;34m{\u001b[0m\u001b[0;34m\"street\"\u001b[0m\u001b[0;34m:\u001b[0m\u001b[0;34m\"anjaneyanagar\"\u001b[0m\u001b[0;34m,\u001b[0m\u001b[0;34m\"city\"\u001b[0m\u001b[0;34m:\u001b[0m\u001b[0;34m\"hyd\"\u001b[0m\u001b[0;34m,\u001b[0m\u001b[0;34m\"state\"\u001b[0m\u001b[0;34m:\u001b[0m\u001b[0;34m\"TS\"\u001b[0m\u001b[0;34m}\u001b[0m\u001b[0;34m\u001b[0m\u001b[0m\n\u001b[1;32m      3\u001b[0m \u001b[0mprint\u001b[0m\u001b[0;34m(\u001b[0m\u001b[0mperson\u001b[0m\u001b[0;34m.\u001b[0m\u001b[0mget\u001b[0m\u001b[0;34m(\u001b[0m\u001b[0;34m\"city\"\u001b[0m\u001b[0;34m)\u001b[0m\u001b[0;34m)\u001b[0m\u001b[0;34m\u001b[0m\u001b[0m\n\u001b[0;32m----> 4\u001b[0;31m \u001b[0mprint\u001b[0m\u001b[0;34m(\u001b[0m\u001b[0mperson\u001b[0m\u001b[0;34m[\u001b[0m\u001b[0;34m\"city\"\u001b[0m\u001b[0;34m]\u001b[0m\u001b[0;34m)\u001b[0m\u001b[0;34m\u001b[0m\u001b[0m\n\u001b[0m",
      "\u001b[0;31mKeyError\u001b[0m: 'city'"
     ]
    }
   ],
   "source": [
    "person={\"name\":\"JAYARAM\",\"age\":2,\"weight\":13.45,\"gender\":\"Male\"}\n",
    "address={\"street\":\"anjaneyanagar\",\"city\":\"hyd\",\"state\":\"TS\"}\n",
    "print(person.get(\"city\"))\n",
    "print(person[\"city\"])\n"
   ]
  },
  {
   "cell_type": "code",
   "execution_count": 7,
   "metadata": {},
   "outputs": [
    {
     "name": "stdout",
     "output_type": "stream",
     "text": [
      "Banglore\n"
     ]
    },
    {
     "ename": "KeyError",
     "evalue": "'city'",
     "output_type": "error",
     "traceback": [
      "\u001b[0;31m---------------------------------------------------------------------------\u001b[0m",
      "\u001b[0;31mKeyError\u001b[0m                                  Traceback (most recent call last)",
      "\u001b[0;32m<ipython-input-7-b3bcce1f30c2>\u001b[0m in \u001b[0;36m<module>\u001b[0;34m()\u001b[0m\n\u001b[1;32m      2\u001b[0m \u001b[0maddress\u001b[0m\u001b[0;34m=\u001b[0m\u001b[0;34m{\u001b[0m\u001b[0;34m\"street\"\u001b[0m\u001b[0;34m:\u001b[0m\u001b[0;34m\"anjaneyanagar\"\u001b[0m\u001b[0;34m,\u001b[0m\u001b[0;34m\"city\"\u001b[0m\u001b[0;34m:\u001b[0m\u001b[0;34m\"hyd\"\u001b[0m\u001b[0;34m,\u001b[0m\u001b[0;34m\"state\"\u001b[0m\u001b[0;34m:\u001b[0m\u001b[0;34m\"TS\"\u001b[0m\u001b[0;34m}\u001b[0m\u001b[0;34m\u001b[0m\u001b[0m\n\u001b[1;32m      3\u001b[0m \u001b[0mprint\u001b[0m\u001b[0;34m(\u001b[0m\u001b[0mperson\u001b[0m\u001b[0;34m.\u001b[0m\u001b[0mget\u001b[0m\u001b[0;34m(\u001b[0m\u001b[0;34m\"city\"\u001b[0m\u001b[0;34m,\u001b[0m\u001b[0;34m\"Banglore\"\u001b[0m\u001b[0;34m)\u001b[0m\u001b[0;34m)\u001b[0m\u001b[0;34m\u001b[0m\u001b[0m\n\u001b[0;32m----> 4\u001b[0;31m \u001b[0mprint\u001b[0m\u001b[0;34m(\u001b[0m\u001b[0mperson\u001b[0m\u001b[0;34m[\u001b[0m\u001b[0;34m\"city\"\u001b[0m\u001b[0;34m]\u001b[0m\u001b[0;34m)\u001b[0m\u001b[0;34m\u001b[0m\u001b[0m\n\u001b[0m",
      "\u001b[0;31mKeyError\u001b[0m: 'city'"
     ]
    }
   ],
   "source": [
    "person={\"name\":\"JAYARAM\",\"age\":2,\"weight\":13.45,\"gender\":\"Male\"}\n",
    "address={\"street\":\"anjaneyanagar\",\"city\":\"hyd\",\"state\":\"TS\"}\n",
    "print(person.get(\"city\",\"Banglore\"))\n",
    "print(person[\"city\"])\n"
   ]
  },
  {
   "cell_type": "code",
   "execution_count": 9,
   "metadata": {},
   "outputs": [
    {
     "name": "stdout",
     "output_type": "stream",
     "text": [
      "JAYARAM\n",
      "JAYARAM\n"
     ]
    }
   ],
   "source": [
    "person={\"name\":\"JAYARAM\",\"age\":2,\"weight\":13.45,\"gender\":\"Male\"}\n",
    "address={\"street\":\"anjaneyanagar\",\"city\":\"hyd\",\"state\":\"TS\"}\n",
    "print(person.get(\"name\",\"Banglore\"))\n",
    "print(person[\"name\"])\n"
   ]
  },
  {
   "cell_type": "code",
   "execution_count": 10,
   "metadata": {},
   "outputs": [
    {
     "name": "stdout",
     "output_type": "stream",
     "text": [
      "Banglore\n"
     ]
    },
    {
     "ename": "KeyError",
     "evalue": "'city'",
     "output_type": "error",
     "traceback": [
      "\u001b[0;31m---------------------------------------------------------------------------\u001b[0m",
      "\u001b[0;31mKeyError\u001b[0m                                  Traceback (most recent call last)",
      "\u001b[0;32m<ipython-input-10-b3bcce1f30c2>\u001b[0m in \u001b[0;36m<module>\u001b[0;34m()\u001b[0m\n\u001b[1;32m      2\u001b[0m \u001b[0maddress\u001b[0m\u001b[0;34m=\u001b[0m\u001b[0;34m{\u001b[0m\u001b[0;34m\"street\"\u001b[0m\u001b[0;34m:\u001b[0m\u001b[0;34m\"anjaneyanagar\"\u001b[0m\u001b[0;34m,\u001b[0m\u001b[0;34m\"city\"\u001b[0m\u001b[0;34m:\u001b[0m\u001b[0;34m\"hyd\"\u001b[0m\u001b[0;34m,\u001b[0m\u001b[0;34m\"state\"\u001b[0m\u001b[0;34m:\u001b[0m\u001b[0;34m\"TS\"\u001b[0m\u001b[0;34m}\u001b[0m\u001b[0;34m\u001b[0m\u001b[0m\n\u001b[1;32m      3\u001b[0m \u001b[0mprint\u001b[0m\u001b[0;34m(\u001b[0m\u001b[0mperson\u001b[0m\u001b[0;34m.\u001b[0m\u001b[0mget\u001b[0m\u001b[0;34m(\u001b[0m\u001b[0;34m\"city\"\u001b[0m\u001b[0;34m,\u001b[0m\u001b[0;34m\"Banglore\"\u001b[0m\u001b[0;34m)\u001b[0m\u001b[0;34m)\u001b[0m\u001b[0;34m\u001b[0m\u001b[0m\n\u001b[0;32m----> 4\u001b[0;31m \u001b[0mprint\u001b[0m\u001b[0;34m(\u001b[0m\u001b[0mperson\u001b[0m\u001b[0;34m[\u001b[0m\u001b[0;34m\"city\"\u001b[0m\u001b[0;34m]\u001b[0m\u001b[0;34m)\u001b[0m\u001b[0;34m\u001b[0m\u001b[0m\n\u001b[0m",
      "\u001b[0;31mKeyError\u001b[0m: 'city'"
     ]
    }
   ],
   "source": [
    "person={\"name\":\"JAYARAM\",\"age\":2,\"weight\":13.45,\"gender\":\"Male\"}\n",
    "address={\"street\":\"anjaneyanagar\",\"city\":\"hyd\",\"state\":\"TS\"}\n",
    "print(person.get(\"city\",\"Banglore\"))\n",
    "print(person[\"city\"])\n"
   ]
  },
  {
   "cell_type": "code",
   "execution_count": 11,
   "metadata": {},
   "outputs": [
    {
     "name": "stdout",
     "output_type": "stream",
     "text": [
      "{'name': 'JAYARAM', 'age': 2, 'weight': 13.45, 'gender': 'Male', 'pan': 'BRCPR23456'}\n"
     ]
    }
   ],
   "source": [
    "person={\"name\":\"JAYARAM\",\"age\":2,\"weight\":13.45,\"gender\":\"Male\"}\n",
    "address={\"street\":\"anjaneyanagar\",\"city\":\"hyd\",\"state\":\"TS\"}\n",
    "person[\"pan\"]=\"BRCPR23456\"\n",
    "print(person)\n"
   ]
  },
  {
   "cell_type": "code",
   "execution_count": 12,
   "metadata": {},
   "outputs": [
    {
     "name": "stdout",
     "output_type": "stream",
     "text": [
      "{'name': 'BRCPR23456', 'age': 2, 'weight': 13.45, 'gender': 'Male'}\n"
     ]
    }
   ],
   "source": [
    "person={\"name\":\"JAYARAM\",\"age\":2,\"weight\":13.45,\"gender\":\"Male\"}\n",
    "address={\"street\":\"anjaneyanagar\",\"city\":\"hyd\",\"state\":\"TS\"}\n",
    "person[\"name\"]=\"BRCPR23456\"\n",
    "print(person)\n"
   ]
  },
  {
   "cell_type": "code",
   "execution_count": 13,
   "metadata": {},
   "outputs": [
    {
     "name": "stdout",
     "output_type": "stream",
     "text": [
      "{'name': 'JAYARAM', 'age': 2, 'weight': 13.45, 'gender': 'Male', 'pan': 'BRCPR3456', 'mobile': 9676622023, 'email': 'sambapython@gmail.com'}\n"
     ]
    }
   ],
   "source": [
    "person={\"name\":\"JAYARAM\",\"age\":2,\"weight\":13.45,\"gender\":\"Male\"}\n",
    "address={\"street\":\"anjaneyanagar\",\"city\":\"hyd\",\"state\":\"TS\"}\n",
    "person.update({\"pan\":\"BRCPR3456\",\"mobile\":9676622023,\"email\":\"sambapython@gmail.com\"})\n",
    "print(person)\n"
   ]
  },
  {
   "cell_type": "code",
   "execution_count": 14,
   "metadata": {},
   "outputs": [
    {
     "name": "stdout",
     "output_type": "stream",
     "text": [
      "{'name': 'JAY', 'age': 2, 'weight': 13.45, 'gender': 'Male', 'pan': 'BRCPR3456', 'mobile': 9676622023, 'email': 'sambapython@gmail.com'}\n"
     ]
    }
   ],
   "source": [
    "person={\"name\":\"JAYARAM\",\"age\":2,\"weight\":13.45,\"gender\":\"Male\"}\n",
    "address={\"street\":\"anjaneyanagar\",\"city\":\"hyd\",\"state\":\"TS\"}\n",
    "person.update({\"pan\":\"BRCPR3456\",\"mobile\":9676622023,\"email\":\"sambapython@gmail.com\",\"name\":\"JAY\"})\n",
    "print(person)\n"
   ]
  },
  {
   "cell_type": "code",
   "execution_count": 15,
   "metadata": {},
   "outputs": [
    {
     "name": "stdout",
     "output_type": "stream",
     "text": [
      "{'name': 'JAYARAM', 'age': 2, 'weight': 13.45, 'gender': 'Male', 'pan': 'BRCPR123456'}\n"
     ]
    }
   ],
   "source": [
    "person={\"name\":\"JAYARAM\",\"age\":2,\"weight\":13.45,\"gender\":\"Male\"}\n",
    "address={\"street\":\"anjaneyanagar\",\"city\":\"hyd\",\"state\":\"TS\"}\n",
    "person.setdefault(\"pan\",\"BRCPR123456\")\n",
    "print(person)"
   ]
  },
  {
   "cell_type": "code",
   "execution_count": 16,
   "metadata": {},
   "outputs": [
    {
     "name": "stdout",
     "output_type": "stream",
     "text": [
      "{'name': 'JAYARAM', 'age': 2, 'weight': 13.45, 'gender': 'Male'}\n"
     ]
    }
   ],
   "source": [
    "person={\"name\":\"JAYARAM\",\"age\":2,\"weight\":13.45,\"gender\":\"Male\"}\n",
    "address={\"street\":\"anjaneyanagar\",\"city\":\"hyd\",\"state\":\"TS\"}\n",
    "person.setdefault(\"name\",\"JAY\")\n",
    "print(person)"
   ]
  },
  {
   "cell_type": "code",
   "execution_count": 17,
   "metadata": {},
   "outputs": [
    {
     "name": "stdout",
     "output_type": "stream",
     "text": [
      "{'name': 'JAYARAM', 'age': 2, 'weight': 13.45, 'gender': 'Male'}\n",
      "{'name': 'JAY', 'age': 2, 'weight': 13.45, 'gender': 'Male'}\n"
     ]
    }
   ],
   "source": [
    "person={\"name\":\"JAYARAM\",\"age\":2,\"weight\":13.45,\"gender\":\"Male\"}\n",
    "address={\"street\":\"anjaneyanagar\",\"city\":\"hyd\",\"state\":\"TS\"}\n",
    "person.setdefault(\"name\",\"JAY\")\n",
    "print(person)\n",
    "person[\"name\"]=\"JAY\"\n",
    "print(person)"
   ]
  },
  {
   "cell_type": "code",
   "execution_count": 18,
   "metadata": {},
   "outputs": [
    {
     "name": "stdout",
     "output_type": "stream",
     "text": [
      "{}\n"
     ]
    }
   ],
   "source": [
    "person={\"name\":\"JAYARAM\",\"age\":2,\"weight\":13.45,\"gender\":\"Male\"}\n",
    "person.clear()\n",
    "print(person)"
   ]
  },
  {
   "cell_type": "code",
   "execution_count": 19,
   "metadata": {},
   "outputs": [
    {
     "name": "stdout",
     "output_type": "stream",
     "text": [
      "{'name': 'JAYARAM', 'weight': 13.45, 'gender': 'Male'}\n"
     ]
    }
   ],
   "source": [
    "person={\"name\":\"JAYARAM\",\"age\":2,\"weight\":13.45,\"gender\":\"Male\"}\n",
    "person.pop(\"age\")\n",
    "print(person)"
   ]
  },
  {
   "cell_type": "code",
   "execution_count": 20,
   "metadata": {},
   "outputs": [
    {
     "ename": "TypeError",
     "evalue": "pop expected at least 1 arguments, got 0",
     "output_type": "error",
     "traceback": [
      "\u001b[0;31m---------------------------------------------------------------------------\u001b[0m",
      "\u001b[0;31mTypeError\u001b[0m                                 Traceback (most recent call last)",
      "\u001b[0;32m<ipython-input-20-7fb6418265f9>\u001b[0m in \u001b[0;36m<module>\u001b[0;34m()\u001b[0m\n\u001b[1;32m      1\u001b[0m \u001b[0mperson\u001b[0m\u001b[0;34m=\u001b[0m\u001b[0;34m{\u001b[0m\u001b[0;34m\"name\"\u001b[0m\u001b[0;34m:\u001b[0m\u001b[0;34m\"JAYARAM\"\u001b[0m\u001b[0;34m,\u001b[0m\u001b[0;34m\"age\"\u001b[0m\u001b[0;34m:\u001b[0m\u001b[0;36m2\u001b[0m\u001b[0;34m,\u001b[0m\u001b[0;34m\"weight\"\u001b[0m\u001b[0;34m:\u001b[0m\u001b[0;36m13.45\u001b[0m\u001b[0;34m,\u001b[0m\u001b[0;34m\"gender\"\u001b[0m\u001b[0;34m:\u001b[0m\u001b[0;34m\"Male\"\u001b[0m\u001b[0;34m}\u001b[0m\u001b[0;34m\u001b[0m\u001b[0m\n\u001b[0;32m----> 2\u001b[0;31m \u001b[0mperson\u001b[0m\u001b[0;34m.\u001b[0m\u001b[0mpop\u001b[0m\u001b[0;34m(\u001b[0m\u001b[0;34m)\u001b[0m\u001b[0;34m\u001b[0m\u001b[0m\n\u001b[0m\u001b[1;32m      3\u001b[0m \u001b[0mprint\u001b[0m\u001b[0;34m(\u001b[0m\u001b[0mperson\u001b[0m\u001b[0;34m)\u001b[0m\u001b[0;34m\u001b[0m\u001b[0m\n",
      "\u001b[0;31mTypeError\u001b[0m: pop expected at least 1 arguments, got 0"
     ]
    }
   ],
   "source": [
    "person={\"name\":\"JAYARAM\",\"age\":2,\"weight\":13.45,\"gender\":\"Male\"}\n",
    "person.pop()\n",
    "print(person)"
   ]
  },
  {
   "cell_type": "code",
   "execution_count": 21,
   "metadata": {},
   "outputs": [
    {
     "name": "stdout",
     "output_type": "stream",
     "text": [
      "name\n",
      "age\n",
      "weight\n",
      "gender\n"
     ]
    }
   ],
   "source": [
    "person={\"name\":\"JAYARAM\",\"age\":2,\"weight\":13.45,\"gender\":\"Male\"}\n",
    "for i in person:\n",
    "    print(i)"
   ]
  },
  {
   "cell_type": "code",
   "execution_count": 22,
   "metadata": {},
   "outputs": [
    {
     "name": "stdout",
     "output_type": "stream",
     "text": [
      "{'name': 'JAY', 'age': 2, 'weight': 13.45, 'gender': 'Male'}\n"
     ]
    }
   ],
   "source": [
    "person={\"name\":\"JAYARAM\",\"age\":2,\"weight\":13.45,\"gender\":\"Male\",\"name\":\"JAY\"}\n",
    "print(person)"
   ]
  },
  {
   "cell_type": "code",
   "execution_count": 23,
   "metadata": {},
   "outputs": [
    {
     "name": "stdout",
     "output_type": "stream",
     "text": [
      "{'name': 'jayaram', 'age': 2, 'weight': 13.45, 'gender': 'Male'}\n"
     ]
    }
   ],
   "source": [
    "person={\"name\":\"JAYARAM\",\"age\":2,\"weight\":13.45,\"gender\":\"Male\",\"name\":\"JAY\",\"name\":\"jayaram\"}\n",
    "print(person)"
   ]
  },
  {
   "cell_type": "code",
   "execution_count": 24,
   "metadata": {},
   "outputs": [
    {
     "name": "stdout",
     "output_type": "stream",
     "text": [
      "{'names': ['jay', 'vedha', 'sai', 'dhana']}\n"
     ]
    }
   ],
   "source": [
    "person={\"names\":[\"jay\",\"vedha\",\"sai\",\"dhana\"]}\n",
    "print(person)"
   ]
  },
  {
   "cell_type": "code",
   "execution_count": 25,
   "metadata": {},
   "outputs": [
    {
     "name": "stdout",
     "output_type": "stream",
     "text": [
      "{1: 'int', 2: 23, 3: 1.2, 4: (1+2j), 5: None, 6: True, 7: False, 8: [1, 2], 9: {1, 2}, 10: {1: 2, 3: 4}}\n"
     ]
    }
   ],
   "source": [
    "d={1:\"int\",2:23,3:1.2,4:1+2j,5:None,6:True,7:False,8:[1,2],9:{1,2},10:{1:2,3:4}}\n",
    "print(d)"
   ]
  },
  {
   "cell_type": "code",
   "execution_count": 26,
   "metadata": {},
   "outputs": [
    {
     "name": "stdout",
     "output_type": "stream",
     "text": [
      "{1: 'int', 2: 23, 3: 1.2, 4: (1+2j), 5: None, 6: True, 7: False, 8: [1, 2], 9: {1, 2}, 10: {1: 2, 3: 4}, 12: (1, 2, 3)}\n"
     ]
    }
   ],
   "source": [
    "d={1:\"int\",2:23,3:1.2,4:1+2j,5:None,6:True,7:False,8:[1,2],9:{1,2},10:{1:2,3:4},12:(1,2,3)}\n",
    "print(d)"
   ]
  },
  {
   "cell_type": "code",
   "execution_count": 27,
   "metadata": {},
   "outputs": [],
   "source": [
    "d={1:\"dfg\",\"name\":\"jay\",(1,2,3):34,False:\"bool\",1.2:\"float\",1+2j:\"complex\"}"
   ]
  },
  {
   "cell_type": "code",
   "execution_count": 34,
   "metadata": {},
   "outputs": [
    {
     "ename": "TypeError",
     "evalue": "unhashable type: 'list'",
     "output_type": "error",
     "traceback": [
      "\u001b[0;31m---------------------------------------------------------------------------\u001b[0m",
      "\u001b[0;31mTypeError\u001b[0m                                 Traceback (most recent call last)",
      "\u001b[0;32m<ipython-input-34-7f66d752a8d3>\u001b[0m in \u001b[0;36m<module>\u001b[0;34m()\u001b[0m\n\u001b[0;32m----> 1\u001b[0;31m \u001b[0md\u001b[0m\u001b[0;34m=\u001b[0m\u001b[0;34m{\u001b[0m\u001b[0;34m[\u001b[0m\u001b[0;36m1\u001b[0m\u001b[0;34m,\u001b[0m\u001b[0;36m2\u001b[0m\u001b[0;34m]\u001b[0m\u001b[0;34m:\u001b[0m\u001b[0;34m\"list\"\u001b[0m\u001b[0;34m}\u001b[0m\u001b[0;34m\u001b[0m\u001b[0m\n\u001b[0m",
      "\u001b[0;31mTypeError\u001b[0m: unhashable type: 'list'"
     ]
    }
   ],
   "source": [
    "d={[1,2]:\"list\"}"
   ]
  },
  {
   "cell_type": "code",
   "execution_count": 33,
   "metadata": {},
   "outputs": [
    {
     "ename": "TypeError",
     "evalue": "unhashable type: 'set'",
     "output_type": "error",
     "traceback": [
      "\u001b[0;31m---------------------------------------------------------------------------\u001b[0m",
      "\u001b[0;31mTypeError\u001b[0m                                 Traceback (most recent call last)",
      "\u001b[0;32m<ipython-input-33-9f3e47ebd1da>\u001b[0m in \u001b[0;36m<module>\u001b[0;34m()\u001b[0m\n\u001b[0;32m----> 1\u001b[0;31m \u001b[0md\u001b[0m\u001b[0;34m=\u001b[0m\u001b[0;34m{\u001b[0m\u001b[0;34m{\u001b[0m\u001b[0;36m1\u001b[0m\u001b[0;34m,\u001b[0m\u001b[0;36m2\u001b[0m\u001b[0;34m}\u001b[0m\u001b[0;34m:\u001b[0m\u001b[0;34m\"set\"\u001b[0m\u001b[0;34m}\u001b[0m\u001b[0;34m\u001b[0m\u001b[0m\n\u001b[0m",
      "\u001b[0;31mTypeError\u001b[0m: unhashable type: 'set'"
     ]
    }
   ],
   "source": [
    "d={{1,2}:\"set\"}"
   ]
  },
  {
   "cell_type": "code",
   "execution_count": 31,
   "metadata": {},
   "outputs": [
    {
     "ename": "TypeError",
     "evalue": "unhashable type: 'dict'",
     "output_type": "error",
     "traceback": [
      "\u001b[0;31m---------------------------------------------------------------------------\u001b[0m",
      "\u001b[0;31mTypeError\u001b[0m                                 Traceback (most recent call last)",
      "\u001b[0;32m<ipython-input-31-f44002888609>\u001b[0m in \u001b[0;36m<module>\u001b[0;34m()\u001b[0m\n\u001b[0;32m----> 1\u001b[0;31m \u001b[0md\u001b[0m\u001b[0;34m=\u001b[0m\u001b[0;34m{\u001b[0m\u001b[0;34m{\u001b[0m\u001b[0;36m1\u001b[0m\u001b[0;34m:\u001b[0m\u001b[0;36m2\u001b[0m\u001b[0;34m,\u001b[0m\u001b[0;36m3\u001b[0m\u001b[0;34m:\u001b[0m\u001b[0;36m4\u001b[0m\u001b[0;34m}\u001b[0m\u001b[0;34m:\u001b[0m\u001b[0;34m\"dict\"\u001b[0m\u001b[0;34m}\u001b[0m\u001b[0;34m\u001b[0m\u001b[0m\n\u001b[0m",
      "\u001b[0;31mTypeError\u001b[0m: unhashable type: 'dict'"
     ]
    }
   ],
   "source": [
    "d={{1:2,3:4}:\"dict\"}"
   ]
  },
  {
   "cell_type": "code",
   "execution_count": null,
   "metadata": {},
   "outputs": [],
   "source": []
  }
 ],
 "metadata": {
  "kernelspec": {
   "display_name": "Python 3",
   "language": "python",
   "name": "python3"
  },
  "language_info": {
   "codemirror_mode": {
    "name": "ipython",
    "version": 3
   },
   "file_extension": ".py",
   "mimetype": "text/x-python",
   "name": "python",
   "nbconvert_exporter": "python",
   "pygments_lexer": "ipython3",
   "version": "3.7.0"
  }
 },
 "nbformat": 4,
 "nbformat_minor": 2
}
