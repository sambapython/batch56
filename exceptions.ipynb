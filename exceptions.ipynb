{
 "cells": [
  {
   "cell_type": "code",
   "execution_count": 1,
   "metadata": {},
   "outputs": [
    {
     "ename": "SyntaxError",
     "evalue": "EOL while scanning string literal (<ipython-input-1-c9dc7ed0b243>, line 2)",
     "output_type": "error",
     "traceback": [
      "\u001b[0;36m  File \u001b[0;32m\"<ipython-input-1-c9dc7ed0b243>\"\u001b[0;36m, line \u001b[0;32m2\u001b[0m\n\u001b[0;31m    print(\"sdfsd)\u001b[0m\n\u001b[0m                 ^\u001b[0m\n\u001b[0;31mSyntaxError\u001b[0m\u001b[0;31m:\u001b[0m EOL while scanning string literal\n"
     ]
    }
   ],
   "source": [
    "print(\"welcome\")\n",
    "print(\"sdfsd)\n",
    "print(\"thank you\")"
   ]
  },
  {
   "cell_type": "code",
   "execution_count": 2,
   "metadata": {},
   "outputs": [
    {
     "name": "stdout",
     "output_type": "stream",
     "text": [
      "welcome\n"
     ]
    },
    {
     "ename": "ZeroDivisionError",
     "evalue": "division by zero",
     "output_type": "error",
     "traceback": [
      "\u001b[0;31m---------------------------------------------------------------------------\u001b[0m",
      "\u001b[0;31mZeroDivisionError\u001b[0m                         Traceback (most recent call last)",
      "\u001b[0;32m<ipython-input-2-1250680113ca>\u001b[0m in \u001b[0;36m<module>\u001b[0;34m()\u001b[0m\n\u001b[1;32m      1\u001b[0m \u001b[0mprint\u001b[0m\u001b[0;34m(\u001b[0m\u001b[0;34m\"welcome\"\u001b[0m\u001b[0;34m)\u001b[0m\u001b[0;34m\u001b[0m\u001b[0m\n\u001b[0;32m----> 2\u001b[0;31m \u001b[0mprint\u001b[0m\u001b[0;34m(\u001b[0m\u001b[0;36m1\u001b[0m\u001b[0;34m/\u001b[0m\u001b[0;36m0\u001b[0m\u001b[0;34m)\u001b[0m\u001b[0;34m\u001b[0m\u001b[0m\n\u001b[0m\u001b[1;32m      3\u001b[0m \u001b[0mprint\u001b[0m\u001b[0;34m(\u001b[0m\u001b[0;34m\"thank you\"\u001b[0m\u001b[0;34m)\u001b[0m\u001b[0;34m\u001b[0m\u001b[0m\n",
      "\u001b[0;31mZeroDivisionError\u001b[0m: division by zero"
     ]
    }
   ],
   "source": [
    "print(\"welcome\")\n",
    "print(1/0)\n",
    "print(\"thank you\")"
   ]
  },
  {
   "cell_type": "code",
   "execution_count": 3,
   "metadata": {},
   "outputs": [
    {
     "name": "stdout",
     "output_type": "stream",
     "text": [
      "welcome\n",
      "Enter a value:12\n",
      "enter b value:6\n",
      "before conversion: a=12,b=6\n",
      "after conversion: a=12,b=6\n",
      "ress=2.0\n",
      "thank you\n"
     ]
    }
   ],
   "source": [
    "print(\"welcome\")\n",
    "a=input(\"Enter a value:\")\n",
    "b=input(\"enter b value:\")\n",
    "print(\"before conversion: a=%s,b=%s\"%(a,b))\n",
    "a=int(a)\n",
    "b=int(b)\n",
    "print(\"after conversion: a=%s,b=%s\"%(a,b))\n",
    "res=a/b\n",
    "print(\"ress=%s\"%res)\n",
    "print(\"thank you\")"
   ]
  },
  {
   "cell_type": "code",
   "execution_count": 4,
   "metadata": {},
   "outputs": [
    {
     "name": "stdout",
     "output_type": "stream",
     "text": [
      "welcome\n",
      "Enter a value:1.2\n",
      "enter b value:0.6\n",
      "before conversion: a=1.2,b=0.6\n"
     ]
    },
    {
     "ename": "ValueError",
     "evalue": "invalid literal for int() with base 10: '1.2'",
     "output_type": "error",
     "traceback": [
      "\u001b[0;31m---------------------------------------------------------------------------\u001b[0m",
      "\u001b[0;31mValueError\u001b[0m                                Traceback (most recent call last)",
      "\u001b[0;32m<ipython-input-4-522f4ef7e5ef>\u001b[0m in \u001b[0;36m<module>\u001b[0;34m()\u001b[0m\n\u001b[1;32m      3\u001b[0m \u001b[0mb\u001b[0m\u001b[0;34m=\u001b[0m\u001b[0minput\u001b[0m\u001b[0;34m(\u001b[0m\u001b[0;34m\"enter b value:\"\u001b[0m\u001b[0;34m)\u001b[0m\u001b[0;34m\u001b[0m\u001b[0m\n\u001b[1;32m      4\u001b[0m \u001b[0mprint\u001b[0m\u001b[0;34m(\u001b[0m\u001b[0;34m\"before conversion: a=%s,b=%s\"\u001b[0m\u001b[0;34m%\u001b[0m\u001b[0;34m(\u001b[0m\u001b[0ma\u001b[0m\u001b[0;34m,\u001b[0m\u001b[0mb\u001b[0m\u001b[0;34m)\u001b[0m\u001b[0;34m)\u001b[0m\u001b[0;34m\u001b[0m\u001b[0m\n\u001b[0;32m----> 5\u001b[0;31m \u001b[0ma\u001b[0m\u001b[0;34m=\u001b[0m\u001b[0mint\u001b[0m\u001b[0;34m(\u001b[0m\u001b[0ma\u001b[0m\u001b[0;34m)\u001b[0m\u001b[0;34m\u001b[0m\u001b[0m\n\u001b[0m\u001b[1;32m      6\u001b[0m \u001b[0mb\u001b[0m\u001b[0;34m=\u001b[0m\u001b[0mint\u001b[0m\u001b[0;34m(\u001b[0m\u001b[0mb\u001b[0m\u001b[0;34m)\u001b[0m\u001b[0;34m\u001b[0m\u001b[0m\n\u001b[1;32m      7\u001b[0m \u001b[0mprint\u001b[0m\u001b[0;34m(\u001b[0m\u001b[0;34m\"after conversion: a=%s,b=%s\"\u001b[0m\u001b[0;34m%\u001b[0m\u001b[0;34m(\u001b[0m\u001b[0ma\u001b[0m\u001b[0;34m,\u001b[0m\u001b[0mb\u001b[0m\u001b[0;34m)\u001b[0m\u001b[0;34m)\u001b[0m\u001b[0;34m\u001b[0m\u001b[0m\n",
      "\u001b[0;31mValueError\u001b[0m: invalid literal for int() with base 10: '1.2'"
     ]
    }
   ],
   "source": [
    "print(\"welcome\")\n",
    "a=input(\"Enter a value:\")\n",
    "b=input(\"enter b value:\")\n",
    "print(\"before conversion: a=%s,b=%s\"%(a,b))\n",
    "a=int(a)\n",
    "b=int(b)\n",
    "print(\"after conversion: a=%s,b=%s\"%(a,b))\n",
    "res=a/b\n",
    "print(\"ress=%s\"%res)\n",
    "print(\"thank you\")"
   ]
  },
  {
   "cell_type": "code",
   "execution_count": 5,
   "metadata": {},
   "outputs": [
    {
     "name": "stdout",
     "output_type": "stream",
     "text": [
      "welcome\n",
      "Enter a value:12\n",
      "enter b value:6\n",
      "before conversion: a=12,b=6\n",
      "after conversion: a=12.0,b=6.0\n",
      "ress=2.0\n",
      "thank you\n"
     ]
    }
   ],
   "source": [
    "print(\"welcome\")\n",
    "a=input(\"Enter a value:\")\n",
    "b=input(\"enter b value:\")\n",
    "print(\"before conversion: a=%s,b=%s\"%(a,b))\n",
    "a=float(a)\n",
    "b=float(b)\n",
    "print(\"after conversion: a=%s,b=%s\"%(a,b))\n",
    "res=a/b\n",
    "print(\"ress=%s\"%res)\n",
    "print(\"thank you\")"
   ]
  },
  {
   "cell_type": "code",
   "execution_count": 6,
   "metadata": {},
   "outputs": [
    {
     "name": "stdout",
     "output_type": "stream",
     "text": [
      "welcome\n",
      "Enter a value:1.2\n",
      "enter b value:0.6\n",
      "before conversion: a=1.2,b=0.6\n",
      "after conversion: a=1.2,b=0.6\n",
      "ress=2.0\n",
      "thank you\n"
     ]
    }
   ],
   "source": [
    "print(\"welcome\")\n",
    "a=input(\"Enter a value:\")\n",
    "b=input(\"enter b value:\")\n",
    "print(\"before conversion: a=%s,b=%s\"%(a,b))\n",
    "a=float(a)\n",
    "b=float(b)\n",
    "print(\"after conversion: a=%s,b=%s\"%(a,b))\n",
    "res=a/b\n",
    "print(\"ress=%s\"%res)\n",
    "print(\"thank you\")"
   ]
  },
  {
   "cell_type": "code",
   "execution_count": 7,
   "metadata": {},
   "outputs": [
    {
     "name": "stdout",
     "output_type": "stream",
     "text": [
      "welcome\n",
      "Enter a value:12\n",
      "enter b value:0\n",
      "before conversion: a=12,b=0\n",
      "after conversion: a=12.0,b=0.0\n"
     ]
    },
    {
     "ename": "ZeroDivisionError",
     "evalue": "float division by zero",
     "output_type": "error",
     "traceback": [
      "\u001b[0;31m---------------------------------------------------------------------------\u001b[0m",
      "\u001b[0;31mZeroDivisionError\u001b[0m                         Traceback (most recent call last)",
      "\u001b[0;32m<ipython-input-7-229dec2a211d>\u001b[0m in \u001b[0;36m<module>\u001b[0;34m()\u001b[0m\n\u001b[1;32m      6\u001b[0m \u001b[0mb\u001b[0m\u001b[0;34m=\u001b[0m\u001b[0mfloat\u001b[0m\u001b[0;34m(\u001b[0m\u001b[0mb\u001b[0m\u001b[0;34m)\u001b[0m\u001b[0;34m\u001b[0m\u001b[0m\n\u001b[1;32m      7\u001b[0m \u001b[0mprint\u001b[0m\u001b[0;34m(\u001b[0m\u001b[0;34m\"after conversion: a=%s,b=%s\"\u001b[0m\u001b[0;34m%\u001b[0m\u001b[0;34m(\u001b[0m\u001b[0ma\u001b[0m\u001b[0;34m,\u001b[0m\u001b[0mb\u001b[0m\u001b[0;34m)\u001b[0m\u001b[0;34m)\u001b[0m\u001b[0;34m\u001b[0m\u001b[0m\n\u001b[0;32m----> 8\u001b[0;31m \u001b[0mres\u001b[0m\u001b[0;34m=\u001b[0m\u001b[0ma\u001b[0m\u001b[0;34m/\u001b[0m\u001b[0mb\u001b[0m\u001b[0;34m\u001b[0m\u001b[0m\n\u001b[0m\u001b[1;32m      9\u001b[0m \u001b[0mprint\u001b[0m\u001b[0;34m(\u001b[0m\u001b[0;34m\"ress=%s\"\u001b[0m\u001b[0;34m%\u001b[0m\u001b[0mres\u001b[0m\u001b[0;34m)\u001b[0m\u001b[0;34m\u001b[0m\u001b[0m\n\u001b[1;32m     10\u001b[0m \u001b[0mprint\u001b[0m\u001b[0;34m(\u001b[0m\u001b[0;34m\"thank you\"\u001b[0m\u001b[0;34m)\u001b[0m\u001b[0;34m\u001b[0m\u001b[0m\n",
      "\u001b[0;31mZeroDivisionError\u001b[0m: float division by zero"
     ]
    }
   ],
   "source": [
    "print(\"welcome\")\n",
    "a=input(\"Enter a value:\")\n",
    "b=input(\"enter b value:\")\n",
    "print(\"before conversion: a=%s,b=%s\"%(a,b))\n",
    "a=float(a)\n",
    "b=float(b)\n",
    "print(\"after conversion: a=%s,b=%s\"%(a,b))\n",
    "res=a/b\n",
    "print(\"ress=%s\"%res)\n",
    "print(\"thank you\")"
   ]
  },
  {
   "cell_type": "code",
   "execution_count": 8,
   "metadata": {},
   "outputs": [
    {
     "name": "stdout",
     "output_type": "stream",
     "text": [
      "welcome\n",
      "Enter a value:qer\n",
      "enter b value:we\n",
      "before conversion: a=qer,b=we\n"
     ]
    },
    {
     "ename": "ValueError",
     "evalue": "could not convert string to float: 'qer'",
     "output_type": "error",
     "traceback": [
      "\u001b[0;31m---------------------------------------------------------------------------\u001b[0m",
      "\u001b[0;31mValueError\u001b[0m                                Traceback (most recent call last)",
      "\u001b[0;32m<ipython-input-8-229dec2a211d>\u001b[0m in \u001b[0;36m<module>\u001b[0;34m()\u001b[0m\n\u001b[1;32m      3\u001b[0m \u001b[0mb\u001b[0m\u001b[0;34m=\u001b[0m\u001b[0minput\u001b[0m\u001b[0;34m(\u001b[0m\u001b[0;34m\"enter b value:\"\u001b[0m\u001b[0;34m)\u001b[0m\u001b[0;34m\u001b[0m\u001b[0m\n\u001b[1;32m      4\u001b[0m \u001b[0mprint\u001b[0m\u001b[0;34m(\u001b[0m\u001b[0;34m\"before conversion: a=%s,b=%s\"\u001b[0m\u001b[0;34m%\u001b[0m\u001b[0;34m(\u001b[0m\u001b[0ma\u001b[0m\u001b[0;34m,\u001b[0m\u001b[0mb\u001b[0m\u001b[0;34m)\u001b[0m\u001b[0;34m)\u001b[0m\u001b[0;34m\u001b[0m\u001b[0m\n\u001b[0;32m----> 5\u001b[0;31m \u001b[0ma\u001b[0m\u001b[0;34m=\u001b[0m\u001b[0mfloat\u001b[0m\u001b[0;34m(\u001b[0m\u001b[0ma\u001b[0m\u001b[0;34m)\u001b[0m\u001b[0;34m\u001b[0m\u001b[0m\n\u001b[0m\u001b[1;32m      6\u001b[0m \u001b[0mb\u001b[0m\u001b[0;34m=\u001b[0m\u001b[0mfloat\u001b[0m\u001b[0;34m(\u001b[0m\u001b[0mb\u001b[0m\u001b[0;34m)\u001b[0m\u001b[0;34m\u001b[0m\u001b[0m\n\u001b[1;32m      7\u001b[0m \u001b[0mprint\u001b[0m\u001b[0;34m(\u001b[0m\u001b[0;34m\"after conversion: a=%s,b=%s\"\u001b[0m\u001b[0;34m%\u001b[0m\u001b[0;34m(\u001b[0m\u001b[0ma\u001b[0m\u001b[0;34m,\u001b[0m\u001b[0mb\u001b[0m\u001b[0;34m)\u001b[0m\u001b[0;34m)\u001b[0m\u001b[0;34m\u001b[0m\u001b[0m\n",
      "\u001b[0;31mValueError\u001b[0m: could not convert string to float: 'qer'"
     ]
    }
   ],
   "source": [
    "print(\"welcome\")\n",
    "a=input(\"Enter a value:\")\n",
    "b=input(\"enter b value:\")\n",
    "print(\"before conversion: a=%s,b=%s\"%(a,b))\n",
    "a=float(a)\n",
    "b=float(b)\n",
    "print(\"after conversion: a=%s,b=%s\"%(a,b))\n",
    "res=a/b\n",
    "print(\"ress=%s\"%res)\n",
    "print(\"thank you\")"
   ]
  },
  {
   "cell_type": "code",
   "execution_count": 9,
   "metadata": {},
   "outputs": [
    {
     "name": "stdout",
     "output_type": "stream",
     "text": [
      "welcome\n",
      "Enter a value:12\n",
      "enter b value:2\n",
      "before conversion: a=12,b=2\n",
      "after conversion: a=12.0,b=2.0\n",
      "ress=6.0\n",
      "thank you\n",
      "main block statements\n"
     ]
    }
   ],
   "source": [
    "try:\n",
    "    print(\"welcome\")\n",
    "    a=input(\"Enter a value:\")\n",
    "    b=input(\"enter b value:\")\n",
    "    print(\"before conversion: a=%s,b=%s\"%(a,b))\n",
    "    a=float(a)\n",
    "    b=float(b)\n",
    "    print(\"after conversion: a=%s,b=%s\"%(a,b))\n",
    "    res=a/b\n",
    "    print(\"ress=%s\"%res)\n",
    "    print(\"thank you\")\n",
    "except:\n",
    "    print(\"something went wrong\")\n",
    "print(\"main block statements\")"
   ]
  },
  {
   "cell_type": "code",
   "execution_count": 10,
   "metadata": {},
   "outputs": [
    {
     "name": "stdout",
     "output_type": "stream",
     "text": [
      "welcome\n",
      "Enter a value:12\n",
      "enter b value:0\n",
      "before conversion: a=12,b=0\n",
      "after conversion: a=12.0,b=0.0\n",
      "something went wrong\n",
      "main block statements\n"
     ]
    }
   ],
   "source": [
    "try:\n",
    "    print(\"welcome\")\n",
    "    a=input(\"Enter a value:\")\n",
    "    b=input(\"enter b value:\")\n",
    "    print(\"before conversion: a=%s,b=%s\"%(a,b))\n",
    "    a=float(a)\n",
    "    b=float(b)\n",
    "    print(\"after conversion: a=%s,b=%s\"%(a,b))\n",
    "    res=a/b\n",
    "    print(\"ress=%s\"%res)\n",
    "    print(\"thank you\")\n",
    "except:\n",
    "    print(\"something went wrong\")\n",
    "print(\"main block statements\")"
   ]
  },
  {
   "cell_type": "code",
   "execution_count": 11,
   "metadata": {},
   "outputs": [
    {
     "name": "stdout",
     "output_type": "stream",
     "text": [
      "welcome\n",
      "Enter a value:wer\n",
      "enter b value:34\n",
      "before conversion: a=wer,b=34\n",
      "something went wrong\n",
      "main block statements\n"
     ]
    }
   ],
   "source": [
    "try:\n",
    "    print(\"welcome\")\n",
    "    a=input(\"Enter a value:\")\n",
    "    b=input(\"enter b value:\")\n",
    "    print(\"before conversion: a=%s,b=%s\"%(a,b))\n",
    "    a=float(a)\n",
    "    b=float(b)\n",
    "    print(\"after conversion: a=%s,b=%s\"%(a,b))\n",
    "    res=a/b\n",
    "    print(\"ress=%s\"%res)\n",
    "    print(\"thank you\")\n",
    "except:\n",
    "    print(\"something went wrong\")\n",
    "print(\"main block statements\")"
   ]
  },
  {
   "cell_type": "code",
   "execution_count": 12,
   "metadata": {},
   "outputs": [
    {
     "name": "stdout",
     "output_type": "stream",
     "text": [
      "welcome\n",
      "Enter a value:12\n",
      "enter b value:6\n",
      "before conversion: a=12,b=6\n",
      "after conversion: a=12.0,b=6.0\n",
      "ress=2.0\n",
      "thank you\n",
      "main block statements\n"
     ]
    }
   ],
   "source": [
    "print(\"welcome\")\n",
    "a=input(\"Enter a value:\")\n",
    "b=input(\"enter b value:\")\n",
    "print(\"before conversion: a=%s,b=%s\"%(a,b))\n",
    "try:\n",
    "    a=float(a)\n",
    "    b=float(b)\n",
    "    print(\"after conversion: a=%s,b=%s\"%(a,b))\n",
    "    res=a/b\n",
    "    print(\"ress=%s\"%res)\n",
    "except:\n",
    "    print(\"something went wrong\")\n",
    "print(\"thank you\")\n",
    "print(\"main block statements\")"
   ]
  },
  {
   "cell_type": "code",
   "execution_count": 13,
   "metadata": {},
   "outputs": [
    {
     "name": "stdout",
     "output_type": "stream",
     "text": [
      "welcome\n",
      "Enter a value:12\n",
      "enter b value:0\n",
      "before conversion: a=12,b=0\n",
      "after conversion: a=12.0,b=0.0\n",
      "something went wrong\n",
      "thank you\n",
      "main block statements\n"
     ]
    }
   ],
   "source": [
    "print(\"welcome\")\n",
    "a=input(\"Enter a value:\")\n",
    "b=input(\"enter b value:\")\n",
    "print(\"before conversion: a=%s,b=%s\"%(a,b))\n",
    "try:\n",
    "    a=float(a)\n",
    "    b=float(b)\n",
    "    print(\"after conversion: a=%s,b=%s\"%(a,b))\n",
    "    res=a/b\n",
    "    print(\"ress=%s\"%res)\n",
    "except:\n",
    "    print(\"something went wrong\")\n",
    "print(\"thank you\")\n",
    "print(\"main block statements\")"
   ]
  },
  {
   "cell_type": "code",
   "execution_count": 14,
   "metadata": {},
   "outputs": [
    {
     "name": "stdout",
     "output_type": "stream",
     "text": [
      "welcome\n",
      "Enter a value:ert\n",
      "enter b value:er\n",
      "before conversion: a=ert,b=er\n",
      "something went wrong\n",
      "thank you\n",
      "main block statements\n"
     ]
    }
   ],
   "source": [
    "print(\"welcome\")\n",
    "a=input(\"Enter a value:\")\n",
    "b=input(\"enter b value:\")\n",
    "print(\"before conversion: a=%s,b=%s\"%(a,b))\n",
    "try:\n",
    "    a=float(a)\n",
    "    b=float(b)\n",
    "    print(\"after conversion: a=%s,b=%s\"%(a,b))\n",
    "    res=a/b\n",
    "    print(\"ress=%s\"%res)\n",
    "except:\n",
    "    print(\"something went wrong\")\n",
    "print(\"thank you\")\n",
    "print(\"main block statements\")"
   ]
  },
  {
   "cell_type": "code",
   "execution_count": 15,
   "metadata": {},
   "outputs": [
    {
     "name": "stdout",
     "output_type": "stream",
     "text": [
      "welcome\n",
      "Enter a value:12\n",
      "enter b value:6\n",
      "before conversion: a=12,b=6\n",
      "after conversion: a=12.0,b=6.0\n",
      "ress=2.0\n",
      "thank you\n",
      "main block statements\n"
     ]
    }
   ],
   "source": [
    "print(\"welcome\")\n",
    "a=input(\"Enter a value:\")\n",
    "b=input(\"enter b value:\")\n",
    "print(\"before conversion: a=%s,b=%s\"%(a,b))\n",
    "try:\n",
    "    a=float(a)\n",
    "    b=float(b)\n",
    "    print(\"after conversion: a=%s,b=%s\"%(a,b))\n",
    "    res=a/b\n",
    "    print(\"ress=%s\"%res)\n",
    "except Exception as err:\n",
    "    print(\"ERROR:\",err)\n",
    "print(\"thank you\")\n",
    "print(\"main block statements\")"
   ]
  },
  {
   "cell_type": "code",
   "execution_count": 16,
   "metadata": {},
   "outputs": [
    {
     "name": "stdout",
     "output_type": "stream",
     "text": [
      "welcome\n",
      "Enter a value:12\n",
      "enter b value:0\n",
      "before conversion: a=12,b=0\n",
      "after conversion: a=12.0,b=0.0\n",
      "ERROR: float division by zero\n",
      "thank you\n",
      "main block statements\n"
     ]
    }
   ],
   "source": [
    "print(\"welcome\")\n",
    "a=input(\"Enter a value:\")\n",
    "b=input(\"enter b value:\")\n",
    "print(\"before conversion: a=%s,b=%s\"%(a,b))\n",
    "try:\n",
    "    a=float(a)\n",
    "    b=float(b)\n",
    "    print(\"after conversion: a=%s,b=%s\"%(a,b))\n",
    "    res=a/b\n",
    "    print(\"ress=%s\"%res)\n",
    "except Exception as err:\n",
    "    print(\"ERROR:\",err)\n",
    "print(\"thank you\")\n",
    "print(\"main block statements\")"
   ]
  },
  {
   "cell_type": "code",
   "execution_count": 17,
   "metadata": {},
   "outputs": [
    {
     "name": "stdout",
     "output_type": "stream",
     "text": [
      "welcome\n",
      "Enter a value:qwr\n",
      "enter b value:rt\n",
      "before conversion: a=qwr,b=rt\n",
      "ERROR: could not convert string to float: 'qwr'\n",
      "thank you\n",
      "main block statements\n"
     ]
    }
   ],
   "source": [
    "print(\"welcome\")\n",
    "a=input(\"Enter a value:\")\n",
    "b=input(\"enter b value:\")\n",
    "print(\"before conversion: a=%s,b=%s\"%(a,b))\n",
    "try:\n",
    "    a=float(a)\n",
    "    b=float(b)\n",
    "    print(\"after conversion: a=%s,b=%s\"%(a,b))\n",
    "    res=a/b\n",
    "    print(\"ress=%s\"%res)\n",
    "except Exception as err:\n",
    "    print(\"ERROR:\",err)\n",
    "print(\"thank you\")\n",
    "print(\"main block statements\")"
   ]
  },
  {
   "cell_type": "code",
   "execution_count": 18,
   "metadata": {},
   "outputs": [
    {
     "name": "stdout",
     "output_type": "stream",
     "text": [
      "welcome\n",
      "Enter a value:12\n",
      "enter b value:6\n",
      "before conversion: a=12,b=6\n",
      "after conversion: a=12.0,b=6.0\n",
      "ress=2.0\n",
      "thank you\n",
      "main block statements\n"
     ]
    }
   ],
   "source": [
    "print(\"welcome\")\n",
    "a=input(\"Enter a value:\")\n",
    "b=input(\"enter b value:\")\n",
    "print(\"before conversion: a=%s,b=%s\"%(a,b))\n",
    "try:\n",
    "    a=float(a)\n",
    "    b=float(b)\n",
    "    print(\"after conversion: a=%s,b=%s\"%(a,b))\n",
    "    res=a/b\n",
    "    print(\"ress=%s\"%res)\n",
    "except ZeroDivisionError as err:\n",
    "    print(\"expecting b!=0\")\n",
    "except ValueError as err:\n",
    "    print(\"expecting only digits\")\n",
    "except Exception as err:\n",
    "    print(\"ERROR:\",err)\n",
    "print(\"thank you\")\n",
    "print(\"main block statements\")"
   ]
  },
  {
   "cell_type": "code",
   "execution_count": 19,
   "metadata": {},
   "outputs": [
    {
     "name": "stdout",
     "output_type": "stream",
     "text": [
      "welcome\n",
      "Enter a value:12\n",
      "enter b value:0\n",
      "before conversion: a=12,b=0\n",
      "after conversion: a=12.0,b=0.0\n",
      "expecting b!=0\n",
      "thank you\n",
      "main block statements\n"
     ]
    }
   ],
   "source": [
    "print(\"welcome\")\n",
    "a=input(\"Enter a value:\")\n",
    "b=input(\"enter b value:\")\n",
    "print(\"before conversion: a=%s,b=%s\"%(a,b))\n",
    "try:\n",
    "    a=float(a)\n",
    "    b=float(b)\n",
    "    print(\"after conversion: a=%s,b=%s\"%(a,b))\n",
    "    res=a/b\n",
    "    print(\"ress=%s\"%res)\n",
    "except ZeroDivisionError as err:\n",
    "    print(\"expecting b!=0\")\n",
    "except ValueError as err:\n",
    "    print(\"expecting only digits\")\n",
    "except Exception as err:\n",
    "    print(\"ERROR:\",err)\n",
    "print(\"thank you\")\n",
    "print(\"main block statements\")"
   ]
  },
  {
   "cell_type": "code",
   "execution_count": 20,
   "metadata": {},
   "outputs": [
    {
     "name": "stdout",
     "output_type": "stream",
     "text": [
      "welcome\n",
      "Enter a value:wer\n",
      "enter b value:wer\n",
      "before conversion: a=wer,b=wer\n",
      "expecting only digits\n",
      "thank you\n",
      "main block statements\n"
     ]
    }
   ],
   "source": [
    "print(\"welcome\")\n",
    "a=input(\"Enter a value:\")\n",
    "b=input(\"enter b value:\")\n",
    "print(\"before conversion: a=%s,b=%s\"%(a,b))\n",
    "try:\n",
    "    a=float(a)\n",
    "    b=float(b)\n",
    "    print(\"after conversion: a=%s,b=%s\"%(a,b))\n",
    "    res=a/b\n",
    "    print(\"ress=%s\"%res)\n",
    "except ZeroDivisionError as err:\n",
    "    print(\"expecting b!=0\")\n",
    "except ValueError as err:\n",
    "    print(\"expecting only digits\")\n",
    "except Exception as err:\n",
    "    print(\"ERROR:\",err)\n",
    "print(\"thank you\")\n",
    "print(\"main block statements\")"
   ]
  },
  {
   "cell_type": "code",
   "execution_count": null,
   "metadata": {},
   "outputs": [],
   "source": []
  }
 ],
 "metadata": {
  "kernelspec": {
   "display_name": "Python 3",
   "language": "python",
   "name": "python3"
  },
  "language_info": {
   "codemirror_mode": {
    "name": "ipython",
    "version": 3
   },
   "file_extension": ".py",
   "mimetype": "text/x-python",
   "name": "python",
   "nbconvert_exporter": "python",
   "pygments_lexer": "ipython3",
   "version": "3.7.0"
  }
 },
 "nbformat": 4,
 "nbformat_minor": 2
}
