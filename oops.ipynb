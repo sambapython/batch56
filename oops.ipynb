{
 "cells": [
  {
   "cell_type": "code",
   "execution_count": 1,
   "metadata": {},
   "outputs": [
    {
     "name": "stdout",
     "output_type": "stream",
     "text": [
      "this is class\n"
     ]
    }
   ],
   "source": [
    "def fun():\n",
    "    print(\"this is fun\")\n",
    "class c1:\n",
    "    print(\"this is class\")"
   ]
  },
  {
   "cell_type": "code",
   "execution_count": 2,
   "metadata": {},
   "outputs": [
    {
     "name": "stdout",
     "output_type": "stream",
     "text": [
      "this is class\n",
      "1000 2000\n",
      "this s fun1 in c1\n"
     ]
    }
   ],
   "source": [
    "def fun():\n",
    "    print(\"this is fun\")\n",
    "class c1:\n",
    "    print(\"this is class\")\n",
    "    a=1000\n",
    "    b=2000\n",
    "    def fun1(x):\n",
    "        print(\"this s fun1 in c1\")\n",
    "    print(a,b)\n",
    "    fun1(100)"
   ]
  },
  {
   "cell_type": "code",
   "execution_count": 3,
   "metadata": {},
   "outputs": [
    {
     "name": "stdout",
     "output_type": "stream",
     "text": [
      "this is class\n"
     ]
    },
    {
     "ename": "NameError",
     "evalue": "name 'a' is not defined",
     "output_type": "error",
     "traceback": [
      "\u001b[0;31m---------------------------------------------------------------------------\u001b[0m",
      "\u001b[0;31mNameError\u001b[0m                                 Traceback (most recent call last)",
      "\u001b[0;32m<ipython-input-3-b3e7af5234f6>\u001b[0m in \u001b[0;36m<module>\u001b[0;34m()\u001b[0m\n\u001b[1;32m      7\u001b[0m     \u001b[0;32mdef\u001b[0m \u001b[0mfun1\u001b[0m\u001b[0;34m(\u001b[0m\u001b[0mx\u001b[0m\u001b[0;34m)\u001b[0m\u001b[0;34m:\u001b[0m\u001b[0;34m\u001b[0m\u001b[0m\n\u001b[1;32m      8\u001b[0m         \u001b[0mprint\u001b[0m\u001b[0;34m(\u001b[0m\u001b[0;34m\"this s fun1 in c1\"\u001b[0m\u001b[0;34m)\u001b[0m\u001b[0;34m\u001b[0m\u001b[0m\n\u001b[0;32m----> 9\u001b[0;31m \u001b[0mprint\u001b[0m\u001b[0;34m(\u001b[0m\u001b[0ma\u001b[0m\u001b[0;34m,\u001b[0m\u001b[0mb\u001b[0m\u001b[0;34m)\u001b[0m\u001b[0;34m\u001b[0m\u001b[0m\n\u001b[0m\u001b[1;32m     10\u001b[0m \u001b[0mfun1\u001b[0m\u001b[0;34m(\u001b[0m\u001b[0;36m100\u001b[0m\u001b[0;34m)\u001b[0m\u001b[0;34m\u001b[0m\u001b[0m\n",
      "\u001b[0;31mNameError\u001b[0m: name 'a' is not defined"
     ]
    }
   ],
   "source": [
    "def fun():\n",
    "    print(\"this is fun\")\n",
    "class c1:\n",
    "    print(\"this is class\")\n",
    "    a=1000\n",
    "    b=2000\n",
    "    def fun1(x):\n",
    "        print(\"this s fun1 in c1\")\n",
    "print(a,b)\n",
    "fun1(100)"
   ]
  },
  {
   "cell_type": "code",
   "execution_count": 4,
   "metadata": {},
   "outputs": [
    {
     "name": "stdout",
     "output_type": "stream",
     "text": [
      "this is class\n",
      "1000 2000\n",
      "this s fun1 in c1\n"
     ]
    }
   ],
   "source": [
    "def fun():\n",
    "    print(\"this is fun\")\n",
    "class c1:\n",
    "    print(\"this is class\")\n",
    "    a=1000\n",
    "    b=2000\n",
    "    def fun1(x):\n",
    "        print(\"this s fun1 in c1\")\n",
    "print(c1.a,c1.b)\n",
    "c1.fun1(100)"
   ]
  },
  {
   "cell_type": "code",
   "execution_count": 5,
   "metadata": {},
   "outputs": [
    {
     "name": "stdout",
     "output_type": "stream",
     "text": [
      "100\n"
     ]
    }
   ],
   "source": [
    "class Emp:\n",
    "    def fun(x):\n",
    "        print(x)\n",
    "Emp.fun(100)"
   ]
  },
  {
   "cell_type": "code",
   "execution_count": 6,
   "metadata": {},
   "outputs": [
    {
     "name": "stdout",
     "output_type": "stream",
     "text": [
      "1000\n"
     ]
    }
   ],
   "source": [
    "class Emp:\n",
    "    def fun(x):\n",
    "        print(x)\n",
    "    def sal_cal(x):\n",
    "        print(x)\n",
    "jay=Emp()\n",
    "jay.name=\"JAYARAM\"\n",
    "jay.age=23\n",
    "jay.sal=2345456\n",
    "Emp.sal_cal(1000)"
   ]
  },
  {
   "cell_type": "code",
   "execution_count": 7,
   "metadata": {},
   "outputs": [
    {
     "name": "stdout",
     "output_type": "stream",
     "text": [
      "<__main__.Emp object at 0x7fecf9f4ee80>\n"
     ]
    }
   ],
   "source": [
    "class Emp:\n",
    "    def fun(x):\n",
    "        print(x)\n",
    "    def sal_cal(x):\n",
    "        print(x)\n",
    "jay=Emp()\n",
    "jay.name=\"JAYARAM\"\n",
    "jay.age=23\n",
    "jay.sal=2345456\n",
    "Emp.sal_cal(jay)"
   ]
  },
  {
   "cell_type": "code",
   "execution_count": 8,
   "metadata": {},
   "outputs": [
    {
     "name": "stdout",
     "output_type": "stream",
     "text": [
      "2345456\n"
     ]
    }
   ],
   "source": [
    "class Emp:\n",
    "    def fun(x):\n",
    "        print(x)\n",
    "    def sal_cal(x):\n",
    "        print(x.sal)\n",
    "jay=Emp()\n",
    "jay.name=\"JAYARAM\"\n",
    "jay.age=23\n",
    "jay.sal=2345456\n",
    "Emp.sal_cal(jay)"
   ]
  },
  {
   "cell_type": "code",
   "execution_count": 9,
   "metadata": {},
   "outputs": [
    {
     "name": "stdout",
     "output_type": "stream",
     "text": [
      "2580001.6\n"
     ]
    }
   ],
   "source": [
    "class Emp:\n",
    "    def fun(x):\n",
    "        print(x)\n",
    "    def sal_cal(x):\n",
    "        print(x.sal+x.sal*0.1)\n",
    "jay=Emp()\n",
    "jay.name=\"JAYARAM\"\n",
    "jay.age=23\n",
    "jay.sal=2345456\n",
    "Emp.sal_cal(jay)"
   ]
  },
  {
   "cell_type": "code",
   "execution_count": 10,
   "metadata": {},
   "outputs": [
    {
     "name": "stdout",
     "output_type": "stream",
     "text": [
      "2580001.6\n"
     ]
    },
    {
     "ename": "AttributeError",
     "evalue": "'Emp' object has no attribute 'sal'",
     "output_type": "error",
     "traceback": [
      "\u001b[0;31m---------------------------------------------------------------------------\u001b[0m",
      "\u001b[0;31mAttributeError\u001b[0m                            Traceback (most recent call last)",
      "\u001b[0;32m<ipython-input-10-3d45e074b70b>\u001b[0m in \u001b[0;36m<module>\u001b[0;34m()\u001b[0m\n\u001b[1;32m     10\u001b[0m \u001b[0mEmp\u001b[0m\u001b[0;34m.\u001b[0m\u001b[0msal_cal\u001b[0m\u001b[0;34m(\u001b[0m\u001b[0mjay\u001b[0m\u001b[0;34m)\u001b[0m\u001b[0;34m\u001b[0m\u001b[0m\n\u001b[1;32m     11\u001b[0m \u001b[0mvedha\u001b[0m\u001b[0;34m=\u001b[0m\u001b[0mEmp\u001b[0m\u001b[0;34m(\u001b[0m\u001b[0;34m)\u001b[0m\u001b[0;34m\u001b[0m\u001b[0m\n\u001b[0;32m---> 12\u001b[0;31m \u001b[0mEmp\u001b[0m\u001b[0;34m.\u001b[0m\u001b[0msal_cal\u001b[0m\u001b[0;34m(\u001b[0m\u001b[0mvedha\u001b[0m\u001b[0;34m)\u001b[0m\u001b[0;34m\u001b[0m\u001b[0m\n\u001b[0m",
      "\u001b[0;32m<ipython-input-10-3d45e074b70b>\u001b[0m in \u001b[0;36msal_cal\u001b[0;34m(x)\u001b[0m\n\u001b[1;32m      3\u001b[0m         \u001b[0mprint\u001b[0m\u001b[0;34m(\u001b[0m\u001b[0mx\u001b[0m\u001b[0;34m)\u001b[0m\u001b[0;34m\u001b[0m\u001b[0m\n\u001b[1;32m      4\u001b[0m     \u001b[0;32mdef\u001b[0m \u001b[0msal_cal\u001b[0m\u001b[0;34m(\u001b[0m\u001b[0mx\u001b[0m\u001b[0;34m)\u001b[0m\u001b[0;34m:\u001b[0m\u001b[0;34m\u001b[0m\u001b[0m\n\u001b[0;32m----> 5\u001b[0;31m         \u001b[0mprint\u001b[0m\u001b[0;34m(\u001b[0m\u001b[0mx\u001b[0m\u001b[0;34m.\u001b[0m\u001b[0msal\u001b[0m\u001b[0;34m+\u001b[0m\u001b[0mx\u001b[0m\u001b[0;34m.\u001b[0m\u001b[0msal\u001b[0m\u001b[0;34m*\u001b[0m\u001b[0;36m0.1\u001b[0m\u001b[0;34m)\u001b[0m\u001b[0;34m\u001b[0m\u001b[0m\n\u001b[0m\u001b[1;32m      6\u001b[0m \u001b[0mjay\u001b[0m\u001b[0;34m=\u001b[0m\u001b[0mEmp\u001b[0m\u001b[0;34m(\u001b[0m\u001b[0;34m)\u001b[0m\u001b[0;34m\u001b[0m\u001b[0m\n\u001b[1;32m      7\u001b[0m \u001b[0mjay\u001b[0m\u001b[0;34m.\u001b[0m\u001b[0mname\u001b[0m\u001b[0;34m=\u001b[0m\u001b[0;34m\"JAYARAM\"\u001b[0m\u001b[0;34m\u001b[0m\u001b[0m\n",
      "\u001b[0;31mAttributeError\u001b[0m: 'Emp' object has no attribute 'sal'"
     ]
    }
   ],
   "source": [
    "class Emp:\n",
    "    def fun(x):\n",
    "        print(x)\n",
    "    def sal_cal(x):\n",
    "        print(x.sal+x.sal*0.1)\n",
    "jay=Emp()\n",
    "jay.name=\"JAYARAM\"\n",
    "jay.age=23\n",
    "jay.sal=2345456\n",
    "Emp.sal_cal(jay)\n",
    "vedha=Emp()\n",
    "Emp.sal_cal(vedha)"
   ]
  },
  {
   "cell_type": "code",
   "execution_count": 11,
   "metadata": {},
   "outputs": [
    {
     "name": "stdout",
     "output_type": "stream",
     "text": [
      "380245.8\n",
      "47534801.6\n"
     ]
    }
   ],
   "source": [
    "class Emp:\n",
    "    def set_data(x,e_name,e_age,e_sal):\n",
    "        x.name=e_name\n",
    "        x.age=e_age\n",
    "        x.sal=e_sal\n",
    "    def fun(x):\n",
    "        print(x)\n",
    "    def sal_cal(x):\n",
    "        print(x.sal+x.sal*0.1)\n",
    "jay=Emp()\n",
    "Emp.set_data(jay,\"JAYARAM\",23,345678)\n",
    "#jay.name=\"JAYARAM\"\n",
    "#jay.age=23\n",
    "#jay.sal=2345456\n",
    "Emp.sal_cal(jay)\n",
    "vedha=Emp()\n",
    "Emp.set_data(vedha,\"Vedhanvesh\",34,43213456)\n",
    "Emp.sal_cal(vedha)"
   ]
  },
  {
   "cell_type": "code",
   "execution_count": 12,
   "metadata": {},
   "outputs": [
    {
     "name": "stdout",
     "output_type": "stream",
     "text": [
      "380245.8\n",
      "47534801.6\n"
     ]
    }
   ],
   "source": [
    "class Emp:\n",
    "    company_name=\"Khyaathi\"\n",
    "    company_address=\"maithrivanam\"\n",
    "    def set_data(x,e_name,e_age,e_sal):\n",
    "        x.name=e_name\n",
    "        x.age=e_age\n",
    "        x.sal=e_sal\n",
    "    def fun(x):\n",
    "        print(x)\n",
    "    def sal_cal(x):\n",
    "        print(x.sal+x.sal*0.1)\n",
    "jay=Emp()\n",
    "#Emp.set_data(jay,\"JAYARAM\",23,345678)\n",
    "jay.set_data(\"JAYARAM\",23,345678)\n",
    "#Emp.sal_cal(jay)\n",
    "jay.sal_cal()\n",
    "vedha=Emp()\n",
    "#Emp.set_data(vedha,\"Vedhanvesh\",34,43213456)\n",
    "vedha.set_data(\"Vedhanvesh\",34,43213456)\n",
    "#Emp.sal_cal(vedha)\n",
    "vedha.sal_cal()"
   ]
  },
  {
   "cell_type": "code",
   "execution_count": 13,
   "metadata": {},
   "outputs": [
    {
     "name": "stdout",
     "output_type": "stream",
     "text": [
      "380245.8\n",
      "47534801.6\n"
     ]
    }
   ],
   "source": [
    "class Emp:\n",
    "    company_name=\"Khyaathi\"\n",
    "    company_address=\"maithrivanam\"\n",
    "    def set_data(x,e_name,e_age,e_sal):\n",
    "        x.name=e_name\n",
    "        x.age=e_age\n",
    "        x.sal=e_sal\n",
    "    def fun(x):\n",
    "        print(x)\n",
    "    def sal_cal(x):\n",
    "        print(x.sal+x.sal*0.1)\n",
    "jay=Emp()\n",
    "jay.set_data(\"JAYARAM\",23,345678)\n",
    "jay.sal_cal()\n",
    "vedha=Emp()\n",
    "vedha.set_data(\"Vedhanvesh\",34,43213456)\n",
    "vedha.sal_cal()"
   ]
  },
  {
   "cell_type": "code",
   "execution_count": 14,
   "metadata": {},
   "outputs": [
    {
     "ename": "TypeError",
     "evalue": "sal_cal() takes 1 positional argument but 2 were given",
     "output_type": "error",
     "traceback": [
      "\u001b[0;31m---------------------------------------------------------------------------\u001b[0m",
      "\u001b[0;31mTypeError\u001b[0m                                 Traceback (most recent call last)",
      "\u001b[0;32m<ipython-input-14-1f4d992bae0b>\u001b[0m in \u001b[0;36m<module>\u001b[0;34m()\u001b[0m\n\u001b[1;32m     12\u001b[0m \u001b[0mjay\u001b[0m\u001b[0;34m=\u001b[0m\u001b[0mEmp\u001b[0m\u001b[0;34m(\u001b[0m\u001b[0;34m)\u001b[0m\u001b[0;34m\u001b[0m\u001b[0m\n\u001b[1;32m     13\u001b[0m \u001b[0mjay\u001b[0m\u001b[0;34m.\u001b[0m\u001b[0mset_data\u001b[0m\u001b[0;34m(\u001b[0m\u001b[0;34m\"JAYARAM\"\u001b[0m\u001b[0;34m,\u001b[0m\u001b[0;36m23\u001b[0m\u001b[0;34m,\u001b[0m\u001b[0;36m345678\u001b[0m\u001b[0;34m)\u001b[0m\u001b[0;34m\u001b[0m\u001b[0m\n\u001b[0;32m---> 14\u001b[0;31m \u001b[0mjay\u001b[0m\u001b[0;34m.\u001b[0m\u001b[0msal_cal\u001b[0m\u001b[0;34m(\u001b[0m\u001b[0;36m100\u001b[0m\u001b[0;34m)\u001b[0m\u001b[0;34m\u001b[0m\u001b[0m\n\u001b[0m\u001b[1;32m     15\u001b[0m \u001b[0mvedha\u001b[0m\u001b[0;34m=\u001b[0m\u001b[0mEmp\u001b[0m\u001b[0;34m(\u001b[0m\u001b[0;34m)\u001b[0m\u001b[0;34m\u001b[0m\u001b[0m\n\u001b[1;32m     16\u001b[0m \u001b[0mvedha\u001b[0m\u001b[0;34m.\u001b[0m\u001b[0mset_data\u001b[0m\u001b[0;34m(\u001b[0m\u001b[0;34m\"Vedhanvesh\"\u001b[0m\u001b[0;34m,\u001b[0m\u001b[0;36m34\u001b[0m\u001b[0;34m,\u001b[0m\u001b[0;36m43213456\u001b[0m\u001b[0;34m)\u001b[0m\u001b[0;34m\u001b[0m\u001b[0m\n",
      "\u001b[0;31mTypeError\u001b[0m: sal_cal() takes 1 positional argument but 2 were given"
     ]
    }
   ],
   "source": [
    "class Emp:\n",
    "    company_name=\"Khyaathi\"\n",
    "    company_address=\"maithrivanam\"\n",
    "    def set_data(x,e_name,e_age,e_sal):\n",
    "        x.name=e_name\n",
    "        x.age=e_age\n",
    "        x.sal=e_sal\n",
    "    def fun(x):\n",
    "        print(x)\n",
    "    def sal_cal(x):\n",
    "        print(x.sal+x.sal*0.1)\n",
    "jay=Emp()\n",
    "jay.set_data(\"JAYARAM\",23,345678)\n",
    "jay.sal_cal(100)\n",
    "vedha=Emp()\n",
    "vedha.set_data(\"Vedhanvesh\",34,43213456)\n",
    "vedha.sal_cal(1000)"
   ]
  },
  {
   "cell_type": "code",
   "execution_count": 15,
   "metadata": {},
   "outputs": [
    {
     "name": "stdout",
     "output_type": "stream",
     "text": [
      "380245.8\n",
      "47534801.6\n"
     ]
    },
    {
     "ename": "AttributeError",
     "evalue": "'Emp' object has no attribute 'sal'",
     "output_type": "error",
     "traceback": [
      "\u001b[0;31m---------------------------------------------------------------------------\u001b[0m",
      "\u001b[0;31mAttributeError\u001b[0m                            Traceback (most recent call last)",
      "\u001b[0;32m<ipython-input-15-3e993c38a276>\u001b[0m in \u001b[0;36m<module>\u001b[0;34m()\u001b[0m\n\u001b[1;32m     17\u001b[0m \u001b[0mvedha\u001b[0m\u001b[0;34m.\u001b[0m\u001b[0msal_cal\u001b[0m\u001b[0;34m(\u001b[0m\u001b[0;34m)\u001b[0m\u001b[0;34m\u001b[0m\u001b[0m\n\u001b[1;32m     18\u001b[0m \u001b[0msai\u001b[0m\u001b[0;34m=\u001b[0m\u001b[0mEmp\u001b[0m\u001b[0;34m(\u001b[0m\u001b[0;34m)\u001b[0m\u001b[0;34m\u001b[0m\u001b[0m\n\u001b[0;32m---> 19\u001b[0;31m \u001b[0msai\u001b[0m\u001b[0;34m.\u001b[0m\u001b[0msal_cal\u001b[0m\u001b[0;34m(\u001b[0m\u001b[0;34m)\u001b[0m\u001b[0;34m\u001b[0m\u001b[0m\n\u001b[0m",
      "\u001b[0;32m<ipython-input-15-3e993c38a276>\u001b[0m in \u001b[0;36msal_cal\u001b[0;34m(x)\u001b[0m\n\u001b[1;32m      9\u001b[0m         \u001b[0mprint\u001b[0m\u001b[0;34m(\u001b[0m\u001b[0mx\u001b[0m\u001b[0;34m)\u001b[0m\u001b[0;34m\u001b[0m\u001b[0m\n\u001b[1;32m     10\u001b[0m     \u001b[0;32mdef\u001b[0m \u001b[0msal_cal\u001b[0m\u001b[0;34m(\u001b[0m\u001b[0mx\u001b[0m\u001b[0;34m)\u001b[0m\u001b[0;34m:\u001b[0m\u001b[0;34m\u001b[0m\u001b[0m\n\u001b[0;32m---> 11\u001b[0;31m         \u001b[0mprint\u001b[0m\u001b[0;34m(\u001b[0m\u001b[0mx\u001b[0m\u001b[0;34m.\u001b[0m\u001b[0msal\u001b[0m\u001b[0;34m+\u001b[0m\u001b[0mx\u001b[0m\u001b[0;34m.\u001b[0m\u001b[0msal\u001b[0m\u001b[0;34m*\u001b[0m\u001b[0;36m0.1\u001b[0m\u001b[0;34m)\u001b[0m\u001b[0;34m\u001b[0m\u001b[0m\n\u001b[0m\u001b[1;32m     12\u001b[0m \u001b[0mjay\u001b[0m\u001b[0;34m=\u001b[0m\u001b[0mEmp\u001b[0m\u001b[0;34m(\u001b[0m\u001b[0;34m)\u001b[0m\u001b[0;34m\u001b[0m\u001b[0m\n\u001b[1;32m     13\u001b[0m \u001b[0mjay\u001b[0m\u001b[0;34m.\u001b[0m\u001b[0mset_data\u001b[0m\u001b[0;34m(\u001b[0m\u001b[0;34m\"JAYARAM\"\u001b[0m\u001b[0;34m,\u001b[0m\u001b[0;36m23\u001b[0m\u001b[0;34m,\u001b[0m\u001b[0;36m345678\u001b[0m\u001b[0;34m)\u001b[0m\u001b[0;34m\u001b[0m\u001b[0m\n",
      "\u001b[0;31mAttributeError\u001b[0m: 'Emp' object has no attribute 'sal'"
     ]
    }
   ],
   "source": [
    "class Emp:\n",
    "    company_name=\"Khyaathi\"\n",
    "    company_address=\"maithrivanam\"\n",
    "    def set_data(x,e_name,e_age,e_sal):\n",
    "        x.name=e_name\n",
    "        x.age=e_age\n",
    "        x.sal=e_sal\n",
    "    def fun(x):\n",
    "        print(x)\n",
    "    def sal_cal(x):\n",
    "        print(x.sal+x.sal*0.1)\n",
    "jay=Emp()\n",
    "jay.set_data(\"JAYARAM\",23,345678)\n",
    "jay.sal_cal()\n",
    "vedha=Emp()\n",
    "vedha.set_data(\"Vedhanvesh\",34,43213456)\n",
    "vedha.sal_cal()\n",
    "sai=Emp()\n",
    "sai.sal_cal()"
   ]
  },
  {
   "cell_type": "code",
   "execution_count": 16,
   "metadata": {},
   "outputs": [
    {
     "name": "stdout",
     "output_type": "stream",
     "text": [
      "this is class\n"
     ]
    }
   ],
   "source": [
    "class Emp:\n",
    "    print(\"this is class\")\n",
    "    def get(x):\n",
    "        print(\"this is get\")\n",
    "        return x.name,x.sal,x.age"
   ]
  },
  {
   "cell_type": "code",
   "execution_count": 17,
   "metadata": {},
   "outputs": [
    {
     "name": "stdout",
     "output_type": "stream",
     "text": [
      "this is class\n"
     ]
    }
   ],
   "source": [
    "class Emp:\n",
    "    print(\"this is class\")\n",
    "    def get(x):\n",
    "        print(\"this is get\")\n",
    "        return x.name,x.sal,x.age\n",
    "    def __init__(x):\n",
    "        print(\"this is constructor\")"
   ]
  },
  {
   "cell_type": "code",
   "execution_count": 18,
   "metadata": {},
   "outputs": [
    {
     "name": "stdout",
     "output_type": "stream",
     "text": [
      "this is class\n",
      "this is constructor\n"
     ]
    }
   ],
   "source": [
    "class Emp:\n",
    "    print(\"this is class\")\n",
    "    def get(x):\n",
    "        print(\"this is get\")\n",
    "        return x.name,x.sal,x.age\n",
    "    def __init__(x):\n",
    "        print(\"this is constructor\")\n",
    "jay=Emp()"
   ]
  },
  {
   "cell_type": "code",
   "execution_count": 19,
   "metadata": {},
   "outputs": [
    {
     "name": "stdout",
     "output_type": "stream",
     "text": [
      "this is class\n",
      "this is constructor\n",
      "this is constructor\n",
      "this is constructor\n"
     ]
    }
   ],
   "source": [
    "class Emp:\n",
    "    print(\"this is class\")\n",
    "    def get(x):\n",
    "        print(\"this is get\")\n",
    "        return x.name,x.sal,x.age\n",
    "    def __init__(x):\n",
    "        print(\"this is constructor\")\n",
    "jay=Emp()\n",
    "vedha=Emp()\n",
    "sai=Emp()"
   ]
  },
  {
   "cell_type": "code",
   "execution_count": 20,
   "metadata": {},
   "outputs": [
    {
     "name": "stdout",
     "output_type": "stream",
     "text": [
      "this is class\n"
     ]
    }
   ],
   "source": [
    "class Emp:\n",
    "    print(\"this is class\")\n",
    "    def get(x):\n",
    "        print(\"this is get\")\n",
    "        return x.name,x.sal,x.age\n",
    "    def __init1__(x):\n",
    "        print(\"this is constructor\")\n",
    "jay=Emp()\n",
    "vedha=Emp()\n",
    "sai=Emp()"
   ]
  },
  {
   "cell_type": "code",
   "execution_count": 2,
   "metadata": {},
   "outputs": [
    {
     "name": "stdout",
     "output_type": "stream",
     "text": [
      "380245.8\n",
      "47534801.6\n"
     ]
    }
   ],
   "source": [
    "class Emp:\n",
    "    company_name=\"Khyaathi\"\n",
    "    company_address=\"maithrivanam\"\n",
    "    def __init__(x,e_name,e_age,e_sal):\n",
    "        x.name=e_name\n",
    "        x.age=e_age\n",
    "        x.sal=e_sal\n",
    "    def fun(x):\n",
    "        print(x)\n",
    "    def sal_cal(x):\n",
    "        print(x.sal+x.sal*0.1)\n",
    "jay=Emp(\"JAYARAM\",23,345678)\n",
    "jay.sal_cal()\n",
    "vedha=Emp(\"Vedhanvesh\",34,43213456)\n",
    "vedha.sal_cal()\n"
   ]
  },
  {
   "cell_type": "code",
   "execution_count": 3,
   "metadata": {},
   "outputs": [
    {
     "name": "stdout",
     "output_type": "stream",
     "text": [
      "380245.8\n",
      "47534801.6\n"
     ]
    },
    {
     "ename": "TypeError",
     "evalue": "__init__() missing 3 required positional arguments: 'e_name', 'e_age', and 'e_sal'",
     "output_type": "error",
     "traceback": [
      "\u001b[0;31m---------------------------------------------------------------------------\u001b[0m",
      "\u001b[0;31mTypeError\u001b[0m                                 Traceback (most recent call last)",
      "\u001b[0;32m<ipython-input-3-5cfd9b8fffe0>\u001b[0m in \u001b[0;36m<module>\u001b[0;34m()\u001b[0m\n\u001b[1;32m     12\u001b[0m \u001b[0mvedha\u001b[0m\u001b[0;34m=\u001b[0m\u001b[0mEmp\u001b[0m\u001b[0;34m(\u001b[0m\u001b[0;34m\"Vedhanvesh\"\u001b[0m\u001b[0;34m,\u001b[0m\u001b[0;36m34\u001b[0m\u001b[0;34m,\u001b[0m\u001b[0;36m43213456\u001b[0m\u001b[0;34m)\u001b[0m\u001b[0;34m\u001b[0m\u001b[0m\n\u001b[1;32m     13\u001b[0m \u001b[0mvedha\u001b[0m\u001b[0;34m.\u001b[0m\u001b[0msal_cal\u001b[0m\u001b[0;34m(\u001b[0m\u001b[0;34m)\u001b[0m\u001b[0;34m\u001b[0m\u001b[0m\n\u001b[0;32m---> 14\u001b[0;31m \u001b[0msai\u001b[0m\u001b[0;34m=\u001b[0m\u001b[0mEmp\u001b[0m\u001b[0;34m(\u001b[0m\u001b[0;34m)\u001b[0m\u001b[0;34m\u001b[0m\u001b[0m\n\u001b[0m",
      "\u001b[0;31mTypeError\u001b[0m: __init__() missing 3 required positional arguments: 'e_name', 'e_age', and 'e_sal'"
     ]
    }
   ],
   "source": [
    "class Emp:\n",
    "    company_name=\"Khyaathi\"\n",
    "    company_address=\"maithrivanam\"\n",
    "    def __init__(x,e_name,e_age,e_sal):\n",
    "        x.name=e_name\n",
    "        x.age=e_age\n",
    "        x.sal=e_sal\n",
    "    def sal_cal(x):\n",
    "        print(x.sal+x.sal*0.1)\n",
    "jay=Emp(\"JAYARAM\",23,345678)\n",
    "jay.sal_cal()\n",
    "vedha=Emp(\"Vedhanvesh\",34,43213456)\n",
    "vedha.sal_cal()\n",
    "sai=Emp()"
   ]
  },
  {
   "cell_type": "code",
   "execution_count": 5,
   "metadata": {},
   "outputs": [
    {
     "name": "stdout",
     "output_type": "stream",
     "text": [
      "380245.8\n",
      "47534801.6\n",
      "('JAYARAM', 23, 345678, 'Khyaathi', 'maithrivanam')\n",
      "('Vedhanvesh', 34, 43213456, 'Khyaathi', 'maithrivanam')\n"
     ]
    }
   ],
   "source": [
    "class Emp:\n",
    "    company_name=\"Khyaathi\"\n",
    "    company_address=\"maithrivanam\"\n",
    "    def __init__(x,e_name,e_age,e_sal):\n",
    "        x.name=e_name\n",
    "        x.age=e_age\n",
    "        x.sal=e_sal\n",
    "    def sal_cal(x):\n",
    "        print(x.sal+x.sal*0.1)\n",
    "    def get(self):\n",
    "        return self.name,self.age,self.sal, self.company_name,self.company_address\n",
    "jay=Emp(\"JAYARAM\",23,345678)\n",
    "jay.sal_cal()\n",
    "vedha=Emp(\"Vedhanvesh\",34,43213456)\n",
    "vedha.sal_cal()\n",
    "print(jay.get())\n",
    "print(vedha.get())"
   ]
  },
  {
   "cell_type": "code",
   "execution_count": 6,
   "metadata": {},
   "outputs": [
    {
     "name": "stdout",
     "output_type": "stream",
     "text": [
      "380245.8\n",
      "47534801.6\n",
      "('JAYARAM', 23, 345678, 'Khyaathi', 'maithrivanam')\n",
      "('Vedhanvesh', 34, 43213456, 'Khyaathi', 'maithrivanam')\n",
      "Khyaathi\n",
      "maithrivanam\n"
     ]
    }
   ],
   "source": [
    "class Emp:\n",
    "    company_name=\"Khyaathi\"\n",
    "    company_address=\"maithrivanam\"\n",
    "    def __init__(x,e_name,e_age,e_sal):\n",
    "        x.name=e_name\n",
    "        x.age=e_age\n",
    "        x.sal=e_sal\n",
    "    def sal_cal(x):\n",
    "        print(x.sal+x.sal*0.1)\n",
    "    def get(self):\n",
    "        return self.name,self.age,self.sal, self.company_name,self.company_address\n",
    "jay=Emp(\"JAYARAM\",23,345678)\n",
    "jay.sal_cal()\n",
    "vedha=Emp(\"Vedhanvesh\",34,43213456)\n",
    "vedha.sal_cal()\n",
    "print(jay.get())\n",
    "print(vedha.get())\n",
    "print(Emp.company_name)\n",
    "print(Emp.company_address)"
   ]
  },
  {
   "cell_type": "code",
   "execution_count": 7,
   "metadata": {},
   "outputs": [
    {
     "name": "stdout",
     "output_type": "stream",
     "text": [
      "380245.8\n",
      "47534801.6\n",
      "('JAYARAM', 23, 345678, 'Khyaathi', 'maithrivanam')\n",
      "('Vedhanvesh', 34, 43213456, 'Khyaathi', 'maithrivanam')\n",
      "Khyaathi\n",
      "maithrivanam\n"
     ]
    },
    {
     "ename": "AttributeError",
     "evalue": "type object 'Emp' has no attribute 'name'",
     "output_type": "error",
     "traceback": [
      "\u001b[0;31m---------------------------------------------------------------------------\u001b[0m",
      "\u001b[0;31mAttributeError\u001b[0m                            Traceback (most recent call last)",
      "\u001b[0;32m<ipython-input-7-e60eca19556e>\u001b[0m in \u001b[0;36m<module>\u001b[0;34m()\u001b[0m\n\u001b[1;32m     18\u001b[0m \u001b[0mprint\u001b[0m\u001b[0;34m(\u001b[0m\u001b[0mEmp\u001b[0m\u001b[0;34m.\u001b[0m\u001b[0mcompany_name\u001b[0m\u001b[0;34m)\u001b[0m\u001b[0;34m\u001b[0m\u001b[0m\n\u001b[1;32m     19\u001b[0m \u001b[0mprint\u001b[0m\u001b[0;34m(\u001b[0m\u001b[0mEmp\u001b[0m\u001b[0;34m.\u001b[0m\u001b[0mcompany_address\u001b[0m\u001b[0;34m)\u001b[0m\u001b[0;34m\u001b[0m\u001b[0m\n\u001b[0;32m---> 20\u001b[0;31m \u001b[0mprint\u001b[0m\u001b[0;34m(\u001b[0m\u001b[0mEmp\u001b[0m\u001b[0;34m.\u001b[0m\u001b[0mname\u001b[0m\u001b[0;34m)\u001b[0m\u001b[0;34m\u001b[0m\u001b[0m\n\u001b[0m",
      "\u001b[0;31mAttributeError\u001b[0m: type object 'Emp' has no attribute 'name'"
     ]
    }
   ],
   "source": [
    "class Emp:\n",
    "    company_name=\"Khyaathi\"\n",
    "    company_address=\"maithrivanam\"\n",
    "    def __init__(x,e_name,e_age,e_sal):\n",
    "        x.name=e_name\n",
    "        x.age=e_age\n",
    "        x.sal=e_sal\n",
    "    def sal_cal(x):\n",
    "        print(x.sal+x.sal*0.1)\n",
    "    def get(self):\n",
    "        return self.name,self.age,self.sal, self.company_name,self.company_address\n",
    "jay=Emp(\"JAYARAM\",23,345678)\n",
    "jay.sal_cal()\n",
    "vedha=Emp(\"Vedhanvesh\",34,43213456)\n",
    "vedha.sal_cal()\n",
    "print(jay.get())\n",
    "print(vedha.get())\n",
    "print(Emp.company_name)\n",
    "print(Emp.company_address)\n",
    "print(Emp.name)"
   ]
  },
  {
   "cell_type": "code",
   "execution_count": 8,
   "metadata": {},
   "outputs": [
    {
     "name": "stdout",
     "output_type": "stream",
     "text": [
      "this is operations in c3\n"
     ]
    }
   ],
   "source": [
    "class c1:\n",
    "    def op1(self):\n",
    "        print(\"this is op1 in c1\")\n",
    "class c2:\n",
    "    def op2(self):\n",
    "        print(\"this is op2 in c2\")\n",
    "class c3:\n",
    "    def operations(self):\n",
    "        print(\"this is operations in c3\")\n",
    "o3=c3()\n",
    "o3.operations()"
   ]
  },
  {
   "cell_type": "code",
   "execution_count": 9,
   "metadata": {},
   "outputs": [
    {
     "name": "stdout",
     "output_type": "stream",
     "text": [
      "this is operations in c3\n",
      "this is op1 in c1\n",
      "this is op2 in c2\n"
     ]
    }
   ],
   "source": [
    "class c1:\n",
    "    def op1(self):\n",
    "        print(\"this is op1 in c1\")\n",
    "class c2:\n",
    "    def op2(self):\n",
    "        print(\"this is op2 in c2\")\n",
    "class c3:\n",
    "    def operations(self):\n",
    "        print(\"this is operations in c3\")\n",
    "o3=c3()\n",
    "o3.operations()\n",
    "o1=c1()\n",
    "o2=c2()\n",
    "o1.op1()\n",
    "o2.op2()"
   ]
  },
  {
   "cell_type": "code",
   "execution_count": 10,
   "metadata": {},
   "outputs": [
    {
     "name": "stdout",
     "output_type": "stream",
     "text": [
      "this is operations in c3\n"
     ]
    },
    {
     "ename": "AttributeError",
     "evalue": "'c3' object has no attribute 'op1'",
     "output_type": "error",
     "traceback": [
      "\u001b[0;31m---------------------------------------------------------------------------\u001b[0m",
      "\u001b[0;31mAttributeError\u001b[0m                            Traceback (most recent call last)",
      "\u001b[0;32m<ipython-input-10-30f9b283f4ce>\u001b[0m in \u001b[0;36m<module>\u001b[0;34m()\u001b[0m\n\u001b[1;32m     10\u001b[0m \u001b[0mo3\u001b[0m\u001b[0;34m=\u001b[0m\u001b[0mc3\u001b[0m\u001b[0;34m(\u001b[0m\u001b[0;34m)\u001b[0m\u001b[0;34m\u001b[0m\u001b[0m\n\u001b[1;32m     11\u001b[0m \u001b[0mo3\u001b[0m\u001b[0;34m.\u001b[0m\u001b[0moperations\u001b[0m\u001b[0;34m(\u001b[0m\u001b[0;34m)\u001b[0m\u001b[0;34m\u001b[0m\u001b[0m\n\u001b[0;32m---> 12\u001b[0;31m \u001b[0mo3\u001b[0m\u001b[0;34m.\u001b[0m\u001b[0mop1\u001b[0m\u001b[0;34m(\u001b[0m\u001b[0;34m)\u001b[0m\u001b[0;34m\u001b[0m\u001b[0m\n\u001b[0m\u001b[1;32m     13\u001b[0m \u001b[0mo3\u001b[0m\u001b[0;34m.\u001b[0m\u001b[0mop2\u001b[0m\u001b[0;34m(\u001b[0m\u001b[0;34m)\u001b[0m\u001b[0;34m\u001b[0m\u001b[0m\n",
      "\u001b[0;31mAttributeError\u001b[0m: 'c3' object has no attribute 'op1'"
     ]
    }
   ],
   "source": [
    "class c1:\n",
    "    def op1(self):\n",
    "        print(\"this is op1 in c1\")\n",
    "class c2:\n",
    "    def op2(self):\n",
    "        print(\"this is op2 in c2\")\n",
    "class c3:\n",
    "    def operations(self):\n",
    "        print(\"this is operations in c3\")\n",
    "o3=c3()\n",
    "o3.operations()\n",
    "o3.op1()\n",
    "o3.op2()"
   ]
  },
  {
   "cell_type": "code",
   "execution_count": 11,
   "metadata": {},
   "outputs": [
    {
     "name": "stdout",
     "output_type": "stream",
     "text": [
      "this is operations in c3\n",
      "this is op1 in c1\n",
      "this is op2 in c2\n"
     ]
    }
   ],
   "source": [
    "class c1:\n",
    "    def op1(self):\n",
    "        print(\"this is op1 in c1\")\n",
    "class c2:\n",
    "    def op2(self):\n",
    "        print(\"this is op2 in c2\")\n",
    "class c3(c1,c2):\n",
    "    def operations(self):\n",
    "        print(\"this is operations in c3\")\n",
    "o3=c3()\n",
    "o3.operations()\n",
    "o3.op1()\n",
    "o3.op2()"
   ]
  },
  {
   "cell_type": "code",
   "execution_count": 12,
   "metadata": {},
   "outputs": [
    {
     "name": "stdout",
     "output_type": "stream",
     "text": [
      "this is operations in c3\n",
      "this is op1 in c3\n",
      "this is op2 in c2\n"
     ]
    }
   ],
   "source": [
    "class c1:\n",
    "    def op1(self):\n",
    "        print(\"this is op1 in c1\")\n",
    "class c2:\n",
    "    def op2(self):\n",
    "        print(\"this is op2 in c2\")\n",
    "class c3(c1,c2):\n",
    "    def operations(self):\n",
    "        print(\"this is operations in c3\")\n",
    "    def op1(self):# method overriding\n",
    "        print(\"this is op1 in c3\")\n",
    "o3=c3()\n",
    "o3.operations()\n",
    "o3.op1()\n",
    "o3.op2()"
   ]
  },
  {
   "cell_type": "code",
   "execution_count": 13,
   "metadata": {},
   "outputs": [
    {
     "name": "stdout",
     "output_type": "stream",
     "text": [
      "this is operations in c3\n",
      "this is op1 in c3\n",
      "this is op2 in c2\n",
      "this is op1 in c3\n",
      "this is op2 in c2\n"
     ]
    }
   ],
   "source": [
    "class c1:\n",
    "    def op1(self):\n",
    "        print(\"this is op1 in c1\")\n",
    "class c2:\n",
    "    def op2(self):\n",
    "        print(\"this is op2 in c2\")\n",
    "class c3(c1,c2):\n",
    "    def operations(self):\n",
    "        print(\"this is operations in c3\")\n",
    "        self.op1()\n",
    "        self.op2()\n",
    "    def op1(self):# method overriding\n",
    "        print(\"this is op1 in c3\")\n",
    "        \n",
    "o3=c3()\n",
    "o3.operations()\n",
    "o3.op1()\n",
    "o3.op2()"
   ]
  },
  {
   "cell_type": "code",
   "execution_count": 14,
   "metadata": {},
   "outputs": [
    {
     "name": "stdout",
     "output_type": "stream",
     "text": [
      "this is operations in c3\n",
      "this is op1 in c3\n",
      "this is op1 in c1\n",
      "this is op2 in c2\n",
      "this is op1 in c3\n",
      "this is op1 in c1\n",
      "this is op2 in c2\n"
     ]
    }
   ],
   "source": [
    "class c1:\n",
    "    def op1(self):\n",
    "        print(\"this is op1 in c1\")\n",
    "class c2:\n",
    "    def op2(self):\n",
    "        print(\"this is op2 in c2\")\n",
    "class c3(c1,c2):\n",
    "    def operations(self):\n",
    "        print(\"this is operations in c3\")\n",
    "        self.op1()\n",
    "        self.op2()\n",
    "    def op1(self):# method overriding\n",
    "        print(\"this is op1 in c3\")\n",
    "        c1.op1(self) # this calls the c1 class op1 method\n",
    "        \n",
    "o3=c3()\n",
    "o3.operations()\n",
    "o3.op1()\n",
    "o3.op2()"
   ]
  },
  {
   "cell_type": "code",
   "execution_count": 15,
   "metadata": {},
   "outputs": [
    {
     "name": "stdout",
     "output_type": "stream",
     "text": [
      "('sai laxmi', None, 0.0, 'Khyaathi', 'maithrivanam')\n",
      "('sambasivarao', None, 0.0, 'Khyaathi', 'maithrivanam')\n",
      "('JAYARAM', 23, 345678, 'Khyaathi', 'maithrivanam')\n",
      "('Vedhanvesh', 34, 43213456, 'Khyaathi', 'maithrivanam')\n"
     ]
    }
   ],
   "source": [
    "class Emp:\n",
    "    company_name=\"Khyaathi\"\n",
    "    company_address=\"maithrivanam\"\n",
    "    def __init__(x,e_name,e_age=None,e_sal=0.0): # method overloading\n",
    "        x.name=e_name\n",
    "        x.age=e_age\n",
    "        x.sal=e_sal\n",
    "    def sal_cal(x):\n",
    "        print(x.sal+x.sal*0.1)\n",
    "    def get(self):\n",
    "        return self.name,self.age,self.sal, self.company_name,self.company_address\n",
    "jay=Emp(\"JAYARAM\",23,345678)\n",
    "vedha=Emp(\"Vedhanvesh\",34,43213456)\n",
    "sai=Emp(\"sai laxmi\")\n",
    "samba=Emp(\"sambasivarao\")\n",
    "print(sai.get())\n",
    "print(samba.get())\n",
    "print(jay.get())\n",
    "print(vedha.get())"
   ]
  },
  {
   "cell_type": "code",
   "execution_count": null,
   "metadata": {},
   "outputs": [],
   "source": [
    "# operator oveloading?\n",
    "class Emp:\n",
    "    company_name=\"Khyaathi\"\n",
    "    company_address=\"maithrivanam\"\n",
    "    def __init__(x,e_name,e_age=None,e_sal=0.0): # method overloading\n",
    "        x.name=e_name\n",
    "        x.age=e_age\n",
    "        x.sal=e_sal\n",
    "    def sal_cal(x):\n",
    "        print(x.sal+x.sal*0.1)\n",
    "    def get(self):\n",
    "        return self.name,self.age,self.sal, self.company_name,self.company_address\n",
    "jay=Emp(\"JAYARAM\",23,345678)\n",
    "vedha=Emp(\"Vedhanvesh\",34,43213456)\n",
    "sai=Emp(\"sai laxmi\")\n",
    "samba=Emp(\"sambasivarao\")\n",
    "print(jay+vedha)"
   ]
  },
  {
   "cell_type": "code",
   "execution_count": 16,
   "metadata": {},
   "outputs": [
    {
     "name": "stdout",
     "output_type": "stream",
     "text": [
      "[1, 2, 3, 4, 10]\n"
     ]
    }
   ],
   "source": [
    "l=[1,2,3,4]\n",
    "l.append(10)\n",
    "print(l)"
   ]
  },
  {
   "cell_type": "code",
   "execution_count": 17,
   "metadata": {},
   "outputs": [
    {
     "name": "stdout",
     "output_type": "stream",
     "text": [
      "<class 'type'>\n"
     ]
    }
   ],
   "source": [
    "# operator oveloading?\n",
    "class Emp:\n",
    "    company_name=\"Khyaathi\"\n",
    "    company_address=\"maithrivanam\"\n",
    "    def __init__(x,e_name,e_age=None,e_sal=0.0): # method overloading\n",
    "        x.name=e_name\n",
    "        x.age=e_age\n",
    "        x.sal=e_sal\n",
    "    def sal_cal(x):\n",
    "        print(x.sal+x.sal*0.1)\n",
    "    def get(self):\n",
    "        return self.name,self.age,self.sal, self.company_name,self.company_address\n",
    "jay=Emp(\"JAYARAM\",23,345678)\n",
    "vedha=Emp(\"Vedhanvesh\",34,43213456)\n",
    "sai=Emp(\"sai laxmi\")\n",
    "samba=Emp(\"sambasivarao\")\n",
    "print(type(Emp))"
   ]
  },
  {
   "cell_type": "code",
   "execution_count": 18,
   "metadata": {},
   "outputs": [
    {
     "data": {
      "text/plain": [
       "300"
      ]
     },
     "execution_count": 18,
     "metadata": {},
     "output_type": "execute_result"
    }
   ],
   "source": [
    "a=100\n",
    "b=200\n",
    "a+b"
   ]
  },
  {
   "cell_type": "code",
   "execution_count": 19,
   "metadata": {},
   "outputs": [
    {
     "ename": "TypeError",
     "evalue": "unsupported operand type(s) for +: 'Emp' and 'Emp'",
     "output_type": "error",
     "traceback": [
      "\u001b[0;31m---------------------------------------------------------------------------\u001b[0m",
      "\u001b[0;31mTypeError\u001b[0m                                 Traceback (most recent call last)",
      "\u001b[0;32m<ipython-input-19-0cf40e86176c>\u001b[0m in \u001b[0;36m<module>\u001b[0;34m()\u001b[0m\n\u001b[1;32m     15\u001b[0m \u001b[0msai\u001b[0m\u001b[0;34m=\u001b[0m\u001b[0mEmp\u001b[0m\u001b[0;34m(\u001b[0m\u001b[0;34m\"sai laxmi\"\u001b[0m\u001b[0;34m)\u001b[0m\u001b[0;34m\u001b[0m\u001b[0m\n\u001b[1;32m     16\u001b[0m \u001b[0msamba\u001b[0m\u001b[0;34m=\u001b[0m\u001b[0mEmp\u001b[0m\u001b[0;34m(\u001b[0m\u001b[0;34m\"sambasivarao\"\u001b[0m\u001b[0;34m)\u001b[0m\u001b[0;34m\u001b[0m\u001b[0m\n\u001b[0;32m---> 17\u001b[0;31m \u001b[0mprint\u001b[0m\u001b[0;34m(\u001b[0m\u001b[0mjay\u001b[0m\u001b[0;34m+\u001b[0m\u001b[0mvedha\u001b[0m\u001b[0;34m)\u001b[0m\u001b[0;34m\u001b[0m\u001b[0m\n\u001b[0m",
      "\u001b[0;31mTypeError\u001b[0m: unsupported operand type(s) for +: 'Emp' and 'Emp'"
     ]
    }
   ],
   "source": [
    "# operator oveloading?\n",
    "class Emp:\n",
    "    company_name=\"Khyaathi\"\n",
    "    company_address=\"maithrivanam\"\n",
    "    def __init__(x,e_name,e_age=None,e_sal=0.0): # method overloading\n",
    "        x.name=e_name\n",
    "        x.age=e_age\n",
    "        x.sal=e_sal\n",
    "    def sal_cal(x):\n",
    "        print(x.sal+x.sal*0.1)\n",
    "    def get(self):\n",
    "        return self.name,self.age,self.sal, self.company_name,self.company_address\n",
    "jay=Emp(\"JAYARAM\",23,345678)\n",
    "vedha=Emp(\"Vedhanvesh\",34,43213456)\n",
    "sai=Emp(\"sai laxmi\")\n",
    "samba=Emp(\"sambasivarao\")\n",
    "print(jay+vedha)"
   ]
  },
  {
   "cell_type": "code",
   "execution_count": 20,
   "metadata": {},
   "outputs": [
    {
     "name": "stdout",
     "output_type": "stream",
     "text": [
      "2000\n"
     ]
    }
   ],
   "source": [
    "# operator oveloading?\n",
    "class Emp:\n",
    "    company_name=\"Khyaathi\"\n",
    "    company_address=\"maithrivanam\"\n",
    "    def __init__(x,e_name,e_age=None,e_sal=0.0): # method overloading\n",
    "        x.name=e_name\n",
    "        x.age=e_age\n",
    "        x.sal=e_sal\n",
    "    def sal_cal(x):\n",
    "        print(x.sal+x.sal*0.1)\n",
    "    def get(self):\n",
    "        return self.name,self.age,self.sal, self.company_name,self.company_address\n",
    "    def __add__(self1,self2):\n",
    "        return 2000\n",
    "jay=Emp(\"JAYARAM\",23,345678)\n",
    "vedha=Emp(\"Vedhanvesh\",34,43213456)\n",
    "sai=Emp(\"sai laxmi\")\n",
    "samba=Emp(\"sambasivarao\")\n",
    "print(jay+vedha)"
   ]
  },
  {
   "cell_type": "code",
   "execution_count": 21,
   "metadata": {},
   "outputs": [
    {
     "name": "stdout",
     "output_type": "stream",
     "text": [
      "({'name': 'JAYARAM', 'age': 23, 'sal': 345678}, {'name': 'Vedhanvesh', 'age': 34, 'sal': 43213456})\n"
     ]
    }
   ],
   "source": [
    "# operator oveloading?\n",
    "class Emp:\n",
    "    company_name=\"Khyaathi\"\n",
    "    company_address=\"maithrivanam\"\n",
    "    def __init__(x,e_name,e_age=None,e_sal=0.0): # method overloading\n",
    "        x.name=e_name\n",
    "        x.age=e_age\n",
    "        x.sal=e_sal\n",
    "    def sal_cal(x):\n",
    "        print(x.sal+x.sal*0.1)\n",
    "    def get(self):\n",
    "        return self.name,self.age,self.sal, self.company_name,self.company_address\n",
    "    def __add__(self1,self2):\n",
    "        return (self1.__dict__, self2.__dict__)\n",
    "jay=Emp(\"JAYARAM\",23,345678)\n",
    "vedha=Emp(\"Vedhanvesh\",34,43213456)\n",
    "sai=Emp(\"sai laxmi\")\n",
    "samba=Emp(\"sambasivarao\")\n",
    "print(jay+vedha)"
   ]
  },
  {
   "cell_type": "code",
   "execution_count": 23,
   "metadata": {},
   "outputs": [
    {
     "name": "stdout",
     "output_type": "stream",
     "text": [
      "({'name': 'JAYARAM', 'age': 23, 'sal': 345678}, {'name': 'Vedhanvesh', 'age': 34, 'sal': 43213456})\n",
      "300\n"
     ]
    }
   ],
   "source": [
    "# operator oveloading?\n",
    "class Emp:\n",
    "    company_name=\"Khyaathi\"\n",
    "    company_address=\"maithrivanam\"\n",
    "    def __init__(x,e_name,e_age=None,e_sal=0.0): # method overloading\n",
    "        x.name=e_name\n",
    "        x.age=e_age\n",
    "        x.sal=e_sal\n",
    "    def sal_cal(x):\n",
    "        print(x.sal+x.sal*0.1)\n",
    "    def get(self):\n",
    "        return self.name,self.age,self.sal, self.company_name,self.company_address\n",
    "    def __add__(self1,self2):\n",
    "        return (self1.__dict__, self2.__dict__)\n",
    "    def __sub__(self1,self2):\n",
    "        return 300\n",
    "jay=Emp(\"JAYARAM\",23,345678)\n",
    "vedha=Emp(\"Vedhanvesh\",34,43213456)\n",
    "sai=Emp(\"sai laxmi\")\n",
    "samba=Emp(\"sambasivarao\")\n",
    "print(jay+vedha)\n",
    "print(jay-vedha)"
   ]
  },
  {
   "cell_type": "code",
   "execution_count": 24,
   "metadata": {},
   "outputs": [
    {
     "name": "stdout",
     "output_type": "stream",
     "text": [
      "({'name': 'JAYARAM', 'age': 23, 'sal': 345678}, {'name': 'Vedhanvesh', 'age': 34, 'sal': 43213456})\n",
      "300\n"
     ]
    },
    {
     "ename": "TypeError",
     "evalue": "object of type 'Emp' has no len()",
     "output_type": "error",
     "traceback": [
      "\u001b[0;31m---------------------------------------------------------------------------\u001b[0m",
      "\u001b[0;31mTypeError\u001b[0m                                 Traceback (most recent call last)",
      "\u001b[0;32m<ipython-input-24-37c0d102a193>\u001b[0m in \u001b[0;36m<module>\u001b[0;34m()\u001b[0m\n\u001b[1;32m     21\u001b[0m \u001b[0mprint\u001b[0m\u001b[0;34m(\u001b[0m\u001b[0mjay\u001b[0m\u001b[0;34m+\u001b[0m\u001b[0mvedha\u001b[0m\u001b[0;34m)\u001b[0m\u001b[0;34m\u001b[0m\u001b[0m\n\u001b[1;32m     22\u001b[0m \u001b[0mprint\u001b[0m\u001b[0;34m(\u001b[0m\u001b[0mjay\u001b[0m\u001b[0;34m-\u001b[0m\u001b[0mvedha\u001b[0m\u001b[0;34m)\u001b[0m\u001b[0;34m\u001b[0m\u001b[0m\n\u001b[0;32m---> 23\u001b[0;31m \u001b[0mprint\u001b[0m\u001b[0;34m(\u001b[0m\u001b[0mlen\u001b[0m\u001b[0;34m(\u001b[0m\u001b[0mjay\u001b[0m\u001b[0;34m)\u001b[0m\u001b[0;34m)\u001b[0m\u001b[0;34m\u001b[0m\u001b[0m\n\u001b[0m",
      "\u001b[0;31mTypeError\u001b[0m: object of type 'Emp' has no len()"
     ]
    }
   ],
   "source": [
    "# operator oveloading?\n",
    "class Emp:\n",
    "    company_name=\"Khyaathi\"\n",
    "    company_address=\"maithrivanam\"\n",
    "    def __init__(x,e_name,e_age=None,e_sal=0.0): # method overloading\n",
    "        x.name=e_name\n",
    "        x.age=e_age\n",
    "        x.sal=e_sal\n",
    "    def sal_cal(x):\n",
    "        print(x.sal+x.sal*0.1)\n",
    "    def get(self):\n",
    "        return self.name,self.age,self.sal, self.company_name,self.company_address\n",
    "    def __add__(self1,self2):\n",
    "        return (self1.__dict__, self2.__dict__)\n",
    "    def __sub__(self1,self2):\n",
    "        return 300\n",
    "jay=Emp(\"JAYARAM\",23,345678)\n",
    "vedha=Emp(\"Vedhanvesh\",34,43213456)\n",
    "sai=Emp(\"sai laxmi\")\n",
    "samba=Emp(\"sambasivarao\")\n",
    "print(jay+vedha)\n",
    "print(jay-vedha)\n",
    "print(len(jay))"
   ]
  },
  {
   "cell_type": "code",
   "execution_count": 25,
   "metadata": {},
   "outputs": [
    {
     "name": "stdout",
     "output_type": "stream",
     "text": [
      "({'name': 'JAYARAM', 'age': 23, 'sal': 345678}, {'name': 'Vedhanvesh', 'age': 34, 'sal': 43213456})\n",
      "300\n",
      "200\n"
     ]
    }
   ],
   "source": [
    "# operator oveloading?\n",
    "class Emp:\n",
    "    company_name=\"Khyaathi\"\n",
    "    company_address=\"maithrivanam\"\n",
    "    def __init__(x,e_name,e_age=None,e_sal=0.0): # method overloading\n",
    "        x.name=e_name\n",
    "        x.age=e_age\n",
    "        x.sal=e_sal\n",
    "    def sal_cal(x):\n",
    "        print(x.sal+x.sal*0.1)\n",
    "    def get(self):\n",
    "        return self.name,self.age,self.sal, self.company_name,self.company_address\n",
    "    def __add__(self1,self2):\n",
    "        return (self1.__dict__, self2.__dict__)\n",
    "    def __sub__(self1,self2):\n",
    "        return 300\n",
    "    def __len__(self):\n",
    "        return 200\n",
    "jay=Emp(\"JAYARAM\",23,345678)\n",
    "vedha=Emp(\"Vedhanvesh\",34,43213456)\n",
    "sai=Emp(\"sai laxmi\")\n",
    "samba=Emp(\"sambasivarao\")\n",
    "print(jay+vedha)\n",
    "print(jay-vedha)\n",
    "print(len(jay))"
   ]
  },
  {
   "cell_type": "code",
   "execution_count": 26,
   "metadata": {},
   "outputs": [
    {
     "name": "stdout",
     "output_type": "stream",
     "text": [
      "({'name': 'JAYARAM', 'age': 23, 'sal': 345678}, {'name': 'Vedhanvesh', 'age': 34, 'sal': 43213456})\n",
      "300\n",
      "3\n"
     ]
    }
   ],
   "source": [
    "# operator oveloading?\n",
    "class Emp:\n",
    "    company_name=\"Khyaathi\"\n",
    "    company_address=\"maithrivanam\"\n",
    "    def __init__(x,e_name,e_age=None,e_sal=0.0): # method overloading\n",
    "        x.name=e_name\n",
    "        x.age=e_age\n",
    "        x.sal=e_sal\n",
    "    def sal_cal(x):\n",
    "        print(x.sal+x.sal*0.1)\n",
    "    def get(self):\n",
    "        return self.name,self.age,self.sal, self.company_name,self.company_address\n",
    "    def __add__(self1,self2):\n",
    "        return (self1.__dict__, self2.__dict__)\n",
    "    def __sub__(self1,self2):\n",
    "        return 300\n",
    "    def __len__(self):\n",
    "        return len(self.__dict__)\n",
    "jay=Emp(\"JAYARAM\",23,345678)\n",
    "vedha=Emp(\"Vedhanvesh\",34,43213456)\n",
    "sai=Emp(\"sai laxmi\")\n",
    "samba=Emp(\"sambasivarao\")\n",
    "print(jay+vedha)\n",
    "print(jay-vedha)\n",
    "print(len(jay))"
   ]
  },
  {
   "cell_type": "code",
   "execution_count": 27,
   "metadata": {},
   "outputs": [
    {
     "name": "stdout",
     "output_type": "stream",
     "text": [
      "30\n",
      "sdfsdsdfsdf\n",
      "(4+6j)\n"
     ]
    }
   ],
   "source": [
    "# operator overloading\n",
    "a=10\n",
    "b=20\n",
    "print(a+b)\n",
    "print(\"sdfsd\"+\"sdfsdf\")\n",
    "print(1+2j+3+4j)"
   ]
  },
  {
   "cell_type": "code",
   "execution_count": 28,
   "metadata": {},
   "outputs": [
    {
     "name": "stdout",
     "output_type": "stream",
     "text": [
      "({'name': 'JAYARAM', 'age': 23, 'sal': 345678}, {'name': 'Vedhanvesh', 'age': 34, 'sal': 43213456})\n",
      "300\n",
      "3\n"
     ]
    },
    {
     "ename": "TypeError",
     "evalue": "'Emp' object is not iterable",
     "output_type": "error",
     "traceback": [
      "\u001b[0;31m---------------------------------------------------------------------------\u001b[0m",
      "\u001b[0;31mTypeError\u001b[0m                                 Traceback (most recent call last)",
      "\u001b[0;32m<ipython-input-28-85d1f6d604cd>\u001b[0m in \u001b[0;36m<module>\u001b[0;34m()\u001b[0m\n\u001b[1;32m     24\u001b[0m \u001b[0mprint\u001b[0m\u001b[0;34m(\u001b[0m\u001b[0mjay\u001b[0m\u001b[0;34m-\u001b[0m\u001b[0mvedha\u001b[0m\u001b[0;34m)\u001b[0m\u001b[0;34m\u001b[0m\u001b[0m\n\u001b[1;32m     25\u001b[0m \u001b[0mprint\u001b[0m\u001b[0;34m(\u001b[0m\u001b[0mlen\u001b[0m\u001b[0;34m(\u001b[0m\u001b[0mjay\u001b[0m\u001b[0;34m)\u001b[0m\u001b[0;34m)\u001b[0m\u001b[0;34m\u001b[0m\u001b[0m\n\u001b[0;32m---> 26\u001b[0;31m \u001b[0;32mfor\u001b[0m \u001b[0mi\u001b[0m \u001b[0;32min\u001b[0m \u001b[0mjay\u001b[0m\u001b[0;34m:\u001b[0m\u001b[0;34m\u001b[0m\u001b[0m\n\u001b[0m\u001b[1;32m     27\u001b[0m     \u001b[0mprint\u001b[0m\u001b[0;34m(\u001b[0m\u001b[0mi\u001b[0m\u001b[0;34m)\u001b[0m\u001b[0;34m\u001b[0m\u001b[0m\n",
      "\u001b[0;31mTypeError\u001b[0m: 'Emp' object is not iterable"
     ]
    }
   ],
   "source": [
    "# operator oveloading?\n",
    "class Emp:\n",
    "    company_name=\"Khyaathi\"\n",
    "    company_address=\"maithrivanam\"\n",
    "    def __init__(x,e_name,e_age=None,e_sal=0.0): # method overloading\n",
    "        x.name=e_name\n",
    "        x.age=e_age\n",
    "        x.sal=e_sal\n",
    "    def sal_cal(x):\n",
    "        print(x.sal+x.sal*0.1)\n",
    "    def get(self):\n",
    "        return self.name,self.age,self.sal, self.company_name,self.company_address\n",
    "    def __add__(self1,self2):\n",
    "        return (self1.__dict__, self2.__dict__)\n",
    "    def __sub__(self1,self2):\n",
    "        return 300\n",
    "    def __len__(self):\n",
    "        return len(self.__dict__)\n",
    "jay=Emp(\"JAYARAM\",23,345678)\n",
    "vedha=Emp(\"Vedhanvesh\",34,43213456)\n",
    "sai=Emp(\"sai laxmi\")\n",
    "samba=Emp(\"sambasivarao\")\n",
    "print(jay+vedha)\n",
    "print(jay-vedha)\n",
    "print(len(jay))\n",
    "for i in jay:\n",
    "    print(i)"
   ]
  },
  {
   "cell_type": "code",
   "execution_count": 29,
   "metadata": {},
   "outputs": [
    {
     "name": "stdout",
     "output_type": "stream",
     "text": [
      "({'name': 'JAYARAM', 'age': 23, 'sal': 345678}, {'name': 'Vedhanvesh', 'age': 34, 'sal': 43213456})\n",
      "300\n",
      "3\n",
      "name\n",
      "age\n",
      "sal\n"
     ]
    }
   ],
   "source": [
    "# operator oveloading?\n",
    "class Emp:\n",
    "    company_name=\"Khyaathi\"\n",
    "    company_address=\"maithrivanam\"\n",
    "    def __init__(x,e_name,e_age=None,e_sal=0.0): # method overloading\n",
    "        x.name=e_name\n",
    "        x.age=e_age\n",
    "        x.sal=e_sal\n",
    "    def sal_cal(x):\n",
    "        print(x.sal+x.sal*0.1)\n",
    "    def get(self):\n",
    "        return self.name,self.age,self.sal, self.company_name,self.company_address\n",
    "    def __add__(self1,self2):\n",
    "        return (self1.__dict__, self2.__dict__)\n",
    "    def __sub__(self1,self2):\n",
    "        return 300\n",
    "    def __len__(self):\n",
    "        return len(self.__dict__)\n",
    "    def __iter__(self):\n",
    "        for i in self.__dict__:\n",
    "            yield i\n",
    "jay=Emp(\"JAYARAM\",23,345678)\n",
    "vedha=Emp(\"Vedhanvesh\",34,43213456)\n",
    "sai=Emp(\"sai laxmi\")\n",
    "samba=Emp(\"sambasivarao\")\n",
    "print(jay+vedha)\n",
    "print(jay-vedha)\n",
    "print(len(jay))\n",
    "for i in jay:\n",
    "    print(i)"
   ]
  },
  {
   "cell_type": "code",
   "execution_count": 30,
   "metadata": {},
   "outputs": [
    {
     "name": "stdout",
     "output_type": "stream",
     "text": [
      "({'name': 'JAYARAM', 'age': 23, 'sal': 345678}, {'name': 'Vedhanvesh', 'age': 34, 'sal': 43213456})\n",
      "300\n",
      "3\n",
      "('name', 'JAYARAM')\n",
      "('age', 23)\n",
      "('sal', 345678)\n"
     ]
    }
   ],
   "source": [
    "# operator oveloading?\n",
    "class Emp:\n",
    "    company_name=\"Khyaathi\"\n",
    "    company_address=\"maithrivanam\"\n",
    "    def __init__(x,e_name,e_age=None,e_sal=0.0): # method overloading\n",
    "        x.name=e_name\n",
    "        x.age=e_age\n",
    "        x.sal=e_sal\n",
    "    def sal_cal(x):\n",
    "        print(x.sal+x.sal*0.1)\n",
    "    def get(self):\n",
    "        return self.name,self.age,self.sal, self.company_name,self.company_address\n",
    "    def __add__(self1,self2):\n",
    "        return (self1.__dict__, self2.__dict__)\n",
    "    def __sub__(self1,self2):\n",
    "        return 300\n",
    "    def __len__(self):\n",
    "        return len(self.__dict__)\n",
    "    def __iter__(self):\n",
    "        for i in self.__dict__.items():\n",
    "            yield i\n",
    "jay=Emp(\"JAYARAM\",23,345678)\n",
    "vedha=Emp(\"Vedhanvesh\",34,43213456)\n",
    "sai=Emp(\"sai laxmi\")\n",
    "samba=Emp(\"sambasivarao\")\n",
    "print(jay+vedha)\n",
    "print(jay-vedha)\n",
    "print(len(jay))\n",
    "for i in jay:\n",
    "    print(i)"
   ]
  },
  {
   "cell_type": "code",
   "execution_count": 31,
   "metadata": {},
   "outputs": [
    {
     "name": "stdout",
     "output_type": "stream",
     "text": [
      "('JAYARAM', 23, 345678, 'Khyaathi', 'maithrivanam')\n"
     ]
    }
   ],
   "source": [
    "# encapsulation\n",
    "class Emp:\n",
    "    company_name=\"Khyaathi\"\n",
    "    company_address=\"maithrivanam\"\n",
    "    def __init__(x,e_name,e_age=None,e_sal=0.0): # method overloading\n",
    "        x.name=e_name\n",
    "        x.age=e_age\n",
    "        x.sal=e_sal\n",
    "    def get(self):\n",
    "        return self.name,self.age,self.sal, self.company_name,self.company_address\n",
    "jay=Emp(\"JAYARAM\",23,345678)\n",
    "print(jay.get())\n",
    "        "
   ]
  },
  {
   "cell_type": "code",
   "execution_count": 32,
   "metadata": {},
   "outputs": [
    {
     "name": "stdout",
     "output_type": "stream",
     "text": [
      "('JAYARAM', 16, 345678, 'Khyaathi', 'maithrivanam')\n"
     ]
    }
   ],
   "source": [
    "# encapsulation\n",
    "class Emp:\n",
    "    company_name=\"Khyaathi\"\n",
    "    company_address=\"maithrivanam\"\n",
    "    def __init__(x,e_name,e_age=None,e_sal=0.0): # method overloading\n",
    "        x.name=e_name\n",
    "        x.age=e_age\n",
    "        x.sal=e_sal\n",
    "    def get(self):\n",
    "        return self.name,self.age,self.sal, self.company_name,self.company_address\n",
    "jay=Emp(\"JAYARAM\",23,345678)\n",
    "jay.age=16\n",
    "print(jay.get())\n",
    "        "
   ]
  },
  {
   "cell_type": "code",
   "execution_count": 34,
   "metadata": {},
   "outputs": [
    {
     "name": "stdout",
     "output_type": "stream",
     "text": [
      "('JAYARAM', 23, 345678, 'Khyaathi', 'maithrivanam')\n"
     ]
    }
   ],
   "source": [
    "# encapsulation\n",
    "class Emp:\n",
    "    company_name=\"Khyaathi\"\n",
    "    company_address=\"maithrivanam\"\n",
    "    def __init__(x,e_name,e_age=None,e_sal=0.0): # method overloading\n",
    "        x.name=e_name\n",
    "        x.__age=e_age\n",
    "        x.sal=e_sal\n",
    "    def get(self):\n",
    "        return self.name,self.__age,self.sal, self.company_name,self.company_address\n",
    "jay=Emp(\"JAYARAM\",23,345678)\n",
    "jay.__age=16\n",
    "print(jay.get())\n",
    "        "
   ]
  },
  {
   "cell_type": "code",
   "execution_count": 38,
   "metadata": {},
   "outputs": [
    {
     "name": "stdout",
     "output_type": "stream",
     "text": [
      "('JAYARAM', 23, 345678, 'Khyaathi', 'maithrivanam', 380245.8)\n"
     ]
    }
   ],
   "source": [
    "# encapsulation\n",
    "class Emp:\n",
    "    company_name=\"Khyaathi\"\n",
    "    company_address=\"maithrivanam\"\n",
    "    def __init__(self,e_name,e_age=None,e_sal=0.0): # method overloading\n",
    "        self.name=e_name\n",
    "        self.__age=e_age\n",
    "        self.sal=e_sal\n",
    "        self.usal = self.__sal_cal()\n",
    "    def __sal_cal(self):\n",
    "        return self.sal+self.sal*0.1\n",
    "    def get(self):\n",
    "        return self.name,self.__age,self.sal, self.company_name,self.company_address,self.usal\n",
    "jay=Emp(\"JAYARAM\",23,345678)\n",
    "jay.__age=16\n",
    "print(jay.get())\n",
    "        "
   ]
  },
  {
   "cell_type": "code",
   "execution_count": 39,
   "metadata": {},
   "outputs": [
    {
     "name": "stdout",
     "output_type": "stream",
     "text": [
      "('JAYARAM', 23, 345678, 'Khyaathi', 'maithrivanam', 380245.8)\n"
     ]
    },
    {
     "ename": "AttributeError",
     "evalue": "'Emp' object has no attribute '__sal_cal'",
     "output_type": "error",
     "traceback": [
      "\u001b[0;31m---------------------------------------------------------------------------\u001b[0m",
      "\u001b[0;31mAttributeError\u001b[0m                            Traceback (most recent call last)",
      "\u001b[0;32m<ipython-input-39-4770a2277963>\u001b[0m in \u001b[0;36m<module>\u001b[0;34m()\u001b[0m\n\u001b[1;32m     15\u001b[0m \u001b[0mjay\u001b[0m\u001b[0;34m.\u001b[0m\u001b[0m__age\u001b[0m\u001b[0;34m=\u001b[0m\u001b[0;36m16\u001b[0m\u001b[0;34m\u001b[0m\u001b[0m\n\u001b[1;32m     16\u001b[0m \u001b[0mprint\u001b[0m\u001b[0;34m(\u001b[0m\u001b[0mjay\u001b[0m\u001b[0;34m.\u001b[0m\u001b[0mget\u001b[0m\u001b[0;34m(\u001b[0m\u001b[0;34m)\u001b[0m\u001b[0;34m)\u001b[0m\u001b[0;34m\u001b[0m\u001b[0m\n\u001b[0;32m---> 17\u001b[0;31m \u001b[0mprint\u001b[0m\u001b[0;34m(\u001b[0m\u001b[0mjay\u001b[0m\u001b[0;34m.\u001b[0m\u001b[0m__sal_cal\u001b[0m\u001b[0;34m(\u001b[0m\u001b[0;34m)\u001b[0m\u001b[0;34m)\u001b[0m\u001b[0;34m\u001b[0m\u001b[0m\n\u001b[0m",
      "\u001b[0;31mAttributeError\u001b[0m: 'Emp' object has no attribute '__sal_cal'"
     ]
    }
   ],
   "source": [
    "# encapsulation\n",
    "class Emp:\n",
    "    company_name=\"Khyaathi\"\n",
    "    company_address=\"maithrivanam\"\n",
    "    def __init__(self,e_name,e_age=None,e_sal=0.0): # method overloading\n",
    "        self.name=e_name\n",
    "        self.__age=e_age\n",
    "        self.sal=e_sal\n",
    "        self.usal = self.__sal_cal()\n",
    "    def __sal_cal(self):\n",
    "        return self.sal+self.sal*0.1\n",
    "    def get(self):\n",
    "        return self.name,self.__age,self.sal, self.company_name,self.company_address,self.usal\n",
    "jay=Emp(\"JAYARAM\",23,345678)\n",
    "jay.__age=16\n",
    "print(jay.get())\n",
    "print(jay.__sal_cal())"
   ]
  },
  {
   "cell_type": "code",
   "execution_count": null,
   "metadata": {},
   "outputs": [],
   "source": []
  }
 ],
 "metadata": {
  "kernelspec": {
   "display_name": "Python 3",
   "language": "python",
   "name": "python3"
  },
  "language_info": {
   "codemirror_mode": {
    "name": "ipython",
    "version": 3
   },
   "file_extension": ".py",
   "mimetype": "text/x-python",
   "name": "python",
   "nbconvert_exporter": "python",
   "pygments_lexer": "ipython3",
   "version": "3.7.0"
  }
 },
 "nbformat": 4,
 "nbformat_minor": 2
}
